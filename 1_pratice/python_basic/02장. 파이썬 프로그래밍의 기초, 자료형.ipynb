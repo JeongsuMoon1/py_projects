{
 "cells": [
  {
   "cell_type": "markdown",
   "metadata": {},
   "source": [
    "# 파이썬 프로그래밍의 기초, 자료형\n",
    "\n",
    "\n",
    "- 자료형 : 프로그래밍을 할 때 쓰이는 숫자, 문자열 등 자료 형태로 사용하는 모든 것을 뜻함\n",
    "- 프로그램의 기본이자 핵심 단위가 바로 자료형\n",
    "- 계산 프로그램을 만들려면 어떤 것을 계산할지부터 알아야 하고, 데이터베이스 프로그램을 만들려면 어떤 자료를 저장할지부터 알아야 하는 것처럼 기본 중의 기본"
   ]
  },
  {
   "cell_type": "code",
   "execution_count": null,
   "metadata": {},
   "outputs": [],
   "source": []
  },
  {
   "cell_type": "markdown",
   "metadata": {},
   "source": [
    "# 02-1 숫자형\n",
    "\n",
    "- 숫자형이란?\n",
    "\n",
    "\n",
    "- 숫자형은 어떻게 만들고 사용할까?\n",
    "  - 정수형\n",
    "  - 실수형\n",
    "  - 8진수와 16진수\n",
    "\n",
    "\n",
    "- 숫자형을 활용하기 위한 연산자\n",
    "  - 사칙연산\n",
    "  - x의 y제곱을 나타내는 ** 연산자\n",
    "  - 나눗셈 후 나머지를 반환하는 % 연산자\n",
    "  - 나눗셈 후 몫을 반환하는 // 연산자"
   ]
  },
  {
   "cell_type": "code",
   "execution_count": null,
   "metadata": {},
   "outputs": [],
   "source": []
  },
  {
   "cell_type": "markdown",
   "metadata": {},
   "source": [
    "#### 숫자형이란?\n",
    "\n",
    "- 숫자형(Number)이란 숫자 형태로 이루어진 자료형\n",
    "- 정수 : 123\n",
    "- 실수 : 12.34\n",
    "- 8진수, 16진수\n"
   ]
  },
  {
   "cell_type": "markdown",
   "metadata": {},
   "source": [
    " |항목|사용 예|\n",
    " |:---|---:|\n",
    " |정수|123, -345, 0|\n",
    " |실수|123.45, -1234.5, 3.4e10|\n",
    " |8진수|0o34, 0o25|\n",
    " |16진수|0x2A, 0xFF|"
   ]
  },
  {
   "cell_type": "code",
   "execution_count": null,
   "metadata": {},
   "outputs": [],
   "source": []
  },
  {
   "cell_type": "markdown",
   "metadata": {},
   "source": [
    "#### 숫자형은 어떻게 만들고 사용할까?"
   ]
  },
  {
   "cell_type": "code",
   "execution_count": 2,
   "metadata": {},
   "outputs": [],
   "source": [
    "# 정수형\n",
    "a = 123\n",
    "a = -178\n",
    "a = 0"
   ]
  },
  {
   "cell_type": "code",
   "execution_count": 3,
   "metadata": {},
   "outputs": [],
   "source": [
    "# 실수형(Floating-point) : 소수점이 포함된 숫자\n",
    "a = 1.2\n",
    "a = -3.45\n",
    "\n",
    "# 컴퓨터 지수 표현 방식 (E,e 둘 중 어느 것을 사용해도 무방하다)\n",
    "a = 4.24E10  # 4.24∗10^10\n",
    "a = 4.24e-10 # 4.24∗10^−10"
   ]
  },
  {
   "cell_type": "code",
   "execution_count": null,
   "metadata": {},
   "outputs": [],
   "source": [
    "# 8진수(Octal)\n",
    "a = 0o177 # 0o or 0O : 숫자 + 알파벳 소문자 또는 대문자 으로 시작"
   ]
  },
  {
   "cell_type": "code",
   "execution_count": null,
   "metadata": {},
   "outputs": [],
   "source": [
    "# 16진수(Hexadecimal)\n",
    "a = 0x8ff  # 숫자 + x 으로 시작\n",
    "b = 0xABC"
   ]
  },
  {
   "cell_type": "code",
   "execution_count": null,
   "metadata": {},
   "outputs": [],
   "source": []
  },
  {
   "cell_type": "markdown",
   "metadata": {},
   "source": [
    "#### 숫자형을 활용하기 위한 연산자"
   ]
  },
  {
   "cell_type": "code",
   "execution_count": 5,
   "metadata": {},
   "outputs": [
    {
     "name": "stdout",
     "output_type": "stream",
     "text": [
      "7\n",
      "12\n",
      "0.75\n"
     ]
    }
   ],
   "source": [
    "# 사칙연산\n",
    "a = 3\n",
    "b = 4\n",
    "\n",
    "print(a+b)\n",
    "print(a*b)\n",
    "print(a/b)"
   ]
  },
  {
   "cell_type": "code",
   "execution_count": null,
   "metadata": {},
   "outputs": [],
   "source": []
  },
  {
   "cell_type": "code",
   "execution_count": 8,
   "metadata": {},
   "outputs": [
    {
     "name": "stdout",
     "output_type": "stream",
     "text": [
      "81\n"
     ]
    }
   ],
   "source": [
    "# X의 Y제곱을 나타내는 ** 연산자 : x의 y제곱(x^y) 값을 출력\n",
    "\n",
    "a = 3\n",
    "b = 4\n",
    "print(a**b)"
   ]
  },
  {
   "cell_type": "code",
   "execution_count": null,
   "metadata": {},
   "outputs": [],
   "source": []
  },
  {
   "cell_type": "code",
   "execution_count": 13,
   "metadata": {},
   "outputs": [
    {
     "name": "stdout",
     "output_type": "stream",
     "text": [
      "1\n",
      "3\n"
     ]
    }
   ],
   "source": [
    "# 나눗셈 후 나머지를 반환하는 % 연산자\n",
    "a = 7 % 3\n",
    "b = 3 % 7\n",
    "\n",
    "print(a)\n",
    "print(b)"
   ]
  },
  {
   "cell_type": "code",
   "execution_count": 14,
   "metadata": {},
   "outputs": [
    {
     "name": "stdout",
     "output_type": "stream",
     "text": [
      "1.75\n",
      "1\n"
     ]
    }
   ],
   "source": [
    "# 나눗셈 후 몫을 반환하는 // 연산자\n",
    "\n",
    "a = 7 / 4\n",
    "print(a)\n",
    "\n",
    "# 1.75에서 몫에 해당되는 정수값 1만 돌려주는 것\n",
    "b = 7 // 4\n",
    "print(b)"
   ]
  },
  {
   "cell_type": "code",
   "execution_count": null,
   "metadata": {},
   "outputs": [],
   "source": []
  },
  {
   "cell_type": "markdown",
   "metadata": {},
   "source": [
    "# 02-2 문자열 자료형"
   ]
  },
  {
   "cell_type": "markdown",
   "metadata": {},
   "source": [
    "#### 문자열(string)\n",
    "\n",
    "- 문자, 단어 등으로 구성된 문자들의 집합을 의미"
   ]
  },
  {
   "cell_type": "code",
   "execution_count": null,
   "metadata": {},
   "outputs": [],
   "source": [
    "# 따옴표 안으로 숫자가 들어가 있어도 문자열로 구분된다.\n",
    "\"Life is too short, You need Python\"\n",
    "\"a\"\n",
    "\"123\""
   ]
  },
  {
   "cell_type": "code",
   "execution_count": null,
   "metadata": {},
   "outputs": [],
   "source": []
  },
  {
   "cell_type": "markdown",
   "metadata": {},
   "source": [
    "#### 문자열은 어떻게 만들고 사용할까\n",
    "\n",
    "- 문자열 안에 작은따옴표나 큰따옴표를 포함시키고 싶을 때\n",
    "- 여러 줄인 문자열을 변수에 대입하고 싶을 때"
   ]
  },
  {
   "cell_type": "code",
   "execution_count": null,
   "metadata": {},
   "outputs": [],
   "source": [
    "# 문자열을 만드는 방법 3가지"
   ]
  },
  {
   "cell_type": "code",
   "execution_count": null,
   "metadata": {},
   "outputs": [],
   "source": [
    "# 1. 큰따옴표(\")로 양쪽 둘러싸기\n",
    "\"Hello World\""
   ]
  },
  {
   "cell_type": "code",
   "execution_count": null,
   "metadata": {},
   "outputs": [],
   "source": [
    "# 2. 작은따옴표(')로 양쪽 둘러싸기\n",
    "'python is fun'"
   ]
  },
  {
   "cell_type": "code",
   "execution_count": null,
   "metadata": {},
   "outputs": [],
   "source": [
    "# 3. 큰따옴표 3개를 연속(\"\"\")으로 써서 양쪽 둘러싸기\n",
    "\"\"\"Life is too short, You need python\"\"\""
   ]
  },
  {
   "cell_type": "code",
   "execution_count": null,
   "metadata": {},
   "outputs": [],
   "source": [
    "# 4. 작은따옴표 3개를 연속(''')으로 써서 양쪽 둘러싸기\n",
    "'''Life is too short, You need python'''"
   ]
  },
  {
   "cell_type": "code",
   "execution_count": null,
   "metadata": {},
   "outputs": [],
   "source": []
  },
  {
   "cell_type": "code",
   "execution_count": null,
   "metadata": {},
   "outputs": [],
   "source": [
    "# 문자열 안에 작은따옴표나 큰따옴표를 포함시키고 싶을 때 방법 3가지\n",
    "'''문자열 안에도 작은따옴표와 큰따옴표가 들어 있어야 할 경우가 있다'''"
   ]
  },
  {
   "cell_type": "code",
   "execution_count": 15,
   "metadata": {},
   "outputs": [
    {
     "data": {
      "text/plain": [
       "\"Python's favorite food is perl\""
      ]
     },
     "execution_count": 15,
     "metadata": {},
     "output_type": "execute_result"
    }
   ],
   "source": [
    "# 1. 문자열에 작은따옴표 (') 포함시키기\n",
    "# 큰 따옴표(\"\")로 둘러싸야 한다.\n",
    "food = \"Python's favorite food is perl\"\n",
    "food"
   ]
  },
  {
   "cell_type": "code",
   "execution_count": 16,
   "metadata": {},
   "outputs": [
    {
     "data": {
      "text/plain": [
       "'\"Python is very easy.\" he says.'"
      ]
     },
     "execution_count": 16,
     "metadata": {},
     "output_type": "execute_result"
    }
   ],
   "source": [
    "# 2. 문자열에 큰따옴표 (\") 포함시키기\n",
    "say = '\"Python is very easy.\" he says.'\n",
    "say"
   ]
  },
  {
   "cell_type": "code",
   "execution_count": 19,
   "metadata": {},
   "outputs": [
    {
     "name": "stdout",
     "output_type": "stream",
     "text": [
      "python's favorite food is perl\n",
      "\"python is very esay.\"he says.\n"
     ]
    }
   ],
   "source": [
    "# 3. 백슬래시(\\)를 사용해서 작은따옴표(')와 큰따옴표(\")를 문자열에 포함시키기\n",
    "food = 'python\\'s favorite food is perl'\n",
    "say  = \"\\\"python is very esay.\\\"he says.\"\n",
    "print(food)\n",
    "print(say)"
   ]
  },
  {
   "cell_type": "code",
   "execution_count": null,
   "metadata": {},
   "outputs": [],
   "source": []
  },
  {
   "cell_type": "code",
   "execution_count": null,
   "metadata": {},
   "outputs": [],
   "source": [
    "# 여러 줄인 문자열을 변수에 대입하고 싶을 때\n",
    "'''\n",
    "Life is too short\n",
    "You need python\n",
    "'''"
   ]
  },
  {
   "cell_type": "code",
   "execution_count": 20,
   "metadata": {},
   "outputs": [
    {
     "data": {
      "text/plain": [
       "'Life is too short\\nYou need python'"
      ]
     },
     "execution_count": 20,
     "metadata": {},
     "output_type": "execute_result"
    }
   ],
   "source": [
    "# 1. 줄을 바꾸기 위한 이스케이프 코드 \\n 삽입하기\n",
    "# 단점 : \\n 은 줄이 길어지는 단점이 있다\n",
    "multiline = \"Life is too short\\nYou need python\"\n",
    "multiline"
   ]
  },
  {
   "cell_type": "code",
   "execution_count": 21,
   "metadata": {},
   "outputs": [
    {
     "name": "stdout",
     "output_type": "stream",
     "text": [
      "\n",
      "Life is too short\n",
      "You need python\n",
      "\n",
      "\n",
      "Life is too short\n",
      "You need python\n",
      "\n"
     ]
    }
   ],
   "source": [
    "# 2. 연속된 작은따옴표 3개(''') 또는 큰따옴표 3개(\"\"\") 사용하기\n",
    "multiline = '''\n",
    "Life is too short\n",
    "You need python\n",
    "'''\n",
    "\n",
    "multiline2 = \"\"\"\n",
    "Life is too short\n",
    "You need python\n",
    "\"\"\"\n",
    "\n",
    "print(multiline)\n",
    "print(multiline2)"
   ]
  },
  {
   "cell_type": "code",
   "execution_count": null,
   "metadata": {},
   "outputs": [],
   "source": [
    "# ***결국 이스케이프 \\n 를 쓰는 것보다 '''''', \"\"\"\"\"\" 을 쓰는것이 깔끔하다"
   ]
  },
  {
   "cell_type": "code",
   "execution_count": null,
   "metadata": {},
   "outputs": [],
   "source": [
    "# 이스케이프 코드\n",
    "\n",
    "# 1. 이스케이프 코드란 프로그래밍할 때 사용할 수 있도록 미리 정의해 둔 \"문자 조합\"이다\n",
    "# 2. 출력물을 보기 좋게 정렬하는 용도로 사용"
   ]
  },
  {
   "cell_type": "markdown",
   "metadata": {},
   "source": [
    "|코드|설명|\n",
    "|:---|---:|\n",
    "|\\n|** 문자열 안에서 줄을 바꿀 때 사용|\n",
    "|\\t|** 문자열 사이에 탭 간격을 줄 때 사용|\n",
    "|\\\\|** 문자 \\를 그대로 표현할 때 사용|\n",
    "|\\'|** 작은따옴표(')를 그대로 표현할 때 사용|\n",
    "|\\\"|** 큰따옴표(\")를 그대로 표현할 때 사용|\n",
    "|\\r|캐리지 리턴(줄 바꿈 문자, 현재 커서를 가장 앞으로 이동)|\n",
    "|\\f|폼 피드(줄 바꿈 문자, 현재 커서를 다음 줄로 이동)|\n",
    "|\\a|벨 소리(출력할 때 PC 스피커에서 '삑' 소리가 난다)|\n",
    "|\\b|백 스페이스|\n",
    "|\\000|널 문자|\n"
   ]
  },
  {
   "cell_type": "code",
   "execution_count": null,
   "metadata": {},
   "outputs": [],
   "source": []
  },
  {
   "cell_type": "markdown",
   "metadata": {},
   "source": [
    "#### 문자열 연산하기\n",
    "\n",
    "- 문자열 더해서 연결하기(Concatenation)\n",
    "- 문자열 곱하기\n",
    "- 문자열 곱하기 응용\n",
    "- 문자열 길이 구하기"
   ]
  },
  {
   "cell_type": "code",
   "execution_count": null,
   "metadata": {},
   "outputs": [],
   "source": []
  },
  {
   "cell_type": "code",
   "execution_count": 1,
   "metadata": {},
   "outputs": [
    {
     "data": {
      "text/plain": [
       "'python is fun!'"
      ]
     },
     "execution_count": 1,
     "metadata": {},
     "output_type": "execute_result"
    }
   ],
   "source": [
    "# 문자열 더해서 연결하기(Concatenation)\n",
    "\n",
    "head = 'python'\n",
    "tail = ' is fun!'\n",
    "head + tail"
   ]
  },
  {
   "cell_type": "code",
   "execution_count": null,
   "metadata": {},
   "outputs": [],
   "source": []
  },
  {
   "cell_type": "code",
   "execution_count": 2,
   "metadata": {},
   "outputs": [
    {
     "data": {
      "text/plain": [
       "'pythonpython'"
      ]
     },
     "execution_count": 2,
     "metadata": {},
     "output_type": "execute_result"
    }
   ],
   "source": [
    "# 문자열 곱하기\n",
    "# a를 두 번 반복하라는 뜻\n",
    "# *는 문자열의 반복을 뜻하는 의미\n",
    "\n",
    "a = 'python'\n",
    "a * 2"
   ]
  },
  {
   "cell_type": "code",
   "execution_count": null,
   "metadata": {},
   "outputs": [],
   "source": []
  },
  {
   "cell_type": "code",
   "execution_count": 3,
   "metadata": {},
   "outputs": [
    {
     "name": "stdout",
     "output_type": "stream",
     "text": [
      "==================================================\n",
      "my program\n",
      "==================================================\n"
     ]
    }
   ],
   "source": [
    "# 문자열 곱하기 응용\n",
    "print(\"=\" * 50)\n",
    "print(\"my program\")\n",
    "print(\"=\" * 50)"
   ]
  },
  {
   "cell_type": "code",
   "execution_count": null,
   "metadata": {},
   "outputs": [],
   "source": []
  },
  {
   "cell_type": "code",
   "execution_count": 4,
   "metadata": {},
   "outputs": [
    {
     "data": {
      "text/plain": [
       "17"
      ]
     },
     "execution_count": 4,
     "metadata": {},
     "output_type": "execute_result"
    }
   ],
   "source": [
    "# 문자열 길이 구하기\n",
    "# 공백포함해서 문자열 길이를 구한다\n",
    "# len 은 print 함수처럼 파이썬의 기본 내장 함수로 별다른 설정 없이 바로 사용할 수 있다\n",
    "\n",
    "a = \"Life is too short\"\n",
    "len(a)"
   ]
  },
  {
   "cell_type": "markdown",
   "metadata": {},
   "source": []
  },
  {
   "cell_type": "markdown",
   "metadata": {},
   "source": [
    "#### 문자열 인덱싱과 슬라이싱\n",
    "- 인덱싱 기법과 슬라이싱 기법은 뒤에서 배울 자료형인 리스트나 튜플에서도 사용할 수 있다\n",
    "\n",
    "- 문자열 인덱싱이란?\n",
    "    - 인덱싱(Indexing)  : 무엇인가를 \"가리킨다\"는 의미\n",
    "- 문자열 인덱싱 활용하기\n",
    "- 문자열 슬라이싱이란?\n",
    "    - 슬라이싱(Slicing) : 무엇인가를 \"잘라낸다\"는 의미\n",
    "- 문자열을 슬라이싱하는 방법\n",
    "- 슬라이싱으로 문자열 나누기"
   ]
  },
  {
   "cell_type": "code",
   "execution_count": null,
   "metadata": {},
   "outputs": [],
   "source": []
  },
  {
   "cell_type": "code",
   "execution_count": 5,
   "metadata": {},
   "outputs": [],
   "source": [
    "# 문자열 인덱싱이란?\n",
    "\n",
    "# L:0, i:1, f:2, ....n:33\n",
    "a = \"Life is too short, You need Python\""
   ]
  },
  {
   "cell_type": "code",
   "execution_count": 7,
   "metadata": {},
   "outputs": [
    {
     "data": {
      "text/plain": [
       "('e', 's')"
      ]
     },
     "execution_count": 7,
     "metadata": {},
     "output_type": "execute_result"
    }
   ],
   "source": [
    "# \"파이썬은 0부터 숫자를 센다.\"\n",
    "a[3], # a라는 변수안에 있는 문자열의 네 번재 문자는 e 이다\n",
    "a[12] # a라는 변수안에 있는 문자열의 12번째 문자는 s 이다"
   ]
  },
  {
   "cell_type": "code",
   "execution_count": null,
   "metadata": {},
   "outputs": [],
   "source": []
  },
  {
   "cell_type": "code",
   "execution_count": 8,
   "metadata": {},
   "outputs": [],
   "source": [
    "# 문자열 인덱싱 활용하기\n",
    "\n",
    "a = \"Life is too short, You need Python\""
   ]
  },
  {
   "cell_type": "code",
   "execution_count": 11,
   "metadata": {
    "scrolled": true
   },
   "outputs": [
    {
     "name": "stdout",
     "output_type": "stream",
     "text": [
      "n\n",
      "o\n",
      "y\n"
     ]
    }
   ],
   "source": [
    "# 문자열의 뒤에서 셀때는 숫자 -1 부터 시작한다\n",
    "print(a[-1]) # 문자열 뒤에서 첫번째\n",
    "print(a[-2]) # 문자열 뒤에서 두번째\n",
    "print(a[-5]) # 문자열 뒤에서 다섯번째"
   ]
  },
  {
   "cell_type": "code",
   "execution_count": null,
   "metadata": {},
   "outputs": [],
   "source": []
  },
  {
   "cell_type": "code",
   "execution_count": 18,
   "metadata": {},
   "outputs": [
    {
     "name": "stdout",
     "output_type": "stream",
     "text": [
      "방법1 = Life\n",
      "방법2(슬라이싱) = Life\n"
     ]
    }
   ],
   "source": [
    "# 문자열 슬라이싱이란?\n",
    "\n",
    "a =  \"Life is too short, You need Python\"\n",
    "\n",
    "# 1. 문자열에서 Life 또는 You 같은 단어 뽑는 방법\n",
    "b = a[0] + a[1] + a[2] + a[3]\n",
    "print('방법1 =', b)\n",
    "\n",
    "# 2. 더 간결한 방법 <= 슬라이싱(Slicing) 기법!!!!\n",
    "#    - 번호 0부터 4까지의 문자를 뽑아낸다는 뜻\n",
    "#    - ** 끝번호는 포함하지않고 출력된다\n",
    "#    0 <= a < 3\n",
    "c = a[0:4]\n",
    "print('방법2(슬라이싱) =', c)"
   ]
  },
  {
   "cell_type": "code",
   "execution_count": null,
   "metadata": {},
   "outputs": [],
   "source": []
  },
  {
   "cell_type": "code",
   "execution_count": 23,
   "metadata": {},
   "outputs": [
    {
     "name": "stdout",
     "output_type": "stream",
     "text": [
      "['Life ']\n",
      "Li\n",
      "is\n",
      "short\n",
      "['Life is too ']\n"
     ]
    }
   ],
   "source": [
    "# 문자열을 슬라이싱하는 방법\n",
    "\n",
    "# 1. 시작 번호가 0일 필요는 없다\n",
    "print([a[0:5]])\n",
    "print(a[0:2])\n",
    "print(a[5:7])\n",
    "print(a[12:17])\n",
    "print([a[0:12]])"
   ]
  },
  {
   "cell_type": "code",
   "execution_count": 24,
   "metadata": {},
   "outputs": [
    {
     "name": "stdout",
     "output_type": "stream",
     "text": [
      "You need Python\n"
     ]
    }
   ],
   "source": [
    "# 2. 끝 번호를 생략하고, 그 문자열의 끝까지 뽑아낸다\n",
    "print(a[19:])"
   ]
  },
  {
   "cell_type": "code",
   "execution_count": 25,
   "metadata": {},
   "outputs": [
    {
     "name": "stdout",
     "output_type": "stream",
     "text": [
      "Life is too short\n"
     ]
    }
   ],
   "source": [
    "# 3. 시작 번호를 생략하고, 처음부터 끝 번호까지 뽑아낸다\n",
    "print(a[:17])"
   ]
  },
  {
   "cell_type": "code",
   "execution_count": 26,
   "metadata": {},
   "outputs": [
    {
     "name": "stdout",
     "output_type": "stream",
     "text": [
      "Life is too short, You need Python\n"
     ]
    }
   ],
   "source": [
    "# 4. 시작번호와 끝번호를 생략하면 문자열 시작부터 끝까지 뽑아낸다\n",
    "print(a[:])"
   ]
  },
  {
   "cell_type": "code",
   "execution_count": 28,
   "metadata": {},
   "outputs": [
    {
     "name": "stdout",
     "output_type": "stream",
     "text": [
      "['You need']\n"
     ]
    }
   ],
   "source": [
    "# 5. 인덱싱과 마찬가지로 마이너스(-) 기호를 사용할 수 있다\n",
    "print([a[19:-7]]) # -7은 포함되지 않는다"
   ]
  },
  {
   "cell_type": "code",
   "execution_count": null,
   "metadata": {},
   "outputs": [],
   "source": []
  },
  {
   "cell_type": "code",
   "execution_count": 29,
   "metadata": {},
   "outputs": [
    {
     "name": "stdout",
     "output_type": "stream",
     "text": [
      "20010331\n",
      "Rainy\n"
     ]
    }
   ],
   "source": [
    "# 슬라이싱으로 문자열 나누기\n",
    "\n",
    "# 자주 사용되는 기법\n",
    "a = \"20010331Rainy\"\n",
    "date = a[0:8]\n",
    "weather = a[8:]\n",
    "\n",
    "print(date)\n",
    "print(weather)"
   ]
  },
  {
   "cell_type": "code",
   "execution_count": 30,
   "metadata": {},
   "outputs": [
    {
     "name": "stdout",
     "output_type": "stream",
     "text": [
      "2001\n",
      "0331\n",
      "Rainy\n"
     ]
    }
   ],
   "source": [
    "year = a[0:4]\n",
    "date = a[4:8]\n",
    "weather = a[8:]\n",
    "\n",
    "print(year)\n",
    "print(date)\n",
    "print(weather)"
   ]
  },
  {
   "cell_type": "code",
   "execution_count": null,
   "metadata": {},
   "outputs": [],
   "source": []
  },
  {
   "cell_type": "code",
   "execution_count": 31,
   "metadata": {},
   "outputs": [
    {
     "data": {
      "text/plain": [
       "'i'"
      ]
     },
     "execution_count": 31,
     "metadata": {},
     "output_type": "execute_result"
    }
   ],
   "source": [
    "# \"Pithon\"이라는 문자열을 \"Python\"으로 바꾸려면?\n",
    "\n",
    "a = 'pithon'\n",
    "a[1]"
   ]
  },
  {
   "cell_type": "code",
   "execution_count": 33,
   "metadata": {},
   "outputs": [
    {
     "ename": "TypeError",
     "evalue": "'str' object does not support item assignment",
     "output_type": "error",
     "traceback": [
      "\u001b[1;31m---------------------------------------------------------------------------\u001b[0m",
      "\u001b[1;31mTypeError\u001b[0m                                 Traceback (most recent call last)",
      "\u001b[1;32m<ipython-input-33-e4782dd818f4>\u001b[0m in \u001b[0;36m<module>\u001b[1;34m()\u001b[0m\n\u001b[1;32m----> 1\u001b[1;33m \u001b[0ma\u001b[0m\u001b[1;33m[\u001b[0m\u001b[1;36m1\u001b[0m\u001b[1;33m]\u001b[0m \u001b[1;33m=\u001b[0m \u001b[1;34m'y'\u001b[0m\u001b[1;33m\u001b[0m\u001b[0m\n\u001b[0m\u001b[0;32m      2\u001b[0m \u001b[0mprint\u001b[0m\u001b[1;33m(\u001b[0m\u001b[0ma\u001b[0m\u001b[1;33m)\u001b[0m\u001b[1;33m\u001b[0m\u001b[0m\n",
      "\u001b[1;31mTypeError\u001b[0m: 'str' object does not support item assignment"
     ]
    }
   ],
   "source": [
    "# 문자열의 요솟값은 바꿀 수 있는 값이 아니기 때문에 오류가난다 (immutable(불변)한 자료형)\n",
    "a[1] = 'y'\n",
    "print(a)"
   ]
  },
  {
   "cell_type": "code",
   "execution_count": 40,
   "metadata": {},
   "outputs": [
    {
     "name": "stdout",
     "output_type": "stream",
     "text": [
      "pithon\n",
      "p\n",
      "thon\n",
      "python\n"
     ]
    }
   ],
   "source": [
    "# 문자열을 부분으로 나눌 수 있기 때문에, 그 사이에 y를 추가하여 새로운 문자를 만듬\n",
    "a = 'pithon'\n",
    "print(a)\n",
    "print(a[:1])\n",
    "print(a[2:])\n",
    "\n",
    "b = a[:1] + 'y' + a[2:]\n",
    "print(b)"
   ]
  },
  {
   "cell_type": "code",
   "execution_count": null,
   "metadata": {},
   "outputs": [],
   "source": []
  },
  {
   "cell_type": "markdown",
   "metadata": {},
   "source": [
    "#### 문자열 포매팅(Formatting)\n",
    "\n",
    "- 문자열 포매팅 따라 하기\n",
    "- 문자열 포맷 코드\n",
    "- 포맷 코드와 숫자 함께 사용하기\n",
    "- format 함수를 사용한 포매팅\n",
    "- f 문자열 포매팅"
   ]
  },
  {
   "cell_type": "markdown",
   "metadata": {},
   "source": [
    "- 간단 설명\n",
    "    - 문자열 안의 특정한 값을 바꿔야 할 경우가 있을 때 이것을 가능하게 해주는 것이 바로 문자열 포매팅 기법\n",
    "    - 문자열 포매팅이란 문자열 안에 어떤 값을 삽입하는 방법"
   ]
  },
  {
   "cell_type": "code",
   "execution_count": null,
   "metadata": {},
   "outputs": [],
   "source": []
  },
  {
   "cell_type": "code",
   "execution_count": null,
   "metadata": {},
   "outputs": [],
   "source": [
    "# 문자열 포매팅 따라 하기"
   ]
  },
  {
   "cell_type": "code",
   "execution_count": 41,
   "metadata": {},
   "outputs": [
    {
     "data": {
      "text/plain": [
       "'I eat 3 apples.'"
      ]
     },
     "execution_count": 41,
     "metadata": {},
     "output_type": "execute_result"
    }
   ],
   "source": [
    "# 1. 숫자 바로 대입\n",
    "# %d : 숫자를 넣기 위해 쓴다(문자열 포맷 코드)\n",
    "\n",
    "\"I eat %d apples.\" % 3"
   ]
  },
  {
   "cell_type": "code",
   "execution_count": 42,
   "metadata": {},
   "outputs": [
    {
     "data": {
      "text/plain": [
       "'I eat five apples.'"
      ]
     },
     "execution_count": 42,
     "metadata": {},
     "output_type": "execute_result"
    }
   ],
   "source": [
    "# 2. 문자열 바로 대입\n",
    "# %s : 문자열을 넣기 위해 쓴다\n",
    "# 문자열을 대입할 때는 큰따옴표나 작은따옴표를 반드시 써주어야 한다.\n",
    "\n",
    "\"I eat %s apples.\" % \"five\""
   ]
  },
  {
   "cell_type": "code",
   "execution_count": 43,
   "metadata": {},
   "outputs": [
    {
     "data": {
      "text/plain": [
       "'I eat 3 apples.'"
      ]
     },
     "execution_count": 43,
     "metadata": {},
     "output_type": "execute_result"
    }
   ],
   "source": [
    "# 3. 숫자 값을 나타내는 변수로 대입\n",
    "\n",
    "number = 3\n",
    "'I eat %d apples.' % number"
   ]
  },
  {
   "cell_type": "code",
   "execution_count": 44,
   "metadata": {},
   "outputs": [
    {
     "data": {
      "text/plain": [
       "'I eat 10 apples. so I was sick for three days'"
      ]
     },
     "execution_count": 44,
     "metadata": {},
     "output_type": "execute_result"
    }
   ],
   "source": [
    "# 4. 2개 이상의 값 넣기\n",
    "\n",
    "number = 10\n",
    "day = 'three'\n",
    "'I eat %d apples. so I was sick for %s days' % (number, day) # 콤마로 구분한다"
   ]
  },
  {
   "cell_type": "markdown",
   "metadata": {},
   "source": [
    "|코드|설명|\n",
    "|:---|---:|\n",
    "|%s|문자열(String)|\n",
    "|%c|문자 1개(character)|\n",
    "|%d|정수(Integer)|\n",
    "|%f|부동소수(floating-point)|\n",
    "|%o|8진수|\n",
    "|%x|16진수|\n",
    "|%%|Literal % (문자 % 자체)|"
   ]
  },
  {
   "cell_type": "code",
   "execution_count": 45,
   "metadata": {},
   "outputs": [
    {
     "name": "stdout",
     "output_type": "stream",
     "text": [
      "I have 3 apples\n",
      "I have 3.234 apples\n",
      "I have many apples\n"
     ]
    }
   ],
   "source": [
    "# %s : 어떤 형태의 값이든 변환 -> 왜냐하면 %s는 자동으로 % 뒤에 있는 값을 문자열로 바꾸기 때문\n",
    "\n",
    "print(\"I have %s apples\" % 3)      # 원래형태 : %d\n",
    "print(\"I have %s apples\" % 3.234)  # 원래형태 : %f\n",
    "print(\"I have %s apples\" % 'many') # 원래형태 : %s"
   ]
  },
  {
   "cell_type": "code",
   "execution_count": 49,
   "metadata": {},
   "outputs": [
    {
     "name": "stdout",
     "output_type": "stream",
     "text": [
      "Error is 98%.\n"
     ]
    }
   ],
   "source": [
    "# 포매팅 연산자 %d와 %를 같이 쓸 때는 %%를 쓴다\n",
    "\n",
    "# error문\n",
    "#print(\"Error is %d%.\" % 98)\n",
    "\n",
    "# 정상문\n",
    "print('Error is %d%%.' % 98 ) "
   ]
  },
  {
   "cell_type": "code",
   "execution_count": null,
   "metadata": {},
   "outputs": [],
   "source": []
  },
  {
   "cell_type": "code",
   "execution_count": null,
   "metadata": {},
   "outputs": [],
   "source": [
    "# 포맷 코드와 숫자 함께 사용하기"
   ]
  },
  {
   "cell_type": "code",
   "execution_count": 57,
   "metadata": {},
   "outputs": [
    {
     "name": "stdout",
     "output_type": "stream",
     "text": [
      "['        hi']\n",
      "['hi        jane']\n"
     ]
    },
    {
     "data": {
      "text/plain": [
       "(None, 14)"
      ]
     },
     "execution_count": 57,
     "metadata": {},
     "output_type": "execute_result"
    }
   ],
   "source": [
    "# 1. 정렬과 공백\n",
    "\n",
    "#   - 전체 길이가 10개인 문자열 공간에서 대입되는 값을 오른쪽으로 정렬하고 그 앞의 나머지는 공백으로 남겨 두라는 의미\n",
    "a = \"%10s\" % 'hi'\n",
    "print([a]), len(a)\n",
    "\n",
    "# 반대쪽인 왼쪽 정렬은 %-10s가 될 것\n",
    "b = \"%-10sjane\" % 'hi'\n",
    "print([b]), len(b)"
   ]
  },
  {
   "cell_type": "code",
   "execution_count": 59,
   "metadata": {},
   "outputs": [
    {
     "name": "stdout",
     "output_type": "stream",
     "text": [
      "['3.4213']\n",
      "['    3.4213']\n"
     ]
    }
   ],
   "source": [
    "# 2. 소수점 표현하기\n",
    "\n",
    "# '.' : 소수점 포인트를 말함 \n",
    "# 그 뒤의 숫자 4 : 소수점 뒤에 나올 숫자의 개수\n",
    "\n",
    "a = \"%0.4f\" % 3.42134234\n",
    "b = \"%10.4f\" % 3.42134234\n",
    "\n",
    "print([a]) # 소수점 네 번째 자리까지만 나타냄\n",
    "print([b]) # 소수점 네 번째 자리까지만 표시하고 전체 길이가 10개인 문자열 공간에서 오른쪽으로 정렬"
   ]
  },
  {
   "cell_type": "code",
   "execution_count": null,
   "metadata": {},
   "outputs": [],
   "source": []
  },
  {
   "cell_type": "code",
   "execution_count": null,
   "metadata": {},
   "outputs": [],
   "source": [
    "# format 함수를 사용한 포매팅"
   ]
  },
  {
   "cell_type": "code",
   "execution_count": 60,
   "metadata": {},
   "outputs": [
    {
     "data": {
      "text/plain": [
       "'I eat 3 apples.'"
      ]
     },
     "execution_count": 60,
     "metadata": {},
     "output_type": "execute_result"
    }
   ],
   "source": [
    "# 1. 숫자 바로 대입하기\n",
    "'I eat {0} apples.'.format(3)"
   ]
  },
  {
   "cell_type": "code",
   "execution_count": 61,
   "metadata": {},
   "outputs": [
    {
     "data": {
      "text/plain": [
       "'I eat five apples.'"
      ]
     },
     "execution_count": 61,
     "metadata": {},
     "output_type": "execute_result"
    }
   ],
   "source": [
    "# 2. 문자열 바로 대입하기\n",
    "'I eat {0} apples.'.format('five')"
   ]
  },
  {
   "cell_type": "code",
   "execution_count": 62,
   "metadata": {},
   "outputs": [
    {
     "data": {
      "text/plain": [
       "'I eat 3 apples.'"
      ]
     },
     "execution_count": 62,
     "metadata": {},
     "output_type": "execute_result"
    }
   ],
   "source": [
    "# 3. 숫자 값을 가진 변수로 대입하기\n",
    "number = 3\n",
    "'I eat {0} apples.'.format(number)"
   ]
  },
  {
   "cell_type": "code",
   "execution_count": 63,
   "metadata": {},
   "outputs": [
    {
     "data": {
      "text/plain": [
       "'I eat 10 apples. so I was sick for three days.'"
      ]
     },
     "execution_count": 63,
     "metadata": {},
     "output_type": "execute_result"
    }
   ],
   "source": [
    "# 4. 2개 이상의 값 넣기 \n",
    "# {0} : 첫번째 입력값 \n",
    "# {1} : 두번째 입력값\n",
    "\n",
    "number = 10\n",
    "day = 'three'\n",
    "'I eat {0} apples. so I was sick for {1} days.'.format(number, day)"
   ]
  },
  {
   "cell_type": "code",
   "execution_count": 67,
   "metadata": {},
   "outputs": [
    {
     "data": {
      "text/plain": [
       "'I ate 10 apples. so I was sick for 3 days.'"
      ]
     },
     "execution_count": 67,
     "metadata": {},
     "output_type": "execute_result"
    }
   ],
   "source": [
    "# 5. 이름으로 넣기\n",
    "'I ate {number} apples. so I was sick for {day} days.'.format(number=10, day=3)"
   ]
  },
  {
   "cell_type": "code",
   "execution_count": 68,
   "metadata": {},
   "outputs": [
    {
     "data": {
      "text/plain": [
       "'hi        '"
      ]
     },
     "execution_count": 68,
     "metadata": {},
     "output_type": "execute_result"
    }
   ],
   "source": [
    "# 6. 왼쪽 정렬(화살표 방향으로 생각할 것)\n",
    "# :<10  -> 치환되는 문자열을 왼쪽으로 정렬하고 문자열의 총 자릿수를 10으로 맞출 수 있다\n",
    "\"{0:<10}\".format('hi')"
   ]
  },
  {
   "cell_type": "code",
   "execution_count": 69,
   "metadata": {},
   "outputs": [
    {
     "data": {
      "text/plain": [
       "'        hi'"
      ]
     },
     "execution_count": 69,
     "metadata": {},
     "output_type": "execute_result"
    }
   ],
   "source": [
    "# 7. 오른쪽 정렬(화살표 방향으로 생각할 것)\n",
    "# :>10  -> 치환되는 문자열을 왼쪽으로 정렬하고 문자열의 총 자릿수를 10으로 맞출 수 있다\n",
    "'{0:>10}'.format('hi')"
   ]
  },
  {
   "cell_type": "code",
   "execution_count": 70,
   "metadata": {},
   "outputs": [
    {
     "data": {
      "text/plain": [
       "'    hi    '"
      ]
     },
     "execution_count": 70,
     "metadata": {},
     "output_type": "execute_result"
    }
   ],
   "source": [
    "# 8. 가운데 정렬\n",
    "'{0:^10}'.format('hi')"
   ]
  },
  {
   "cell_type": "code",
   "execution_count": 73,
   "metadata": {},
   "outputs": [
    {
     "name": "stdout",
     "output_type": "stream",
     "text": [
      "====hi====\n",
      "hi!!!!!!!!\n"
     ]
    }
   ],
   "source": [
    "# 9. 공백 채우기\n",
    "# 채워 넣을 문자 값은 정렬 문자 <, >, ^ 바로 앞에 넣어야 한다\n",
    "a = '{0:=^10}'.format('hi')\n",
    "b = '{0:!<10}'.format('hi')\n",
    "\n",
    "print(a) # 가운데(^)로 정렬하고 빈 공간을 = 문자로 채웠다\n",
    "print(b) # 왼쪽(<)으로 정렬하고 빈 공간을 ! 문자로 채웠다"
   ]
  },
  {
   "cell_type": "code",
   "execution_count": 76,
   "metadata": {},
   "outputs": [
    {
     "name": "stdout",
     "output_type": "stream",
     "text": [
      "['3.4213']\n",
      "['    3.4213']\n"
     ]
    }
   ],
   "source": [
    "# 10. 소수점 표현하기\n",
    "y = 3.42134234\n",
    "c = '{0:0.4f}'.format(y)\n",
    "d = '{0:>10.4f}'.format(y)\n",
    "\n",
    "print([c])\n",
    "print([d])"
   ]
  },
  {
   "cell_type": "code",
   "execution_count": null,
   "metadata": {},
   "outputs": [],
   "source": []
  },
  {
   "cell_type": "code",
   "execution_count": 77,
   "metadata": {},
   "outputs": [
    {
     "data": {
      "text/plain": [
       "'나의 이름은 홍길동입니다. 나이는 30입니다.'"
      ]
     },
     "execution_count": 77,
     "metadata": {},
     "output_type": "execute_result"
    }
   ],
   "source": [
    "# f문자열 포매팅( 파이썬 3.6 이상 버전부터 사용가능 )\n",
    "\n",
    "# - 문자열 앞에 f 접두사를 붙이면 f 문자열 포매팅 기능을 사용할 수 있다\n",
    "name = '홍길동'\n",
    "age = 30\n",
    "f'나의 이름은 {name}입니다. 나이는 {age}입니다.'"
   ]
  },
  {
   "cell_type": "code",
   "execution_count": 78,
   "metadata": {},
   "outputs": [
    {
     "data": {
      "text/plain": [
       "'나는 내년이면 31살이 된다.'"
      ]
     },
     "execution_count": 78,
     "metadata": {},
     "output_type": "execute_result"
    }
   ],
   "source": [
    "# f 문자열 포매팅은 표현식을 지원하기 때문에 다음과 같은 것도 가능\n",
    "# 표현식 : 문자열 안에서 변수와 +, -와 같은 수식을 함께 사용하는 것\n",
    "\n",
    "age = 30\n",
    "f'나는 내년이면 {age + 1}살이 된다.'"
   ]
  },
  {
   "cell_type": "code",
   "execution_count": 81,
   "metadata": {},
   "outputs": [
    {
     "data": {
      "text/plain": [
       "'나의 이름은 홍길동입니다. 나이는 31입니다.'"
      ]
     },
     "execution_count": 81,
     "metadata": {},
     "output_type": "execute_result"
    }
   ],
   "source": [
    "# 딕셔너리는 f 문자열 포매팅에서 다음과 같이 사용할 수 있다\n",
    "# 딕셔너리 : Key와 Value라는 것을 한 쌍으로 갖는 자료형\n",
    "\n",
    "d = {'name':'홍길동', 'age':30}\n",
    "f'나의 이름은 {d[\"name\"]}입니다. 나이는 {d[\"age\"]+1}입니다.'"
   ]
  },
  {
   "cell_type": "code",
   "execution_count": 84,
   "metadata": {},
   "outputs": [
    {
     "name": "stdout",
     "output_type": "stream",
     "text": [
      "['hi        ']\n",
      "['        hi']\n",
      "['    hi    ']\n"
     ]
    }
   ],
   "source": [
    "# 정렬\n",
    "\n",
    "print([f'{\"hi\":<10}']) # 왼쪽 정렬\n",
    "print([f'{\"hi\":>10}']) # 오른쪽 정렬\n",
    "print([f'{\"hi\":^10}']) # 가운데 정렬"
   ]
  },
  {
   "cell_type": "code",
   "execution_count": 87,
   "metadata": {},
   "outputs": [
    {
     "name": "stdout",
     "output_type": "stream",
     "text": [
      "['====hi====']\n",
      "['hi!!!!!!!!']\n"
     ]
    }
   ],
   "source": [
    "# 공백 채우기\n",
    "\n",
    "print([f'{\"hi\":=^10}']) # 가운데 정렬하고, '='문자로 공백 채우기\n",
    "print([f'{\"hi\":!<10}']) # 가운데 정렬하고, '!'문자로 공백 채우기"
   ]
  },
  {
   "cell_type": "code",
   "execution_count": 88,
   "metadata": {},
   "outputs": [
    {
     "name": "stdout",
     "output_type": "stream",
     "text": [
      "['3.4213']\n",
      "['    3.4213']\n"
     ]
    }
   ],
   "source": [
    "# 소수점 표현하기\n",
    "\n",
    "y = 3.42134234\n",
    "print([f'{y:0.4f}']) # 소수점 4자리까지만 표현\n",
    "print([f'{y:>10.4f}']) # 소수점 4자리까지 표현하고 총 자리수를 10으로 맞춤"
   ]
  },
  {
   "cell_type": "code",
   "execution_count": 90,
   "metadata": {},
   "outputs": [
    {
     "data": {
      "text/plain": [
       "'{ and }'"
      ]
     },
     "execution_count": 90,
     "metadata": {},
     "output_type": "execute_result"
    }
   ],
   "source": [
    "# f 문자열에서 { } 문자를 표시하려면 다음과 같이 두 개를 동시에 사용\n",
    "\n",
    "f'{{ and }}'"
   ]
  },
  {
   "cell_type": "markdown",
   "metadata": {},
   "source": []
  },
  {
   "cell_type": "markdown",
   "metadata": {},
   "source": [
    "#### 문자열 관련 함수들\n",
    "- 내장 함수 : 문자열 자료형은 자체적으로 함수를 가지고 있다\n",
    "- 내장 함수를 사용하려면 문자열 변수 이름 뒤에 ‘.’를 붙인 다음에 함수 이름을 써주면 된다\n",
    "- 내장 함수 종류\n",
    "    - 문자 개수 세기(count)\n",
    "    - 위치 알려주기1(find)\n",
    "    - 위치 알려주기2(index)\n",
    "    - 문자열 삽입(join)\n",
    "    - 소문자를 대문자로 바꾸기(upper)\n",
    "    - 대문자를 소문자로 바꾸기(lower)\n",
    "    - 왼쪽 공백 지우기(lstrip)\n",
    "    - 오른쪽 공백 지우기(rstrip)\n",
    "    - 양쪽 공백 지우기(strip)\n",
    "    - 문자열 바꾸기(replace)\n",
    "    - 문자열 나누기(split)"
   ]
  },
  {
   "cell_type": "code",
   "execution_count": null,
   "metadata": {},
   "outputs": [],
   "source": []
  },
  {
   "cell_type": "code",
   "execution_count": 91,
   "metadata": {},
   "outputs": [
    {
     "data": {
      "text/plain": [
       "2"
      ]
     },
     "execution_count": 91,
     "metadata": {},
     "output_type": "execute_result"
    }
   ],
   "source": [
    "# 문자 개수 세기(count)\n",
    "\n",
    "# 문자열 중 문자 b의 개수를 돌려준다\n",
    "a = 'hobby'\n",
    "a.count('b')"
   ]
  },
  {
   "cell_type": "code",
   "execution_count": null,
   "metadata": {},
   "outputs": [],
   "source": []
  },
  {
   "cell_type": "code",
   "execution_count": 95,
   "metadata": {},
   "outputs": [
    {
     "name": "stdout",
     "output_type": "stream",
     "text": [
      "14\n",
      "-1\n"
     ]
    }
   ],
   "source": [
    "# 위치 알려주기 1. (find)\n",
    "\n",
    "a = \"Python is the best choice\"\n",
    "\n",
    "\n",
    "print(a.find('b')) # 문자열 중 문자 b가 처음으로 나온 위치를 반환\n",
    "                   # 파이썬은 숫자를 0부터 세기 때문에 b의 위치는 15가 아닌 14가 된다\n",
    "\n",
    "print(a.find('k')) # 만약 찾는 문자나 문자열이 존재하지 않는다면 -1을 반환"
   ]
  },
  {
   "cell_type": "code",
   "execution_count": 97,
   "metadata": {},
   "outputs": [
    {
     "name": "stdout",
     "output_type": "stream",
     "text": [
      "8\n"
     ]
    },
    {
     "ename": "ValueError",
     "evalue": "substring not found",
     "output_type": "error",
     "traceback": [
      "\u001b[1;31m---------------------------------------------------------------------------\u001b[0m",
      "\u001b[1;31mValueError\u001b[0m                                Traceback (most recent call last)",
      "\u001b[1;32m<ipython-input-97-f976531fcc5b>\u001b[0m in \u001b[0;36m<module>\u001b[1;34m()\u001b[0m\n\u001b[0;32m      4\u001b[0m \u001b[1;33m\u001b[0m\u001b[0m\n\u001b[0;32m      5\u001b[0m \u001b[0mprint\u001b[0m\u001b[1;33m(\u001b[0m\u001b[0ma\u001b[0m\u001b[1;33m.\u001b[0m\u001b[0mindex\u001b[0m\u001b[1;33m(\u001b[0m\u001b[1;34m't'\u001b[0m\u001b[1;33m)\u001b[0m\u001b[1;33m)\u001b[0m\u001b[1;33m\u001b[0m\u001b[0m\n\u001b[1;32m----> 6\u001b[1;33m \u001b[0mprint\u001b[0m\u001b[1;33m(\u001b[0m\u001b[0ma\u001b[0m\u001b[1;33m.\u001b[0m\u001b[0mindex\u001b[0m\u001b[1;33m(\u001b[0m\u001b[1;34m'k'\u001b[0m\u001b[1;33m)\u001b[0m\u001b[1;33m)\u001b[0m\u001b[1;33m\u001b[0m\u001b[0m\n\u001b[0m",
      "\u001b[1;31mValueError\u001b[0m: substring not found"
     ]
    }
   ],
   "source": [
    "# 위치 알려주기 1. (index)\n",
    "\n",
    "a = \"Life is too short\"\n",
    "\n",
    "print(a.index('t')) # 문자열 중 문자 t가 맨 처음으로 나온 위치를 반환\n",
    "print(a.index('k')) # 찾는 문자나 문자열이 없으면 오류 발생"
   ]
  },
  {
   "cell_type": "code",
   "execution_count": null,
   "metadata": {},
   "outputs": [],
   "source": []
  },
  {
   "cell_type": "code",
   "execution_count": 99,
   "metadata": {},
   "outputs": [
    {
     "name": "stdout",
     "output_type": "stream",
     "text": [
      "a,b,c,d\n"
     ]
    },
    {
     "data": {
      "text/plain": [
       "'a,b,c,d'"
      ]
     },
     "execution_count": 99,
     "metadata": {},
     "output_type": "execute_result"
    }
   ],
   "source": [
    "# 문자열 삽입(join)\n",
    "\n",
    "# abcd 문자열의 각각의 문자 사이에 ','를 삽입\n",
    "a = \",\".join('abcd')\n",
    "print(a)\n",
    "\n",
    "# 리스트나 튜플도 입력으로 사용할 수 있다\n",
    "b = \",\".join(['a','b','c','d'])\n",
    "b"
   ]
  },
  {
   "cell_type": "code",
   "execution_count": null,
   "metadata": {},
   "outputs": [],
   "source": []
  },
  {
   "cell_type": "code",
   "execution_count": 100,
   "metadata": {},
   "outputs": [
    {
     "data": {
      "text/plain": [
       "'HI'"
      ]
     },
     "execution_count": 100,
     "metadata": {},
     "output_type": "execute_result"
    }
   ],
   "source": [
    "# 소문자를 대문자로 바꾸기(upper)\n",
    "# 이미 대문자면 변화는 없을것 \n",
    "\n",
    "a = \"hi\"\n",
    "a.upper()"
   ]
  },
  {
   "cell_type": "code",
   "execution_count": 101,
   "metadata": {},
   "outputs": [
    {
     "data": {
      "text/plain": [
       "'hi'"
      ]
     },
     "execution_count": 101,
     "metadata": {},
     "output_type": "execute_result"
    }
   ],
   "source": [
    "# 대문자를 소문자로 바꾸기(lower)\n",
    "\n",
    "a = \"HI\"\n",
    "a.lower()"
   ]
  },
  {
   "cell_type": "code",
   "execution_count": null,
   "metadata": {},
   "outputs": [],
   "source": []
  },
  {
   "cell_type": "code",
   "execution_count": 103,
   "metadata": {},
   "outputs": [
    {
     "data": {
      "text/plain": [
       "'hi   '"
      ]
     },
     "execution_count": 103,
     "metadata": {},
     "output_type": "execute_result"
    }
   ],
   "source": [
    "# 왼쪽 공백 지우기(lstrip)\n",
    "\n",
    "a = \"    hi   \"\n",
    "a.lstrip() # lstrip : leftstrip"
   ]
  },
  {
   "cell_type": "code",
   "execution_count": 104,
   "metadata": {},
   "outputs": [
    {
     "data": {
      "text/plain": [
       "'   hi'"
      ]
     },
     "execution_count": 104,
     "metadata": {},
     "output_type": "execute_result"
    }
   ],
   "source": [
    "# 오른쪽 공백 지우기(rstrip)\n",
    "\n",
    "a = '   hi   '\n",
    "a.rstrip() # rstrip : rightstrip 인듯"
   ]
  },
  {
   "cell_type": "code",
   "execution_count": 105,
   "metadata": {},
   "outputs": [
    {
     "data": {
      "text/plain": [
       "'hi'"
      ]
     },
     "execution_count": 105,
     "metadata": {},
     "output_type": "execute_result"
    }
   ],
   "source": [
    "# 양쪽 공백 지우기(strip)\n",
    "\n",
    "a = '   hi   '\n",
    "a.strip()  # 문자열 양쪽에 있는 한 칸 이상의 연속된 공백을 모두 지운다"
   ]
  },
  {
   "cell_type": "code",
   "execution_count": null,
   "metadata": {},
   "outputs": [],
   "source": []
  },
  {
   "cell_type": "code",
   "execution_count": 106,
   "metadata": {},
   "outputs": [
    {
     "data": {
      "text/plain": [
       "'your leg is too short'"
      ]
     },
     "execution_count": 106,
     "metadata": {},
     "output_type": "execute_result"
    }
   ],
   "source": [
    "# 문자열 바꾸기(replace)\n",
    "\n",
    "a = 'Life is too short'\n",
    "a.replace('Life', 'your leg') # replace(바뀌게 될 문자열, 바꿀 문자열) 로 치환된다"
   ]
  },
  {
   "cell_type": "code",
   "execution_count": null,
   "metadata": {},
   "outputs": [],
   "source": []
  },
  {
   "cell_type": "code",
   "execution_count": 110,
   "metadata": {},
   "outputs": [
    {
     "name": "stdout",
     "output_type": "stream",
     "text": [
      "['Life', 'is', 'too', 'short']\n",
      "['a', 'b', 'c', 'd']\n"
     ]
    }
   ],
   "source": [
    "# 문자열 나누기(split)\n",
    "\n",
    "# a.split()처럼 괄호 안에 아무 값도 넣어 주지 않으면 공백(스페이스, 탭, 엔터 등)을 \n",
    "# 기준으로 문자열을 나누어 준다\n",
    "a = 'Life is too short'\n",
    "print(a.split())\n",
    "\n",
    "# b.split(':')처럼 괄호 안에 특정 값이 있을 경우에는 괄호 안의 값을 구분자로 해서 \n",
    "# 문자열을 나누어 준다\n",
    "b = 'a:b:c:d'\n",
    "print(b.split(':'))\n",
    "\n",
    "# 이렇게 나눈 값은 리스트에 하나씩 들어가게 된다"
   ]
  },
  {
   "cell_type": "code",
   "execution_count": null,
   "metadata": {},
   "outputs": [],
   "source": []
  },
  {
   "cell_type": "code",
   "execution_count": null,
   "metadata": {},
   "outputs": [],
   "source": []
  },
  {
   "cell_type": "code",
   "execution_count": null,
   "metadata": {},
   "outputs": [],
   "source": []
  }
 ],
 "metadata": {
  "kernelspec": {
   "display_name": "Python 3",
   "language": "python",
   "name": "python3"
  },
  "language_info": {
   "codemirror_mode": {
    "name": "ipython",
    "version": 3
   },
   "file_extension": ".py",
   "mimetype": "text/x-python",
   "name": "python",
   "nbconvert_exporter": "python",
   "pygments_lexer": "ipython3",
   "version": "3.6.5"
  }
 },
 "nbformat": 4,
 "nbformat_minor": 2
}

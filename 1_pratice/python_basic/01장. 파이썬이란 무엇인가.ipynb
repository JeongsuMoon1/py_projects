{
 "cells": [
  {
   "cell_type": "markdown",
   "metadata": {},
   "source": [
    "# 01-1 파이썬이란?\n",
    "\n",
    "- 파이썬(Python)은 1990년 암스테르담의 귀도 반 로섬(Guido Van Rossum)이 개발한 인터프리터 언어\n",
    "- 인터프리터 언어란 한 줄씩 소스 코드를 해석해서 그때그때 실행해 결과를 바로 확인할 수 있는 언어이다."
   ]
  },
  {
   "cell_type": "code",
   "execution_count": null,
   "metadata": {},
   "outputs": [],
   "source": []
  },
  {
   "cell_type": "markdown",
   "metadata": {},
   "source": [
    "# 01-2 파이썬의 특징\n",
    "\n",
    "- 파이썬은 인간다운 언어이다\n",
    "- 파이썬은 문법이 쉬워 빠르게 배울 수 있다\n",
    "- 파이썬은 무료이지만 강력하다\n",
    "- 파이썬은 간결하다\n",
    "- 파이썬은 프로그래밍을 즐기게 해준다\n",
    "- 파이썬은 개발 속도가 빠르다"
   ]
  },
  {
   "cell_type": "markdown",
   "metadata": {},
   "source": []
  },
  {
   "cell_type": "markdown",
   "metadata": {},
   "source": [
    "#### 파이썬은 인간다운 언어이다\n",
    "\n",
    "- 파이썬은 사람이 생각하는 방식을 그대로 표현할 수 있는 언어\n",
    "- 어떤 프로그램을 구상하자마자 머릿속에서 생각한 대로 술술 써 내려감"
   ]
  },
  {
   "cell_type": "code",
   "execution_count": 1,
   "metadata": {},
   "outputs": [
    {
     "name": "stdout",
     "output_type": "stream",
     "text": [
      "4가 있습니다\n"
     ]
    }
   ],
   "source": [
    "# 만약 4가 1, 2, 3, 4 중에 있으면 \"4가 있습니다\"를 출력한다\n",
    "if 4 in [1,2,3,4]:\n",
    "    print(\"4가 있습니다\")"
   ]
  },
  {
   "cell_type": "code",
   "execution_count": null,
   "metadata": {},
   "outputs": [],
   "source": []
  },
  {
   "cell_type": "markdown",
   "metadata": {},
   "source": [
    "#### 파이썬은 문법이 쉬워 빠르게 배울 수 있다\n",
    "\n",
    "- 문법 자체가 아주 쉽고 간결하며 사람의 사고 체계와 매우 닮아 있다\n",
    "- 프로그래밍 경험이 조금이라도 있다면 파이썬의 자료형, 함수, 클래스 만드는 법, 라이브러리 및 내장 함수 사용 방법 등을 익히는 데 1주일이면 충분하리라 생각한다."
   ]
  },
  {
   "cell_type": "code",
   "execution_count": null,
   "metadata": {},
   "outputs": [],
   "source": []
  },
  {
   "cell_type": "markdown",
   "metadata": {},
   "source": [
    "#### 파이썬은 무료이지만 강력하다\n",
    "\n",
    "- 오픈 소스인 파이썬은 당연히 무료\n",
    "- 사용료 걱정없이 언제 어디서든 파이썬을 다운로드하여 사용할 수 있다\n",
    "- 오픈 소스(Open Source)란 저작권자가 소스 코드를 공개하여 누구나 별다른 제한 없이 자유롭게 사용 · 복제 · 배포 · 수정할 수 있는 소프트웨어이다\n",
    "\n",
    "\n",
    "- 물론 시스템 프로그래밍이나 하드웨어 제어와 같은 매우 복잡하고 반복 연산이 많은 프로그램은 파이썬과 어울리지 않는다. 하지만 파이썬은 이러한 약점을 극복할 수 있게끔 다른 언어로 만든 프로그램을 파이썬 프로그램에 포함시킬 수 있다.\n",
    "- 파이썬과 C는 찰떡궁합\n",
    "- 프로그램의 전반적인 뼈대는 파이썬으로 만들고, 빠른 실행 속도가 필요한 부분은 C로 만들어서 파이썬 프로그램 안에 포함시키는 것\n",
    "\n",
    "\n",
    "- 파이썬 라이브러리는 파이썬 프로그램을 작성할 때 불러와 사용할 수 있는 미리 만들어 놓은 파이썬 파일 모음이다. "
   ]
  },
  {
   "cell_type": "code",
   "execution_count": null,
   "metadata": {},
   "outputs": [],
   "source": []
  },
  {
   "cell_type": "markdown",
   "metadata": {},
   "source": [
    "### 파이썬은 간결하다\n",
    "\n",
    "- 다른 사람이 작업한 소스 코드도 한눈에 들어와 이해하기 쉽기 때문에 공동 작업과 유지 보수가 아주 쉽고 편하다"
   ]
  },
  {
   "cell_type": "code",
   "execution_count": 3,
   "metadata": {},
   "outputs": [
    {
     "name": "stdout",
     "output_type": "stream",
     "text": [
      "python need interpreter\n",
      "  perl need interpreter\n",
      "     c need compiler\n",
      "  java need compiler\n"
     ]
    }
   ],
   "source": [
    "# 이렇게 코드의 줄을 맞추는 것을 \"들여쓰기\"라고 부른다. \n",
    "# 파이썬에서 들여쓰기를 하지 않으면 프로그램이 실행되지 않는다.\n",
    "# simple.py\n",
    "languages = ['python', 'perl', 'c', 'java']\n",
    "\n",
    "for lang in languages:\n",
    "    if lang in ['python', 'perl']:\n",
    "        print('%6s need interpreter' % lang)\n",
    "    elif lang in ['c', 'java']:\n",
    "        print('%6s need compiler' % lang)\n",
    "    else:\n",
    "        print('should not reach here')"
   ]
  },
  {
   "cell_type": "code",
   "execution_count": null,
   "metadata": {},
   "outputs": [],
   "source": []
  },
  {
   "cell_type": "markdown",
   "metadata": {},
   "source": [
    "#### 파이썬은 프로그래밍을 즐기게 해준다"
   ]
  },
  {
   "cell_type": "code",
   "execution_count": null,
   "metadata": {},
   "outputs": [],
   "source": []
  },
  {
   "cell_type": "markdown",
   "metadata": {},
   "source": [
    "#### 파이썬은 개발 속도가 빠르다\n",
    "\n",
    "- Life is too short, You need python.\" (인생은 너무 짧으니 파이썬이 필요해.)"
   ]
  },
  {
   "cell_type": "code",
   "execution_count": null,
   "metadata": {},
   "outputs": [],
   "source": []
  },
  {
   "cell_type": "markdown",
   "metadata": {},
   "source": [
    "# 01-3 파이썬으로 무엇을 할 수 있나\n",
    "\n",
    "- 어떤 프로그래밍 언어가 어떤 일에 효율적인지를 안다는 것은 프로그래머의 생산성을 크게 높일 수 있는 힘이 된다.\n",
    "\n",
    "\n",
    "- 파이썬으로 할 수 있는 일\n",
    "  - 시스템 유틸리티 제작\n",
    " \n",
    "  - GUI 프로그래밍\n",
    " \n",
    "  - C/C++와의 결합\n",
    " \n",
    "  - 웹 프로그래밍\n",
    " \n",
    "  - 수치 연산 프로그래밍\n",
    " \n",
    "  - 데이터베이스 프로그래밍\n",
    " \n",
    "  - 데이터 분석, 사물 인터넷\n",
    "\n",
    "\n",
    "- 파이썬으로 할 수 없는 일\n",
    "  - 시스템과 밀접한 프로그래밍 영역\n",
    " \n",
    "  - 모바일 프로그래밍"
   ]
  },
  {
   "cell_type": "code",
   "execution_count": null,
   "metadata": {},
   "outputs": [],
   "source": []
  },
  {
   "cell_type": "markdown",
   "metadata": {},
   "source": [
    "#### 파이썬으로 할 수 있는 일\n",
    "\n",
    "- GUI(Graphic User Interface) 프로그래밍\n",
    "  - 화면에 또 다른 윈도우 창을 만들고 그 창에 프로그램을 동작시킬 수 있는 메뉴나 버튼, 그림 등을 추가하는 것\n",
    "  - 파이썬 프로그램과 함께 설치되는 Tkinter(티케이인터)가 있다. Tkinter를 사용하면 단 5줄의 소스 코드만으로 윈도우 창을 띄울 수 있다.\n",
    " \n",
    " \n",
    "- C/C++와의 결합\n",
    "  - 파이썬은 접착(glue) 언어\n",
    "  -  C나 C++로 만든 프로그램을 파이썬에서 사용할 수 있다\n",
    "  - 파이썬으로 만든 프로그램 역시 C나 C++에서 사용할 수 있다\n",
    "\n",
    "\n",
    "- 웹 프로그래밍(게시판이나 방명록) \n",
    "  - 웹 프로그램을 만들기에 매우 적합한 도구\n",
    "\n",
    "\n",
    "- 수치 연산 프로그래밍\n",
    "  - 사실 파이썬은 수치 연산 프로그래밍에 적합한 언어는 아님\n",
    "  - 수치가 복잡하고 연산이 많다면 C 같은 언어로 하는 것이 더 빠르기 때문\n",
    "  - 파이썬은 NumPy라는 수치 연산 모듈을 제공한다. 이 모듈은 C로 작성했기 때문에 파이썬에서도 수치 연산을 빠르게 할 수 있다.\n",
    "\n",
    "\n",
    "- 데이터베이스 프로그래밍\n",
    "  - 사이베이스(Sybase), 인포믹스(Infomix), 오라클(Oracle), 마이에스큐엘(MySQL), 포스트그레스큐엘(PostgreSQL) 등의 데이터베이스에 접근하기 위한 도구를 제공\n",
    "  - 피클(Pickle) 모듈 : 이썬에서 사용하는 자료를 변형 없이 그대로 파일에 저장하고 불러오는 일을 맡아 한다. 이 책에서는 외장 함수에서 피클을 어떻게 사용하고 활용하는지에 대해서 알아본다.\n",
    "  \n",
    "  \n",
    "- 데이터 분석, 사물 인터넷\n",
    "  - 판다스(Pandas) 모듈을 사용하면 데이터 분석을 더 쉽고 효과적으로 할 수 있다\n",
    "  - 파이썬은 이 라즈베리파이를 제어하는 도구로 사용된다\n",
    "    - 라즈베리파이에 연결된 모터를 작동시키거나 LED에 불이 들어오게 하는 일을 파이썬으로 할 수 있다."
   ]
  },
  {
   "cell_type": "markdown",
   "metadata": {},
   "source": [
    "#### 파이썬으로 할 수 없는 일\n",
    "\n",
    "- 시스템과 밀접한 프로그래밍 영역\n",
    "  - 리눅스 같은 운영체제, 엄청난 횟수의 반복과 연산이 필요한 프로그램 또는 데이터 압축 알고리즘 개발 프로그램 등을 만드는 것은 어렵다\n",
    "  - 즉 대단히 빠른 속도를 요구하거나 하드웨어를 직접 건드려야 하는 프로그램에는 어울리지 않는다\n",
    "  \n",
    "\n",
    "- 모바일 프로그래밍\n",
    "  - 파이썬으로 안드로이드 앱(App)을 개발하는 것은 아직 어렵다\n"
   ]
  },
  {
   "cell_type": "code",
   "execution_count": null,
   "metadata": {},
   "outputs": [],
   "source": []
  },
  {
   "cell_type": "markdown",
   "metadata": {},
   "source": [
    "# 01-4 파이썬 설치하기"
   ]
  },
  {
   "cell_type": "code",
   "execution_count": null,
   "metadata": {},
   "outputs": [],
   "source": []
  },
  {
   "cell_type": "markdown",
   "metadata": {},
   "source": [
    "# 01-5 파이썬 둘러보기\n",
    "\n",
    "- 파이썬 기초 실습 준비하기\n",
    "\n",
    "\n",
    "- 파이썬 기초 문법 따라 해보기\n",
    "   - 사칙연산\n",
    "   - 변수에 숫자 대입하고 계산하기\n",
    "   - 변수에 문자 대입하고 출력하기\n",
    "   - 조건문 if\n",
    "   - 반복문 for\n",
    "   - 반복문 while\n",
    "   - 함수"
   ]
  },
  {
   "cell_type": "code",
   "execution_count": null,
   "metadata": {},
   "outputs": [],
   "source": []
  },
  {
   "cell_type": "markdown",
   "metadata": {},
   "source": [
    "#### 파이썬 기초 실습 준비하기"
   ]
  },
  {
   "cell_type": "code",
   "execution_count": 4,
   "metadata": {},
   "outputs": [
    {
     "data": {
      "text/plain": [
       "2"
      ]
     },
     "execution_count": 4,
     "metadata": {},
     "output_type": "execute_result"
    }
   ],
   "source": [
    "# 파이썬 ‘대화형’ 인터프리터\n",
    "# 파이썬 대화형 인터프리터를 간단히 파이썬 셸(Python shell)이라고도 부른다. \n",
    "# 3개의 꺾은 괄호(>>>)는 프롬프트(prompt)라고 한다.\n",
    "\n",
    ">>> 1 + 1"
   ]
  },
  {
   "cell_type": "code",
   "execution_count": 7,
   "metadata": {},
   "outputs": [
    {
     "ename": "SystemExit",
     "evalue": "",
     "output_type": "error",
     "traceback": [
      "An exception has occurred, use %tb to see the full traceback.\n",
      "\u001b[1;31mSystemExit\u001b[0m\n"
     ]
    },
    {
     "name": "stderr",
     "output_type": "stream",
     "text": [
      "C:\\Users\\User\\Anaconda3\\lib\\site-packages\\IPython\\core\\interactiveshell.py:2971: UserWarning: To exit: use 'exit', 'quit', or Ctrl-D.\n",
      "  warn(\"To exit: use 'exit', 'quit', or Ctrl-D.\", stacklevel=1)\n"
     ]
    }
   ],
   "source": [
    "# 대화형 인터프리터를 종료할 때는 [Ctrl+Z → Enter] 를 누른다\n",
    "# 유닉스 계열에서는 [Ctrl+D]\n",
    "# 다음의 예와 같이 sys 모듈을 사용하여 종료할 수도 있다\n",
    "\n",
    "import sys\n",
    "sys.exit()"
   ]
  },
  {
   "cell_type": "code",
   "execution_count": null,
   "metadata": {},
   "outputs": [],
   "source": []
  },
  {
   "cell_type": "markdown",
   "metadata": {},
   "source": [
    "#### 파이썬 기초 문법 따라 해보기"
   ]
  },
  {
   "cell_type": "code",
   "execution_count": null,
   "metadata": {},
   "outputs": [],
   "source": [
    "# 사칙연산"
   ]
  },
  {
   "cell_type": "code",
   "execution_count": 8,
   "metadata": {},
   "outputs": [
    {
     "data": {
      "text/plain": [
       "3"
      ]
     },
     "execution_count": 8,
     "metadata": {},
     "output_type": "execute_result"
    }
   ],
   "source": [
    "# 1. 더하기\n",
    ">>> 1 + 2"
   ]
  },
  {
   "cell_type": "code",
   "execution_count": 9,
   "metadata": {},
   "outputs": [
    {
     "data": {
      "text/plain": [
       "1.25"
      ]
     },
     "execution_count": 9,
     "metadata": {},
     "output_type": "execute_result"
    }
   ],
   "source": [
    "# 2. 나누기\n",
    ">>> 3 / 2.4"
   ]
  },
  {
   "cell_type": "code",
   "execution_count": 10,
   "metadata": {},
   "outputs": [
    {
     "data": {
      "text/plain": [
       "27"
      ]
     },
     "execution_count": 10,
     "metadata": {},
     "output_type": "execute_result"
    }
   ],
   "source": [
    "# 3. 곱하기\n",
    ">>> 3 * 9"
   ]
  },
  {
   "cell_type": "code",
   "execution_count": null,
   "metadata": {},
   "outputs": [],
   "source": []
  },
  {
   "cell_type": "code",
   "execution_count": 11,
   "metadata": {},
   "outputs": [
    {
     "data": {
      "text/plain": [
       "3"
      ]
     },
     "execution_count": 11,
     "metadata": {},
     "output_type": "execute_result"
    }
   ],
   "source": [
    "# 변수에 숫자 대입하고 계산하기\n",
    ">>> a = 1\n",
    ">>> b = 2\n",
    ">>> a + b"
   ]
  },
  {
   "cell_type": "code",
   "execution_count": null,
   "metadata": {},
   "outputs": [],
   "source": []
  },
  {
   "cell_type": "code",
   "execution_count": 12,
   "metadata": {},
   "outputs": [
    {
     "name": "stdout",
     "output_type": "stream",
     "text": [
      "python\n"
     ]
    }
   ],
   "source": [
    "# 변수에 문자 대입하고 출력하기\n",
    "# 파이썬은 대소문자를 구별한다. \n",
    "# print를 PRINT로 쓰면 정의되지 않았다는 오류 메시지가 나온다.\n",
    ">>> a = \"python\"\n",
    ">>> print(a)"
   ]
  },
  {
   "cell_type": "code",
   "execution_count": 13,
   "metadata": {},
   "outputs": [
    {
     "data": {
      "text/plain": [
       "'python'"
      ]
     },
     "execution_count": 13,
     "metadata": {},
     "output_type": "execute_result"
    }
   ],
   "source": [
    "#  print문을 생략하고 변수 이름 a만 입력하여 a의 값을 출력할 수도 있다\n",
    ">>> a = \"python\"\n",
    ">>> a"
   ]
  },
  {
   "cell_type": "code",
   "execution_count": null,
   "metadata": {},
   "outputs": [],
   "source": []
  },
  {
   "cell_type": "code",
   "execution_count": 14,
   "metadata": {},
   "outputs": [
    {
     "name": "stdout",
     "output_type": "stream",
     "text": [
      "a is greater than 1\n"
     ]
    }
   ],
   "source": [
    "# 조건문 if\n",
    "\n",
    "#  a가 1보다 크면 \"a is greater than 1\"이라는 문장을 출력(print)하라는 뜻\n",
    ">>> a = 3\n",
    ">>> if a > 1:\n",
    "        # if a > 1: 다음 문장은 Tap 키 또는 Spacebar 키 4개를 이용해 반드시 \n",
    "        # 들여쓰기 한 후에 print(\"a is greater than 1\")이라고 작성해야 한다. \n",
    "        # 반복문 for, while 예제도 마찬가지로 들여쓰기가 필요\n",
    "        \n",
    "        print(\"a is greater than 1\")\n",
    "        \n",
    "        "
   ]
  },
  {
   "cell_type": "code",
   "execution_count": null,
   "metadata": {},
   "outputs": [],
   "source": []
  },
  {
   "cell_type": "code",
   "execution_count": 18,
   "metadata": {},
   "outputs": [
    {
     "name": "stdout",
     "output_type": "stream",
     "text": [
      "1\n",
      "2\n",
      "3\n"
     ]
    }
   ],
   "source": [
    "# 반복문 for\n",
    "\n",
    "# for를 사용해서 [1, 2, 3] 안의 값을 하나씩 출력하는 것을 보여 주는 예\n",
    "# for문을 사용하면 실행해야 할 문장을 여러 번 반복해서 실행시킬 수 있다\n",
    "# 대괄호([ ])사이에 있는 값들을 하나씩 출력한다\n",
    "\n",
    "# 코드의 의미는 \"[1, 2, 3] 리스트의 앞에서부터 하나씩 꺼내어 a 변수에 \n",
    "# 대입한 후 print(a)를 수행하라\"이다\n",
    "\n",
    "for a in [1, 2, 3]:\n",
    "    print(a)"
   ]
  },
  {
   "cell_type": "code",
   "execution_count": null,
   "metadata": {},
   "outputs": [],
   "source": []
  },
  {
   "cell_type": "code",
   "execution_count": 19,
   "metadata": {},
   "outputs": [
    {
     "name": "stdout",
     "output_type": "stream",
     "text": [
      "1\n",
      "2\n",
      "3\n"
     ]
    }
   ],
   "source": [
    "# 반복문 while\n",
    "\n",
    "# for문과 마찬가지로 반복해서 문장을 수행할 수 있도록 해준다\n",
    "# i 값이 3보다 작은 동안 i=i+1과 print(i)를 수행하라는 것\n",
    "# i=i+1이라는 문장은 i의 값을 1씩 더하게 한다. \n",
    "# i 값이 3보다 커지게 되면 while문을 빠져나가게 된다\n",
    "\n",
    "i = 0\n",
    "while i < 3:\n",
    "    i = i + 1\n",
    "    print(i)"
   ]
  },
  {
   "cell_type": "code",
   "execution_count": null,
   "metadata": {},
   "outputs": [],
   "source": []
  },
  {
   "cell_type": "code",
   "execution_count": 20,
   "metadata": {},
   "outputs": [
    {
     "data": {
      "text/plain": [
       "7"
      ]
     },
     "execution_count": 20,
     "metadata": {},
     "output_type": "execute_result"
    }
   ],
   "source": [
    "# 함수\n",
    "\n",
    "# def는 함수를 만들 때 사용하는 예약어\n",
    "# add 함수를 만들고 그 함수를 어떻게 사용하는지를 보여줌\n",
    "# add(a, b)에서 a, b는 입력값이고, a+b는 결괏값\n",
    "# 3, 4가 입력으로 들어오면 3+4를 수행하고 그 결괏값인 7을 돌려줌\n",
    "# 예약어 : 프로그래밍 언어에서 이미 문법적인 용도로 사용하고 있는 단어\n",
    "\n",
    "def add(a, b):\n",
    "    return a + b\n",
    "\n",
    "add(3, 4)"
   ]
  },
  {
   "cell_type": "code",
   "execution_count": null,
   "metadata": {},
   "outputs": [],
   "source": []
  },
  {
   "cell_type": "markdown",
   "metadata": {},
   "source": [
    "# 01-6 파이썬과 에디터\n",
    "\n",
    "- 에디터란 소스 코드를 편집할 수 있는 프로그래밍 툴\n",
    "\n",
    "\n",
    "- IDLE로 파이썬 프로그램 작성하기\n",
    "\n",
    "\n",
    "- 명령 프롬프트 창에서 파이썬 프로그램 실행하기\n",
    "\n",
    "\n",
    "- 추천 에디터\n",
    "  - 비주얼 스튜디오 코드\n",
    "  - 파이참"
   ]
  },
  {
   "cell_type": "code",
   "execution_count": 22,
   "metadata": {},
   "outputs": [
    {
     "data": {
      "text/plain": [
       "'\\nAuthor: EungYong Park\\nDate : 2018-05-01\\n이 프로그램은 Hello World를 출력하는 프로그램이다.\\n'"
      ]
     },
     "execution_count": 22,
     "metadata": {},
     "output_type": "execute_result"
    }
   ],
   "source": [
    "# [여러줄짜리 주석문]\n",
    "\n",
    "\"\"\"\n",
    "Author: EungYong Park\n",
    "Date : 2018-05-01\n",
    "이 프로그램은 Hello World를 출력하는 프로그램이다.\n",
    "\"\"\""
   ]
  },
  {
   "cell_type": "code",
   "execution_count": null,
   "metadata": {},
   "outputs": [],
   "source": []
  },
  {
   "cell_type": "code",
   "execution_count": null,
   "metadata": {},
   "outputs": [],
   "source": []
  }
 ],
 "metadata": {
  "kernelspec": {
   "display_name": "Python 3",
   "language": "python",
   "name": "python3"
  },
  "language_info": {
   "codemirror_mode": {
    "name": "ipython",
    "version": 3
   },
   "file_extension": ".py",
   "mimetype": "text/x-python",
   "name": "python",
   "nbconvert_exporter": "python",
   "pygments_lexer": "ipython3",
   "version": "3.6.5"
  }
 },
 "nbformat": 4,
 "nbformat_minor": 2
}

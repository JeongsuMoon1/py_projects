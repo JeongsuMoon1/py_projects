{
 "cells": [
  {
   "cell_type": "markdown",
   "metadata": {},
   "source": [
    "## 크롤링 1\n",
    "- 유튜브를 크롤링하여 데이터를 획득\n",
    "- 크롤링을 해야하는 이유는 자체가 ajax를 이용한 방식이므로 사람의 손길이 필요한 사이트\n",
    "- 일반적인 html 자체에는 자체 정의 태그들을 혼용한다 => Angular js를 부분 사용을 했다라고 판단됨\n",
    "- 일반적인 css selector의 규칙중에 id규칙(문서내에 고유하다)을 무시한다.(id사용은 자제해야한다)\n",
    "  => 사용주의(id가지고 한놈만 특정할 수 없다)\n",
    "- 데이터 로드는 ajax를 통해서 사용자가 스크롤링을 해서 리스트의 끝에 도착할 때 더보기(이런 기능)이 처리되므로, 전체 데이터를 수집하기 위해서는 js를 가동시켜야 한다\n",
    "- 사용라이브러리는 selenium을 사용 \n",
    "- https://www.seleniumhq.org/ -> 다운로드 -> third -> 크롬드라이브 -> 다운로드 -> 76버전 -> win32다운\n",
    "- 웹드라이버(여기서는 크롬을 사용)\n",
    "  > https://sites.google.com/a/chromium.org/chromedriver/downloads\n",
    "- 최신버전이 적용안되는 혹은 버그가 있는 기능이 있으므로, 혹시 안되면 계속 버전을 내려가면서 사용하면된다(안정화가 덜 되서 그럼)\n",
    "- API-DOCS\n",
    "  > https://sites.google.com/a/chromium.org/docs/api/py/index.html\n",
    "  > https://selenium-python.readthedocs.io/ : 지침서\n",
    "- install\n",
    "  > conda install selenium\n",
    "  > or\n",
    "  > pip install selenium\n"
   ]
  },
  {
   "cell_type": "code",
   "execution_count": 4,
   "metadata": {},
   "outputs": [],
   "source": [
    "from selenium import webdriver as wd"
   ]
  },
  {
   "cell_type": "code",
   "execution_count": 5,
   "metadata": {},
   "outputs": [],
   "source": [
    "import urllib"
   ]
  },
  {
   "cell_type": "code",
   "execution_count": 131,
   "metadata": {},
   "outputs": [],
   "source": [
    "# 유뷰브 데이터가져올 때 필터 오늘것으로 했을 경우 관점 2개로 나뉨\n",
    "# 관점 1. 오늘 데이터를 디비에 넣은후에 더보기로 해서 가져오는것\n",
    "# 관점 2. 더보기없이 전부 디비에 더 집어넣은후 더이상 나오지 않을 때까지 끝까지 가져오는것"
   ]
  },
  {
   "cell_type": "code",
   "execution_count": 132,
   "metadata": {},
   "outputs": [],
   "source": [
    "# 유튭 ytn실시간 -> 실시간 채팅 -> 프레임소스보기 -> 데이터를 가져와서 진보/보수 어느 정도있는지 분석할 수 있다"
   ]
  },
  {
   "cell_type": "code",
   "execution_count": 6,
   "metadata": {},
   "outputs": [],
   "source": [
    "# 업로드순 정렬, 오늘(현재기준 24시간이내 게시물)\n",
    "target_url = 'https://www.youtube.com/results?search_query={}&sp=CAISBAgCEAE%253D'"
   ]
  },
  {
   "cell_type": "code",
   "execution_count": 7,
   "metadata": {},
   "outputs": [],
   "source": [
    "keyword = '갤럭시노트10'"
   ]
  },
  {
   "cell_type": "code",
   "execution_count": 8,
   "metadata": {},
   "outputs": [
    {
     "data": {
      "text/plain": [
       "'https://www.youtube.com/results?search_query=%EA%B0%A4%EB%9F%AD%EC%8B%9C%EB%85%B8%ED%8A%B810&sp=CAISBAgCEAE%253D'"
      ]
     },
     "execution_count": 8,
     "metadata": {},
     "output_type": "execute_result"
    }
   ],
   "source": [
    "target_url = target_url.format( urllib.parse.quote(keyword) )\n",
    "target_url"
   ]
  },
  {
   "cell_type": "code",
   "execution_count": 9,
   "metadata": {},
   "outputs": [],
   "source": [
    "# 웹드라이버 가동\n",
    "driver = wd.Chrome('../tool/chromedriver75.0.3770.140.exe')"
   ]
  },
  {
   "cell_type": "code",
   "execution_count": 10,
   "metadata": {},
   "outputs": [],
   "source": [
    "# 사이트 접속\n",
    "driver.get( target_url )"
   ]
  },
  {
   "cell_type": "code",
   "execution_count": 11,
   "metadata": {},
   "outputs": [],
   "source": [
    "# 스크롤을 쳐서 데이터를 다 로드 시킨다\n",
    "# 데이터량이 엄청 많지 않을때 가능\n",
    "# ajax를 사용할 경우 서버가 반응해서 응답이 오고 화면구성할때까지 시간이 걸린다, 스크롤마다 대기시간이 필요하다\n",
    "import time # 물리적으로 그냥 마냥 기다려라라는 코드\n",
    "for n in range(100):\n",
    "    driver.execute_script( 'window.scrollBy(0,1000)' ) # 윈도우가 축소됫을경우, 확대됫을경우 코드가 달라진다\n",
    "    # 다음 작업을 코드적으로 강제 대기시킨것\n",
    "    # 데이터 추출시에는 selenium에서 지원하는 waits기법을 사용하면 좋다\n",
    "    time.sleep(2) # 유튜브 윈도우에서 스크롤리 내려갔다가 올라가는것을 볼 수 있다(결과가 없을때가지 내려감) -> 하지만 아직 코드는 진행"
   ]
  },
  {
   "cell_type": "code",
   "execution_count": 139,
   "metadata": {},
   "outputs": [],
   "source": [
    "# 영상 데이터 한줄 :\n",
    "# ytd-video-renderer\n",
    "# 영상의 메타 정보 :\n",
    "# #video-title"
   ]
  },
  {
   "cell_type": "code",
   "execution_count": 13,
   "metadata": {},
   "outputs": [
    {
     "data": {
      "text/plain": [
       "(79, list)"
      ]
     },
     "execution_count": 13,
     "metadata": {},
     "output_type": "execute_result"
    }
   ],
   "source": [
    "videos = driver.find_elements_by_tag_name( 'ytd-video-renderer' )\n",
    "len( videos ), type( videos ) # 튜플로 된다"
   ]
  },
  {
   "cell_type": "code",
   "execution_count": 14,
   "metadata": {},
   "outputs": [
    {
     "name": "stdout",
     "output_type": "stream",
     "text": [
      "[개봉기] '갤럭시 노트10+ 256GB 화이트' 자급제 구매했다!\n",
      "https://i.ytimg.com/vi/8UzFc0WRiZs/hqdefault.jpg?sqp=-oaymwEZCPYBEIoBSFXyq4qpAwsIARUAAIhCGAFwAQ==&rs=AOn4CLAfMvJgQoASb_PETKx1DtDAP3LJdw\n",
      "https://www.youtube.com/watch?v=8UzFc0WRiZs\n",
      "리트 REAT\n"
     ]
    },
    {
     "ename": "AttributeError",
     "evalue": "'WebElement' object has no attribute 'find_elements_css_selector'",
     "output_type": "error",
     "traceback": [
      "\u001b[1;31m---------------------------------------------------------------------------\u001b[0m",
      "\u001b[1;31mAttributeError\u001b[0m                            Traceback (most recent call last)",
      "\u001b[1;32m<ipython-input-14-961c6691c0b1>\u001b[0m in \u001b[0;36m<module>\u001b[1;34m()\u001b[0m\n\u001b[0;32m     11\u001b[0m     \u001b[0mprint\u001b[0m\u001b[1;33m(\u001b[0m \u001b[0mvideo\u001b[0m\u001b[1;33m.\u001b[0m\u001b[0mfind_element_by_css_selector\u001b[0m\u001b[1;33m(\u001b[0m\u001b[1;34m'#byline>a'\u001b[0m\u001b[1;33m)\u001b[0m\u001b[1;33m.\u001b[0m\u001b[0mtext\u001b[0m \u001b[1;33m)\u001b[0m\u001b[1;33m\u001b[0m\u001b[0m\n\u001b[0;32m     12\u001b[0m     \u001b[1;31m# 조회수 : metadata-line\u001b[0m\u001b[1;33m\u001b[0m\u001b[1;33m\u001b[0m\u001b[0m\n\u001b[1;32m---> 13\u001b[1;33m     \u001b[1;32mfor\u001b[0m \u001b[0mspan\u001b[0m \u001b[1;32min\u001b[0m \u001b[0mvideo\u001b[0m\u001b[1;33m.\u001b[0m\u001b[0mfind_elements_css_selector\u001b[0m\u001b[1;33m(\u001b[0m\u001b[1;34m'#metadata-line>span'\u001b[0m\u001b[1;33m)\u001b[0m\u001b[1;33m:\u001b[0m\u001b[1;33m\u001b[0m\u001b[0m\n\u001b[0m\u001b[0;32m     14\u001b[0m         \u001b[0mprint\u001b[0m\u001b[1;33m(\u001b[0m \u001b[0mspan\u001b[0m\u001b[1;33m.\u001b[0m\u001b[0mtext\u001b[0m \u001b[1;33m)\u001b[0m\u001b[1;33m\u001b[0m\u001b[0m\n\u001b[0;32m     15\u001b[0m     '''\n",
      "\u001b[1;31mAttributeError\u001b[0m: 'WebElement' object has no attribute 'find_elements_css_selector'"
     ]
    }
   ],
   "source": [
    "# driver.find_element_by_id\n",
    "# driver.find_element_by_css_selector\n",
    "for video in videos[:2]:\n",
    "    # 영상의 타이틀\n",
    "    print( video.find_element_by_id('video-title').get_attribute('title') )\n",
    "    # 썸네일\n",
    "    print( video.find_element_by_tag_name('img').get_attribute('src') )\n",
    "    # 링크\n",
    "    print( video.find_element_by_id('video-title').get_attribute('href') )\n",
    "    # 작성자\n",
    "    print( video.find_element_by_css_selector('#byline>a').text )\n",
    "    # 조회수 : metadata-line\n",
    "    for span in video.find_elements_css_selector('#metadata-line>span'):\n",
    "        print( span.text )\n",
    "    '''\n",
    "    [\n",
    "      {'title':'xx', 'thum':'xx', 'link':'xx', 'author':'xx', 'views':'xx', 'time':''},\n",
    "      ,{},{}, ...\n",
    "    ]\n",
    "    '''\n",
    "    # 작성시간\n",
    "    "
   ]
  },
  {
   "cell_type": "code",
   "execution_count": null,
   "metadata": {},
   "outputs": [],
   "source": [
    "results = []\n",
    "for video in videos: #[:2]:\n",
    "    dic = {\n",
    "        'title':video.find_element_by_id('video-title').get_attribute('title')\n",
    "        ,'thum':video.find_element_by_tag_name('img').get_attribute('src') \n",
    "        ,'link':video.find_element_by_id('video-title').get_attribute('href')     \n",
    "        ,'author':video.find_element_by_css_selector('#byline>a').text \n",
    "        ,'views':video.find_elements_by_css_selector('#metadata-line>span')[0].text # views는 배열로 온다\n",
    "        ,'time':video.find_elements_by_css_selector('#metadata-line>span')[1].text\n",
    "    }    \n",
    "    results.append( dic )\n",
    "results"
   ]
  },
  {
   "cell_type": "code",
   "execution_count": null,
   "metadata": {},
   "outputs": [],
   "source": [
    "for link in results[-1:]:\n",
    "    print( link['link'] ) # 데이터 뽑기 : 인덱싱\n",
    "    # 해당 콘텐츠에 진입\n",
    "    driver.get( link['link'])\n",
    "    # 잠시대기 -> 반드시 신규페이지에서는 대기\n",
    "    print('5초 대기')\n",
    "    driver.implicitly_wait(5)\n",
    "    # 화면스크롤 \n",
    "    for n in range(3):\n",
    "        print('화면스크롤 시도 ')\n",
    "        driver.execute_script( 'window.scrollBy(0,1000)' )\n",
    "    # 후기 개수를 확인 -> 적정선까지 로드\n",
    "    for cnt in driver.find_elements_by_id('count'):\n",
    "        print( cnt.text )\n",
    "    # 후기 채집( 작성자, 내용, 좋아요 )\n",
    "    for comment in driver.find_elements_by_tag_name('ytd-comment-thread-renderer'):\n",
    "        print( comment.text )\n",
    "        print( '-'*20 )"
   ]
  },
  {
   "cell_type": "code",
   "execution_count": null,
   "metadata": {},
   "outputs": [],
   "source": [
    "# 1. 한글명은 동일하게 세팅되니까 replace로 걷어내는 방법\n",
    "# 2. 정규식을 통해서 숫자만 남기고 모두 제거\n",
    "tmp = ['조회수 39,529', '댓글 362개']\n",
    "tmp[0].replace('조회수','').replace('회','')"
   ]
  },
  {
   "cell_type": "code",
   "execution_count": null,
   "metadata": {},
   "outputs": [],
   "source": [
    "tmp[1].replace('댓글','').replace('개','')"
   ]
  },
  {
   "cell_type": "code",
   "execution_count": null,
   "metadata": {},
   "outputs": [],
   "source": [
    "driver.close()  # 항상 꺼줘야 한다\n",
    "driver.quit()"
   ]
  },
  {
   "cell_type": "code",
   "execution_count": null,
   "metadata": {},
   "outputs": [],
   "source": []
  },
  {
   "cell_type": "code",
   "execution_count": null,
   "metadata": {},
   "outputs": [],
   "source": []
  },
  {
   "cell_type": "code",
   "execution_count": null,
   "metadata": {},
   "outputs": [],
   "source": []
  },
  {
   "cell_type": "code",
   "execution_count": null,
   "metadata": {},
   "outputs": [],
   "source": []
  },
  {
   "cell_type": "code",
   "execution_count": null,
   "metadata": {},
   "outputs": [],
   "source": []
  },
  {
   "cell_type": "code",
   "execution_count": null,
   "metadata": {},
   "outputs": [],
   "source": []
  },
  {
   "cell_type": "code",
   "execution_count": null,
   "metadata": {},
   "outputs": [],
   "source": []
  },
  {
   "cell_type": "code",
   "execution_count": null,
   "metadata": {},
   "outputs": [],
   "source": []
  },
  {
   "cell_type": "code",
   "execution_count": null,
   "metadata": {},
   "outputs": [],
   "source": []
  },
  {
   "cell_type": "code",
   "execution_count": null,
   "metadata": {},
   "outputs": [],
   "source": []
  }
 ],
 "metadata": {
  "kernelspec": {
   "display_name": "Python 3",
   "language": "python",
   "name": "python3"
  },
  "language_info": {
   "codemirror_mode": {
    "name": "ipython",
    "version": 3
   },
   "file_extension": ".py",
   "mimetype": "text/x-python",
   "name": "python",
   "nbconvert_exporter": "python",
   "pygments_lexer": "ipython3",
   "version": "3.6.5"
  }
 },
 "nbformat": 4,
 "nbformat_minor": 2
}

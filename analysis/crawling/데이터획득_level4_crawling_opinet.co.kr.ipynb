{
 "cells": [
  {
   "cell_type": "markdown",
   "metadata": {},
   "source": [
    "## selenium을 이용하여 주유가격 수집\n",
    "- 매일 1회 수집\n",
    "- 지역별 검색 사이트에 진입\n",
    "- 시/도 => wait => 시/군/구 => wait => 읍/면/동 변경됨\n",
    "- 조회 버튼 클릭\n",
    "- 엑셀저장 클릭\n",
    "- 이렇게 돌면서 다 파일을 모아두고 *.xls을 한번에 목록을 읽어드리고 (전처리가 잘되어있는 파일들이라서 덩어리만 잘가지고오면된다)\n",
    "- pandas의 엑셀을 DataFrame으로 로드하는 함수를 활용하여 변환후\n",
    "- df의 머리를 이용하여 덩어리로 만들어서 디비에 삽입 or 매번 삽입\n"
   ]
  },
  {
   "cell_type": "code",
   "execution_count": 48,
   "metadata": {},
   "outputs": [],
   "source": [
    "from selenium import webdriver as wd\n",
    "import urllib"
   ]
  },
  {
   "cell_type": "code",
   "execution_count": 49,
   "metadata": {},
   "outputs": [],
   "source": [
    "driver = wd.Chrome('../tool/chromedriver75.0.3770.140.exe')"
   ]
  },
  {
   "cell_type": "code",
   "execution_count": 50,
   "metadata": {},
   "outputs": [],
   "source": [
    "target_url = 'http://www.opinet.co.kr/searRgSelect.do'"
   ]
  },
  {
   "cell_type": "code",
   "execution_count": 51,
   "metadata": {},
   "outputs": [],
   "source": [
    "driver.get( target_url)\n",
    "import time\n",
    "time.sleep(5)"
   ]
  },
  {
   "cell_type": "code",
   "execution_count": 52,
   "metadata": {},
   "outputs": [],
   "source": [
    "driver.get( target_url) # 서버사이드 못들어가게 막는다"
   ]
  },
  {
   "cell_type": "code",
   "execution_count": 53,
   "metadata": {},
   "outputs": [],
   "source": [
    "# 테스트 사이트에서 검사 -> 서울 찾기 -> select id(SIDO_NM0)를 찾아라"
   ]
  },
  {
   "cell_type": "code",
   "execution_count": 54,
   "metadata": {},
   "outputs": [],
   "source": [
    "# 시도 정보 추출 및 특정 시도선택\n",
    "# select tag이고, 이 요소의 값을 설정하면 시도값이 변경된다\n",
    "sido = driver.find_element_by_id('SIDO_NM0')\n",
    "# 그 밑의 옵션 태그들"
   ]
  },
  {
   "cell_type": "code",
   "execution_count": 55,
   "metadata": {},
   "outputs": [],
   "source": [
    "# 시도를 선택하는 작업\n",
    "# sido.send_keys('서울특별시') # 크롬브라우저로 띄운것에는 처음에는 부산으로 잡혀있음 -> 서울특별시로 변경됨"
   ]
  },
  {
   "cell_type": "code",
   "execution_count": 56,
   "metadata": {},
   "outputs": [
    {
     "data": {
      "text/plain": [
       "['서울특별시',\n",
       " '부산광역시',\n",
       " '대구광역시',\n",
       " '인천광역시',\n",
       " '광주광역시',\n",
       " '대전광역시',\n",
       " '울산광역시',\n",
       " '세종특별자치시',\n",
       " '경기도',\n",
       " '강원도',\n",
       " '충청북도',\n",
       " '충청남도',\n",
       " '전라북도',\n",
       " '전라남도',\n",
       " '경상북도',\n",
       " '경상남도',\n",
       " '제주특별자치도']"
      ]
     },
     "execution_count": 56,
     "metadata": {},
     "output_type": "execute_result"
    }
   ],
   "source": [
    "# 시도에 들어올 수 있는 값 추출 (서울특별시로 바뀌는 근거를 찾아보는 것)\n",
    "# select > option들의 속성중에 value값\n",
    "# #SIDO_NMO > 직계 자식중의 option\n",
    "# for option in driver.find_elements_by_css_selector('#SIDO_NM0 > option'): # sido 밑에 있는 그 자손값인 option을 전부 다겨와라(리스트됨)\n",
    "#    print( option.get_attribute('value') )\n",
    "sidos = [ option.get_attribute('value') \n",
    "        for option in driver.find_elements_by_css_selector('#SIDO_NM0 > option')\n",
    "        if option.get_attribute('value')\n",
    "        ]\n",
    "sidos"
   ]
  },
  {
   "cell_type": "code",
   "execution_count": 57,
   "metadata": {},
   "outputs": [],
   "source": [
    "for sido_name in sidos:\n",
    "    sido.send_keys(sido_name)\n",
    "    time.sleep(2)    # 조회찾기의 지역값들이 2초마다 바뀐다 -> 이것을 3번 쳐야한다 -> 지역, 시/군, 시/군/구"
   ]
  },
  {
   "cell_type": "code",
   "execution_count": 66,
   "metadata": {},
   "outputs": [],
   "source": [
    "sido = driver.find_element_by_id('SIDO_NM0')\n",
    "sido.send_keys('부산')"
   ]
  },
  {
   "cell_type": "code",
   "execution_count": 67,
   "metadata": {},
   "outputs": [],
   "source": [
    "# 시군구 선택\n",
    "# 사이트 특성상 send_keys()를 수행하면 화면이 전부 리로드된다(화면이 껌벅인다)\n",
    "# 그래서 이전에 잡아두었던 sigungo값들이 전부 무효화 한다\n",
    "# 해서 다시 sigungo변수를 찾아서 처리해야한다\n",
    "sigungu = driver.find_element_by_id('SIGUNGU_NM0')\n",
    "sigungu.send_keys('남구')"
   ]
  },
  {
   "cell_type": "code",
   "execution_count": 68,
   "metadata": {},
   "outputs": [],
   "source": [
    "# 읍면동 선택\n",
    "dong = driver.find_element_by_id('DONG_NM')\n",
    "dong.send_keys('대연동')"
   ]
  },
  {
   "cell_type": "code",
   "execution_count": null,
   "metadata": {},
   "outputs": [],
   "source": []
  },
  {
   "cell_type": "code",
   "execution_count": 69,
   "metadata": {},
   "outputs": [],
   "source": [
    "# 조회버튼 클릭\n",
    "driver.find_element_by_id('searRgSelect').click()"
   ]
  },
  {
   "cell_type": "code",
   "execution_count": 70,
   "metadata": {},
   "outputs": [],
   "source": [
    "# 엑셀저장 클릭: 버튼 누르는 것 (ex) 엑셀저장버튼 누르기\n",
    "driver.find_element_by_id('glopopd_excel').click()"
   ]
  },
  {
   "cell_type": "code",
   "execution_count": 71,
   "metadata": {},
   "outputs": [],
   "source": [
    "driver.close()\n",
    "driver.quit()"
   ]
  },
  {
   "cell_type": "code",
   "execution_count": null,
   "metadata": {},
   "outputs": [],
   "source": []
  },
  {
   "cell_type": "code",
   "execution_count": null,
   "metadata": {},
   "outputs": [],
   "source": []
  },
  {
   "cell_type": "code",
   "execution_count": null,
   "metadata": {},
   "outputs": [],
   "source": []
  },
  {
   "cell_type": "code",
   "execution_count": null,
   "metadata": {},
   "outputs": [],
   "source": []
  },
  {
   "cell_type": "code",
   "execution_count": null,
   "metadata": {},
   "outputs": [],
   "source": []
  },
  {
   "cell_type": "code",
   "execution_count": null,
   "metadata": {},
   "outputs": [],
   "source": []
  },
  {
   "cell_type": "code",
   "execution_count": null,
   "metadata": {},
   "outputs": [],
   "source": []
  },
  {
   "cell_type": "code",
   "execution_count": null,
   "metadata": {},
   "outputs": [],
   "source": []
  },
  {
   "cell_type": "code",
   "execution_count": null,
   "metadata": {},
   "outputs": [],
   "source": []
  },
  {
   "cell_type": "code",
   "execution_count": null,
   "metadata": {},
   "outputs": [],
   "source": []
  },
  {
   "cell_type": "code",
   "execution_count": null,
   "metadata": {},
   "outputs": [],
   "source": []
  },
  {
   "cell_type": "code",
   "execution_count": null,
   "metadata": {},
   "outputs": [],
   "source": []
  },
  {
   "cell_type": "code",
   "execution_count": null,
   "metadata": {},
   "outputs": [],
   "source": []
  },
  {
   "cell_type": "code",
   "execution_count": null,
   "metadata": {},
   "outputs": [],
   "source": []
  },
  {
   "cell_type": "code",
   "execution_count": null,
   "metadata": {},
   "outputs": [],
   "source": []
  },
  {
   "cell_type": "code",
   "execution_count": null,
   "metadata": {},
   "outputs": [],
   "source": []
  },
  {
   "cell_type": "code",
   "execution_count": null,
   "metadata": {},
   "outputs": [],
   "source": []
  },
  {
   "cell_type": "code",
   "execution_count": null,
   "metadata": {},
   "outputs": [],
   "source": []
  }
 ],
 "metadata": {
  "kernelspec": {
   "display_name": "Python 3",
   "language": "python",
   "name": "python3"
  },
  "language_info": {
   "codemirror_mode": {
    "name": "ipython",
    "version": 3
   },
   "file_extension": ".py",
   "mimetype": "text/x-python",
   "name": "python",
   "nbconvert_exporter": "python",
   "pygments_lexer": "ipython3",
   "version": "3.6.9"
  }
 },
 "nbformat": 4,
 "nbformat_minor": 2
}

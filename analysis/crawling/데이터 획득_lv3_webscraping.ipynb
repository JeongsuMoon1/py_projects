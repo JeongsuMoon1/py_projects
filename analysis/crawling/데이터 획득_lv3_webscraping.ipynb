{
 "cells": [
  {
   "cell_type": "markdown",
   "metadata": {},
   "source": [
    "## 웹스크래핑을 이용한 데이터 수집\n",
    "* open API를 이용한 데이터 수집이 불가한 경우에 해당\n",
    "* 방식 : 웹을 요청하여 html을 모두 받아서 DOM으로 올려서 데이터를 추출방식\n",
    "* DOM을 띄어서 데이터를 추출할 때 사용하는 라이브러리\n",
    " > beautifulsoup (bs4)를 활용\n",
    " > conda install beautifulsoup4 (오픈터미널로 설치하면 된다)"
   ]
  },
  {
   "cell_type": "code",
   "execution_count": 60,
   "metadata": {},
   "outputs": [],
   "source": [
    "from bs4 import BeautifulSoup"
   ]
  },
  {
   "cell_type": "code",
   "execution_count": 61,
   "metadata": {},
   "outputs": [],
   "source": [
    "from urllib.request import urlopen"
   ]
  },
  {
   "cell_type": "code",
   "execution_count": 62,
   "metadata": {},
   "outputs": [],
   "source": [
    "# 네이버 금융 -> 환율 고시 더보기 -> 통화명 컬럼에서 오른마우스에서 프레임 소스 보기 클릭 -> 주소 확인"
   ]
  },
  {
   "cell_type": "code",
   "execution_count": 63,
   "metadata": {},
   "outputs": [],
   "source": [
    "# 네이버 영화 -> 영화랭킹 -> "
   ]
  },
  {
   "cell_type": "markdown",
   "metadata": {},
   "source": [
    "- 콘텐츠가 존재하는 해당 페이지까지 진입\n",
    "- 진입간에 로그인, ajax등등 사람의 손을 타지 않는지 체크\n",
    "- 그냥 url만 넣으면 화면이 구성된다 => ok\n",
    "- html 자체에 프레임이 적용된 경우 실제 주소까지 찾아서 이동\n",
    "- 통신시 get, post등 데이터를 전달해서 획득하는 것도 ok"
   ]
  },
  {
   "cell_type": "markdown",
   "metadata": {},
   "source": [
    "### 네이버 금융 > 고시환율정보 수집\n",
    "\n",
    "- 하루에 환율이 수시로 변경된다 \n",
    "- 그래서, 그 주기를 관찰하여서 수집 주기를 결정해야 한다 "
   ]
  },
  {
   "cell_type": "code",
   "execution_count": 64,
   "metadata": {},
   "outputs": [
    {
     "data": {
      "text/plain": [
       "'https://finance.naver.com/marketindex/exchangeList.nhn'"
      ]
     },
     "execution_count": 64,
     "metadata": {},
     "output_type": "execute_result"
    }
   ],
   "source": [
    "target_site = 'https://finance.naver.com/marketindex/exchangeList.nhn'\n",
    "target_site"
   ]
  },
  {
   "cell_type": "code",
   "execution_count": 65,
   "metadata": {},
   "outputs": [
    {
     "data": {
      "text/plain": [
       "<http.client.HTTPResponse at 0x1fe3dacc390>"
      ]
     },
     "execution_count": 65,
     "metadata": {},
     "output_type": "execute_result"
    }
   ],
   "source": [
    "# 요청 및 응답 획득\n",
    "page = urlopen( target_site )\n",
    "page\n",
    "# 응답이 온다"
   ]
  },
  {
   "cell_type": "code",
   "execution_count": 66,
   "metadata": {},
   "outputs": [],
   "source": [
    "# DOM 구성  ( 스크랩핑을 하는 과정이다 -> 스크랩핑이 성공된다 )\n",
    "# 'html5lib' 파서는 html 양이 크거나, 정교한 파싱을 할때 즉, 아래 파서가\n",
    "# 정상적으로 결과를 내지 못하면 이 파서로 교체\n",
    "soup = BeautifulSoup( page,'html.parser' ) "
   ]
  },
  {
   "cell_type": "code",
   "execution_count": 67,
   "metadata": {},
   "outputs": [
    {
     "data": {
      "text/plain": [
       "['미국 USD', '유럽연합 EUR', '일본 JPY (100엔)']"
      ]
     },
     "execution_count": 67,
     "metadata": {},
     "output_type": "execute_result"
    }
   ],
   "source": [
    "# 리스트 내포를 통해서 간단하게 가공해 보았다\n",
    "tmp = [ td.a.string.strip() for td in soup.find_all('td', 'tit')]\n",
    "tmp[:3]"
   ]
  },
  {
   "cell_type": "code",
   "execution_count": 68,
   "metadata": {},
   "outputs": [],
   "source": [
    "# find: 한놈 찾기, find_all : 다 찾기\n",
    "for td in soup.find_all('tb', 'tit'):\n",
    "    print( td.a.string.strip() )"
   ]
  },
  {
   "cell_type": "markdown",
   "metadata": {},
   "source": [
    "- 데이터를 추출하여 디비에 적제하기 위해 최종 형태는 다음과 같다\n",
    "- [\n",
    "    {\n",
    "        'name':'미국 USD',\n",
    "        'code':'USD',\n",
    "        'buy_std_rate':1209.90,\n",
    "        'cash_sell':1188.73\n",
    "    },{}\n",
    "  ]  "
   ]
  },
  {
   "cell_type": "code",
   "execution_count": null,
   "metadata": {},
   "outputs": [],
   "source": []
  },
  {
   "cell_type": "code",
   "execution_count": null,
   "metadata": {},
   "outputs": [],
   "source": []
  },
  {
   "cell_type": "code",
   "execution_count": null,
   "metadata": {},
   "outputs": [],
   "source": []
  },
  {
   "cell_type": "code",
   "execution_count": null,
   "metadata": {},
   "outputs": [],
   "source": []
  },
  {
   "cell_type": "code",
   "execution_count": null,
   "metadata": {},
   "outputs": [],
   "source": []
  },
  {
   "cell_type": "code",
   "execution_count": null,
   "metadata": {},
   "outputs": [],
   "source": []
  },
  {
   "cell_type": "code",
   "execution_count": null,
   "metadata": {},
   "outputs": [],
   "source": []
  },
  {
   "cell_type": "code",
   "execution_count": null,
   "metadata": {},
   "outputs": [],
   "source": []
  },
  {
   "cell_type": "code",
   "execution_count": null,
   "metadata": {},
   "outputs": [],
   "source": []
  },
  {
   "cell_type": "code",
   "execution_count": null,
   "metadata": {},
   "outputs": [],
   "source": []
  },
  {
   "cell_type": "code",
   "execution_count": null,
   "metadata": {},
   "outputs": [],
   "source": []
  },
  {
   "cell_type": "code",
   "execution_count": null,
   "metadata": {},
   "outputs": [],
   "source": []
  },
  {
   "cell_type": "code",
   "execution_count": null,
   "metadata": {},
   "outputs": [],
   "source": []
  },
  {
   "cell_type": "code",
   "execution_count": null,
   "metadata": {},
   "outputs": [],
   "source": []
  },
  {
   "cell_type": "code",
   "execution_count": null,
   "metadata": {},
   "outputs": [],
   "source": []
  },
  {
   "cell_type": "code",
   "execution_count": null,
   "metadata": {},
   "outputs": [],
   "source": []
  },
  {
   "cell_type": "code",
   "execution_count": null,
   "metadata": {},
   "outputs": [],
   "source": []
  },
  {
   "cell_type": "code",
   "execution_count": null,
   "metadata": {},
   "outputs": [],
   "source": []
  },
  {
   "cell_type": "code",
   "execution_count": null,
   "metadata": {},
   "outputs": [],
   "source": []
  },
  {
   "cell_type": "code",
   "execution_count": null,
   "metadata": {},
   "outputs": [],
   "source": []
  },
  {
   "cell_type": "code",
   "execution_count": null,
   "metadata": {},
   "outputs": [],
   "source": []
  },
  {
   "cell_type": "code",
   "execution_count": null,
   "metadata": {},
   "outputs": [],
   "source": []
  }
 ],
 "metadata": {
  "kernelspec": {
   "display_name": "Python 3",
   "language": "python",
   "name": "python3"
  },
  "language_info": {
   "codemirror_mode": {
    "name": "ipython",
    "version": 3
   },
   "file_extension": ".py",
   "mimetype": "text/x-python",
   "name": "python",
   "nbconvert_exporter": "python",
   "pygments_lexer": "ipython3",
   "version": "3.6.9"
  }
 },
 "nbformat": 4,
 "nbformat_minor": 2
}

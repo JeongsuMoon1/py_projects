{
 "cells": [
  {
   "cell_type": "markdown",
   "metadata": {},
   "source": [
    "## 절차\n",
    "\n",
    "1. 연구목표 설정\n",
    "2. 데이터 획득(수집)\n",
    " - https://play.google.com/store/apps/details?id=com.nhn.android.webtoon&showAllReviews=true\n",
    " - https://play.google.com/store/apps/details?id=net.daum.android.webtoon&showAllReviews=true\n",
    " - selenium 이용\n",
    " - 페이지로드되면, END를 작동시켜 밑 밑으로 내린다 -> 10번(임의설정), 3초간 대기\n",
    " - 리뷰를 수집해온다\n",
    "  > 이름       \n",
    "  > 별점       \n",
    "  > 등록일     \n",
    "  > 내용       \n",
    "  > 도움이됬음 \n",
    "  \n",
    "3. 데이터 준비(정제, 변환, 통합)\n",
    "  > 정규식으로 필터링(욕설, 기타 표현에 대한 정책)\n",
    "  > 파생변수 -> 형태소, 점수 지표를 이용한 계산, 사전에 없는 표현에 대한 유사어검사(확장성) 등\n",
    "4. 데이터 탐색(시각화, 통찰과정)\n",
    "  > 워드클라우드, 바차트, 히스토그램, 산포도표현\n",
    "5. 생략\n",
    "6. 시스템통합(사전의 재구축(선순환구조) 및 반영, 서비스)\n"
   ]
  },
  {
   "cell_type": "code",
   "execution_count": 80,
   "metadata": {},
   "outputs": [],
   "source": [
    "from selenium import webdriver as wd\n",
    "import urllib"
   ]
  },
  {
   "cell_type": "code",
   "execution_count": 104,
   "metadata": {},
   "outputs": [],
   "source": [
    "target_urls = [\n",
    "    'https://play.google.com/store/apps/details?id=com.nhn.android.webtoon&showAllReviews=true',\n",
    "    'https://play.google.com/store/apps/details?id=net.daum.android.webtoon&showAllReviews=true'\n",
    "]"
   ]
  },
  {
   "cell_type": "code",
   "execution_count": 106,
   "metadata": {},
   "outputs": [],
   "source": [
    "driver = wd.Chrome('../tool/chromedriver75.0.3770.140.exe')"
   ]
  },
  {
   "cell_type": "code",
   "execution_count": 112,
   "metadata": {},
   "outputs": [],
   "source": [
    "from selenium.webdriver.common.keys import Keys\n",
    "def getData(app_name):\n",
    "    # 타겟 사이트별 데이터 수집 작업\n",
    "    # 스크롤바를 밑으로 내린다 (10번)\n",
    "    for n in range(10):\n",
    "        # selenium.webdriver.common.keys.Keys\n",
    "        driver.find_element_by_tag_name('body').send_keys(Keys.END)\n",
    "        # ajax 통해서 리뷰가 로드될것이다\n",
    "        time.sleep(3)\n",
    "        #break\n",
    "        \n",
    "    reviews = driver.find_elements_by_css_selector('.W4P4ne>div:nth-child(2)>div>div') # W4P4ne의 자식들\n",
    "    # 전체 리뷰수\n",
    "    print( len(reviews) )\n",
    "    tmp = list()\n",
    "    try:\n",
    "        for div in reviews:\n",
    "            # 리뷰를 하나씩 꺼내서\n",
    "            name    = div.find_element_by_class_name('X43Kjb')\n",
    "            star    = div.find_element_by_css_selector('.pf5lIe>div')\n",
    "            regi    = div.find_element_by_class_name('p2TkOb')\n",
    "            content = div.find_element_by_css_selector('.UD7Dzf>span')\n",
    "            good    = div.find_element_by_class_name('jUL89d.y92BAb')\n",
    "            dic     = {\n",
    "                'name':name.text,\n",
    "                'star':star.get_attribute('aria-label'),\n",
    "                'regi':regi.text,\n",
    "                'content':content.text,\n",
    "                'good':good.text,\n",
    "                'app_name':app_name\n",
    "            }\n",
    "            tmp.append( dic )\n",
    "    except Exception as e:\n",
    "        print('실제로는 데이터가 없으나 있는것으로 처리되서 커트')\n",
    "    return tmp\n",
    "    \n",
    "    \n",
    "    \n",
    "    \n",
    "    # 수집하고자하는 내용들을 완벽하게 순서대로 세트를 유지하고, class명이 모두 동일\n",
    "    # 여기서는 개별적으로 구해서 순서대로 처리\n",
    "    # 후기가 있어서 수치가 틀어진다 -> 보정이 필요\n",
    "    # 이름   \n",
    "    #names    = driver.find_elements_by_class_name('X43Kjb')\n",
    "    # 별점 \n",
    "    #stars    = driver.find_elements_by_css_selector('.pf5lIe>div')\n",
    "    # 등록일\n",
    "    #regis    = driver.find_elements_by_class_name('p2TkOb')\n",
    "    # 내용  \n",
    "    #contents = driver.find_elements_by_css_selector('.UD7Dzf>span')\n",
    "    # 도움이됬음 \n",
    "    #goods    = driver.find_elements_by_class_name('jUL89d.y92BAb')\n",
    "    #print( len(names),len(stars),len(regis),len(contents),len(goods)  )  "
   ]
  },
  {
   "cell_type": "code",
   "execution_count": 113,
   "metadata": {},
   "outputs": [
    {
     "name": "stdout",
     "output_type": "stream",
     "text": [
      "201\n",
      "실제로는 데이터가 없으나 있는것으로 처리되서 커트\n",
      "201\n",
      "실제로는 데이터가 없으나 있는것으로 처리되서 커트\n"
     ]
    }
   ],
   "source": [
    "import time\n",
    "outputs   = list()\n",
    "app_names = ['네이버웹툰','다음웹툰']\n",
    "for idx, target_url in enumerate(target_urls):    \n",
    "    driver.get( target_url )\n",
    "    outputs.extend( getData( app_names[idx] ) )\n",
    "    time.sleep(4)\n",
    "    #break"
   ]
  },
  {
   "cell_type": "code",
   "execution_count": 114,
   "metadata": {},
   "outputs": [
    {
     "data": {
      "text/plain": [
       "378"
      ]
     },
     "execution_count": 114,
     "metadata": {},
     "output_type": "execute_result"
    }
   ],
   "source": [
    "len(outputs)"
   ]
  },
  {
   "cell_type": "code",
   "execution_count": 115,
   "metadata": {},
   "outputs": [
    {
     "data": {
      "text/plain": [
       "[{'name': '갑쬬히',\n",
       "  'star': '별표 5개 만점에 1개를 받았습니다.',\n",
       "  'regi': '2018년 12월 28일',\n",
       "  'content': '있자나요... 1000캐시 이벤트하길레 보고 캐시를 받는데 받는데도 게속 0캐시에요 ㅠㅠ',\n",
       "  'good': '1',\n",
       "  'app_name': '다음웹툰'}]"
      ]
     },
     "execution_count": 115,
     "metadata": {},
     "output_type": "execute_result"
    }
   ],
   "source": [
    "outputs[-1:]"
   ]
  },
  {
   "cell_type": "code",
   "execution_count": 116,
   "metadata": {},
   "outputs": [],
   "source": [
    "import pandas as pd\n",
    "import numpy as np"
   ]
  },
  {
   "cell_type": "code",
   "execution_count": 147,
   "metadata": {},
   "outputs": [
    {
     "data": {
      "text/html": [
       "<div>\n",
       "<style scoped>\n",
       "    .dataframe tbody tr th:only-of-type {\n",
       "        vertical-align: middle;\n",
       "    }\n",
       "\n",
       "    .dataframe tbody tr th {\n",
       "        vertical-align: top;\n",
       "    }\n",
       "\n",
       "    .dataframe thead th {\n",
       "        text-align: right;\n",
       "    }\n",
       "</style>\n",
       "<table border=\"1\" class=\"dataframe\">\n",
       "  <thead>\n",
       "    <tr style=\"text-align: right;\">\n",
       "      <th></th>\n",
       "      <th>app_name</th>\n",
       "      <th>content</th>\n",
       "      <th>good</th>\n",
       "      <th>name</th>\n",
       "      <th>regi</th>\n",
       "      <th>star</th>\n",
       "    </tr>\n",
       "  </thead>\n",
       "  <tbody>\n",
       "    <tr>\n",
       "      <th>0</th>\n",
       "      <td>네이버웹툰</td>\n",
       "      <td>네이버 웹툰은 컷마다 볼 수 있는 댓글과 보기편한 점이 있어서 좋지만 다른 새로운 ...</td>\n",
       "      <td>5</td>\n",
       "      <td>2D투디</td>\n",
       "      <td>2019년 8월 16일</td>\n",
       "      <td>별표 5개 만점에 3개를 받았습니다.</td>\n",
       "    </tr>\n",
       "    <tr>\n",
       "      <th>1</th>\n",
       "      <td>네이버웹툰</td>\n",
       "      <td>아니;;장난하시냐고요--여러분 이거요기요 첫주문웬만하면하지마세요.쿠키130개?절대안...</td>\n",
       "      <td>86</td>\n",
       "      <td>tv부기</td>\n",
       "      <td>2019년 8월 11일</td>\n",
       "      <td>별표 5개 만점에 1개를 받았습니다.</td>\n",
       "    </tr>\n",
       "  </tbody>\n",
       "</table>\n",
       "</div>"
      ],
      "text/plain": [
       "  app_name                                            content good  name  \\\n",
       "0    네이버웹툰  네이버 웹툰은 컷마다 볼 수 있는 댓글과 보기편한 점이 있어서 좋지만 다른 새로운 ...    5  2D투디   \n",
       "1    네이버웹툰  아니;;장난하시냐고요--여러분 이거요기요 첫주문웬만하면하지마세요.쿠키130개?절대안...   86  tv부기   \n",
       "\n",
       "           regi                  star  \n",
       "0  2019년 8월 16일  별표 5개 만점에 3개를 받았습니다.  \n",
       "1  2019년 8월 11일  별표 5개 만점에 1개를 받았습니다.  "
      ]
     },
     "execution_count": 147,
     "metadata": {},
     "output_type": "execute_result"
    }
   ],
   "source": [
    "df = pd.DataFrame.from_dict( outputs )\n",
    "df.head(2)"
   ]
  },
  {
   "cell_type": "code",
   "execution_count": 148,
   "metadata": {},
   "outputs": [],
   "source": [
    "# star에서 점수만 추출\n",
    "sample = '별표 5개 만점에 3개를 받았습니다.'\n",
    "import re"
   ]
  },
  {
   "cell_type": "code",
   "execution_count": 149,
   "metadata": {},
   "outputs": [],
   "source": [
    "p = re.compile( '\\d+' ) # \\d+: [0-9]+ 와 같은 표현이다"
   ]
  },
  {
   "cell_type": "code",
   "execution_count": 150,
   "metadata": {},
   "outputs": [
    {
     "data": {
      "text/plain": [
       "'3'"
      ]
     },
     "execution_count": 150,
     "metadata": {},
     "output_type": "execute_result"
    }
   ],
   "source": [
    "p.findall( sample )[1]"
   ]
  },
  {
   "cell_type": "code",
   "execution_count": 151,
   "metadata": {},
   "outputs": [],
   "source": [
    "# star값들을 실제 점수로만 변경한다\n",
    "df['star'] = df['star'].apply( lambda x : p.findall( x )[1] )"
   ]
  },
  {
   "cell_type": "code",
   "execution_count": 154,
   "metadata": {},
   "outputs": [
    {
     "data": {
      "text/plain": [
       "app_name    object\n",
       "content     object\n",
       "good        object\n",
       "name        object\n",
       "regi        object\n",
       "star        object\n",
       "dtype: object"
      ]
     },
     "execution_count": 154,
     "metadata": {},
     "output_type": "execute_result"
    }
   ],
   "source": [
    "df.dtypes"
   ]
  },
  {
   "cell_type": "code",
   "execution_count": 177,
   "metadata": {},
   "outputs": [
    {
     "data": {
      "text/plain": [
       "'2019-8-16'"
      ]
     },
     "execution_count": 177,
     "metadata": {},
     "output_type": "execute_result"
    }
   ],
   "source": [
    "# regi에서 날짜를 YYYY-mm-dd 형태를 날짜 포멧팅으로 처리\n",
    "# step1. 년도, 월, 일 값들을 일단 뽑아낸다\n",
    "# '2019년 8월 16일' => (\\d+).+(\\d+).+(\\d+).   .(점)은 줄바꿈을 뺀 나머지를 뜻한다\n",
    "p        = re.compile( '(\\d+)\\w\\s(\\d+)\\w\\s(\\d+)\\w' )\n",
    "sample   = \"2019년 8월 16일\"\n",
    "#data_raw = p.search(sample).groups()\n",
    "# 2019-08-16  replace를 사용해도 된다(관련 코드가 뭔지 확인할 것)\n",
    "p.sub( '\\g<1>-\\g<2>-\\g<3>', sample )"
   ]
  },
  {
   "cell_type": "code",
   "execution_count": 178,
   "metadata": {},
   "outputs": [],
   "source": [
    "import datetime"
   ]
  },
  {
   "cell_type": "code",
   "execution_count": 179,
   "metadata": {},
   "outputs": [
    {
     "data": {
      "text/plain": [
       "datetime.date(2019, 8, 16)"
      ]
     },
     "execution_count": 179,
     "metadata": {},
     "output_type": "execute_result"
    }
   ],
   "source": [
    "datetime.datetime.strptime( '2019-08-16', '%Y-%m-%d' ).date()"
   ]
  },
  {
   "cell_type": "code",
   "execution_count": null,
   "metadata": {},
   "outputs": [],
   "source": [
    "# df에 regi 항목의 데이터를 datetime.date(2019, 8, 16) 타입으로 치환하시오"
   ]
  },
  {
   "cell_type": "code",
   "execution_count": 181,
   "metadata": {},
   "outputs": [],
   "source": [
    "df['regi'] = df['regi'].apply( lambda x : datetime.datetime.strptime( p.sub( '\\g<1>-\\g<2>-\\g<3>', x ), '%Y-%m-%d' ).date() )"
   ]
  },
  {
   "cell_type": "code",
   "execution_count": 182,
   "metadata": {},
   "outputs": [
    {
     "data": {
      "text/html": [
       "<div>\n",
       "<style scoped>\n",
       "    .dataframe tbody tr th:only-of-type {\n",
       "        vertical-align: middle;\n",
       "    }\n",
       "\n",
       "    .dataframe tbody tr th {\n",
       "        vertical-align: top;\n",
       "    }\n",
       "\n",
       "    .dataframe thead th {\n",
       "        text-align: right;\n",
       "    }\n",
       "</style>\n",
       "<table border=\"1\" class=\"dataframe\">\n",
       "  <thead>\n",
       "    <tr style=\"text-align: right;\">\n",
       "      <th></th>\n",
       "      <th>app_name</th>\n",
       "      <th>content</th>\n",
       "      <th>good</th>\n",
       "      <th>name</th>\n",
       "      <th>regi</th>\n",
       "      <th>star</th>\n",
       "    </tr>\n",
       "  </thead>\n",
       "  <tbody>\n",
       "    <tr>\n",
       "      <th>0</th>\n",
       "      <td>네이버웹툰</td>\n",
       "      <td>네이버 웹툰은 컷마다 볼 수 있는 댓글과 보기편한 점이 있어서 좋지만 다른 새로운 ...</td>\n",
       "      <td>5</td>\n",
       "      <td>2D투디</td>\n",
       "      <td>2019-08-16</td>\n",
       "      <td>3</td>\n",
       "    </tr>\n",
       "    <tr>\n",
       "      <th>1</th>\n",
       "      <td>네이버웹툰</td>\n",
       "      <td>아니;;장난하시냐고요--여러분 이거요기요 첫주문웬만하면하지마세요.쿠키130개?절대안...</td>\n",
       "      <td>86</td>\n",
       "      <td>tv부기</td>\n",
       "      <td>2019-08-11</td>\n",
       "      <td>1</td>\n",
       "    </tr>\n",
       "  </tbody>\n",
       "</table>\n",
       "</div>"
      ],
      "text/plain": [
       "  app_name                                            content good  name  \\\n",
       "0    네이버웹툰  네이버 웹툰은 컷마다 볼 수 있는 댓글과 보기편한 점이 있어서 좋지만 다른 새로운 ...    5  2D투디   \n",
       "1    네이버웹툰  아니;;장난하시냐고요--여러분 이거요기요 첫주문웬만하면하지마세요.쿠키130개?절대안...   86  tv부기   \n",
       "\n",
       "         regi star  \n",
       "0  2019-08-16    3  \n",
       "1  2019-08-11    1  "
      ]
     },
     "execution_count": 182,
     "metadata": {},
     "output_type": "execute_result"
    }
   ],
   "source": [
    "df.head(2)"
   ]
  },
  {
   "cell_type": "code",
   "execution_count": null,
   "metadata": {},
   "outputs": [],
   "source": [
    "# contents에서 형태소 분석을 위한 영어 제거 혹은 대체?\n"
   ]
  },
  {
   "cell_type": "code",
   "execution_count": null,
   "metadata": {},
   "outputs": [],
   "source": []
  },
  {
   "cell_type": "code",
   "execution_count": null,
   "metadata": {},
   "outputs": [],
   "source": []
  },
  {
   "cell_type": "code",
   "execution_count": null,
   "metadata": {},
   "outputs": [],
   "source": []
  },
  {
   "cell_type": "code",
   "execution_count": null,
   "metadata": {},
   "outputs": [],
   "source": []
  },
  {
   "cell_type": "code",
   "execution_count": null,
   "metadata": {},
   "outputs": [],
   "source": []
  },
  {
   "cell_type": "code",
   "execution_count": null,
   "metadata": {},
   "outputs": [],
   "source": []
  },
  {
   "cell_type": "code",
   "execution_count": null,
   "metadata": {},
   "outputs": [],
   "source": []
  },
  {
   "cell_type": "code",
   "execution_count": null,
   "metadata": {},
   "outputs": [],
   "source": []
  },
  {
   "cell_type": "code",
   "execution_count": null,
   "metadata": {},
   "outputs": [],
   "source": []
  },
  {
   "cell_type": "code",
   "execution_count": null,
   "metadata": {},
   "outputs": [],
   "source": []
  },
  {
   "cell_type": "code",
   "execution_count": null,
   "metadata": {},
   "outputs": [],
   "source": []
  },
  {
   "cell_type": "code",
   "execution_count": null,
   "metadata": {},
   "outputs": [],
   "source": []
  },
  {
   "cell_type": "code",
   "execution_count": null,
   "metadata": {},
   "outputs": [],
   "source": []
  },
  {
   "cell_type": "code",
   "execution_count": null,
   "metadata": {},
   "outputs": [],
   "source": []
  },
  {
   "cell_type": "code",
   "execution_count": null,
   "metadata": {},
   "outputs": [],
   "source": []
  },
  {
   "cell_type": "code",
   "execution_count": null,
   "metadata": {},
   "outputs": [],
   "source": []
  },
  {
   "cell_type": "code",
   "execution_count": null,
   "metadata": {},
   "outputs": [],
   "source": []
  },
  {
   "cell_type": "code",
   "execution_count": null,
   "metadata": {},
   "outputs": [],
   "source": []
  },
  {
   "cell_type": "code",
   "execution_count": null,
   "metadata": {},
   "outputs": [],
   "source": []
  },
  {
   "cell_type": "code",
   "execution_count": null,
   "metadata": {},
   "outputs": [],
   "source": []
  },
  {
   "cell_type": "code",
   "execution_count": null,
   "metadata": {},
   "outputs": [],
   "source": []
  },
  {
   "cell_type": "code",
   "execution_count": null,
   "metadata": {},
   "outputs": [],
   "source": []
  },
  {
   "cell_type": "code",
   "execution_count": null,
   "metadata": {},
   "outputs": [],
   "source": []
  },
  {
   "cell_type": "code",
   "execution_count": null,
   "metadata": {},
   "outputs": [],
   "source": []
  },
  {
   "cell_type": "code",
   "execution_count": null,
   "metadata": {},
   "outputs": [],
   "source": []
  },
  {
   "cell_type": "code",
   "execution_count": null,
   "metadata": {},
   "outputs": [],
   "source": []
  },
  {
   "cell_type": "code",
   "execution_count": null,
   "metadata": {},
   "outputs": [],
   "source": []
  },
  {
   "cell_type": "code",
   "execution_count": null,
   "metadata": {},
   "outputs": [],
   "source": []
  },
  {
   "cell_type": "code",
   "execution_count": null,
   "metadata": {},
   "outputs": [],
   "source": []
  },
  {
   "cell_type": "code",
   "execution_count": null,
   "metadata": {},
   "outputs": [],
   "source": []
  },
  {
   "cell_type": "code",
   "execution_count": null,
   "metadata": {},
   "outputs": [],
   "source": []
  },
  {
   "cell_type": "code",
   "execution_count": null,
   "metadata": {},
   "outputs": [],
   "source": []
  },
  {
   "cell_type": "code",
   "execution_count": null,
   "metadata": {},
   "outputs": [],
   "source": []
  },
  {
   "cell_type": "code",
   "execution_count": null,
   "metadata": {},
   "outputs": [],
   "source": []
  },
  {
   "cell_type": "code",
   "execution_count": null,
   "metadata": {},
   "outputs": [],
   "source": []
  },
  {
   "cell_type": "code",
   "execution_count": null,
   "metadata": {},
   "outputs": [],
   "source": []
  },
  {
   "cell_type": "code",
   "execution_count": null,
   "metadata": {},
   "outputs": [],
   "source": []
  },
  {
   "cell_type": "code",
   "execution_count": null,
   "metadata": {},
   "outputs": [],
   "source": []
  }
 ],
 "metadata": {
  "kernelspec": {
   "display_name": "Python 3",
   "language": "python",
   "name": "python3"
  },
  "language_info": {
   "codemirror_mode": {
    "name": "ipython",
    "version": 3
   },
   "file_extension": ".py",
   "mimetype": "text/x-python",
   "name": "python",
   "nbconvert_exporter": "python",
   "pygments_lexer": "ipython3",
   "version": "3.6.5"
  }
 },
 "nbformat": 4,
 "nbformat_minor": 2
}

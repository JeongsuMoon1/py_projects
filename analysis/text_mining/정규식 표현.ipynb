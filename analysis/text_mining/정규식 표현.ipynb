{
 "cells": [
  {
   "cell_type": "code",
   "execution_count": 1,
   "metadata": {},
   "outputs": [],
   "source": [
    "import re"
   ]
  },
  {
   "cell_type": "markdown",
   "metadata": {},
   "source": [
    "** 정규 표현식( Regular Expression)은 복잡한 문자열을 처리할 때 사용하는 기법 **\n",
    "\n",
    "1. 목록\n",
    " - 메타문자 ( meta characters )\n",
    "  > 일반표현 : | . ^ $ * + ? {} () []\n",
    "  > 이스케이프 문자 표현 : \\d,D,s,S,w,W,b,B,...\n",
    " - 함수\n",
    "  > match()\n",
    "  > search()\n",
    "  > findall()\n",
    "  > finditer()\n",
    "  > sub() : 대체해라 또는 제거해라\n",
    " - 그룹핑\n",
    " - 전방탐색\n",
    "  > 긍정형 전방 탐색\n",
    "  > 부정형 전방 탐색"
   ]
  },
  {
   "cell_type": "code",
   "execution_count": null,
   "metadata": {},
   "outputs": [],
   "source": []
  },
  {
   "cell_type": "markdown",
   "metadata": {},
   "source": [
    "| 메타문자 | 내용 |\n",
    "| :-: | :-: |\n",
    "\n",
    "### 메타문자 => |\n",
    "- 의미 : or"
   ]
  },
  {
   "cell_type": "code",
   "execution_count": 6,
   "metadata": {},
   "outputs": [
    {
     "name": "stdout",
     "output_type": "stream",
     "text": [
      "1 매치(일치)된다\n",
      "2 매치(일치)된다\n",
      "3 매치(일치)된다\n",
      ">>>>>>>>>>>>>>>>>>>>\n",
      "5 매치(일치)된다\n"
     ]
    }
   ],
   "source": [
    "# 표현식, 표현\n",
    "if re.match( 'a|b|c', 'a' ): print('1 매치(일치)된다') # 패턴작성 : 'a|b|c', a or b or c 중의 a를 받을 것이다\n",
    "if re.match( 'a|b|c', 'b' ): print('2 매치(일치)된다')\n",
    "if re.match( 'a|b|c', 'c' ): print('3 매치(일치)된다')\n",
    "\n",
    "print( '>'*20 )\n",
    "# d는 허용문자에 포함되지 않아서 False\n",
    "if re.match( 'a|b|c', 'd' ): print('4 매치(일치)된다') # d는 매치가 안되어 출력이 안된다\n",
    "# a는 일치되니깐 True, 나머지가 일치되지 않아도 출력 \n",
    "if re.match( 'a|b|c', 'ad' ): print('5 매치(일치)된다')\n",
    "# a 혹은 b 혹은 c 순서대로 작성되어야 출력이 된다\n",
    "if re.match( 'a|b|c', 'da' ): print('6 매치(일치)된다')    "
   ]
  },
  {
   "cell_type": "code",
   "execution_count": null,
   "metadata": {},
   "outputs": [],
   "source": []
  },
  {
   "cell_type": "markdown",
   "metadata": {},
   "source": [
    "### 메타문자 => []\n",
    "- 의미 : 문자 클래스\n",
    "- 문자 클래스를 만드는 메타 문자 .[와]. 사이에는 어떤 문자도 들어갈 수 있다\n",
    "- .[].사이에 있는 단어가 match( 시작단어 ), search(전체중에 일치되는 단어)가 한개만 있어도 일치 간주"
   ]
  },
  {
   "cell_type": "code",
   "execution_count": 8,
   "metadata": {},
   "outputs": [
    {
     "name": "stdout",
     "output_type": "stream",
     "text": [
      "1 매치(일치)된다\n",
      "3 매치(일치)된다\n",
      "4 매치(일치)된다\n",
      "5 매치(일치)된다\n"
     ]
    }
   ],
   "source": [
    "if re.match( '[abc]', 'a' ): print('1 매치(일치)된다')\n",
    "if re.match( '[abc]', 'efv' ): print('2 매치(일치)된다')\n",
    "if re.match( '[abc]', 'abd' ): print('3 매치(일치)된다')\n",
    "if re.match( '[abc]', 'b12' ): print('4 매치(일치)된다')\n",
    "# 전체중에 있기만 하면 : search()\n",
    "if re.search( '[abc]', '12c' ): print('5 매치(일치)된다')    "
   ]
  },
  {
   "cell_type": "code",
   "execution_count": null,
   "metadata": {},
   "outputs": [],
   "source": []
  },
  {
   "cell_type": "markdown",
   "metadata": {},
   "source": [
    "### 메타문자 => - (하이픈)\n",
    "- 의미 : [] 문자 클래스 안에 두문자 사이에 하이픈을 넣어서 표현하면, 두 문자 사이의 범위로 (from ~ to)를 의미하게 된다"
   ]
  },
  {
   "cell_type": "code",
   "execution_count": 15,
   "metadata": {},
   "outputs": [
    {
     "name": "stdout",
     "output_type": "stream",
     "text": [
      "1 매치(일치)된다\n",
      "4 매치(일치)된다\n",
      "5 매치(일치)된다\n",
      "7 매치(일치)된다\n",
      "9 매치(일치)된다\n"
     ]
    }
   ],
   "source": [
    "# [a-zA-Z] : 알파벳 모두를 의미한다 (대문자, 소문자 싹 다)\n",
    "# [0-9] : 숫자\n",
    "if re.match( '[0-9]', '1' ): print('1 매치(일치)된다')\n",
    "if re.match( '[0-9]', 'a' ): print('2 매치(일치)된다') # 숫자 아니니깐 안 찍힘\n",
    "if re.match( '[a-zA-Z]', '1' ): print('3 매치(일치)된다')\n",
    "if re.match( '[a-zA-Z]', 'a' ): print('4 매치(일치)된다')\n",
    "if re.match( '[0-9a-z]', 'a' ): print('5 매치(일치)된다') # 조합도 가능하다\n",
    "# 시작문자가 대문자여서 False : match()\n",
    "if re.match( '[0-9a-z]', 'Aa' ): print('6 매치(일치)된다') # match는 시작문자를 따지기 때문에 대문자 A로 시작해서 해당되지 않음->출력안됨\n",
    "if re.search( '[0-9a-z]', 'Aa' ): print('7 매치(일치)된다') # search는 포함만 되면 상관없다\n",
    "# 한글 : ㄱ-힣, 헥사코드값으로 언어별로 표현\n",
    "if re.search( '[ㄱ-힣]', 'Aa' ): print('8 매치(일치)된다')\n",
    "if re.search( '[ㄱ-힣]', '가나다' ): print('9 매치(일치)된다')"
   ]
  },
  {
   "cell_type": "code",
   "execution_count": null,
   "metadata": {},
   "outputs": [],
   "source": []
  },
  {
   "cell_type": "markdown",
   "metadata": {},
   "source": [
    "### 메타문자 => . (닷)\n",
    "- 의미 : dot(.)은 줄바꿈 기호 \\n을 제외하고 모든 문자와 매치"
   ]
  },
  {
   "cell_type": "code",
   "execution_count": 17,
   "metadata": {},
   "outputs": [
    {
     "name": "stdout",
     "output_type": "stream",
     "text": [
      "1 매치(일치)된다\n",
      "2 매치(일치)된다\n",
      "3 매치(일치)된다\n",
      "4 매치(일치)된다\n",
      ">>>>>>>>>>>>>>>>>>>>\n",
      "6 매치(일치)된다\n"
     ]
    }
   ],
   "source": [
    "if re.match( '[a.b]', 'a' ): print('1 매치(일치)된다')\n",
    "if re.match( '[a.b]', 'ab' ): print('2 매치(일치)된다')\n",
    "if re.match( '[a.b]', 'a1b' ): print('3 매치(일치)된다')\n",
    "if re.match( '[a.b]', 'abc' ): print('4 매치(일치)된다')\n",
    "print( '>'*20 )\n",
    "# []가 없을 경우 .를 뭐라도 반드시 채워야 한다\n",
    "if re.match( 'a.b', 'abc' ): print('5 매치(일치)된다')\n",
    "if re.match( 'a.b', 'a1b' ): print('6 매치(일치)된다')"
   ]
  },
  {
   "cell_type": "code",
   "execution_count": null,
   "metadata": {},
   "outputs": [],
   "source": []
  },
  {
   "cell_type": "markdown",
   "metadata": {},
   "source": [
    "### 메타문자 => ^ $ * +\n",
    "- ^ \n",
    " > 문자열의 맨 처음과 일치함을 의미 \n",
    " > [^]이런 표현은 반대(배제)함을 의미\n",
    " > re.MULTILINE를 사용하면 각 라인의 처음과 일치\n",
    " \n",
    "- $\n",
    " > 문자열의 맨끝과 일치 \n",
    " \n",
    "- *\n",
    " > 앞의 문자가 0부터 무한대로 반복하는 것\n",
    " \n",
    "- +\n",
    " > 앞의 문자가 1부터 무한대 반복하는 것\n",
    " > []안에서 기술하면, 표현방식에 따라 해석이 달라질수도 있다 ( 주변값 고려 )"
   ]
  },
  {
   "cell_type": "code",
   "execution_count": 18,
   "metadata": {},
   "outputs": [
    {
     "name": "stdout",
     "output_type": "stream",
     "text": [
      "1 매치(일치)된다\n"
     ]
    }
   ],
   "source": [
    "if re.match( '^[0-9\\.]$', '1' ): print('1 매치(일치)된다') # .이라는 특수문자를 나타낸것이다"
   ]
  },
  {
   "cell_type": "code",
   "execution_count": 20,
   "metadata": {},
   "outputs": [
    {
     "name": "stdout",
     "output_type": "stream",
     "text": [
      "2 매치(일치)된다\n"
     ]
    }
   ],
   "source": [
    "if re.match( '^[0-9\\.]$', '.' ): print('2 매치(일치)된다')"
   ]
  },
  {
   "cell_type": "code",
   "execution_count": 21,
   "metadata": {},
   "outputs": [],
   "source": [
    "# 시작문자는 오직 숫자, .만 되니깐 일치가 안된다\n",
    "if re.match( '^[0-9\\.]$', 'a' ): print('3 매치(일치)된다')"
   ]
  },
  {
   "cell_type": "code",
   "execution_count": 24,
   "metadata": {},
   "outputs": [],
   "source": [
    "# 문자의 수량 조건에 걸린다 ( 12, 1., .1 이 문자가 2개이상이다 )\n",
    "# 위에서는 수량이 많아도 ^, $을 쓰지않아서 상관이 없었다\n",
    "if re.match( '^[0-9\\.]$', '12' ): print('4 매치(일치)된다')\n",
    "if re.match( '^[0-9\\.]$', '1.' ): print('5 매치(일치)된다')\n",
    "if re.match( '^[0-9\\.]$', '.1' ): print('6 매치(일치)된다')"
   ]
  },
  {
   "cell_type": "code",
   "execution_count": 27,
   "metadata": {},
   "outputs": [
    {
     "name": "stdout",
     "output_type": "stream",
     "text": [
      "7 매치(일치)된다\n",
      "8 매치(일치)된다\n"
     ]
    }
   ],
   "source": [
    "# 끝나는 문자가 1번은 무조건 나오고, 그 이후로는 무한대로 반복 가능하다\n",
    "if re.match( '^[0-9\\.]+$', '.1' ): print('7 매치(일치)된다')\n",
    "if re.match( '^[0-9\\.]+$', '12' ): print('8 매치(일치)된다')"
   ]
  },
  {
   "cell_type": "code",
   "execution_count": 28,
   "metadata": {},
   "outputs": [
    {
     "name": "stdout",
     "output_type": "stream",
     "text": [
      "9 매치(일치)된다\n"
     ]
    }
   ],
   "source": [
    "# 끝나는 문자가 0번부터 무한대 반복이 가능\n",
    "if re.match( '^[0-9\\.]*$', '12' ): print('9 매치(일치)된다')"
   ]
  },
  {
   "cell_type": "code",
   "execution_count": 29,
   "metadata": {},
   "outputs": [
    {
     "name": "stdout",
     "output_type": "stream",
     "text": [
      "2 매치(일치)된다\n"
     ]
    }
   ],
   "source": [
    "# [^] : 문자 클래스안에 ^가 들어가면 반대의 의미를 가짐 => 빼고 \n",
    "# 시작문자가 숫자만 빼고 가능\n",
    "if re.match( '[^0-9]', '1' ): print('1 매치(일치)된다')\n",
    "if re.match( '[^0-9]', 'a' ): print('2 매치(일치)된다')"
   ]
  },
  {
   "cell_type": "code",
   "execution_count": 51,
   "metadata": {},
   "outputs": [
    {
     "data": {
      "text/plain": [
       "'삼계탕 하면 온천장역 백년백세토종\\n삼계탕 흑임자 메뉴입니다. 다른 삼계탕은 ...\\n삼계탕 음.. 잘모르겟네요\\n'"
      ]
     },
     "execution_count": 51,
     "metadata": {},
     "output_type": "execute_result"
    }
   ],
   "source": [
    "data = '''삼계탕 하면 온천장역 백년백세토종\n",
    "삼계탕 흑임자 메뉴입니다. 다른 삼계탕은 ...\n",
    "삼계탕 음.. 잘모르겟네요\n",
    "'''\n",
    "data"
   ]
  },
  {
   "cell_type": "code",
   "execution_count": 52,
   "metadata": {},
   "outputs": [],
   "source": [
    "# 데이터를 응용\n",
    "# 삼계탕으로 문자열이 시작하고, \n",
    "# 한칸 띄고(whitespace) : \\s,\n",
    "# 다음 단어까지(글자 1개이상)=> 단어=문자+문자.. => \\w, 다 찾으시오\n",
    "\n",
    "\n",
    "# 1. 함수를 만들고 패턴을 적용시키는 방법\n",
    "# 2. 패턴을 먼저 만들고 함수를 적용시키는 방법 \n",
    "\n",
    "# 패턴 생성\n",
    "p = re.compile( '^삼계탕\\s\\w+' )"
   ]
  },
  {
   "cell_type": "code",
   "execution_count": 53,
   "metadata": {},
   "outputs": [
    {
     "data": {
      "text/plain": [
       "['삼계탕 하면']"
      ]
     },
     "execution_count": 53,
     "metadata": {},
     "output_type": "execute_result"
    }
   ],
   "source": [
    "p.findall( data )"
   ]
  },
  {
   "cell_type": "code",
   "execution_count": 54,
   "metadata": {},
   "outputs": [
    {
     "data": {
      "text/plain": [
       "' 삼계탕 하면 온천장역 백년백세토종\\n삼계탕 흑임자 메뉴입니다. 다른 삼계탕은...\\n삼계탕 음..잘모르겠네요 \\n삼계탕 !!!\\n'"
      ]
     },
     "execution_count": 54,
     "metadata": {},
     "output_type": "execute_result"
    }
   ],
   "source": [
    "# 만약에 문장이 하나라고 할지라도, 라인별로 같은 패턴이 나오면 다 추출하고 싶다\n",
    "data = ''' 삼계탕 하면 온천장역 백년백세토종\n",
    "삼계탕 흑임자 메뉴입니다. 다른 삼계탕은...\n",
    "삼계탕 음..잘모르겠네요 \n",
    "삼계탕 !!!\n",
    "'''\n",
    "data"
   ]
  },
  {
   "cell_type": "code",
   "execution_count": 55,
   "metadata": {},
   "outputs": [
    {
     "data": {
      "text/plain": [
       "['삼계탕 흑임자', '삼계탕 음']"
      ]
     },
     "execution_count": 55,
     "metadata": {},
     "output_type": "execute_result"
    }
   ],
   "source": [
    "# 라인별로 패턴을 검사하고 싶다\n",
    "p = re.compile( '^삼계탕\\s\\w+', re.MULTILINE)\n",
    "p.findall( data )"
   ]
  },
  {
   "cell_type": "code",
   "execution_count": 56,
   "metadata": {},
   "outputs": [
    {
     "name": "stdout",
     "output_type": "stream",
     "text": [
      "2 매치(일치)된다\n"
     ]
    }
   ],
   "source": [
    "# $ : 문자열의 맨 뒤 패턴의 일치함을 의미\n",
    "if re.match( '^[0-9]+[a-z]+$', '11' ): print('1 매치(일치)된다') # 숫자로 시작하고 그 다음부턴 숫자가 무한대로 올수 있고, 알파벳으로 끝난다\n",
    "if re.match( '^[0-9]+[a-z]+$', '1111111111a' ): print('2 매치(일치)된다')\n",
    "if re.match( '^[0-9]+[a-z]+$', '1111111111A' ): print('3 매치(일치)된다') # 대문자라서 노매치"
   ]
  },
  {
   "cell_type": "code",
   "execution_count": 57,
   "metadata": {},
   "outputs": [
    {
     "name": "stdout",
     "output_type": "stream",
     "text": [
      "1 매치(일치)된다\n",
      "2 매치(일치)된다\n",
      "3 매치(일치)된다\n"
     ]
    }
   ],
   "source": [
    "# 반복 * : 0- 무한대\n",
    "# *의 바로 앞 단어, 표현에만 집중 \n",
    "if re.match( 'bus*an', 'buan' ): print('1 매치(일치)된다')\n",
    "if re.match( 'bus*an', 'busan' ): print('2 매치(일치)된다')\n",
    "if re.match( 'bus*an', 'bussan' ): print('3 매치(일치)된다')"
   ]
  },
  {
   "cell_type": "code",
   "execution_count": 59,
   "metadata": {},
   "outputs": [
    {
     "name": "stdout",
     "output_type": "stream",
     "text": [
      "2 매치(일치)된다\n",
      "3 매치(일치)된다\n",
      "4 매치(일치)된다\n"
     ]
    }
   ],
   "source": [
    "# 반복 + : 1번을 반드시 사용하고 무한대까지 가능\n",
    "# [] 에서는 해석이 달라질 수 있다\n",
    "if re.match( 'bus+an', 'buan' ): print('1 매치(일치)된다')   # 전체적으로 카운트가 되어야한다는 해석\n",
    "if re.match( '[bus+an]', 'buan' ): print('2 매치(일치)된다') # []안에 있으면 하나만 있기만하면 된다\n",
    "if re.match( 'bus+an', 'busan' ): print('3 매치(일치)된다')\n",
    "if re.match( 'bus+an', 'bussan' ): print('4 매치(일치)된다')"
   ]
  },
  {
   "cell_type": "markdown",
   "metadata": {},
   "source": [
    "### 메타문자 => {m, n}?\n",
    "\n",
    "- {}\n",
    " > 반복 : {m, n} m부터 n까지 반복을 의미한다\n",
    "- ?\n",
    " > {0, 1} 한번도 안나오던가, 나오면 한번만 나오던가(무조건 한번). *(무한대)를 한번으로 제한한다는 뜻이기도 하다"
   ]
  },
  {
   "cell_type": "code",
   "execution_count": 63,
   "metadata": {},
   "outputs": [
    {
     "name": "stdout",
     "output_type": "stream",
     "text": [
      "3 매치(일치)된다\n"
     ]
    }
   ],
   "source": [
    "# {숫자} 바로 앞문자의 반드시 숫자만큼 나와야 한다\n",
    "if re.match( 'bus{2}an', 'buan' ): print('1 매치(일치)된다')\n",
    "if re.match( 'bus{2}an', 'busan' ): print('2 매치(일치)된다')\n",
    "if re.match( 'bus{2}an', 'bussan' ): print('3 매치(일치)된다')\n",
    "# 문자 클래스 내부에서는 다르게 전체적으로 해석 다르게 반응\n",
    "if re.match( '[bus{2}an]', 'buan' ): print('4 매치(일치)된다')"
   ]
  },
  {
   "cell_type": "code",
   "execution_count": 64,
   "metadata": {},
   "outputs": [
    {
     "name": "stdout",
     "output_type": "stream",
     "text": [
      "6 매치(일치)된다\n",
      "7 매치(일치)된다\n"
     ]
    }
   ],
   "source": [
    "# {m, n} 앞에 문자가 m번부터, n번까지 반복되면 ok\n",
    "if re.match( 'bus{2,3}an', 'busan' ): print('5 매치(일치)된다')\n",
    "if re.match( 'bus{2,3}an', 'bussan' ): print('6 매치(일치)된다')\n",
    "if re.match( 'bus{2,3}an', 'busssan' ): print('7 매치(일치)된다')\n",
    "if re.match( 'bus{2,3}an', 'bussssan' ): print('8 매치(일치)된다')"
   ]
  },
  {
   "cell_type": "code",
   "execution_count": 65,
   "metadata": {},
   "outputs": [
    {
     "name": "stdout",
     "output_type": "stream",
     "text": [
      "9 매치(일치)된다\n",
      "10 매치(일치)된다\n"
     ]
    }
   ],
   "source": [
    "# ? => {0, 1}\n",
    "if re.match( 'bus?an', 'buan' ): print('9 매치(일치)된다')\n",
    "if re.match( 'bus?an', 'busan' ): print('10 매치(일치)된다')\n",
    "if re.match( 'bus?an', 'bussan' ): print('11 매치(일치)된다')"
   ]
  },
  {
   "cell_type": "markdown",
   "metadata": {},
   "source": [
    "### 이스케이프 문자 표현 : \n",
    "\n",
    "- \\d<->D\n",
    "- \\s<->S\n",
    "- \\w<->W\n",
    "- \\b<->B"
   ]
  },
  {
   "cell_type": "code",
   "execution_count": 66,
   "metadata": {},
   "outputs": [
    {
     "name": "stdout",
     "output_type": "stream",
     "text": [
      "1 매치(일치)된다\n"
     ]
    }
   ],
   "source": [
    "# \\d ==> 숫자 1개 => [0-9] : 동일한 표현이다\n",
    "# \\D ==> 숫자 1개만 오지마라(다른거는 와도 되는데 숫자는 오지마라) => [^0-9] : 동일한 표현이다\n",
    "if re.match( '[\\d]', '1' ): print('1 매치(일치)된다')\n",
    "if re.match( '[\\d]', 'a' ): print('2 매치(일치)된다')"
   ]
  },
  {
   "cell_type": "code",
   "execution_count": 67,
   "metadata": {},
   "outputs": [
    {
     "name": "stdout",
     "output_type": "stream",
     "text": [
      "4 매치(일치)된다\n"
     ]
    }
   ],
   "source": [
    "if re.match( '[\\D]', '1' ): print('3 매치(일치)된다')\n",
    "if re.match( '[\\D]', 'a' ): print('4 매치(일치)된다')"
   ]
  },
  {
   "cell_type": "code",
   "execution_count": 70,
   "metadata": {},
   "outputs": [
    {
     "name": "stdout",
     "output_type": "stream",
     "text": [
      "1 매치(일치)된다\n",
      "3 매치(일치)된다\n",
      "4 매치(일치)된다\n",
      "5 매치(일치)된다\n",
      "6 매치(일치)된다\n"
     ]
    }
   ],
   "source": [
    "# \\s -> whitespace와 동일, [\\t\\n\\r\\v] : 이런 기호들을 골라서 날려라\n",
    "# \\S -> whitespace가 아닌 문자, [^\\t\\n\\r\\v]\n",
    "if re.match( '[\\s]', '\\t\\n\\r\\v' ): print('1 매치(일치)된다')\n",
    "if re.match( '[\\S]', '\\t\\n\\r\\v' ): print('2 매치(일치)된다')\n",
    "if re.match( '[\\S]', 'A\\t\\n\\r\\v' ): print('3 매치(일치)된다') # 화이트 스페이스가 아니면 알파벳 읽힌다\n",
    "if re.match( '[\\S]', '1\\t\\n\\r\\v' ): print('4 매치(일치)된다')\n",
    "if re.match( '[\\S]', '가\\t\\n\\r\\v' ): print('5 매치(일치)된다')\n",
    "if re.match( '[\\S]', '@\\t\\n\\r\\v' ): print('6 매치(일치)된다')"
   ]
  },
  {
   "cell_type": "code",
   "execution_count": 72,
   "metadata": {},
   "outputs": [
    {
     "name": "stdout",
     "output_type": "stream",
     "text": [
      "1 매치(일치)된다\n",
      "4 매치(일치)된다\n",
      "5 매치(일치)된다\n",
      "7 매치(일치)된다\n"
     ]
    }
   ],
   "source": [
    "# \\w -> 문자, 숫자와 매치, [0-9a-zA-Zㄱ-힣] 언어면 다 ok\n",
    "# \\W -> 문자, 숫자가 아닌 문자와 매치, [0-9a-zA-Z]  : 특수문자까지 포함, 이스케이프문자, (공백은 남겨야한다)\n",
    "if re.match( '[\\w]', 'a0' ): print('1 매치(일치)된다')\n",
    "if re.match( '[\\W]', 'a0' ): print('2 매치(일치)된다')\n",
    "if re.match( '[\\W]', '가' ): print('3 매치(일치)된다')\n",
    "if re.match( '[\\W]', '@' ): print('4 매치(일치)된다')\n",
    "if re.match( '[\\w]', '가' ): print('5 매치(일치)된다')\n",
    "if re.match( '[\\w]', '@' ): print('6 매치(일치)된다')\n",
    "if re.match( '[\\W]', '\\t' ): print('7 매치(일치)된다')"
   ]
  },
  {
   "cell_type": "code",
   "execution_count": null,
   "metadata": {},
   "outputs": [],
   "source": [
    "# \\w \\s 는 일치되는것을 찾는것이 더 합리적이다"
   ]
  },
  {
   "cell_type": "code",
   "execution_count": 74,
   "metadata": {},
   "outputs": [
    {
     "name": "stdout",
     "output_type": "stream",
     "text": [
      "가1a!\t]\n",
      "나\n"
     ]
    }
   ],
   "source": [
    "# 문자열 앞에 r을 붙이는 경우\n",
    "# Raw Sring 이라고 한다\n",
    "# 이런 문자열은 이스케이프 문자가 적용되지 않고 인용 부호가 그대로 출력\n",
    "a = '가1a!\\t]\\n나'\n",
    "print(a)"
   ]
  },
  {
   "cell_type": "code",
   "execution_count": 75,
   "metadata": {},
   "outputs": [
    {
     "name": "stdout",
     "output_type": "stream",
     "text": [
      "가1a!\\t]\\n나\n"
     ]
    }
   ],
   "source": [
    "# r로 인해서 인용부호가 줄바뀌지 않고 그대로 출력\n",
    "a = r'가1a!\\t]\\n나'\n",
    "print(a) "
   ]
  },
  {
   "cell_type": "code",
   "execution_count": 76,
   "metadata": {},
   "outputs": [],
   "source": [
    "# \\b는 단어 구분자( word boundary ). 일반 단어는 whitespace에 의해 구분이 된다\n",
    "# \\b 백스페이스의 기능을 가진 이스케이프 기능이 아니라, 단어 구분자 (word boundary)로 사용된 것이다라는\n",
    "# 의미를 유지하기 위해 raw string으로 표현해야 한다\n",
    "p = re.compile( r'\\bclass\\b' )"
   ]
  },
  {
   "cell_type": "code",
   "execution_count": 77,
   "metadata": {},
   "outputs": [
    {
     "name": "stdout",
     "output_type": "stream",
     "text": [
      "<_sre.SRE_Match object; span=(3, 8), match='class'> class\n"
     ]
    }
   ],
   "source": [
    "m = p.search( 'no class at one' )\n",
    "print( m, m.group() ) # 출력결과 : 3에서 8까지 클래스가 매치가 되었다"
   ]
  },
  {
   "cell_type": "code",
   "execution_count": 78,
   "metadata": {},
   "outputs": [
    {
     "name": "stdout",
     "output_type": "stream",
     "text": [
      "None\n"
     ]
    }
   ],
   "source": [
    "# 서치했더니 일치되는 것이 없다 => ? 문장안에 class라는 문자는 존재하나, 온전히 whitespace에 의해\n",
    "# 구분된 문자가 아니므로, 매치가 되지 않는다\n",
    "m = p.search( 'the declassified at one' )\n",
    "print( m ) "
   ]
  },
  {
   "cell_type": "code",
   "execution_count": 79,
   "metadata": {},
   "outputs": [
    {
     "name": "stdout",
     "output_type": "stream",
     "text": [
      "None\n"
     ]
    }
   ],
   "source": [
    "m = p.search( 'the subclassified at one' )\n",
    "print( m ) "
   ]
  },
  {
   "cell_type": "code",
   "execution_count": null,
   "metadata": {},
   "outputs": [],
   "source": [
    "# -----------온전히 class라는 단어가 구분되어 있다면 매치가 된다------------"
   ]
  },
  {
   "cell_type": "markdown",
   "metadata": {},
   "source": [
    "### 함수\n",
    "\n",
    "- 정규표현식\n",
    " > 정규식을 직접 생성(컴파일) <-> 함수에 직접 패턴을 기록하는 방식\n",
    "- 함수\n",
    " > match    : 처음 -> 문자열의 처음부터 정규식과 매치되는지 조사\n",
    " > search   : 전체 -> 문자열 전체를 검색하여 매치되는지 조사\n",
    " > findall  : 모든(이라는 키), 리스트 -> 정규식과 매치되는 모든 문자열을 리스트로 리턴\n",
    " > finditer : 모든(이라는 키), 이터레이터 -> 정규식과 매치되는 모든 문자열을 iterator 객체로 리턴\n",
    " > sub      : 다른문자로 -> 규칙과 매치되는 부분을 다른 문자로 변경 "
   ]
  },
  {
   "cell_type": "code",
   "execution_count": 80,
   "metadata": {},
   "outputs": [],
   "source": [
    "# 패턴생성 \n",
    "# 숫자만 와야 하는데, 1개는 무조건 나오고 그 뒤에는 반복은 무한대\n",
    "p = re.compile( '[0-9]+' )"
   ]
  },
  {
   "cell_type": "code",
   "execution_count": 81,
   "metadata": {},
   "outputs": [
    {
     "name": "stdout",
     "output_type": "stream",
     "text": [
      "None\n"
     ]
    }
   ],
   "source": [
    "r = p.match('abc9')\n",
    "print( r )"
   ]
  },
  {
   "cell_type": "code",
   "execution_count": 83,
   "metadata": {},
   "outputs": [
    {
     "name": "stdout",
     "output_type": "stream",
     "text": [
      "<_sre.SRE_Match object; span=(0, 1), match='9'> 9\n"
     ]
    }
   ],
   "source": [
    "r = p.match('9')\n",
    "print( r, r.group() )"
   ]
  },
  {
   "cell_type": "code",
   "execution_count": 84,
   "metadata": {},
   "outputs": [
    {
     "name": "stdout",
     "output_type": "stream",
     "text": [
      "<_sre.SRE_Match object; span=(0, 3), match='911'> 911\n"
     ]
    }
   ],
   "source": [
    "# 매치된 값을 획득할 수 있다 => r.group()을 통해서.\n",
    "r = p.match('911a')\n",
    "print( r, r.group() )"
   ]
  },
  {
   "cell_type": "code",
   "execution_count": 86,
   "metadata": {},
   "outputs": [
    {
     "name": "stdout",
     "output_type": "stream",
     "text": [
      "0312312312\n"
     ]
    }
   ],
   "source": [
    "# 숫자로 시작했기 때문에 match가 되고 그 다음 문자가 숫자가 아니여서 종료\n",
    "#r = p.match( '0abcde23413sjsjfdsf가나다' ) -> 결과 : 0\n",
    "r = p.match( '0312312312abcde23413sjsjfdsf가나다' )\n",
    "if r:\n",
    "    print( r.group() )\n",
    "else:\n",
    "    print('미스매치')"
   ]
  },
  {
   "cell_type": "code",
   "execution_count": null,
   "metadata": {},
   "outputs": [],
   "source": [
    "# 이메일의 @ 앞부분의 문자만 추출할 때, 비슷한 유형"
   ]
  },
  {
   "cell_type": "code",
   "execution_count": 90,
   "metadata": {},
   "outputs": [],
   "source": [
    "# 소문자로 된것을 다 찾아서 리스트로 리턴\n",
    "data = 'i am a Boy. 2018 품질'\n",
    "p = re.compile('[a-z]+')"
   ]
  },
  {
   "cell_type": "code",
   "execution_count": 91,
   "metadata": {},
   "outputs": [
    {
     "data": {
      "text/plain": [
       "['i', 'am', 'a', 'oy']"
      ]
     },
     "execution_count": 91,
     "metadata": {},
     "output_type": "execute_result"
    }
   ],
   "source": [
    "r = p.findall(data)\n",
    "r"
   ]
  },
  {
   "cell_type": "code",
   "execution_count": 94,
   "metadata": {},
   "outputs": [
    {
     "name": "stdout",
     "output_type": "stream",
     "text": [
      "i 0 1 (0, 1)\n",
      "am 2 4 (2, 4)\n",
      "a 5 6 (5, 6)\n",
      "oy 8 10 (8, 10)\n"
     ]
    }
   ],
   "source": [
    "r = p.finditer(data)\n",
    "for n in r:\n",
    "    # 추출한 문자열, 해당 문자열의 시작인덱스, 끝인덱스, 인덱스 묶어둔 튜플\n",
    "    print( n.group(), n.start(), n.end(), n.span() ) # 인덱스로 봐야함"
   ]
  },
  {
   "cell_type": "code",
   "execution_count": 95,
   "metadata": {},
   "outputs": [],
   "source": [
    "# 규칙에 매칭되는 부분을 다른 문자로 변경\n",
    "p = re.compile('(blue|white|red)') # 셋 중의 하나"
   ]
  },
  {
   "cell_type": "code",
   "execution_count": 96,
   "metadata": {},
   "outputs": [
    {
     "name": "stdout",
     "output_type": "stream",
     "text": [
      "색상 socks and 색상 socks\n"
     ]
    }
   ],
   "source": [
    "# 대체\n",
    "# 출력 결과 : 해당되는 블루,화이트,레드가 나오면 문자인 색상으로 바꿔라\n",
    "print( p.sub( '색상', 'blue socks and red socks' ) )"
   ]
  },
  {
   "cell_type": "code",
   "execution_count": 97,
   "metadata": {},
   "outputs": [
    {
     "name": "stdout",
     "output_type": "stream",
     "text": [
      " socks and  socks\n"
     ]
    }
   ],
   "source": [
    "# 제거\n",
    "print( p.sub( '', 'blue socks and red socks' ) )"
   ]
  },
  {
   "cell_type": "markdown",
   "metadata": {},
   "source": [
    "#### 응용\n",
    "- 한글제거\n",
    "- 한자제거\n",
    "- 한글,한자 제거\n",
    "- 모든 whitespace 제거"
   ]
  },
  {
   "cell_type": "markdown",
   "metadata": {},
   "source": [
    "#### 한글제거\n",
    "- 한글코드 ( 유니코드 )\n",
    " > 자음, 모음\n",
    " - ㄱ ~ ㅎ : 0x3131 ~ 0x314E\n",
    " - ㅏ ~ ㅣ : 0x314F ~ 0x3163\n",
    " \n",
    " > 한글음절\n",
    "  - 가 ~ 힣 : 0xAC00 ~ 0xd7a3"
   ]
  },
  {
   "cell_type": "code",
   "execution_count": 126,
   "metadata": {},
   "outputs": [],
   "source": [
    "# 한글에 대한 정규식 : [ㄱ-ㅣ가-힣]\n",
    "# 한글이 한개 이상 무한대 : +\n",
    "hangul = re.compile( '[ㄱ-ㅣ가-힣]+' )"
   ]
  },
  {
   "cell_type": "code",
   "execution_count": 132,
   "metadata": {},
   "outputs": [
    {
     "data": {
      "text/plain": [
       "'\\nBTS (Korean: 방탄소년단; RR: Bangtan Sonyeondan), also known as the Bangtan Boys, is a seven-member South Korean boy band formed in Seoul in 2013. The septet co-writes and produces much of their output. Originally a hip hop group, their musical style has evolved to include a wide range of genres. Their lyrics, often focused on personal and social commentary, touch on the themes of mental health, troubles of school-age youth, loss, the journey towards loving oneself, and individualism. Their work features references to literature and psychological concepts and includes an alternative universe storyline. Popular for their live performances, the group have staged several world tours.\\n\\nThe group initially formed as teenagers under Big Hit Entertainment and released their debut single album, 2 Cool 4 Skool (2013). Subsequent work such as their first U.S. Billboard 200 entries The Most Beautiful Moment in Life, Part 2 (2015), The Most Beautiful Moment in Life: Young Forever (2016), and Wings (2016) helped establish BTS\\' reputation as a socially conscious group. Wings became BTS\\' first album to sell one million copies in South Korea. By 2017, BTS crossed into the international music market, leading the Korean Wave into the United States and breaking numerous sales records, becoming the first Korean group to receive a certification by the Recording Industry Association of America (RIAA) with their single \"Mic Drop\". The band is the first and only Korean act as of 2019 to top the U.S. Billboard 200 with their studio album Love Yourself: Tear (2018) and have since hit the top of the U.S. charts with their albums Love Yourself: Answer (2018) and Map of the Soul: Persona (2019), making BTS the first group since The Beatles to earn three number one albums in less than a year. Love Yourself: Answer also broke South Korea\\'s Gaon Album Chart\\'s all-time monthly record previously set by Love Yourself: Tear and became the first Korean album certified Gold in the United States.\\n\\nHaving sold over fifteen million albums, BTS are the best-selling artist in South Korea of all time, and hold the best-selling album in Korean history with Map of the Soul: Persona. BTS were the second best-selling artists of 2018 worldwide according to the IFPI\\'s Global Artist Chart, as well as the only non-English speaking artist to enter the chart. The group has won Top Social Artist three years in a row and Top Duo/Group at the 26th Billboard Music Awards. Featured on Time\\'s international cover as \"Next Generation Leaders\", BTS has appeared in the magazine\\'s 25 most influential people on the internet (2017–2019) and Time\\'s 100 most influential people in the world (2019), with the outlet giving them the nickname \\'Princes of Pop\\'. Forbes Korea named BTS the most influential celebrities of Korea in 2018, and BTS ranked 43rd in the Forbes Celebrity 100 (2019) as one of the world\\'s top-earning celebrities. BTS are worth more than $4.65 billion to South Korea\\'s economy each year, attracting one in every 13 foreign tourists that visit the country, and are cited as one of the key acts boosting global music sales to $19 billion in 2018, a figure not seen since 2006 after digital purchases gained momentum.\\n\\nFollowing their philanthropic efforts in their Love Myself anti-violence campaign in partnership with UNICEF, BTS addressed the United Nations 73rd General Assembly and became the youngest ever recipients of the Order of Cultural Merit from the President of South Korea due to their contributions in spreading Korean culture and language.\\n'"
      ]
     },
     "execution_count": 132,
     "metadata": {},
     "output_type": "execute_result"
    }
   ],
   "source": [
    "data = '''\n",
    "BTS (Korean: 방탄소년단; RR: Bangtan Sonyeondan), also known as the Bangtan Boys, is a seven-member South Korean boy band formed in Seoul in 2013. The septet co-writes and produces much of their output. Originally a hip hop group, their musical style has evolved to include a wide range of genres. Their lyrics, often focused on personal and social commentary, touch on the themes of mental health, troubles of school-age youth, loss, the journey towards loving oneself, and individualism. Their work features references to literature and psychological concepts and includes an alternative universe storyline. Popular for their live performances, the group have staged several world tours.\n",
    "\n",
    "The group initially formed as teenagers under Big Hit Entertainment and released their debut single album, 2 Cool 4 Skool (2013). Subsequent work such as their first U.S. Billboard 200 entries The Most Beautiful Moment in Life, Part 2 (2015), The Most Beautiful Moment in Life: Young Forever (2016), and Wings (2016) helped establish BTS' reputation as a socially conscious group. Wings became BTS' first album to sell one million copies in South Korea. By 2017, BTS crossed into the international music market, leading the Korean Wave into the United States and breaking numerous sales records, becoming the first Korean group to receive a certification by the Recording Industry Association of America (RIAA) with their single \"Mic Drop\". The band is the first and only Korean act as of 2019 to top the U.S. Billboard 200 with their studio album Love Yourself: Tear (2018) and have since hit the top of the U.S. charts with their albums Love Yourself: Answer (2018) and Map of the Soul: Persona (2019), making BTS the first group since The Beatles to earn three number one albums in less than a year. Love Yourself: Answer also broke South Korea's Gaon Album Chart's all-time monthly record previously set by Love Yourself: Tear and became the first Korean album certified Gold in the United States.\n",
    "\n",
    "Having sold over fifteen million albums, BTS are the best-selling artist in South Korea of all time, and hold the best-selling album in Korean history with Map of the Soul: Persona. BTS were the second best-selling artists of 2018 worldwide according to the IFPI's Global Artist Chart, as well as the only non-English speaking artist to enter the chart. The group has won Top Social Artist three years in a row and Top Duo/Group at the 26th Billboard Music Awards. Featured on Time's international cover as \"Next Generation Leaders\", BTS has appeared in the magazine's 25 most influential people on the internet (2017–2019) and Time's 100 most influential people in the world (2019), with the outlet giving them the nickname 'Princes of Pop'. Forbes Korea named BTS the most influential celebrities of Korea in 2018, and BTS ranked 43rd in the Forbes Celebrity 100 (2019) as one of the world's top-earning celebrities. BTS are worth more than $4.65 billion to South Korea's economy each year, attracting one in every 13 foreign tourists that visit the country, and are cited as one of the key acts boosting global music sales to $19 billion in 2018, a figure not seen since 2006 after digital purchases gained momentum.\n",
    "\n",
    "Following their philanthropic efforts in their Love Myself anti-violence campaign in partnership with UNICEF, BTS addressed the United Nations 73rd General Assembly and became the youngest ever recipients of the Order of Cultural Merit from the President of South Korea due to their contributions in spreading Korean culture and language.\n",
    "'''\n",
    "data\n",
    "# \\n 이거 제거할려면 \\s를 써야한다"
   ]
  },
  {
   "cell_type": "code",
   "execution_count": 128,
   "metadata": {},
   "outputs": [
    {
     "data": {
      "text/plain": [
       "'\\nBTS (Korean: ; RR: Bangtan Sonyeondan), also known as the Bangtan Boys, is a seven-member South Kor'"
      ]
     },
     "execution_count": 128,
     "metadata": {},
     "output_type": "execute_result"
    }
   ],
   "source": [
    "# data한글을 제거하여 출력하시오\n",
    "# hangul.sub('', data)\n",
    "hangul.sub('', data)[:100]"
   ]
  },
  {
   "cell_type": "code",
   "execution_count": null,
   "metadata": {},
   "outputs": [],
   "source": []
  },
  {
   "cell_type": "code",
   "execution_count": null,
   "metadata": {},
   "outputs": [],
   "source": []
  },
  {
   "cell_type": "code",
   "execution_count": 114,
   "metadata": {},
   "outputs": [],
   "source": [
    "pat = re.compile(r'\\s+')"
   ]
  },
  {
   "cell_type": "code",
   "execution_count": 115,
   "metadata": {},
   "outputs": [
    {
     "data": {
      "text/plain": [
       "'abcd'"
      ]
     },
     "execution_count": 115,
     "metadata": {},
     "output_type": "execute_result"
    }
   ],
   "source": [
    "re.sub( pat, '', ' a b        c d' ) # \\s+의 기능"
   ]
  },
  {
   "cell_type": "code",
   "execution_count": 116,
   "metadata": {},
   "outputs": [
    {
     "data": {
      "text/plain": [
       "' ab  cb'"
      ]
     },
     "execution_count": 116,
     "metadata": {},
     "output_type": "execute_result"
    }
   ],
   "source": [
    "# 줄 바꿈 제거\n",
    "pat = re.compile(r'\\n+')\n",
    "# pat = re.compile('\\n+') 여기서는 해석이 같이 때문에(r을 쓰든 안쓰든 결과는 같다->안전장치로 r을 써준다)\n",
    "re.sub( pat, '', ' a\\n\\n\\nb  c\\nb\\n' )"
   ]
  },
  {
   "cell_type": "code",
   "execution_count": null,
   "metadata": {},
   "outputs": [],
   "source": []
  },
  {
   "cell_type": "code",
   "execution_count": null,
   "metadata": {},
   "outputs": [],
   "source": []
  },
  {
   "cell_type": "code",
   "execution_count": null,
   "metadata": {},
   "outputs": [],
   "source": []
  },
  {
   "cell_type": "code",
   "execution_count": null,
   "metadata": {},
   "outputs": [],
   "source": []
  },
  {
   "cell_type": "code",
   "execution_count": null,
   "metadata": {},
   "outputs": [],
   "source": []
  },
  {
   "cell_type": "code",
   "execution_count": null,
   "metadata": {},
   "outputs": [],
   "source": []
  },
  {
   "cell_type": "code",
   "execution_count": null,
   "metadata": {},
   "outputs": [],
   "source": []
  },
  {
   "cell_type": "code",
   "execution_count": null,
   "metadata": {},
   "outputs": [],
   "source": []
  },
  {
   "cell_type": "code",
   "execution_count": null,
   "metadata": {},
   "outputs": [],
   "source": []
  },
  {
   "cell_type": "code",
   "execution_count": null,
   "metadata": {},
   "outputs": [],
   "source": []
  }
 ],
 "metadata": {
  "kernelspec": {
   "display_name": "Python 3",
   "language": "python",
   "name": "python3"
  },
  "language_info": {
   "codemirror_mode": {
    "name": "ipython",
    "version": 3
   },
   "file_extension": ".py",
   "mimetype": "text/x-python",
   "name": "python",
   "nbconvert_exporter": "python",
   "pygments_lexer": "ipython3",
   "version": "3.6.5"
  }
 },
 "nbformat": 4,
 "nbformat_minor": 2
}

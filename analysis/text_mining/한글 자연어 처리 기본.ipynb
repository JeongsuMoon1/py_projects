{
 "cells": [
  {
   "cell_type": "markdown",
   "metadata": {},
   "source": [
    "### 꼬꼬마 형태소 분석기 사용\n",
    "\n",
    "- 가상환경은 base로 구성\n",
    "- 향후 프로젝트때 세팅에 시간이 많이 소요되는 부분은 고려하여 base로 구성"
   ]
  },
  {
   "cell_type": "code",
   "execution_count": 33,
   "metadata": {},
   "outputs": [],
   "source": [
    "# 1. 형태소 모듈 가져오기\n",
    "from konlpy.tag import Kkma"
   ]
  },
  {
   "cell_type": "code",
   "execution_count": 34,
   "metadata": {},
   "outputs": [],
   "source": [
    "# 2. 형태소 객체 생성\n",
    "kkma = Kkma()"
   ]
  },
  {
   "cell_type": "code",
   "execution_count": 35,
   "metadata": {},
   "outputs": [],
   "source": [
    "# 3. 문장이라는 재료가 필요하다\n",
    "# 문장 <- 재료(텍스트)\n",
    "test_text = '''\n",
    "우리은행과 KEB하나은행이 판매한 7천억원대의 해외 금리 연계 파생결합펀드(DLF)의 \n",
    "대규모 손실 우려가 커진 가운데 주요 은행 중 신한은행과 NH농협은행이 \n",
    "이번 사태에서 비껴나 있어서 눈길을 끈다\n",
    "\n",
    "신한은행은 이 상품의 높은 리스크를 감지하고 판매를 중단한 것으로 나타났다\n",
    "농협은행은 운용사로부터 판매 제안을 받았지만 높은 리스크를 우려해 아예 판매하지 않았다\n",
    "'''  # 뉴스의 아무 문장이나 가져오기"
   ]
  },
  {
   "cell_type": "code",
   "execution_count": 36,
   "metadata": {},
   "outputs": [
    {
     "data": {
      "text/plain": [
       "['우리은행과 KEB 하나은행이 판매한 7천억원 대의 해외 금리 연계 파생 결합 펀드 (DLF) 의 대규모 손실 우려가 커진 가운데 주요 은행 중 신한 은행과 NH 농협은행이 이번 사태에서 비껴 나 있어서 눈길을 끈다 신한 은행은 이 상품의 높은 리스크를 감지하고 판매를 중단한 것으로 나타났다 농협은행은 운 용사로부터 판매 제안을 받았지만 높은 리스크를 우려해 아예 판매하지 않았다']"
      ]
     },
     "execution_count": 36,
     "metadata": {},
     "output_type": "execute_result"
    }
   ],
   "source": [
    "# 4. 함수들을 적용하면서 텍스트를 분해해 보기 (두번째 문장 수정부터는 처리속도가 빨라졌다-자라의 처리과정과 비슷하다)\n",
    "kkma.sentences( test_text )"
   ]
  },
  {
   "cell_type": "code",
   "execution_count": 37,
   "metadata": {},
   "outputs": [],
   "source": [
    "test_text = '''\n",
    "우리은행과 KEB하나은행이 판매한 7천억원대의 해외 금리 연계 파생결합펀드(DLF)의 \n",
    "대규모 손실 우려가 커진 가운데 주요 은행 중 신한은행과 NH농협은행이 \n",
    "이번 사태에서 비껴나 있어서 눈길을 끈다.\n",
    "\n",
    "신한은행은 이 상품의 높은 리스크를 감지하고 판매를 중단한 것으로 나타났다.\n",
    "농협은행은 운용사로부터 판매 제안을 받았지만 높은 리스크를 우려해 아예 판매하지 않았다.\n",
    "''' "
   ]
  },
  {
   "cell_type": "code",
   "execution_count": 38,
   "metadata": {},
   "outputs": [
    {
     "data": {
      "text/plain": [
       "['우리은행과 KEB 하나은행이 판매한 7천억원 대의 해외 금리 연계 파생 결합 펀드 (DLF) 의 대규모 손실 우려가 커진 가운데 주요 은행 중 신한 은행과 NH 농협은행이 이번 사태에서 비껴 나 있어서 눈길을 끈다.',\n",
       " '신한 은행은 이 상품의 높은 리스크를 감지하고 판매를 중단한 것으로 나타났다.',\n",
       " '농협은행은 운 용사로부터 판매 제안을 받았지만 높은 리스크를 우려해 아예 판매하지 않았다.']"
      ]
     },
     "execution_count": 38,
     "metadata": {},
     "output_type": "execute_result"
    }
   ],
   "source": [
    "# 마침표를 기준점으로 문장의 끝을 판별한다 \n",
    "# -> 실제 리얼 데이터들은 마침표가 없을 가능성이 크다\n",
    "# 문장의 분해라는 관점에서는 부적절함이 보인다\n",
    "tmp = kkma.sentences( test_text )\n",
    "tmp"
   ]
  },
  {
   "cell_type": "code",
   "execution_count": 39,
   "metadata": {},
   "outputs": [
    {
     "data": {
      "text/plain": [
       "3"
      ]
     },
     "execution_count": 39,
     "metadata": {},
     "output_type": "execute_result"
    }
   ],
   "source": [
    "len( tmp ) # 문장은 2개"
   ]
  },
  {
   "cell_type": "code",
   "execution_count": 42,
   "metadata": {},
   "outputs": [
    {
     "name": "stdout",
     "output_type": "stream",
     "text": [
      "----------\n",
      "우리은행과 KEB 하나은행이 판매한 7천억원 대의 해외 금리 연계 파생 결합 펀드 (DLF) 의 대규모 손실 우려가 커진 가운데 주요 은행 중 신한 은행과 NH 농협은행이 이번 사태에서 비껴 나 있어서 눈길을 끈다. ['우리', '우리은행', '은행', '하나', '하나은행', '판매', '7', '7천억원', '천', '억', '원', '대', '해외', '금리', '연계', '파생', '결합', '펀드', '의', '대규모', '손실', '우려', '가운데', '주요', '중', '신한', '농협', '농협은행', '이번', '사태', '나', '눈길'] [('우리은행', 'NNG'), ('과', 'JC'), ('KEB', 'OL'), ('하나', 'NNG'), ('은행', 'NNG'), ('이', 'JKS'), ('판매', 'NNG'), ('하', 'XSV'), ('ㄴ', 'ETD'), ('7', 'NR'), ('천', 'NR'), ('억', 'NR'), ('원', 'NNM'), ('대', 'NNG'), ('의', 'JKG'), ('해외', 'NNG'), ('금리', 'NNG'), ('연계', 'NNG'), ('파생', 'NNG'), ('결합', 'NNG'), ('펀드', 'NNG'), ('(', 'SS'), ('DLF', 'OL'), (')', 'SS'), ('의', 'NNG'), ('대규모', 'NNG'), ('손실', 'NNG'), ('우려', 'NNG'), ('가', 'JKS'), ('커지', 'VV'), ('ㄴ', 'ETD'), ('가운데', 'NNG'), ('주요', 'NNG'), ('은행', 'NNG'), ('중', 'NNB'), ('신한', 'NNP'), ('은행', 'NNG'), ('과', 'JC'), ('NH', 'OL'), ('농협', 'NNG'), ('은행', 'NNG'), ('이', 'JKS'), ('이번', 'NNG'), ('사태', 'NNG'), ('에서', 'JKM'), ('비끼', 'VV'), ('어', 'ECS'), ('나', 'NP'), ('있', 'VV'), ('어서', 'ECD'), ('눈길', 'NNG'), ('을', 'JKO'), ('끌', 'VV'), ('ㄴ다', 'EFN'), ('.', 'SF')] ['우리은행', '과', 'KEB', '하나', '은행', '이', '판매', '하', 'ㄴ', '7', '천', '억', '원', '대', '의', '해외', '금리', '연계', '파생', '결합', '펀드', '(', 'DLF', ')', '의', '대규모', '손실', '우려', '가', '커지', 'ㄴ', '가운데', '주요', '은행', '중', '신한', '은행', '과', 'NH', '농협', '은행', '이', '이번', '사태', '에서', '비끼', '어', '나', '있', '어서', '눈길', '을', '끌', 'ㄴ다', '.']\n",
      "----------\n",
      "----------\n",
      "신한 은행은 이 상품의 높은 리스크를 감지하고 판매를 중단한 것으로 나타났다. ['신한', '은행', '상품', '리스크', '감지', '판매', '중단'] [('신한', 'NNP'), ('은행', 'NNG'), ('은', 'JX'), ('이', 'MDT'), ('상품', 'NNG'), ('의', 'JKG'), ('높', 'VA'), ('은', 'ETD'), ('리스크', 'NNG'), ('를', 'JKO'), ('감지', 'NNG'), ('하', 'XSV'), ('고', 'ECE'), ('판매', 'NNG'), ('를', 'JKO'), ('중단', 'NNG'), ('하', 'XSV'), ('ㄴ', 'ETD'), ('것', 'NNB'), ('으로', 'JKM'), ('나타나', 'VV'), ('었', 'EPT'), ('다', 'EFN'), ('.', 'SF')] ['신한', '은행', '은', '이', '상품', '의', '높', '은', '리스크', '를', '감지', '하', '고', '판매', '를', '중단', '하', 'ㄴ', '것', '으로', '나타나', '었', '다', '.']\n",
      "----------\n",
      "----------\n",
      "농협은행은 운 용사로부터 판매 제안을 받았지만 높은 리스크를 우려해 아예 판매하지 않았다. ['농협', '농협은행', '은행', '운', '용사', '판매', '제안', '리스크', '우려'] [('농협', 'NNG'), ('은행', 'NNG'), ('은', 'JX'), ('운', 'NNG'), ('용사', 'NNG'), ('로', 'JKM'), ('부터', 'JX'), ('판매', 'NNG'), ('제안', 'NNG'), ('을', 'JKO'), ('받', 'VV'), ('았', 'EPT'), ('지만', 'ECE'), ('높', 'VA'), ('은', 'ETD'), ('리스크', 'NNG'), ('를', 'JKO'), ('우려', 'NNG'), ('하', 'XSV'), ('어', 'ECS'), ('아예', 'MAG'), ('판매', 'NNG'), ('하', 'XSV'), ('지', 'ECD'), ('않', 'VXV'), ('았', 'EPT'), ('다', 'EFN'), ('.', 'SF')] ['농협', '은행', '은', '운', '용사', '로', '부터', '판매', '제안', '을', '받', '았', '지만', '높', '은', '리스크', '를', '우려', '하', '어', '아예', '판매', '하', '지', '않', '았', '다', '.']\n",
      "----------\n"
     ]
    }
   ],
   "source": [
    "for sen in tmp:\n",
    "    print(\"-\"*10) # 구분자 : -------------\n",
    "    # 명사 추출\n",
    "    word = kkma.nouns( sen )\n",
    "    # 형태소 분석\n",
    "    poses = kkma.pos( sen ) # 품사를 표시하고 있지만 용어의 정리를 통해서 정확히 무엇을 의미하는지 알아야한다\n",
    "    morphses = kkma.morphs( sen ) # 이 녀석은 그냥 쪼개기만 한다\n",
    "    print( sen, word, poses, morphses ) \n",
    "    print(\"-\"*10)"
   ]
  },
  {
   "cell_type": "code",
   "execution_count": null,
   "metadata": {},
   "outputs": [],
   "source": []
  },
  {
   "cell_type": "code",
   "execution_count": null,
   "metadata": {},
   "outputs": [],
   "source": []
  },
  {
   "cell_type": "code",
   "execution_count": null,
   "metadata": {},
   "outputs": [],
   "source": []
  },
  {
   "cell_type": "code",
   "execution_count": null,
   "metadata": {},
   "outputs": [],
   "source": []
  },
  {
   "cell_type": "code",
   "execution_count": null,
   "metadata": {},
   "outputs": [],
   "source": []
  },
  {
   "cell_type": "code",
   "execution_count": null,
   "metadata": {},
   "outputs": [],
   "source": []
  },
  {
   "cell_type": "code",
   "execution_count": null,
   "metadata": {},
   "outputs": [],
   "source": []
  },
  {
   "cell_type": "code",
   "execution_count": null,
   "metadata": {},
   "outputs": [],
   "source": []
  },
  {
   "cell_type": "code",
   "execution_count": null,
   "metadata": {},
   "outputs": [],
   "source": []
  },
  {
   "cell_type": "code",
   "execution_count": null,
   "metadata": {},
   "outputs": [],
   "source": []
  }
 ],
 "metadata": {
  "kernelspec": {
   "display_name": "Python 3",
   "language": "python",
   "name": "python3"
  },
  "language_info": {
   "codemirror_mode": {
    "name": "ipython",
    "version": 3
   },
   "file_extension": ".py",
   "mimetype": "text/x-python",
   "name": "python",
   "nbconvert_exporter": "python",
   "pygments_lexer": "ipython3",
   "version": "3.6.5"
  }
 },
 "nbformat": 4,
 "nbformat_minor": 2
}

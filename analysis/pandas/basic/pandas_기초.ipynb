{
 "cells": [
  {
   "cell_type": "markdown",
   "metadata": {},
   "source": [
    "## pandas 기초\n",
    "- pandas는 R의 핵심 데이터 시리즈와 프레임을 파이썬의 추가한 것이다\n",
    "- numpy를 기반으로 구현되었고, numpy 대비 기능을 더 확장하여 재구현한것\n",
    "- Python Data Analysis Library\n",
    "- [https://pandas.pydata.org/]"
   ]
  },
  {
   "cell_type": "code",
   "execution_count": 4,
   "metadata": {},
   "outputs": [],
   "source": [
    "import numpy as np\n",
    "import pandas as pd"
   ]
  },
  {
   "cell_type": "markdown",
   "metadata": {},
   "source": [
    "- 파이썬의 자료구조\n",
    "> 수치형, 문자열, 리스트, 딕셔너리, 튜플, 집합, 블린\n",
    "- numpy의 자료구조\n",
    "> ndarray(배열) : 배열의 데이터는 모든 같은 타입이다.\n",
    "- pandas의 자료구조\n",
    "> Series(시리즈), DataFrame(데이터프레임)\n",
    "> DataFrame의 인덱싱 -> Series의 인덱싱 -> 값(스칼라), 수치, 문자, 블린, NaN(결측치)이 등장\n",
    "> Series : 인덱스와 데이터만 존재하는, 컬럼이 없는 자료구조\n",
    "> DataFrame : 인덱스와 컬럼이 존재하는 자료구조\n",
    "> NaN : 데이터가 없다, Not a Number -> np.nan"
   ]
  },
  {
   "cell_type": "code",
   "execution_count": 7,
   "metadata": {},
   "outputs": [
    {
     "data": {
      "text/plain": [
       "0    1.0\n",
       "1    3.0\n",
       "2    5.0\n",
       "3    NaN\n",
       "4    6.0\n",
       "5    8.0\n",
       "dtype: float64"
      ]
     },
     "execution_count": 7,
     "metadata": {},
     "output_type": "execute_result"
    }
   ],
   "source": [
    "# Series\n",
    "# 데이터를 정수로 넣었으나 기본형으로 float64가 반영되었다\n",
    "a = pd.Series( [1,3,5,np.nan,6,8] )\n",
    "a"
   ]
  },
  {
   "cell_type": "code",
   "execution_count": 8,
   "metadata": {},
   "outputs": [
    {
     "data": {
      "text/plain": [
       "dtype('float64')"
      ]
     },
     "execution_count": 8,
     "metadata": {},
     "output_type": "execute_result"
    }
   ],
   "source": [
    "# 속성 - 타입\n",
    "a.dtype"
   ]
  },
  {
   "cell_type": "code",
   "execution_count": 9,
   "metadata": {},
   "outputs": [
    {
     "data": {
      "text/plain": [
       "(6,)"
      ]
     },
     "execution_count": 9,
     "metadata": {},
     "output_type": "execute_result"
    }
   ],
   "source": [
    "# 속성 - 크기\n",
    "a.shape \n",
    "# 데이터는 1차원이고 총 6개의 데이터가 존재한다는 뜻"
   ]
  },
  {
   "cell_type": "code",
   "execution_count": 11,
   "metadata": {},
   "outputs": [
    {
     "data": {
      "text/plain": [
       "(['A', 'B', 'C', 'D'],\n",
       " DatetimeIndex(['2019-08-12', '2019-08-13', '2019-08-14', '2019-08-15',\n",
       "                '2019-08-16', '2019-08-17', '2019-08-18'],\n",
       "               dtype='datetime64[ns]', freq='D'))"
      ]
     },
     "execution_count": 11,
     "metadata": {},
     "output_type": "execute_result"
    }
   ],
   "source": [
    "# DataFrame\n",
    "# 인덱스와 컬럼이 존재하는 자료구조\n",
    "cols = list('ABCD') # ['A','B','C','D']\n",
    "indexs = pd.date_range( '20190812', periods=7 )\n",
    "# 리스트화 방법1 . cols = 'ABCD' -> cols = list('ABCD') -> ['A','B','C','D']\n",
    "# 컬럼4개, 인덱스7개\n",
    "cols, indexs"
   ]
  },
  {
   "cell_type": "code",
   "execution_count": 13,
   "metadata": {},
   "outputs": [
    {
     "data": {
      "text/plain": [
       "(array([[ 0.73922615, -0.60933764, -0.20527878,  1.39128948],\n",
       "        [ 1.18549881, -1.05971723,  0.92846217, -0.86599017],\n",
       "        [ 0.52047102,  1.5544454 ,  0.66259762, -1.02890533],\n",
       "        [ 1.9294705 , -0.51318944,  0.04556993,  0.4111859 ],\n",
       "        [-0.30875605,  0.30385539,  2.05135084,  0.03123939],\n",
       "        [-0.1926315 ,  0.94948833,  0.12048283, -2.51997778],\n",
       "        [-0.38912053, -2.15847733,  1.18831051, -1.80380992]]), (7, 4))"
      ]
     },
     "execution_count": 13,
     "metadata": {},
     "output_type": "execute_result"
    }
   ],
   "source": [
    "# 데이터는 shape => (7,4)\n",
    "datas = np.random.randn(7,4) # 2차원 데이터 형태로 난수를 발생시킴\n",
    "datas, datas.shape"
   ]
  },
  {
   "cell_type": "code",
   "execution_count": 17,
   "metadata": {},
   "outputs": [],
   "source": [
    "# df 생성\n",
    "df = pd.DataFrame( datas, index=indexs, columns=cols ) # index= : 기본값 부여 파라미터."
   ]
  },
  {
   "cell_type": "markdown",
   "metadata": {},
   "source": [
    "- **데이터가 로드된 후 DataFrame을 만든후 점검할 사항**"
   ]
  },
  {
   "cell_type": "code",
   "execution_count": 18,
   "metadata": {},
   "outputs": [
    {
     "data": {
      "text/html": [
       "<div>\n",
       "<style scoped>\n",
       "    .dataframe tbody tr th:only-of-type {\n",
       "        vertical-align: middle;\n",
       "    }\n",
       "\n",
       "    .dataframe tbody tr th {\n",
       "        vertical-align: top;\n",
       "    }\n",
       "\n",
       "    .dataframe thead th {\n",
       "        text-align: right;\n",
       "    }\n",
       "</style>\n",
       "<table border=\"1\" class=\"dataframe\">\n",
       "  <thead>\n",
       "    <tr style=\"text-align: right;\">\n",
       "      <th></th>\n",
       "      <th>A</th>\n",
       "      <th>B</th>\n",
       "      <th>C</th>\n",
       "      <th>D</th>\n",
       "    </tr>\n",
       "  </thead>\n",
       "  <tbody>\n",
       "    <tr>\n",
       "      <th>2019-08-12</th>\n",
       "      <td>0.739226</td>\n",
       "      <td>-0.609338</td>\n",
       "      <td>-0.205279</td>\n",
       "      <td>1.391289</td>\n",
       "    </tr>\n",
       "    <tr>\n",
       "      <th>2019-08-13</th>\n",
       "      <td>1.185499</td>\n",
       "      <td>-1.059717</td>\n",
       "      <td>0.928462</td>\n",
       "      <td>-0.865990</td>\n",
       "    </tr>\n",
       "    <tr>\n",
       "      <th>2019-08-14</th>\n",
       "      <td>0.520471</td>\n",
       "      <td>1.554445</td>\n",
       "      <td>0.662598</td>\n",
       "      <td>-1.028905</td>\n",
       "    </tr>\n",
       "  </tbody>\n",
       "</table>\n",
       "</div>"
      ],
      "text/plain": [
       "                   A         B         C         D\n",
       "2019-08-12  0.739226 -0.609338 -0.205279  1.391289\n",
       "2019-08-13  1.185499 -1.059717  0.928462 -0.865990\n",
       "2019-08-14  0.520471  1.554445  0.662598 -1.028905"
      ]
     },
     "execution_count": 18,
     "metadata": {},
     "output_type": "execute_result"
    }
   ],
   "source": [
    "df.head(3)"
   ]
  },
  {
   "cell_type": "code",
   "execution_count": 19,
   "metadata": {},
   "outputs": [
    {
     "data": {
      "text/html": [
       "<div>\n",
       "<style scoped>\n",
       "    .dataframe tbody tr th:only-of-type {\n",
       "        vertical-align: middle;\n",
       "    }\n",
       "\n",
       "    .dataframe tbody tr th {\n",
       "        vertical-align: top;\n",
       "    }\n",
       "\n",
       "    .dataframe thead th {\n",
       "        text-align: right;\n",
       "    }\n",
       "</style>\n",
       "<table border=\"1\" class=\"dataframe\">\n",
       "  <thead>\n",
       "    <tr style=\"text-align: right;\">\n",
       "      <th></th>\n",
       "      <th>A</th>\n",
       "      <th>B</th>\n",
       "      <th>C</th>\n",
       "      <th>D</th>\n",
       "    </tr>\n",
       "  </thead>\n",
       "  <tbody>\n",
       "    <tr>\n",
       "      <th>2019-08-16</th>\n",
       "      <td>-0.308756</td>\n",
       "      <td>0.303855</td>\n",
       "      <td>2.051351</td>\n",
       "      <td>0.031239</td>\n",
       "    </tr>\n",
       "    <tr>\n",
       "      <th>2019-08-17</th>\n",
       "      <td>-0.192632</td>\n",
       "      <td>0.949488</td>\n",
       "      <td>0.120483</td>\n",
       "      <td>-2.519978</td>\n",
       "    </tr>\n",
       "    <tr>\n",
       "      <th>2019-08-18</th>\n",
       "      <td>-0.389121</td>\n",
       "      <td>-2.158477</td>\n",
       "      <td>1.188311</td>\n",
       "      <td>-1.803810</td>\n",
       "    </tr>\n",
       "  </tbody>\n",
       "</table>\n",
       "</div>"
      ],
      "text/plain": [
       "                   A         B         C         D\n",
       "2019-08-16 -0.308756  0.303855  2.051351  0.031239\n",
       "2019-08-17 -0.192632  0.949488  0.120483 -2.519978\n",
       "2019-08-18 -0.389121 -2.158477  1.188311 -1.803810"
      ]
     },
     "execution_count": 19,
     "metadata": {},
     "output_type": "execute_result"
    }
   ],
   "source": [
    "df.tail(3)"
   ]
  },
  {
   "cell_type": "code",
   "execution_count": 20,
   "metadata": {},
   "outputs": [
    {
     "data": {
      "text/plain": [
       "Index(['A', 'B', 'C', 'D'], dtype='object')"
      ]
     },
     "execution_count": 20,
     "metadata": {},
     "output_type": "execute_result"
    }
   ],
   "source": [
    "df.columns"
   ]
  },
  {
   "cell_type": "code",
   "execution_count": 21,
   "metadata": {},
   "outputs": [
    {
     "data": {
      "text/plain": [
       "array([[ 0.73922615, -0.60933764, -0.20527878,  1.39128948],\n",
       "       [ 1.18549881, -1.05971723,  0.92846217, -0.86599017],\n",
       "       [ 0.52047102,  1.5544454 ,  0.66259762, -1.02890533],\n",
       "       [ 1.9294705 , -0.51318944,  0.04556993,  0.4111859 ],\n",
       "       [-0.30875605,  0.30385539,  2.05135084,  0.03123939],\n",
       "       [-0.1926315 ,  0.94948833,  0.12048283, -2.51997778],\n",
       "       [-0.38912053, -2.15847733,  1.18831051, -1.80380992]])"
      ]
     },
     "execution_count": 21,
     "metadata": {},
     "output_type": "execute_result"
    }
   ],
   "source": [
    "df.values"
   ]
  },
  {
   "cell_type": "code",
   "execution_count": 22,
   "metadata": {},
   "outputs": [
    {
     "data": {
      "text/plain": [
       "numpy.ndarray"
      ]
     },
     "execution_count": 22,
     "metadata": {},
     "output_type": "execute_result"
    }
   ],
   "source": [
    "type(df.values)"
   ]
  },
  {
   "cell_type": "code",
   "execution_count": 23,
   "metadata": {},
   "outputs": [
    {
     "data": {
      "text/plain": [
       "(7, 4)"
      ]
     },
     "execution_count": 23,
     "metadata": {},
     "output_type": "execute_result"
    }
   ],
   "source": [
    "df.shape"
   ]
  },
  {
   "cell_type": "code",
   "execution_count": 24,
   "metadata": {},
   "outputs": [
    {
     "data": {
      "text/plain": [
       "A    float64\n",
       "B    float64\n",
       "C    float64\n",
       "D    float64\n",
       "dtype: object"
      ]
     },
     "execution_count": 24,
     "metadata": {},
     "output_type": "execute_result"
    }
   ],
   "source": [
    "df.dtypes"
   ]
  },
  {
   "cell_type": "code",
   "execution_count": 25,
   "metadata": {},
   "outputs": [
    {
     "name": "stdout",
     "output_type": "stream",
     "text": [
      "<class 'pandas.core.frame.DataFrame'>\n",
      "DatetimeIndex: 7 entries, 2019-08-12 to 2019-08-18\n",
      "Freq: D\n",
      "Data columns (total 4 columns):\n",
      "A    7 non-null float64\n",
      "B    7 non-null float64\n",
      "C    7 non-null float64\n",
      "D    7 non-null float64\n",
      "dtypes: float64(4)\n",
      "memory usage: 280.0 bytes\n"
     ]
    }
   ],
   "source": [
    "# df의 개요\n",
    "df.info()"
   ]
  },
  {
   "cell_type": "code",
   "execution_count": 27,
   "metadata": {},
   "outputs": [
    {
     "data": {
      "text/html": [
       "<div>\n",
       "<style scoped>\n",
       "    .dataframe tbody tr th:only-of-type {\n",
       "        vertical-align: middle;\n",
       "    }\n",
       "\n",
       "    .dataframe tbody tr th {\n",
       "        vertical-align: top;\n",
       "    }\n",
       "\n",
       "    .dataframe thead th {\n",
       "        text-align: right;\n",
       "    }\n",
       "</style>\n",
       "<table border=\"1\" class=\"dataframe\">\n",
       "  <thead>\n",
       "    <tr style=\"text-align: right;\">\n",
       "      <th></th>\n",
       "      <th>A</th>\n",
       "      <th>B</th>\n",
       "      <th>C</th>\n",
       "      <th>D</th>\n",
       "    </tr>\n",
       "  </thead>\n",
       "  <tbody>\n",
       "    <tr>\n",
       "      <th>count</th>\n",
       "      <td>7.000000</td>\n",
       "      <td>7.000000</td>\n",
       "      <td>7.000000</td>\n",
       "      <td>7.000000</td>\n",
       "    </tr>\n",
       "    <tr>\n",
       "      <th>mean</th>\n",
       "      <td>0.497737</td>\n",
       "      <td>-0.218990</td>\n",
       "      <td>0.684499</td>\n",
       "      <td>-0.626424</td>\n",
       "    </tr>\n",
       "    <tr>\n",
       "      <th>std</th>\n",
       "      <td>0.865570</td>\n",
       "      <td>1.257719</td>\n",
       "      <td>0.785298</td>\n",
       "      <td>1.339869</td>\n",
       "    </tr>\n",
       "    <tr>\n",
       "      <th>min</th>\n",
       "      <td>-0.389121</td>\n",
       "      <td>-2.158477</td>\n",
       "      <td>-0.205279</td>\n",
       "      <td>-2.519978</td>\n",
       "    </tr>\n",
       "    <tr>\n",
       "      <th>25%</th>\n",
       "      <td>-0.250694</td>\n",
       "      <td>-0.834527</td>\n",
       "      <td>0.083026</td>\n",
       "      <td>-1.416358</td>\n",
       "    </tr>\n",
       "    <tr>\n",
       "      <th>50%</th>\n",
       "      <td>0.520471</td>\n",
       "      <td>-0.513189</td>\n",
       "      <td>0.662598</td>\n",
       "      <td>-0.865990</td>\n",
       "    </tr>\n",
       "    <tr>\n",
       "      <th>75%</th>\n",
       "      <td>0.962362</td>\n",
       "      <td>0.626672</td>\n",
       "      <td>1.058386</td>\n",
       "      <td>0.221213</td>\n",
       "    </tr>\n",
       "    <tr>\n",
       "      <th>max</th>\n",
       "      <td>1.929471</td>\n",
       "      <td>1.554445</td>\n",
       "      <td>2.051351</td>\n",
       "      <td>1.391289</td>\n",
       "    </tr>\n",
       "  </tbody>\n",
       "</table>\n",
       "</div>"
      ],
      "text/plain": [
       "              A         B         C         D\n",
       "count  7.000000  7.000000  7.000000  7.000000\n",
       "mean   0.497737 -0.218990  0.684499 -0.626424\n",
       "std    0.865570  1.257719  0.785298  1.339869\n",
       "min   -0.389121 -2.158477 -0.205279 -2.519978\n",
       "25%   -0.250694 -0.834527  0.083026 -1.416358\n",
       "50%    0.520471 -0.513189  0.662598 -0.865990\n",
       "75%    0.962362  0.626672  1.058386  0.221213\n",
       "max    1.929471  1.554445  2.051351  1.391289"
      ]
     },
     "execution_count": 27,
     "metadata": {},
     "output_type": "execute_result"
    }
   ],
   "source": [
    "# 통계요약: 개수, 평균, 표준편차, 최소, 25%, 50%, 75%, 최대\n",
    "df.describe()"
   ]
  },
  {
   "cell_type": "code",
   "execution_count": 28,
   "metadata": {},
   "outputs": [
    {
     "data": {
      "text/html": [
       "<div>\n",
       "<style scoped>\n",
       "    .dataframe tbody tr th:only-of-type {\n",
       "        vertical-align: middle;\n",
       "    }\n",
       "\n",
       "    .dataframe tbody tr th {\n",
       "        vertical-align: top;\n",
       "    }\n",
       "\n",
       "    .dataframe thead th {\n",
       "        text-align: right;\n",
       "    }\n",
       "</style>\n",
       "<table border=\"1\" class=\"dataframe\">\n",
       "  <thead>\n",
       "    <tr style=\"text-align: right;\">\n",
       "      <th></th>\n",
       "      <th>A</th>\n",
       "      <th>B</th>\n",
       "      <th>C</th>\n",
       "      <th>D</th>\n",
       "    </tr>\n",
       "  </thead>\n",
       "  <tbody>\n",
       "    <tr>\n",
       "      <th>2019-08-14</th>\n",
       "      <td>0.520471</td>\n",
       "      <td>1.554445</td>\n",
       "      <td>0.662598</td>\n",
       "      <td>-1.028905</td>\n",
       "    </tr>\n",
       "    <tr>\n",
       "      <th>2019-08-17</th>\n",
       "      <td>-0.192632</td>\n",
       "      <td>0.949488</td>\n",
       "      <td>0.120483</td>\n",
       "      <td>-2.519978</td>\n",
       "    </tr>\n",
       "    <tr>\n",
       "      <th>2019-08-16</th>\n",
       "      <td>-0.308756</td>\n",
       "      <td>0.303855</td>\n",
       "      <td>2.051351</td>\n",
       "      <td>0.031239</td>\n",
       "    </tr>\n",
       "    <tr>\n",
       "      <th>2019-08-15</th>\n",
       "      <td>1.929471</td>\n",
       "      <td>-0.513189</td>\n",
       "      <td>0.045570</td>\n",
       "      <td>0.411186</td>\n",
       "    </tr>\n",
       "    <tr>\n",
       "      <th>2019-08-12</th>\n",
       "      <td>0.739226</td>\n",
       "      <td>-0.609338</td>\n",
       "      <td>-0.205279</td>\n",
       "      <td>1.391289</td>\n",
       "    </tr>\n",
       "    <tr>\n",
       "      <th>2019-08-13</th>\n",
       "      <td>1.185499</td>\n",
       "      <td>-1.059717</td>\n",
       "      <td>0.928462</td>\n",
       "      <td>-0.865990</td>\n",
       "    </tr>\n",
       "    <tr>\n",
       "      <th>2019-08-18</th>\n",
       "      <td>-0.389121</td>\n",
       "      <td>-2.158477</td>\n",
       "      <td>1.188311</td>\n",
       "      <td>-1.803810</td>\n",
       "    </tr>\n",
       "  </tbody>\n",
       "</table>\n",
       "</div>"
      ],
      "text/plain": [
       "                   A         B         C         D\n",
       "2019-08-14  0.520471  1.554445  0.662598 -1.028905\n",
       "2019-08-17 -0.192632  0.949488  0.120483 -2.519978\n",
       "2019-08-16 -0.308756  0.303855  2.051351  0.031239\n",
       "2019-08-15  1.929471 -0.513189  0.045570  0.411186\n",
       "2019-08-12  0.739226 -0.609338 -0.205279  1.391289\n",
       "2019-08-13  1.185499 -1.059717  0.928462 -0.865990\n",
       "2019-08-18 -0.389121 -2.158477  1.188311 -1.803810"
      ]
     },
     "execution_count": 28,
     "metadata": {},
     "output_type": "execute_result"
    }
   ],
   "source": [
    "# B열 기준 데이터를 정렬, 내림차순\n",
    "df.sort_values( by='B', ascending=False ) # sort : 정렬, ascending : 오름차순"
   ]
  },
  {
   "cell_type": "code",
   "execution_count": 30,
   "metadata": {},
   "outputs": [
    {
     "data": {
      "text/plain": [
       "(2019-08-12   -0.205279\n",
       " 2019-08-13    0.928462\n",
       " 2019-08-14    0.662598\n",
       " 2019-08-15    0.045570\n",
       " 2019-08-16    2.051351\n",
       " 2019-08-17    0.120483\n",
       " 2019-08-18    1.188311\n",
       " Freq: D, Name: C, dtype: float64, pandas.core.series.Series)"
      ]
     },
     "execution_count": 30,
     "metadata": {},
     "output_type": "execute_result"
    }
   ],
   "source": [
    "# 특정 컬럼의 데이터만 보기 => 인덱싱 => 차원축소\n",
    "df['C'], type(df['C'])"
   ]
  },
  {
   "cell_type": "code",
   "execution_count": 31,
   "metadata": {},
   "outputs": [
    {
     "data": {
      "text/html": [
       "<div>\n",
       "<style scoped>\n",
       "    .dataframe tbody tr th:only-of-type {\n",
       "        vertical-align: middle;\n",
       "    }\n",
       "\n",
       "    .dataframe tbody tr th {\n",
       "        vertical-align: top;\n",
       "    }\n",
       "\n",
       "    .dataframe thead th {\n",
       "        text-align: right;\n",
       "    }\n",
       "</style>\n",
       "<table border=\"1\" class=\"dataframe\">\n",
       "  <thead>\n",
       "    <tr style=\"text-align: right;\">\n",
       "      <th></th>\n",
       "      <th>A</th>\n",
       "      <th>B</th>\n",
       "      <th>C</th>\n",
       "      <th>D</th>\n",
       "    </tr>\n",
       "  </thead>\n",
       "  <tbody>\n",
       "    <tr>\n",
       "      <th>2019-08-12</th>\n",
       "      <td>0.739226</td>\n",
       "      <td>-0.609338</td>\n",
       "      <td>-0.205279</td>\n",
       "      <td>1.391289</td>\n",
       "    </tr>\n",
       "    <tr>\n",
       "      <th>2019-08-13</th>\n",
       "      <td>1.185499</td>\n",
       "      <td>-1.059717</td>\n",
       "      <td>0.928462</td>\n",
       "      <td>-0.865990</td>\n",
       "    </tr>\n",
       "    <tr>\n",
       "      <th>2019-08-14</th>\n",
       "      <td>0.520471</td>\n",
       "      <td>1.554445</td>\n",
       "      <td>0.662598</td>\n",
       "      <td>-1.028905</td>\n",
       "    </tr>\n",
       "    <tr>\n",
       "      <th>2019-08-15</th>\n",
       "      <td>1.929471</td>\n",
       "      <td>-0.513189</td>\n",
       "      <td>0.045570</td>\n",
       "      <td>0.411186</td>\n",
       "    </tr>\n",
       "    <tr>\n",
       "      <th>2019-08-16</th>\n",
       "      <td>-0.308756</td>\n",
       "      <td>0.303855</td>\n",
       "      <td>2.051351</td>\n",
       "      <td>0.031239</td>\n",
       "    </tr>\n",
       "    <tr>\n",
       "      <th>2019-08-17</th>\n",
       "      <td>-0.192632</td>\n",
       "      <td>0.949488</td>\n",
       "      <td>0.120483</td>\n",
       "      <td>-2.519978</td>\n",
       "    </tr>\n",
       "    <tr>\n",
       "      <th>2019-08-18</th>\n",
       "      <td>-0.389121</td>\n",
       "      <td>-2.158477</td>\n",
       "      <td>1.188311</td>\n",
       "      <td>-1.803810</td>\n",
       "    </tr>\n",
       "  </tbody>\n",
       "</table>\n",
       "</div>"
      ],
      "text/plain": [
       "                   A         B         C         D\n",
       "2019-08-12  0.739226 -0.609338 -0.205279  1.391289\n",
       "2019-08-13  1.185499 -1.059717  0.928462 -0.865990\n",
       "2019-08-14  0.520471  1.554445  0.662598 -1.028905\n",
       "2019-08-15  1.929471 -0.513189  0.045570  0.411186\n",
       "2019-08-16 -0.308756  0.303855  2.051351  0.031239\n",
       "2019-08-17 -0.192632  0.949488  0.120483 -2.519978\n",
       "2019-08-18 -0.389121 -2.158477  1.188311 -1.803810"
      ]
     },
     "execution_count": 31,
     "metadata": {},
     "output_type": "execute_result"
    }
   ],
   "source": [
    "# 슬라이싱 : 차원유지\n",
    "df[:] # 카피동일, 처음부터 끝까지 차원카피"
   ]
  },
  {
   "cell_type": "code",
   "execution_count": 32,
   "metadata": {},
   "outputs": [
    {
     "data": {
      "text/html": [
       "<div>\n",
       "<style scoped>\n",
       "    .dataframe tbody tr th:only-of-type {\n",
       "        vertical-align: middle;\n",
       "    }\n",
       "\n",
       "    .dataframe tbody tr th {\n",
       "        vertical-align: top;\n",
       "    }\n",
       "\n",
       "    .dataframe thead th {\n",
       "        text-align: right;\n",
       "    }\n",
       "</style>\n",
       "<table border=\"1\" class=\"dataframe\">\n",
       "  <thead>\n",
       "    <tr style=\"text-align: right;\">\n",
       "      <th></th>\n",
       "      <th>A</th>\n",
       "      <th>B</th>\n",
       "      <th>C</th>\n",
       "      <th>D</th>\n",
       "    </tr>\n",
       "  </thead>\n",
       "  <tbody>\n",
       "    <tr>\n",
       "      <th>2019-08-13</th>\n",
       "      <td>1.185499</td>\n",
       "      <td>-1.059717</td>\n",
       "      <td>0.928462</td>\n",
       "      <td>-0.865990</td>\n",
       "    </tr>\n",
       "    <tr>\n",
       "      <th>2019-08-14</th>\n",
       "      <td>0.520471</td>\n",
       "      <td>1.554445</td>\n",
       "      <td>0.662598</td>\n",
       "      <td>-1.028905</td>\n",
       "    </tr>\n",
       "  </tbody>\n",
       "</table>\n",
       "</div>"
      ],
      "text/plain": [
       "                   A         B         C         D\n",
       "2019-08-13  1.185499 -1.059717  0.928462 -0.865990\n",
       "2019-08-14  0.520471  1.554445  0.662598 -1.028905"
      ]
     },
     "execution_count": 32,
     "metadata": {},
     "output_type": "execute_result"
    }
   ],
   "source": [
    "# 데이터가 슬라이싱 되서 나온다 => 차원을 유지해야 하니까 \n",
    "# a <= x < b \n",
    "df[1:3] # 인덱스 3을 제외하고 1,2 가 들어온다"
   ]
  },
  {
   "cell_type": "code",
   "execution_count": 33,
   "metadata": {},
   "outputs": [
    {
     "data": {
      "text/html": [
       "<div>\n",
       "<style scoped>\n",
       "    .dataframe tbody tr th:only-of-type {\n",
       "        vertical-align: middle;\n",
       "    }\n",
       "\n",
       "    .dataframe tbody tr th {\n",
       "        vertical-align: top;\n",
       "    }\n",
       "\n",
       "    .dataframe thead th {\n",
       "        text-align: right;\n",
       "    }\n",
       "</style>\n",
       "<table border=\"1\" class=\"dataframe\">\n",
       "  <thead>\n",
       "    <tr style=\"text-align: right;\">\n",
       "      <th></th>\n",
       "      <th>A</th>\n",
       "      <th>B</th>\n",
       "      <th>C</th>\n",
       "      <th>D</th>\n",
       "    </tr>\n",
       "  </thead>\n",
       "  <tbody>\n",
       "    <tr>\n",
       "      <th>2019-08-13</th>\n",
       "      <td>1.185499</td>\n",
       "      <td>-1.059717</td>\n",
       "      <td>0.928462</td>\n",
       "      <td>-0.865990</td>\n",
       "    </tr>\n",
       "    <tr>\n",
       "      <th>2019-08-14</th>\n",
       "      <td>0.520471</td>\n",
       "      <td>1.554445</td>\n",
       "      <td>0.662598</td>\n",
       "      <td>-1.028905</td>\n",
       "    </tr>\n",
       "    <tr>\n",
       "      <th>2019-08-15</th>\n",
       "      <td>1.929471</td>\n",
       "      <td>-0.513189</td>\n",
       "      <td>0.045570</td>\n",
       "      <td>0.411186</td>\n",
       "    </tr>\n",
       "  </tbody>\n",
       "</table>\n",
       "</div>"
      ],
      "text/plain": [
       "                   A         B         C         D\n",
       "2019-08-13  1.185499 -1.059717  0.928462 -0.865990\n",
       "2019-08-14  0.520471  1.554445  0.662598 -1.028905\n",
       "2019-08-15  1.929471 -0.513189  0.045570  0.411186"
      ]
     },
     "execution_count": 33,
     "metadata": {},
     "output_type": "execute_result"
    }
   ],
   "source": [
    "# 슬라이싱을 하는데 인덱싱값이 아닌, 실제값으로 자르기\n",
    "# a <= x <= b \n",
    "df[ '2019-08-13':'2019-08-15' ]"
   ]
  },
  {
   "cell_type": "markdown",
   "metadata": {},
   "source": [
    "- 전통적인 인덱싱과 슬라이싱을 진행하면 표현의 한계점에 도달\n",
    "- 이를 극복하기 위해서  pandas만의 데이터 추출법이 추가가 되었다\n",
    "- loc, iloc <= 이 2개를 주로 사용한다\n",
    "- 연속데이터에 대한 추출 <-> 비연속 데이터들의 추출법 (펜시인덱싱, 쿼리수행등등)"
   ]
  },
  {
   "cell_type": "markdown",
   "metadata": {},
   "source": [
    "### loc"
   ]
  },
  {
   "cell_type": "code",
   "execution_count": 35,
   "metadata": {},
   "outputs": [
    {
     "data": {
      "text/plain": [
       "(A    0.739226\n",
       " B   -0.609338\n",
       " C   -0.205279\n",
       " D    1.391289\n",
       " Name: 2019-08-12 00:00:00, dtype: float64, pandas.core.series.Series)"
      ]
     },
     "execution_count": 35,
     "metadata": {},
     "output_type": "execute_result"
    }
   ],
   "source": [
    "# 위에서까지는 dataframe에 대한것에 대해서 알았으니, 이젠 뽑는것에 대해서 알아본다\n",
    "# loc : location 정보를 옵션으로 하여 슬라이싱 지원\n",
    "# loc를 통한 데이터 추출\n",
    "# df.loc[ '인덱스명' ]\n",
    "df.loc[ '2019-08-12' ], type(df.loc[ '2019-08-12' ]) # []로 진행된다 : loc은 함수라기보단 맴버변수에 가깝다는 뜻\n",
    "# 전체데이터중에서 8월12일에 해당되는 것만추출, 위에서 df로 표현을 하면 컬럼만을 가져오게 되어 상세히 표현못함"
   ]
  },
  {
   "cell_type": "code",
   "execution_count": 36,
   "metadata": {},
   "outputs": [
    {
     "data": {
      "text/html": [
       "<div>\n",
       "<style scoped>\n",
       "    .dataframe tbody tr th:only-of-type {\n",
       "        vertical-align: middle;\n",
       "    }\n",
       "\n",
       "    .dataframe tbody tr th {\n",
       "        vertical-align: top;\n",
       "    }\n",
       "\n",
       "    .dataframe thead th {\n",
       "        text-align: right;\n",
       "    }\n",
       "</style>\n",
       "<table border=\"1\" class=\"dataframe\">\n",
       "  <thead>\n",
       "    <tr style=\"text-align: right;\">\n",
       "      <th></th>\n",
       "      <th>A</th>\n",
       "      <th>B</th>\n",
       "      <th>C</th>\n",
       "      <th>D</th>\n",
       "    </tr>\n",
       "  </thead>\n",
       "  <tbody>\n",
       "    <tr>\n",
       "      <th>2019-08-12</th>\n",
       "      <td>0.739226</td>\n",
       "      <td>-0.609338</td>\n",
       "      <td>-0.205279</td>\n",
       "      <td>1.391289</td>\n",
       "    </tr>\n",
       "    <tr>\n",
       "      <th>2019-08-13</th>\n",
       "      <td>1.185499</td>\n",
       "      <td>-1.059717</td>\n",
       "      <td>0.928462</td>\n",
       "      <td>-0.865990</td>\n",
       "    </tr>\n",
       "    <tr>\n",
       "      <th>2019-08-14</th>\n",
       "      <td>0.520471</td>\n",
       "      <td>1.554445</td>\n",
       "      <td>0.662598</td>\n",
       "      <td>-1.028905</td>\n",
       "    </tr>\n",
       "    <tr>\n",
       "      <th>2019-08-15</th>\n",
       "      <td>1.929471</td>\n",
       "      <td>-0.513189</td>\n",
       "      <td>0.045570</td>\n",
       "      <td>0.411186</td>\n",
       "    </tr>\n",
       "    <tr>\n",
       "      <th>2019-08-16</th>\n",
       "      <td>-0.308756</td>\n",
       "      <td>0.303855</td>\n",
       "      <td>2.051351</td>\n",
       "      <td>0.031239</td>\n",
       "    </tr>\n",
       "    <tr>\n",
       "      <th>2019-08-17</th>\n",
       "      <td>-0.192632</td>\n",
       "      <td>0.949488</td>\n",
       "      <td>0.120483</td>\n",
       "      <td>-2.519978</td>\n",
       "    </tr>\n",
       "    <tr>\n",
       "      <th>2019-08-18</th>\n",
       "      <td>-0.389121</td>\n",
       "      <td>-2.158477</td>\n",
       "      <td>1.188311</td>\n",
       "      <td>-1.803810</td>\n",
       "    </tr>\n",
       "  </tbody>\n",
       "</table>\n",
       "</div>"
      ],
      "text/plain": [
       "                   A         B         C         D\n",
       "2019-08-12  0.739226 -0.609338 -0.205279  1.391289\n",
       "2019-08-13  1.185499 -1.059717  0.928462 -0.865990\n",
       "2019-08-14  0.520471  1.554445  0.662598 -1.028905\n",
       "2019-08-15  1.929471 -0.513189  0.045570  0.411186\n",
       "2019-08-16 -0.308756  0.303855  2.051351  0.031239\n",
       "2019-08-17 -0.192632  0.949488  0.120483 -2.519978\n",
       "2019-08-18 -0.389121 -2.158477  1.188311 -1.803810"
      ]
     },
     "execution_count": 36,
     "metadata": {},
     "output_type": "execute_result"
    }
   ],
   "source": [
    "# 원본카피 -> 원본그대로 나온다\n",
    "df.loc[ : ] "
   ]
  },
  {
   "cell_type": "code",
   "execution_count": 37,
   "metadata": {},
   "outputs": [
    {
     "data": {
      "text/html": [
       "<div>\n",
       "<style scoped>\n",
       "    .dataframe tbody tr th:only-of-type {\n",
       "        vertical-align: middle;\n",
       "    }\n",
       "\n",
       "    .dataframe tbody tr th {\n",
       "        vertical-align: top;\n",
       "    }\n",
       "\n",
       "    .dataframe thead th {\n",
       "        text-align: right;\n",
       "    }\n",
       "</style>\n",
       "<table border=\"1\" class=\"dataframe\">\n",
       "  <thead>\n",
       "    <tr style=\"text-align: right;\">\n",
       "      <th></th>\n",
       "      <th>A</th>\n",
       "      <th>C</th>\n",
       "    </tr>\n",
       "  </thead>\n",
       "  <tbody>\n",
       "    <tr>\n",
       "      <th>2019-08-12</th>\n",
       "      <td>0.739226</td>\n",
       "      <td>-0.205279</td>\n",
       "    </tr>\n",
       "    <tr>\n",
       "      <th>2019-08-13</th>\n",
       "      <td>1.185499</td>\n",
       "      <td>0.928462</td>\n",
       "    </tr>\n",
       "    <tr>\n",
       "      <th>2019-08-14</th>\n",
       "      <td>0.520471</td>\n",
       "      <td>0.662598</td>\n",
       "    </tr>\n",
       "    <tr>\n",
       "      <th>2019-08-15</th>\n",
       "      <td>1.929471</td>\n",
       "      <td>0.045570</td>\n",
       "    </tr>\n",
       "    <tr>\n",
       "      <th>2019-08-16</th>\n",
       "      <td>-0.308756</td>\n",
       "      <td>2.051351</td>\n",
       "    </tr>\n",
       "    <tr>\n",
       "      <th>2019-08-17</th>\n",
       "      <td>-0.192632</td>\n",
       "      <td>0.120483</td>\n",
       "    </tr>\n",
       "    <tr>\n",
       "      <th>2019-08-18</th>\n",
       "      <td>-0.389121</td>\n",
       "      <td>1.188311</td>\n",
       "    </tr>\n",
       "  </tbody>\n",
       "</table>\n",
       "</div>"
      ],
      "text/plain": [
       "                   A         C\n",
       "2019-08-12  0.739226 -0.205279\n",
       "2019-08-13  1.185499  0.928462\n",
       "2019-08-14  0.520471  0.662598\n",
       "2019-08-15  1.929471  0.045570\n",
       "2019-08-16 -0.308756  2.051351\n",
       "2019-08-17 -0.192632  0.120483\n",
       "2019-08-18 -0.389121  1.188311"
      ]
     },
     "execution_count": 37,
     "metadata": {},
     "output_type": "execute_result"
    }
   ],
   "source": [
    "# 인덱스쪽은 전부 포함시키고(1차원만 해석한다), 컬럼은 A,C만 포함(2차원만 해석한다)\n",
    "# 1차원, 2차원을 각각 표현한다는것이 중요하다\n",
    "df.loc[ : , ['A','C'] ] "
   ]
  },
  {
   "cell_type": "code",
   "execution_count": 38,
   "metadata": {},
   "outputs": [
    {
     "data": {
      "text/plain": [
       "2019-08-12    0.739226\n",
       "2019-08-13    1.185499\n",
       "2019-08-14    0.520471\n",
       "2019-08-15    1.929471\n",
       "2019-08-16   -0.308756\n",
       "2019-08-17   -0.192632\n",
       "2019-08-18   -0.389121\n",
       "Freq: D, Name: A, dtype: float64"
      ]
     },
     "execution_count": 38,
     "metadata": {},
     "output_type": "execute_result"
    }
   ],
   "source": [
    "# 차원이 축소가 된다.( 2차원을 건드리는 것이다)\n",
    "df.loc[ : , 'A' ]"
   ]
  },
  {
   "cell_type": "code",
   "execution_count": 39,
   "metadata": {},
   "outputs": [
    {
     "data": {
      "text/html": [
       "<div>\n",
       "<style scoped>\n",
       "    .dataframe tbody tr th:only-of-type {\n",
       "        vertical-align: middle;\n",
       "    }\n",
       "\n",
       "    .dataframe tbody tr th {\n",
       "        vertical-align: top;\n",
       "    }\n",
       "\n",
       "    .dataframe thead th {\n",
       "        text-align: right;\n",
       "    }\n",
       "</style>\n",
       "<table border=\"1\" class=\"dataframe\">\n",
       "  <thead>\n",
       "    <tr style=\"text-align: right;\">\n",
       "      <th></th>\n",
       "      <th>A</th>\n",
       "    </tr>\n",
       "  </thead>\n",
       "  <tbody>\n",
       "    <tr>\n",
       "      <th>2019-08-12</th>\n",
       "      <td>0.739226</td>\n",
       "    </tr>\n",
       "    <tr>\n",
       "      <th>2019-08-13</th>\n",
       "      <td>1.185499</td>\n",
       "    </tr>\n",
       "    <tr>\n",
       "      <th>2019-08-14</th>\n",
       "      <td>0.520471</td>\n",
       "    </tr>\n",
       "    <tr>\n",
       "      <th>2019-08-15</th>\n",
       "      <td>1.929471</td>\n",
       "    </tr>\n",
       "    <tr>\n",
       "      <th>2019-08-16</th>\n",
       "      <td>-0.308756</td>\n",
       "    </tr>\n",
       "    <tr>\n",
       "      <th>2019-08-17</th>\n",
       "      <td>-0.192632</td>\n",
       "    </tr>\n",
       "    <tr>\n",
       "      <th>2019-08-18</th>\n",
       "      <td>-0.389121</td>\n",
       "    </tr>\n",
       "  </tbody>\n",
       "</table>\n",
       "</div>"
      ],
      "text/plain": [
       "                   A\n",
       "2019-08-12  0.739226\n",
       "2019-08-13  1.185499\n",
       "2019-08-14  0.520471\n",
       "2019-08-15  1.929471\n",
       "2019-08-16 -0.308756\n",
       "2019-08-17 -0.192632\n",
       "2019-08-18 -0.389121"
      ]
     },
     "execution_count": 39,
     "metadata": {},
     "output_type": "execute_result"
    }
   ],
   "source": [
    "# 차원을 유지하는 것이다.( 2차원을 건드리는 것이다)\n",
    "df.loc[ : , ['A'] ]"
   ]
  },
  {
   "cell_type": "code",
   "execution_count": 40,
   "metadata": {},
   "outputs": [
    {
     "data": {
      "text/html": [
       "<div>\n",
       "<style scoped>\n",
       "    .dataframe tbody tr th:only-of-type {\n",
       "        vertical-align: middle;\n",
       "    }\n",
       "\n",
       "    .dataframe tbody tr th {\n",
       "        vertical-align: top;\n",
       "    }\n",
       "\n",
       "    .dataframe thead th {\n",
       "        text-align: right;\n",
       "    }\n",
       "</style>\n",
       "<table border=\"1\" class=\"dataframe\">\n",
       "  <thead>\n",
       "    <tr style=\"text-align: right;\">\n",
       "      <th></th>\n",
       "      <th>A</th>\n",
       "      <th>C</th>\n",
       "    </tr>\n",
       "  </thead>\n",
       "  <tbody>\n",
       "    <tr>\n",
       "      <th>2019-08-13</th>\n",
       "      <td>1.185499</td>\n",
       "      <td>0.928462</td>\n",
       "    </tr>\n",
       "    <tr>\n",
       "      <th>2019-08-14</th>\n",
       "      <td>0.520471</td>\n",
       "      <td>0.662598</td>\n",
       "    </tr>\n",
       "    <tr>\n",
       "      <th>2019-08-15</th>\n",
       "      <td>1.929471</td>\n",
       "      <td>0.045570</td>\n",
       "    </tr>\n",
       "  </tbody>\n",
       "</table>\n",
       "</div>"
      ],
      "text/plain": [
       "                   A         C\n",
       "2019-08-13  1.185499  0.928462\n",
       "2019-08-14  0.520471  0.662598\n",
       "2019-08-15  1.929471  0.045570"
      ]
     },
     "execution_count": 40,
     "metadata": {},
     "output_type": "execute_result"
    }
   ],
   "source": [
    "# 차원유지\n",
    "df.loc[ '2019-08-13':'2019-08-15' , ['A','C'] ]"
   ]
  },
  {
   "cell_type": "code",
   "execution_count": 41,
   "metadata": {},
   "outputs": [
    {
     "data": {
      "text/plain": [
       "A    1.185499\n",
       "C    0.928462\n",
       "Name: 2019-08-13 00:00:00, dtype: float64"
      ]
     },
     "execution_count": 41,
     "metadata": {},
     "output_type": "execute_result"
    }
   ],
   "source": [
    "# 차원축소 -> 인덱스를 한개만 지정\n",
    "df.loc[ '2019-08-13' , ['A','C'] ]"
   ]
  },
  {
   "cell_type": "code",
   "execution_count": 42,
   "metadata": {},
   "outputs": [
    {
     "ename": "SyntaxError",
     "evalue": "invalid syntax (<ipython-input-42-4a6b4549897b>, line 4)",
     "output_type": "error",
     "traceback": [
      "\u001b[1;36m  File \u001b[1;32m\"<ipython-input-42-4a6b4549897b>\"\u001b[1;36m, line \u001b[1;32m4\u001b[0m\n\u001b[1;33m    df.loc[ ['2019-08-13':'2019-08-13'] , ['A','C'] ]\u001b[0m\n\u001b[1;37m                         ^\u001b[0m\n\u001b[1;31mSyntaxError\u001b[0m\u001b[1;31m:\u001b[0m invalid syntax\n"
     ]
    }
   ],
   "source": [
    "# error\n",
    "df.loc[ ['2019-08-13'] , ['A','C'] ]\n",
    "# error\n",
    "df.loc[ ['2019-08-13':'2019-08-13'] , ['A','C'] ]"
   ]
  },
  {
   "cell_type": "code",
   "execution_count": 43,
   "metadata": {},
   "outputs": [
    {
     "data": {
      "text/html": [
       "<div>\n",
       "<style scoped>\n",
       "    .dataframe tbody tr th:only-of-type {\n",
       "        vertical-align: middle;\n",
       "    }\n",
       "\n",
       "    .dataframe tbody tr th {\n",
       "        vertical-align: top;\n",
       "    }\n",
       "\n",
       "    .dataframe thead th {\n",
       "        text-align: right;\n",
       "    }\n",
       "</style>\n",
       "<table border=\"1\" class=\"dataframe\">\n",
       "  <thead>\n",
       "    <tr style=\"text-align: right;\">\n",
       "      <th></th>\n",
       "      <th>A</th>\n",
       "      <th>C</th>\n",
       "    </tr>\n",
       "  </thead>\n",
       "  <tbody>\n",
       "    <tr>\n",
       "      <th>2019-08-13</th>\n",
       "      <td>1.185499</td>\n",
       "      <td>0.928462</td>\n",
       "    </tr>\n",
       "  </tbody>\n",
       "</table>\n",
       "</div>"
      ],
      "text/plain": [
       "                   A         C\n",
       "2019-08-13  1.185499  0.928462"
      ]
     },
     "execution_count": 43,
     "metadata": {},
     "output_type": "execute_result"
    }
   ],
   "source": [
    "df.loc[ '2019-08-13':'2019-08-13' , ['A','C'] ]"
   ]
  },
  {
   "cell_type": "code",
   "execution_count": 44,
   "metadata": {},
   "outputs": [
    {
     "data": {
      "text/plain": [
       "1.1854988124337689"
      ]
     },
     "execution_count": 44,
     "metadata": {},
     "output_type": "execute_result"
    }
   ],
   "source": [
    "# 차원축소가 2회 진행하는 것이다. -> 스칼라(값)\n",
    "df.loc[ '2019-08-13' , 'A' ]"
   ]
  },
  {
   "cell_type": "markdown",
   "metadata": {},
   "source": [
    "### iloc\n",
    "- 펜시인덱싱과 유사하다\n",
    "- 행과 열의 번호를 이용하여 데이터를 접근하는 방식\n",
    "- i -> index"
   ]
  },
  {
   "cell_type": "code",
   "execution_count": 47,
   "metadata": {},
   "outputs": [
    {
     "data": {
      "text/html": [
       "<div>\n",
       "<style scoped>\n",
       "    .dataframe tbody tr th:only-of-type {\n",
       "        vertical-align: middle;\n",
       "    }\n",
       "\n",
       "    .dataframe tbody tr th {\n",
       "        vertical-align: top;\n",
       "    }\n",
       "\n",
       "    .dataframe thead th {\n",
       "        text-align: right;\n",
       "    }\n",
       "</style>\n",
       "<table border=\"1\" class=\"dataframe\">\n",
       "  <thead>\n",
       "    <tr style=\"text-align: right;\">\n",
       "      <th></th>\n",
       "      <th>A</th>\n",
       "      <th>B</th>\n",
       "      <th>C</th>\n",
       "      <th>D</th>\n",
       "    </tr>\n",
       "  </thead>\n",
       "  <tbody>\n",
       "    <tr>\n",
       "      <th>2019-08-12</th>\n",
       "      <td>0.739226</td>\n",
       "      <td>-0.609338</td>\n",
       "      <td>-0.205279</td>\n",
       "      <td>1.391289</td>\n",
       "    </tr>\n",
       "    <tr>\n",
       "      <th>2019-08-13</th>\n",
       "      <td>1.185499</td>\n",
       "      <td>-1.059717</td>\n",
       "      <td>0.928462</td>\n",
       "      <td>-0.865990</td>\n",
       "    </tr>\n",
       "    <tr>\n",
       "      <th>2019-08-14</th>\n",
       "      <td>0.520471</td>\n",
       "      <td>1.554445</td>\n",
       "      <td>0.662598</td>\n",
       "      <td>-1.028905</td>\n",
       "    </tr>\n",
       "    <tr>\n",
       "      <th>2019-08-15</th>\n",
       "      <td>1.929471</td>\n",
       "      <td>-0.513189</td>\n",
       "      <td>0.045570</td>\n",
       "      <td>0.411186</td>\n",
       "    </tr>\n",
       "    <tr>\n",
       "      <th>2019-08-16</th>\n",
       "      <td>-0.308756</td>\n",
       "      <td>0.303855</td>\n",
       "      <td>2.051351</td>\n",
       "      <td>0.031239</td>\n",
       "    </tr>\n",
       "    <tr>\n",
       "      <th>2019-08-17</th>\n",
       "      <td>-0.192632</td>\n",
       "      <td>0.949488</td>\n",
       "      <td>0.120483</td>\n",
       "      <td>-2.519978</td>\n",
       "    </tr>\n",
       "    <tr>\n",
       "      <th>2019-08-18</th>\n",
       "      <td>-0.389121</td>\n",
       "      <td>-2.158477</td>\n",
       "      <td>1.188311</td>\n",
       "      <td>-1.803810</td>\n",
       "    </tr>\n",
       "  </tbody>\n",
       "</table>\n",
       "</div>"
      ],
      "text/plain": [
       "                   A         B         C         D\n",
       "2019-08-12  0.739226 -0.609338 -0.205279  1.391289\n",
       "2019-08-13  1.185499 -1.059717  0.928462 -0.865990\n",
       "2019-08-14  0.520471  1.554445  0.662598 -1.028905\n",
       "2019-08-15  1.929471 -0.513189  0.045570  0.411186\n",
       "2019-08-16 -0.308756  0.303855  2.051351  0.031239\n",
       "2019-08-17 -0.192632  0.949488  0.120483 -2.519978\n",
       "2019-08-18 -0.389121 -2.158477  1.188311 -1.803810"
      ]
     },
     "execution_count": 47,
     "metadata": {},
     "output_type": "execute_result"
    }
   ],
   "source": [
    "df"
   ]
  },
  {
   "cell_type": "code",
   "execution_count": 45,
   "metadata": {},
   "outputs": [
    {
     "data": {
      "text/plain": [
       "A    1.185499\n",
       "B   -1.059717\n",
       "C    0.928462\n",
       "D   -0.865990\n",
       "Name: 2019-08-13 00:00:00, dtype: float64"
      ]
     },
     "execution_count": 45,
     "metadata": {},
     "output_type": "execute_result"
    }
   ],
   "source": [
    "# 2019-08-13일자 데이터 추출\n",
    "# 1 => 인덱스값이 1인 데이터\n",
    "df.iloc[ 1 ]"
   ]
  },
  {
   "cell_type": "code",
   "execution_count": 48,
   "metadata": {},
   "outputs": [
    {
     "data": {
      "text/html": [
       "<div>\n",
       "<style scoped>\n",
       "    .dataframe tbody tr th:only-of-type {\n",
       "        vertical-align: middle;\n",
       "    }\n",
       "\n",
       "    .dataframe tbody tr th {\n",
       "        vertical-align: top;\n",
       "    }\n",
       "\n",
       "    .dataframe thead th {\n",
       "        text-align: right;\n",
       "    }\n",
       "</style>\n",
       "<table border=\"1\" class=\"dataframe\">\n",
       "  <thead>\n",
       "    <tr style=\"text-align: right;\">\n",
       "      <th></th>\n",
       "      <th>B</th>\n",
       "      <th>C</th>\n",
       "    </tr>\n",
       "  </thead>\n",
       "  <tbody>\n",
       "    <tr>\n",
       "      <th>2019-08-13</th>\n",
       "      <td>-1.059717</td>\n",
       "      <td>0.928462</td>\n",
       "    </tr>\n",
       "    <tr>\n",
       "      <th>2019-08-14</th>\n",
       "      <td>1.554445</td>\n",
       "      <td>0.662598</td>\n",
       "    </tr>\n",
       "  </tbody>\n",
       "</table>\n",
       "</div>"
      ],
      "text/plain": [
       "                   B         C\n",
       "2019-08-13 -1.059717  0.928462\n",
       "2019-08-14  1.554445  0.662598"
      ]
     },
     "execution_count": 48,
     "metadata": {},
     "output_type": "execute_result"
    }
   ],
   "source": [
    "# iloc 슬라이싱\n",
    "# a <= index < b, c <= column < d\n",
    "df.iloc[ 1:3, 1:3 ]"
   ]
  },
  {
   "cell_type": "code",
   "execution_count": 49,
   "metadata": {
    "scrolled": true
   },
   "outputs": [
    {
     "data": {
      "text/html": [
       "<div>\n",
       "<style scoped>\n",
       "    .dataframe tbody tr th:only-of-type {\n",
       "        vertical-align: middle;\n",
       "    }\n",
       "\n",
       "    .dataframe tbody tr th {\n",
       "        vertical-align: top;\n",
       "    }\n",
       "\n",
       "    .dataframe thead th {\n",
       "        text-align: right;\n",
       "    }\n",
       "</style>\n",
       "<table border=\"1\" class=\"dataframe\">\n",
       "  <thead>\n",
       "    <tr style=\"text-align: right;\">\n",
       "      <th></th>\n",
       "      <th>A</th>\n",
       "      <th>C</th>\n",
       "    </tr>\n",
       "  </thead>\n",
       "  <tbody>\n",
       "    <tr>\n",
       "      <th>2019-08-13</th>\n",
       "      <td>1.185499</td>\n",
       "      <td>0.928462</td>\n",
       "    </tr>\n",
       "    <tr>\n",
       "      <th>2019-08-16</th>\n",
       "      <td>-0.308756</td>\n",
       "      <td>2.051351</td>\n",
       "    </tr>\n",
       "    <tr>\n",
       "      <th>2019-08-14</th>\n",
       "      <td>0.520471</td>\n",
       "      <td>0.662598</td>\n",
       "    </tr>\n",
       "  </tbody>\n",
       "</table>\n",
       "</div>"
      ],
      "text/plain": [
       "                   A         C\n",
       "2019-08-13  1.185499  0.928462\n",
       "2019-08-16 -0.308756  2.051351\n",
       "2019-08-14  0.520471  0.662598"
      ]
     },
     "execution_count": 49,
     "metadata": {},
     "output_type": "execute_result"
    }
   ],
   "source": [
    "# iloc + 펜시인덱싱 기법 사용 ( 인덱스, 컬럼을 비연속적 위치를 나열 )\n",
    "df.iloc[ [1,4,2] , [0,2] ]"
   ]
  },
  {
   "cell_type": "code",
   "execution_count": 50,
   "metadata": {},
   "outputs": [
    {
     "data": {
      "text/html": [
       "<div>\n",
       "<style scoped>\n",
       "    .dataframe tbody tr th:only-of-type {\n",
       "        vertical-align: middle;\n",
       "    }\n",
       "\n",
       "    .dataframe tbody tr th {\n",
       "        vertical-align: top;\n",
       "    }\n",
       "\n",
       "    .dataframe thead th {\n",
       "        text-align: right;\n",
       "    }\n",
       "</style>\n",
       "<table border=\"1\" class=\"dataframe\">\n",
       "  <thead>\n",
       "    <tr style=\"text-align: right;\">\n",
       "      <th></th>\n",
       "      <th>A</th>\n",
       "      <th>B</th>\n",
       "      <th>C</th>\n",
       "      <th>D</th>\n",
       "    </tr>\n",
       "  </thead>\n",
       "  <tbody>\n",
       "    <tr>\n",
       "      <th>2019-08-13</th>\n",
       "      <td>1.185499</td>\n",
       "      <td>-1.059717</td>\n",
       "      <td>0.928462</td>\n",
       "      <td>-0.865990</td>\n",
       "    </tr>\n",
       "    <tr>\n",
       "      <th>2019-08-14</th>\n",
       "      <td>0.520471</td>\n",
       "      <td>1.554445</td>\n",
       "      <td>0.662598</td>\n",
       "      <td>-1.028905</td>\n",
       "    </tr>\n",
       "    <tr>\n",
       "      <th>2019-08-15</th>\n",
       "      <td>1.929471</td>\n",
       "      <td>-0.513189</td>\n",
       "      <td>0.045570</td>\n",
       "      <td>0.411186</td>\n",
       "    </tr>\n",
       "    <tr>\n",
       "      <th>2019-08-16</th>\n",
       "      <td>-0.308756</td>\n",
       "      <td>0.303855</td>\n",
       "      <td>2.051351</td>\n",
       "      <td>0.031239</td>\n",
       "    </tr>\n",
       "    <tr>\n",
       "      <th>2019-08-17</th>\n",
       "      <td>-0.192632</td>\n",
       "      <td>0.949488</td>\n",
       "      <td>0.120483</td>\n",
       "      <td>-2.519978</td>\n",
       "    </tr>\n",
       "    <tr>\n",
       "      <th>2019-08-18</th>\n",
       "      <td>-0.389121</td>\n",
       "      <td>-2.158477</td>\n",
       "      <td>1.188311</td>\n",
       "      <td>-1.803810</td>\n",
       "    </tr>\n",
       "  </tbody>\n",
       "</table>\n",
       "</div>"
      ],
      "text/plain": [
       "                   A         B         C         D\n",
       "2019-08-13  1.185499 -1.059717  0.928462 -0.865990\n",
       "2019-08-14  0.520471  1.554445  0.662598 -1.028905\n",
       "2019-08-15  1.929471 -0.513189  0.045570  0.411186\n",
       "2019-08-16 -0.308756  0.303855  2.051351  0.031239\n",
       "2019-08-17 -0.192632  0.949488  0.120483 -2.519978\n",
       "2019-08-18 -0.389121 -2.158477  1.188311 -1.803810"
      ]
     },
     "execution_count": 50,
     "metadata": {},
     "output_type": "execute_result"
    }
   ],
   "source": [
    "# 특정 조건에 만족하는 데이터만 추출\n",
    "# 데이터프레임이 생성되면 컬러명은 맴버변수로 자동생성됨 : df.(스크롤안에 A,B,C,D가 나옴)\n",
    "# C컬럼에 존재하는 데이터중에 양수만(양수면: True, 음수면: False)\n",
    "# 조건을 부여하여 블리언 데이터를 만들어 참만 포함시키는 방식 : 블리언(2진데이터와 같은 맥락이다: 참,거짓 밖에 없기 때문이다) 인덱싱\n",
    "# 전형적인 슬라이싱 기법에 기반(?)\n",
    "# 특정조건만을 만족시키는 것만 살게하고 싶으면 조건을 쓰면된다\n",
    "# [ T, F, F, F, T, T, T ] 데이터를 and하면 참만 살아남아서 아래와 같은 결과를 발생\n",
    "# df에 식을 치면 => 전체 구성원에 전부다 연산이 진행된다\n",
    "# 행렬 (연산) 값 => 각 구성원에 일일이 다 연산하는것과 동일\n",
    "df[ df.C > 0 ] # -> 벡터에 스칼라 기법이기때문에 부등호가 들어간 수식작성 가능"
   ]
  },
  {
   "cell_type": "code",
   "execution_count": 52,
   "metadata": {},
   "outputs": [
    {
     "data": {
      "text/html": [
       "<div>\n",
       "<style scoped>\n",
       "    .dataframe tbody tr th:only-of-type {\n",
       "        vertical-align: middle;\n",
       "    }\n",
       "\n",
       "    .dataframe tbody tr th {\n",
       "        vertical-align: top;\n",
       "    }\n",
       "\n",
       "    .dataframe thead th {\n",
       "        text-align: right;\n",
       "    }\n",
       "</style>\n",
       "<table border=\"1\" class=\"dataframe\">\n",
       "  <thead>\n",
       "    <tr style=\"text-align: right;\">\n",
       "      <th></th>\n",
       "      <th>A</th>\n",
       "      <th>B</th>\n",
       "      <th>C</th>\n",
       "      <th>D</th>\n",
       "    </tr>\n",
       "  </thead>\n",
       "  <tbody>\n",
       "    <tr>\n",
       "      <th>2019-08-12</th>\n",
       "      <td>0.739226</td>\n",
       "      <td>NaN</td>\n",
       "      <td>NaN</td>\n",
       "      <td>1.391289</td>\n",
       "    </tr>\n",
       "    <tr>\n",
       "      <th>2019-08-13</th>\n",
       "      <td>1.185499</td>\n",
       "      <td>NaN</td>\n",
       "      <td>0.928462</td>\n",
       "      <td>NaN</td>\n",
       "    </tr>\n",
       "    <tr>\n",
       "      <th>2019-08-14</th>\n",
       "      <td>0.520471</td>\n",
       "      <td>1.554445</td>\n",
       "      <td>0.662598</td>\n",
       "      <td>NaN</td>\n",
       "    </tr>\n",
       "    <tr>\n",
       "      <th>2019-08-15</th>\n",
       "      <td>1.929471</td>\n",
       "      <td>NaN</td>\n",
       "      <td>0.045570</td>\n",
       "      <td>0.411186</td>\n",
       "    </tr>\n",
       "    <tr>\n",
       "      <th>2019-08-16</th>\n",
       "      <td>NaN</td>\n",
       "      <td>0.303855</td>\n",
       "      <td>2.051351</td>\n",
       "      <td>0.031239</td>\n",
       "    </tr>\n",
       "    <tr>\n",
       "      <th>2019-08-17</th>\n",
       "      <td>NaN</td>\n",
       "      <td>0.949488</td>\n",
       "      <td>0.120483</td>\n",
       "      <td>NaN</td>\n",
       "    </tr>\n",
       "    <tr>\n",
       "      <th>2019-08-18</th>\n",
       "      <td>NaN</td>\n",
       "      <td>NaN</td>\n",
       "      <td>1.188311</td>\n",
       "      <td>NaN</td>\n",
       "    </tr>\n",
       "  </tbody>\n",
       "</table>\n",
       "</div>"
      ],
      "text/plain": [
       "                   A         B         C         D\n",
       "2019-08-12  0.739226       NaN       NaN  1.391289\n",
       "2019-08-13  1.185499       NaN  0.928462       NaN\n",
       "2019-08-14  0.520471  1.554445  0.662598       NaN\n",
       "2019-08-15  1.929471       NaN  0.045570  0.411186\n",
       "2019-08-16       NaN  0.303855  2.051351  0.031239\n",
       "2019-08-17       NaN  0.949488  0.120483       NaN\n",
       "2019-08-18       NaN       NaN  1.188311       NaN"
      ]
     },
     "execution_count": 52,
     "metadata": {},
     "output_type": "execute_result"
    }
   ],
   "source": [
    "# 데이터 전체를 기준으로 0보다 큰가? -> 대상은 살아남고 비대상은 NaN대체(결과확인)\n",
    "#                                    -> 0보다 같거나 작은 데이터들은? NaN 대체\n",
    "df[ df > 0 ]"
   ]
  },
  {
   "cell_type": "code",
   "execution_count": 54,
   "metadata": {},
   "outputs": [
    {
     "data": {
      "text/plain": [
       "(                   A         B         C         D\n",
       " 2019-08-12  0.739226 -0.609338 -0.205279  1.391289\n",
       " 2019-08-13  1.185499 -1.059717  0.928462 -0.865990\n",
       " 2019-08-14  0.520471  1.554445  0.662598 -1.028905\n",
       " 2019-08-15  1.929471 -0.513189  0.045570  0.411186\n",
       " 2019-08-16 -0.308756  0.303855  2.051351  0.031239\n",
       " 2019-08-17 -0.192632  0.949488  0.120483 -2.519978\n",
       " 2019-08-18 -0.389121 -2.158477  1.188311 -1.803810,\n",
       "                    A         B         C         D\n",
       " 2019-08-12  0.739226 -0.609338 -0.205279  1.391289\n",
       " 2019-08-13  1.185499 -1.059717  0.928462 -0.865990\n",
       " 2019-08-14  0.520471  1.554445  0.662598 -1.028905\n",
       " 2019-08-15  1.929471 -0.513189  0.045570  0.411186\n",
       " 2019-08-16 -0.308756  0.303855  2.051351  0.031239\n",
       " 2019-08-17 -0.192632  0.949488  0.120483 -2.519978\n",
       " 2019-08-18 -0.389121 -2.158477  1.188311 -1.803810)"
      ]
     },
     "execution_count": 54,
     "metadata": {},
     "output_type": "execute_result"
    }
   ],
   "source": [
    "# 복사\n",
    "df.copy(), df[:]"
   ]
  },
  {
   "cell_type": "code",
   "execution_count": 55,
   "metadata": {},
   "outputs": [
    {
     "data": {
      "text/html": [
       "<div>\n",
       "<style scoped>\n",
       "    .dataframe tbody tr th:only-of-type {\n",
       "        vertical-align: middle;\n",
       "    }\n",
       "\n",
       "    .dataframe tbody tr th {\n",
       "        vertical-align: top;\n",
       "    }\n",
       "\n",
       "    .dataframe thead th {\n",
       "        text-align: right;\n",
       "    }\n",
       "</style>\n",
       "<table border=\"1\" class=\"dataframe\">\n",
       "  <thead>\n",
       "    <tr style=\"text-align: right;\">\n",
       "      <th></th>\n",
       "      <th>A</th>\n",
       "      <th>B</th>\n",
       "      <th>C</th>\n",
       "      <th>D</th>\n",
       "      <th>E</th>\n",
       "    </tr>\n",
       "  </thead>\n",
       "  <tbody>\n",
       "    <tr>\n",
       "      <th>2019-08-12</th>\n",
       "      <td>0.739226</td>\n",
       "      <td>-0.609338</td>\n",
       "      <td>-0.205279</td>\n",
       "      <td>1.391289</td>\n",
       "      <td>one</td>\n",
       "    </tr>\n",
       "    <tr>\n",
       "      <th>2019-08-13</th>\n",
       "      <td>1.185499</td>\n",
       "      <td>-1.059717</td>\n",
       "      <td>0.928462</td>\n",
       "      <td>-0.865990</td>\n",
       "      <td>one</td>\n",
       "    </tr>\n",
       "  </tbody>\n",
       "</table>\n",
       "</div>"
      ],
      "text/plain": [
       "                   A         B         C         D    E\n",
       "2019-08-12  0.739226 -0.609338 -0.205279  1.391289  one\n",
       "2019-08-13  1.185499 -1.059717  0.928462 -0.865990  one"
      ]
     },
     "execution_count": 55,
     "metadata": {},
     "output_type": "execute_result"
    }
   ],
   "source": [
    "# 기존 데이터 df에 새로운 컬럼을 추가한다 !! ( 아주 중요 ) => 파생변수, 뒤로 갈수록 줄줄이 나올 것으로 예상됨\n",
    "# 기존 df의 1차원과 동수의 데이터가 존재해야 한다\n",
    "# 데이터는 리스트 ok, Series도 ok\n",
    "new_data = ['one','one','two','three','four','three','five']\n",
    "# 데이터 추가 : 대상[ 신규컬럼명 ] = 데이터\n",
    "df['E'] = new_data \n",
    "df.head(2)"
   ]
  },
  {
   "cell_type": "code",
   "execution_count": 57,
   "metadata": {},
   "outputs": [
    {
     "data": {
      "text/plain": [
       "2019-08-12    False\n",
       "2019-08-13    False\n",
       "2019-08-14     True\n",
       "2019-08-15    False\n",
       "2019-08-16     True\n",
       "2019-08-17    False\n",
       "2019-08-18    False\n",
       "Freq: D, Name: E, dtype: bool"
      ]
     },
     "execution_count": 57,
     "metadata": {},
     "output_type": "execute_result"
    }
   ],
   "source": [
    "# 데이터 조사\n",
    "# 안에 그런값이 있는가? \n",
    "df['E'].isin(['two','four'])"
   ]
  },
  {
   "cell_type": "code",
   "execution_count": 58,
   "metadata": {},
   "outputs": [
    {
     "data": {
      "text/html": [
       "<div>\n",
       "<style scoped>\n",
       "    .dataframe tbody tr th:only-of-type {\n",
       "        vertical-align: middle;\n",
       "    }\n",
       "\n",
       "    .dataframe tbody tr th {\n",
       "        vertical-align: top;\n",
       "    }\n",
       "\n",
       "    .dataframe thead th {\n",
       "        text-align: right;\n",
       "    }\n",
       "</style>\n",
       "<table border=\"1\" class=\"dataframe\">\n",
       "  <thead>\n",
       "    <tr style=\"text-align: right;\">\n",
       "      <th></th>\n",
       "      <th>A</th>\n",
       "      <th>B</th>\n",
       "      <th>C</th>\n",
       "      <th>D</th>\n",
       "      <th>E</th>\n",
       "    </tr>\n",
       "  </thead>\n",
       "  <tbody>\n",
       "    <tr>\n",
       "      <th>2019-08-14</th>\n",
       "      <td>0.520471</td>\n",
       "      <td>1.554445</td>\n",
       "      <td>0.662598</td>\n",
       "      <td>-1.028905</td>\n",
       "      <td>two</td>\n",
       "    </tr>\n",
       "    <tr>\n",
       "      <th>2019-08-16</th>\n",
       "      <td>-0.308756</td>\n",
       "      <td>0.303855</td>\n",
       "      <td>2.051351</td>\n",
       "      <td>0.031239</td>\n",
       "      <td>four</td>\n",
       "    </tr>\n",
       "  </tbody>\n",
       "</table>\n",
       "</div>"
      ],
      "text/plain": [
       "                   A         B         C         D     E\n",
       "2019-08-14  0.520471  1.554445  0.662598 -1.028905   two\n",
       "2019-08-16 -0.308756  0.303855  2.051351  0.031239  four"
      ]
     },
     "execution_count": 58,
     "metadata": {},
     "output_type": "execute_result"
    }
   ],
   "source": [
    "df[df['E'].isin(['two','four'])]"
   ]
  },
  {
   "cell_type": "code",
   "execution_count": 59,
   "metadata": {},
   "outputs": [
    {
     "data": {
      "text/html": [
       "<div>\n",
       "<style scoped>\n",
       "    .dataframe tbody tr th:only-of-type {\n",
       "        vertical-align: middle;\n",
       "    }\n",
       "\n",
       "    .dataframe tbody tr th {\n",
       "        vertical-align: top;\n",
       "    }\n",
       "\n",
       "    .dataframe thead th {\n",
       "        text-align: right;\n",
       "    }\n",
       "</style>\n",
       "<table border=\"1\" class=\"dataframe\">\n",
       "  <thead>\n",
       "    <tr style=\"text-align: right;\">\n",
       "      <th></th>\n",
       "      <th>A</th>\n",
       "      <th>B</th>\n",
       "      <th>C</th>\n",
       "      <th>D</th>\n",
       "      <th>E</th>\n",
       "    </tr>\n",
       "  </thead>\n",
       "  <tbody>\n",
       "    <tr>\n",
       "      <th>2019-08-12</th>\n",
       "      <td>0.739226</td>\n",
       "      <td>-0.609338</td>\n",
       "      <td>-0.205279</td>\n",
       "      <td>1.391289</td>\n",
       "      <td>one</td>\n",
       "    </tr>\n",
       "    <tr>\n",
       "      <th>2019-08-13</th>\n",
       "      <td>1.924725</td>\n",
       "      <td>-1.669055</td>\n",
       "      <td>0.723183</td>\n",
       "      <td>0.525299</td>\n",
       "      <td>oneone</td>\n",
       "    </tr>\n",
       "    <tr>\n",
       "      <th>2019-08-14</th>\n",
       "      <td>2.445196</td>\n",
       "      <td>-0.114609</td>\n",
       "      <td>1.385781</td>\n",
       "      <td>-0.503606</td>\n",
       "      <td>oneonetwo</td>\n",
       "    </tr>\n",
       "    <tr>\n",
       "      <th>2019-08-15</th>\n",
       "      <td>4.374666</td>\n",
       "      <td>-0.627799</td>\n",
       "      <td>1.431351</td>\n",
       "      <td>-0.092420</td>\n",
       "      <td>oneonetwothree</td>\n",
       "    </tr>\n",
       "    <tr>\n",
       "      <th>2019-08-16</th>\n",
       "      <td>4.065910</td>\n",
       "      <td>-0.323944</td>\n",
       "      <td>3.482702</td>\n",
       "      <td>-0.061181</td>\n",
       "      <td>oneonetwothreefour</td>\n",
       "    </tr>\n",
       "    <tr>\n",
       "      <th>2019-08-17</th>\n",
       "      <td>3.873279</td>\n",
       "      <td>0.625545</td>\n",
       "      <td>3.603185</td>\n",
       "      <td>-2.581159</td>\n",
       "      <td>oneonetwothreefourthree</td>\n",
       "    </tr>\n",
       "    <tr>\n",
       "      <th>2019-08-18</th>\n",
       "      <td>3.484158</td>\n",
       "      <td>-1.532933</td>\n",
       "      <td>4.791495</td>\n",
       "      <td>-4.384968</td>\n",
       "      <td>oneonetwothreefourthreefive</td>\n",
       "    </tr>\n",
       "  </tbody>\n",
       "</table>\n",
       "</div>"
      ],
      "text/plain": [
       "                   A         B         C         D  \\\n",
       "2019-08-12  0.739226 -0.609338 -0.205279  1.391289   \n",
       "2019-08-13  1.924725 -1.669055  0.723183  0.525299   \n",
       "2019-08-14  2.445196 -0.114609  1.385781 -0.503606   \n",
       "2019-08-15  4.374666 -0.627799  1.431351 -0.092420   \n",
       "2019-08-16  4.065910 -0.323944  3.482702 -0.061181   \n",
       "2019-08-17  3.873279  0.625545  3.603185 -2.581159   \n",
       "2019-08-18  3.484158 -1.532933  4.791495 -4.384968   \n",
       "\n",
       "                                      E  \n",
       "2019-08-12                          one  \n",
       "2019-08-13                       oneone  \n",
       "2019-08-14                    oneonetwo  \n",
       "2019-08-15               oneonetwothree  \n",
       "2019-08-16           oneonetwothreefour  \n",
       "2019-08-17      oneonetwothreefourthree  \n",
       "2019-08-18  oneonetwothreefourthreefive  "
      ]
     },
     "execution_count": 59,
     "metadata": {},
     "output_type": "execute_result"
    }
   ],
   "source": [
    "# 누적합\n",
    "# apply( 함수를 표현 ) => 맴버들을 다 건드린다\n",
    "df.apply( np.cumsum )"
   ]
  },
  {
   "cell_type": "code",
   "execution_count": null,
   "metadata": {},
   "outputs": [],
   "source": []
  },
  {
   "cell_type": "code",
   "execution_count": null,
   "metadata": {},
   "outputs": [],
   "source": []
  }
 ],
 "metadata": {
  "kernelspec": {
   "display_name": "Python 3",
   "language": "python",
   "name": "python3"
  },
  "language_info": {
   "codemirror_mode": {
    "name": "ipython",
    "version": 3
   },
   "file_extension": ".py",
   "mimetype": "text/x-python",
   "name": "python",
   "nbconvert_exporter": "python",
   "pygments_lexer": "ipython3",
   "version": "3.6.9"
  }
 },
 "nbformat": 4,
 "nbformat_minor": 2
}

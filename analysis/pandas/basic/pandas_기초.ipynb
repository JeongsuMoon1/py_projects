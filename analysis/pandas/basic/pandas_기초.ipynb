{
 "cells": [
  {
   "cell_type": "markdown",
   "metadata": {},
   "source": [
    "## pandas 기초\n",
    "- pandas는 R의 핵심 데이터 시리즈와 프레임을 파이썬의 추가한 것이다\n",
    "- numpy를 기반으로 구현되었고, numpy 대비 기능을 더 확장하여 재구현한것\n",
    "- Python Data Analysis Library\n",
    "- [https://pandas.pydata.org/]"
   ]
  },
  {
   "cell_type": "code",
   "execution_count": 2,
   "metadata": {},
   "outputs": [],
   "source": [
    "import numpy as np\n",
    "import pandas as pd"
   ]
  },
  {
   "cell_type": "markdown",
   "metadata": {},
   "source": [
    "- 파이썬의 자료구조\n",
    "> 수치형, 문자열, 리스트, 딕셔너리, 튜플, 집합, 블린\n",
    "- numpy의 자료구조\n",
    "> ndarray(배열) : 배열의 데이터는 모든 같은 타입이다.\n",
    "- pandas의 자료구조\n",
    "> Series(시리즈), DataFrame(데이터프레임)\n",
    "> DataFrame의 인덱싱 -> Series의 인덱싱 -> 값(스칼라), 수치, 문자, 블린, NaN(결측치)이 등장\n",
    "> Series : 인덱스와 데이터만 존재하는, 컬럼이 없는 자료구조\n",
    "> DataFrame : 인덱스와 컬럼이 존재하는 자료구조\n",
    "> NaN : 데이터가 없다, Not a Number -> np.nan"
   ]
  },
  {
   "cell_type": "code",
   "execution_count": 3,
   "metadata": {},
   "outputs": [
    {
     "data": {
      "text/plain": [
       "0    1.0\n",
       "1    3.0\n",
       "2    5.0\n",
       "3    NaN\n",
       "4    6.0\n",
       "5    8.0\n",
       "dtype: float64"
      ]
     },
     "execution_count": 3,
     "metadata": {},
     "output_type": "execute_result"
    }
   ],
   "source": [
    "# Series\n",
    "# 데이터를 정수로 넣었으나 기본형으로 float64가 반영되었다\n",
    "a = pd.Series( [1,3,5,np.nan,6,8] )\n",
    "a"
   ]
  },
  {
   "cell_type": "code",
   "execution_count": 48,
   "metadata": {},
   "outputs": [
    {
     "data": {
      "text/plain": [
       "0    1.0\n",
       "1    3.0\n",
       "2    5.0\n",
       "3    NaN\n",
       "4    6.0\n",
       "5    8.0\n",
       "dtype: float64"
      ]
     },
     "execution_count": 48,
     "metadata": {},
     "output_type": "execute_result"
    }
   ],
   "source": [
    "a = pd.Series( [1,3,5, np.nan, 6, 8] )\n",
    "a"
   ]
  },
  {
   "cell_type": "code",
   "execution_count": null,
   "metadata": {},
   "outputs": [],
   "source": []
  },
  {
   "cell_type": "code",
   "execution_count": 4,
   "metadata": {},
   "outputs": [
    {
     "data": {
      "text/plain": [
       "dtype('float64')"
      ]
     },
     "execution_count": 4,
     "metadata": {},
     "output_type": "execute_result"
    }
   ],
   "source": [
    "# 속성 - 타입\n",
    "a.dtype # float64: 소수점 사용(64비트)"
   ]
  },
  {
   "cell_type": "code",
   "execution_count": 49,
   "metadata": {},
   "outputs": [
    {
     "data": {
      "text/plain": [
       "dtype('float64')"
      ]
     },
     "execution_count": 49,
     "metadata": {},
     "output_type": "execute_result"
    }
   ],
   "source": [
    "a.dtype "
   ]
  },
  {
   "cell_type": "code",
   "execution_count": null,
   "metadata": {},
   "outputs": [],
   "source": []
  },
  {
   "cell_type": "code",
   "execution_count": 5,
   "metadata": {},
   "outputs": [
    {
     "data": {
      "text/plain": [
       "(6,)"
      ]
     },
     "execution_count": 5,
     "metadata": {},
     "output_type": "execute_result"
    }
   ],
   "source": [
    "# 속성 - 크기\n",
    "a.shape \n",
    "# 데이터는 1차원이고 총 6개의 데이터가 존재한다는 뜻"
   ]
  },
  {
   "cell_type": "code",
   "execution_count": 50,
   "metadata": {},
   "outputs": [
    {
     "data": {
      "text/plain": [
       "(6,)"
      ]
     },
     "execution_count": 50,
     "metadata": {},
     "output_type": "execute_result"
    }
   ],
   "source": [
    "a.shape"
   ]
  },
  {
   "cell_type": "code",
   "execution_count": null,
   "metadata": {},
   "outputs": [],
   "source": []
  },
  {
   "cell_type": "code",
   "execution_count": 6,
   "metadata": {},
   "outputs": [
    {
     "data": {
      "text/plain": [
       "(['A', 'B', 'C', 'D'],\n",
       " DatetimeIndex(['2019-08-12', '2019-08-13', '2019-08-14', '2019-08-15',\n",
       "                '2019-08-16', '2019-08-17', '2019-08-18'],\n",
       "               dtype='datetime64[ns]', freq='D'))"
      ]
     },
     "execution_count": 6,
     "metadata": {},
     "output_type": "execute_result"
    }
   ],
   "source": [
    "# DataFrame\n",
    "# 인덱스와 컬럼이 존재하는 자료구조\n",
    "cols = list('ABCD') # ['A','B','C','D']\n",
    "indexs = pd.date_range( '20190812', periods=7 )\n",
    "# 리스트화 방법1 . cols = 'ABCD' -> cols = list('ABCD') -> ['A','B','C','D']\n",
    "# 컬럼4개, 인덱스7개\n",
    "cols, indexs"
   ]
  },
  {
   "cell_type": "code",
   "execution_count": 51,
   "metadata": {},
   "outputs": [
    {
     "data": {
      "text/plain": [
       "(['A', 'B', 'C', 'D'],\n",
       " DatetimeIndex(['2019-08-12', '2019-08-13', '2019-08-14', '2019-08-15',\n",
       "                '2019-08-16', '2019-08-17', '2019-08-18'],\n",
       "               dtype='datetime64[ns]', freq='D'))"
      ]
     },
     "execution_count": 51,
     "metadata": {},
     "output_type": "execute_result"
    }
   ],
   "source": [
    "cols = list('ABCD')\n",
    "indexs = pd.date_range('20190812', periods=7)\n",
    "cols, indexs"
   ]
  },
  {
   "cell_type": "code",
   "execution_count": null,
   "metadata": {},
   "outputs": [],
   "source": []
  },
  {
   "cell_type": "code",
   "execution_count": 7,
   "metadata": {},
   "outputs": [
    {
     "data": {
      "text/plain": [
       "(array([[ 0.3285959 ,  1.56755206,  0.18451751,  0.33825372],\n",
       "        [ 0.02063608, -0.09052592, -1.77295848,  0.86369106],\n",
       "        [-0.59054156,  1.46671762,  1.67073887,  0.18112947],\n",
       "        [-0.12596677,  0.62459003, -1.65409809,  1.40846267],\n",
       "        [ 0.28560944, -1.98837932, -0.07278004, -0.02213298],\n",
       "        [ 0.47827202, -0.71834425, -0.77069922,  0.67026419],\n",
       "        [ 0.01121641,  1.63336167,  0.25195699,  0.73367378]]), (7, 4))"
      ]
     },
     "execution_count": 7,
     "metadata": {},
     "output_type": "execute_result"
    }
   ],
   "source": [
    "# 데이터는 shape => (7,4)\n",
    "datas = np.random.randn(7,4) # 2차원 데이터 형태로 난수를 발생시킴\n",
    "datas, datas.shape"
   ]
  },
  {
   "cell_type": "code",
   "execution_count": 52,
   "metadata": {},
   "outputs": [
    {
     "data": {
      "text/plain": [
       "(array([[ 0.90758089,  1.16077216, -1.52652386, -0.29442157],\n",
       "        [ 0.88229785,  0.02107795, -0.55832362, -0.93381873],\n",
       "        [ 0.27811392, -0.82657218,  1.58407307,  0.42921015],\n",
       "        [ 0.0371962 , -1.44920457,  0.19009528, -0.32968768],\n",
       "        [ 0.65571379,  0.09801279,  1.20025475,  0.1850579 ],\n",
       "        [-0.58061546,  0.54285379,  0.90698779,  0.74882298],\n",
       "        [ 0.41892268,  0.29930723,  1.58302521, -0.73046024]]), (7, 4))"
      ]
     },
     "execution_count": 52,
     "metadata": {},
     "output_type": "execute_result"
    }
   ],
   "source": [
    "datas = np.random.randn(7,4)\n",
    "datas, datas.shape"
   ]
  },
  {
   "cell_type": "code",
   "execution_count": null,
   "metadata": {},
   "outputs": [],
   "source": []
  },
  {
   "cell_type": "code",
   "execution_count": 8,
   "metadata": {},
   "outputs": [],
   "source": [
    "# df 생성\n",
    "df = pd.DataFrame( datas, index=indexs, columns=cols ) # index= : 기본값 부여 파라미터."
   ]
  },
  {
   "cell_type": "markdown",
   "metadata": {},
   "source": [
    "- **데이터가 로드된 후 DataFrame을 만든후 점검할 사항**"
   ]
  },
  {
   "cell_type": "code",
   "execution_count": 9,
   "metadata": {},
   "outputs": [
    {
     "data": {
      "text/html": [
       "<div>\n",
       "<style scoped>\n",
       "    .dataframe tbody tr th:only-of-type {\n",
       "        vertical-align: middle;\n",
       "    }\n",
       "\n",
       "    .dataframe tbody tr th {\n",
       "        vertical-align: top;\n",
       "    }\n",
       "\n",
       "    .dataframe thead th {\n",
       "        text-align: right;\n",
       "    }\n",
       "</style>\n",
       "<table border=\"1\" class=\"dataframe\">\n",
       "  <thead>\n",
       "    <tr style=\"text-align: right;\">\n",
       "      <th></th>\n",
       "      <th>A</th>\n",
       "      <th>B</th>\n",
       "      <th>C</th>\n",
       "      <th>D</th>\n",
       "    </tr>\n",
       "  </thead>\n",
       "  <tbody>\n",
       "    <tr>\n",
       "      <th>2019-08-12</th>\n",
       "      <td>0.328596</td>\n",
       "      <td>1.567552</td>\n",
       "      <td>0.184518</td>\n",
       "      <td>0.338254</td>\n",
       "    </tr>\n",
       "    <tr>\n",
       "      <th>2019-08-13</th>\n",
       "      <td>0.020636</td>\n",
       "      <td>-0.090526</td>\n",
       "      <td>-1.772958</td>\n",
       "      <td>0.863691</td>\n",
       "    </tr>\n",
       "    <tr>\n",
       "      <th>2019-08-14</th>\n",
       "      <td>-0.590542</td>\n",
       "      <td>1.466718</td>\n",
       "      <td>1.670739</td>\n",
       "      <td>0.181129</td>\n",
       "    </tr>\n",
       "  </tbody>\n",
       "</table>\n",
       "</div>"
      ],
      "text/plain": [
       "                   A         B         C         D\n",
       "2019-08-12  0.328596  1.567552  0.184518  0.338254\n",
       "2019-08-13  0.020636 -0.090526 -1.772958  0.863691\n",
       "2019-08-14 -0.590542  1.466718  1.670739  0.181129"
      ]
     },
     "execution_count": 9,
     "metadata": {},
     "output_type": "execute_result"
    }
   ],
   "source": [
    "df.head(3)"
   ]
  },
  {
   "cell_type": "code",
   "execution_count": 10,
   "metadata": {},
   "outputs": [
    {
     "data": {
      "text/html": [
       "<div>\n",
       "<style scoped>\n",
       "    .dataframe tbody tr th:only-of-type {\n",
       "        vertical-align: middle;\n",
       "    }\n",
       "\n",
       "    .dataframe tbody tr th {\n",
       "        vertical-align: top;\n",
       "    }\n",
       "\n",
       "    .dataframe thead th {\n",
       "        text-align: right;\n",
       "    }\n",
       "</style>\n",
       "<table border=\"1\" class=\"dataframe\">\n",
       "  <thead>\n",
       "    <tr style=\"text-align: right;\">\n",
       "      <th></th>\n",
       "      <th>A</th>\n",
       "      <th>B</th>\n",
       "      <th>C</th>\n",
       "      <th>D</th>\n",
       "    </tr>\n",
       "  </thead>\n",
       "  <tbody>\n",
       "    <tr>\n",
       "      <th>2019-08-16</th>\n",
       "      <td>0.285609</td>\n",
       "      <td>-1.988379</td>\n",
       "      <td>-0.072780</td>\n",
       "      <td>-0.022133</td>\n",
       "    </tr>\n",
       "    <tr>\n",
       "      <th>2019-08-17</th>\n",
       "      <td>0.478272</td>\n",
       "      <td>-0.718344</td>\n",
       "      <td>-0.770699</td>\n",
       "      <td>0.670264</td>\n",
       "    </tr>\n",
       "    <tr>\n",
       "      <th>2019-08-18</th>\n",
       "      <td>0.011216</td>\n",
       "      <td>1.633362</td>\n",
       "      <td>0.251957</td>\n",
       "      <td>0.733674</td>\n",
       "    </tr>\n",
       "  </tbody>\n",
       "</table>\n",
       "</div>"
      ],
      "text/plain": [
       "                   A         B         C         D\n",
       "2019-08-16  0.285609 -1.988379 -0.072780 -0.022133\n",
       "2019-08-17  0.478272 -0.718344 -0.770699  0.670264\n",
       "2019-08-18  0.011216  1.633362  0.251957  0.733674"
      ]
     },
     "execution_count": 10,
     "metadata": {},
     "output_type": "execute_result"
    }
   ],
   "source": [
    "df.tail(3)"
   ]
  },
  {
   "cell_type": "code",
   "execution_count": 11,
   "metadata": {},
   "outputs": [
    {
     "data": {
      "text/plain": [
       "Index(['A', 'B', 'C', 'D'], dtype='object')"
      ]
     },
     "execution_count": 11,
     "metadata": {},
     "output_type": "execute_result"
    }
   ],
   "source": [
    "df.columns"
   ]
  },
  {
   "cell_type": "code",
   "execution_count": 12,
   "metadata": {},
   "outputs": [
    {
     "data": {
      "text/plain": [
       "array([[ 0.3285959 ,  1.56755206,  0.18451751,  0.33825372],\n",
       "       [ 0.02063608, -0.09052592, -1.77295848,  0.86369106],\n",
       "       [-0.59054156,  1.46671762,  1.67073887,  0.18112947],\n",
       "       [-0.12596677,  0.62459003, -1.65409809,  1.40846267],\n",
       "       [ 0.28560944, -1.98837932, -0.07278004, -0.02213298],\n",
       "       [ 0.47827202, -0.71834425, -0.77069922,  0.67026419],\n",
       "       [ 0.01121641,  1.63336167,  0.25195699,  0.73367378]])"
      ]
     },
     "execution_count": 12,
     "metadata": {},
     "output_type": "execute_result"
    }
   ],
   "source": [
    "df.values"
   ]
  },
  {
   "cell_type": "code",
   "execution_count": 13,
   "metadata": {},
   "outputs": [
    {
     "data": {
      "text/plain": [
       "numpy.ndarray"
      ]
     },
     "execution_count": 13,
     "metadata": {},
     "output_type": "execute_result"
    }
   ],
   "source": [
    "type(df.values)"
   ]
  },
  {
   "cell_type": "code",
   "execution_count": 14,
   "metadata": {},
   "outputs": [
    {
     "data": {
      "text/plain": [
       "(7, 4)"
      ]
     },
     "execution_count": 14,
     "metadata": {},
     "output_type": "execute_result"
    }
   ],
   "source": [
    "df.shape"
   ]
  },
  {
   "cell_type": "code",
   "execution_count": 15,
   "metadata": {},
   "outputs": [
    {
     "data": {
      "text/plain": [
       "A    float64\n",
       "B    float64\n",
       "C    float64\n",
       "D    float64\n",
       "dtype: object"
      ]
     },
     "execution_count": 15,
     "metadata": {},
     "output_type": "execute_result"
    }
   ],
   "source": [
    "df.dtypes"
   ]
  },
  {
   "cell_type": "code",
   "execution_count": 16,
   "metadata": {},
   "outputs": [
    {
     "name": "stdout",
     "output_type": "stream",
     "text": [
      "<class 'pandas.core.frame.DataFrame'>\n",
      "DatetimeIndex: 7 entries, 2019-08-12 to 2019-08-18\n",
      "Freq: D\n",
      "Data columns (total 4 columns):\n",
      "A    7 non-null float64\n",
      "B    7 non-null float64\n",
      "C    7 non-null float64\n",
      "D    7 non-null float64\n",
      "dtypes: float64(4)\n",
      "memory usage: 280.0 bytes\n"
     ]
    }
   ],
   "source": [
    "# df의 개요\n",
    "df.info()"
   ]
  },
  {
   "cell_type": "code",
   "execution_count": 17,
   "metadata": {},
   "outputs": [
    {
     "data": {
      "text/html": [
       "<div>\n",
       "<style scoped>\n",
       "    .dataframe tbody tr th:only-of-type {\n",
       "        vertical-align: middle;\n",
       "    }\n",
       "\n",
       "    .dataframe tbody tr th {\n",
       "        vertical-align: top;\n",
       "    }\n",
       "\n",
       "    .dataframe thead th {\n",
       "        text-align: right;\n",
       "    }\n",
       "</style>\n",
       "<table border=\"1\" class=\"dataframe\">\n",
       "  <thead>\n",
       "    <tr style=\"text-align: right;\">\n",
       "      <th></th>\n",
       "      <th>A</th>\n",
       "      <th>B</th>\n",
       "      <th>C</th>\n",
       "      <th>D</th>\n",
       "    </tr>\n",
       "  </thead>\n",
       "  <tbody>\n",
       "    <tr>\n",
       "      <th>count</th>\n",
       "      <td>7.000000</td>\n",
       "      <td>7.000000</td>\n",
       "      <td>7.000000</td>\n",
       "      <td>7.000000</td>\n",
       "    </tr>\n",
       "    <tr>\n",
       "      <th>mean</th>\n",
       "      <td>0.058260</td>\n",
       "      <td>0.356425</td>\n",
       "      <td>-0.309046</td>\n",
       "      <td>0.596192</td>\n",
       "    </tr>\n",
       "    <tr>\n",
       "      <th>std</th>\n",
       "      <td>0.355830</td>\n",
       "      <td>1.369614</td>\n",
       "      <td>1.204092</td>\n",
       "      <td>0.479038</td>\n",
       "    </tr>\n",
       "    <tr>\n",
       "      <th>min</th>\n",
       "      <td>-0.590542</td>\n",
       "      <td>-1.988379</td>\n",
       "      <td>-1.772958</td>\n",
       "      <td>-0.022133</td>\n",
       "    </tr>\n",
       "    <tr>\n",
       "      <th>25%</th>\n",
       "      <td>-0.057375</td>\n",
       "      <td>-0.404435</td>\n",
       "      <td>-1.212399</td>\n",
       "      <td>0.259692</td>\n",
       "    </tr>\n",
       "    <tr>\n",
       "      <th>50%</th>\n",
       "      <td>0.020636</td>\n",
       "      <td>0.624590</td>\n",
       "      <td>-0.072780</td>\n",
       "      <td>0.670264</td>\n",
       "    </tr>\n",
       "    <tr>\n",
       "      <th>75%</th>\n",
       "      <td>0.307103</td>\n",
       "      <td>1.517135</td>\n",
       "      <td>0.218237</td>\n",
       "      <td>0.798682</td>\n",
       "    </tr>\n",
       "    <tr>\n",
       "      <th>max</th>\n",
       "      <td>0.478272</td>\n",
       "      <td>1.633362</td>\n",
       "      <td>1.670739</td>\n",
       "      <td>1.408463</td>\n",
       "    </tr>\n",
       "  </tbody>\n",
       "</table>\n",
       "</div>"
      ],
      "text/plain": [
       "              A         B         C         D\n",
       "count  7.000000  7.000000  7.000000  7.000000\n",
       "mean   0.058260  0.356425 -0.309046  0.596192\n",
       "std    0.355830  1.369614  1.204092  0.479038\n",
       "min   -0.590542 -1.988379 -1.772958 -0.022133\n",
       "25%   -0.057375 -0.404435 -1.212399  0.259692\n",
       "50%    0.020636  0.624590 -0.072780  0.670264\n",
       "75%    0.307103  1.517135  0.218237  0.798682\n",
       "max    0.478272  1.633362  1.670739  1.408463"
      ]
     },
     "execution_count": 17,
     "metadata": {},
     "output_type": "execute_result"
    }
   ],
   "source": [
    "# 통계요약: 개수, 평균, 표준편차, 최소, 25%, 50%, 75%, 최대\n",
    "df.describe()"
   ]
  },
  {
   "cell_type": "code",
   "execution_count": 18,
   "metadata": {},
   "outputs": [
    {
     "data": {
      "text/html": [
       "<div>\n",
       "<style scoped>\n",
       "    .dataframe tbody tr th:only-of-type {\n",
       "        vertical-align: middle;\n",
       "    }\n",
       "\n",
       "    .dataframe tbody tr th {\n",
       "        vertical-align: top;\n",
       "    }\n",
       "\n",
       "    .dataframe thead th {\n",
       "        text-align: right;\n",
       "    }\n",
       "</style>\n",
       "<table border=\"1\" class=\"dataframe\">\n",
       "  <thead>\n",
       "    <tr style=\"text-align: right;\">\n",
       "      <th></th>\n",
       "      <th>A</th>\n",
       "      <th>B</th>\n",
       "      <th>C</th>\n",
       "      <th>D</th>\n",
       "    </tr>\n",
       "  </thead>\n",
       "  <tbody>\n",
       "    <tr>\n",
       "      <th>2019-08-18</th>\n",
       "      <td>0.011216</td>\n",
       "      <td>1.633362</td>\n",
       "      <td>0.251957</td>\n",
       "      <td>0.733674</td>\n",
       "    </tr>\n",
       "    <tr>\n",
       "      <th>2019-08-12</th>\n",
       "      <td>0.328596</td>\n",
       "      <td>1.567552</td>\n",
       "      <td>0.184518</td>\n",
       "      <td>0.338254</td>\n",
       "    </tr>\n",
       "    <tr>\n",
       "      <th>2019-08-14</th>\n",
       "      <td>-0.590542</td>\n",
       "      <td>1.466718</td>\n",
       "      <td>1.670739</td>\n",
       "      <td>0.181129</td>\n",
       "    </tr>\n",
       "    <tr>\n",
       "      <th>2019-08-15</th>\n",
       "      <td>-0.125967</td>\n",
       "      <td>0.624590</td>\n",
       "      <td>-1.654098</td>\n",
       "      <td>1.408463</td>\n",
       "    </tr>\n",
       "    <tr>\n",
       "      <th>2019-08-13</th>\n",
       "      <td>0.020636</td>\n",
       "      <td>-0.090526</td>\n",
       "      <td>-1.772958</td>\n",
       "      <td>0.863691</td>\n",
       "    </tr>\n",
       "    <tr>\n",
       "      <th>2019-08-17</th>\n",
       "      <td>0.478272</td>\n",
       "      <td>-0.718344</td>\n",
       "      <td>-0.770699</td>\n",
       "      <td>0.670264</td>\n",
       "    </tr>\n",
       "    <tr>\n",
       "      <th>2019-08-16</th>\n",
       "      <td>0.285609</td>\n",
       "      <td>-1.988379</td>\n",
       "      <td>-0.072780</td>\n",
       "      <td>-0.022133</td>\n",
       "    </tr>\n",
       "  </tbody>\n",
       "</table>\n",
       "</div>"
      ],
      "text/plain": [
       "                   A         B         C         D\n",
       "2019-08-18  0.011216  1.633362  0.251957  0.733674\n",
       "2019-08-12  0.328596  1.567552  0.184518  0.338254\n",
       "2019-08-14 -0.590542  1.466718  1.670739  0.181129\n",
       "2019-08-15 -0.125967  0.624590 -1.654098  1.408463\n",
       "2019-08-13  0.020636 -0.090526 -1.772958  0.863691\n",
       "2019-08-17  0.478272 -0.718344 -0.770699  0.670264\n",
       "2019-08-16  0.285609 -1.988379 -0.072780 -0.022133"
      ]
     },
     "execution_count": 18,
     "metadata": {},
     "output_type": "execute_result"
    }
   ],
   "source": [
    "# B열 기준 데이터를 정렬, 내림차순\n",
    "df.sort_values( by='B', ascending=False ) # sort : 정렬, ascending : 오름차순"
   ]
  },
  {
   "cell_type": "code",
   "execution_count": 19,
   "metadata": {},
   "outputs": [
    {
     "data": {
      "text/plain": [
       "(2019-08-12    0.184518\n",
       " 2019-08-13   -1.772958\n",
       " 2019-08-14    1.670739\n",
       " 2019-08-15   -1.654098\n",
       " 2019-08-16   -0.072780\n",
       " 2019-08-17   -0.770699\n",
       " 2019-08-18    0.251957\n",
       " Freq: D, Name: C, dtype: float64, pandas.core.series.Series)"
      ]
     },
     "execution_count": 19,
     "metadata": {},
     "output_type": "execute_result"
    }
   ],
   "source": [
    "# 특정 컬럼의 데이터만 보기 => 인덱싱 => 차원축소\n",
    "df['C'], type(df['C'])"
   ]
  },
  {
   "cell_type": "code",
   "execution_count": 20,
   "metadata": {},
   "outputs": [
    {
     "data": {
      "text/html": [
       "<div>\n",
       "<style scoped>\n",
       "    .dataframe tbody tr th:only-of-type {\n",
       "        vertical-align: middle;\n",
       "    }\n",
       "\n",
       "    .dataframe tbody tr th {\n",
       "        vertical-align: top;\n",
       "    }\n",
       "\n",
       "    .dataframe thead th {\n",
       "        text-align: right;\n",
       "    }\n",
       "</style>\n",
       "<table border=\"1\" class=\"dataframe\">\n",
       "  <thead>\n",
       "    <tr style=\"text-align: right;\">\n",
       "      <th></th>\n",
       "      <th>A</th>\n",
       "      <th>B</th>\n",
       "      <th>C</th>\n",
       "      <th>D</th>\n",
       "    </tr>\n",
       "  </thead>\n",
       "  <tbody>\n",
       "    <tr>\n",
       "      <th>2019-08-12</th>\n",
       "      <td>0.328596</td>\n",
       "      <td>1.567552</td>\n",
       "      <td>0.184518</td>\n",
       "      <td>0.338254</td>\n",
       "    </tr>\n",
       "    <tr>\n",
       "      <th>2019-08-13</th>\n",
       "      <td>0.020636</td>\n",
       "      <td>-0.090526</td>\n",
       "      <td>-1.772958</td>\n",
       "      <td>0.863691</td>\n",
       "    </tr>\n",
       "    <tr>\n",
       "      <th>2019-08-14</th>\n",
       "      <td>-0.590542</td>\n",
       "      <td>1.466718</td>\n",
       "      <td>1.670739</td>\n",
       "      <td>0.181129</td>\n",
       "    </tr>\n",
       "    <tr>\n",
       "      <th>2019-08-15</th>\n",
       "      <td>-0.125967</td>\n",
       "      <td>0.624590</td>\n",
       "      <td>-1.654098</td>\n",
       "      <td>1.408463</td>\n",
       "    </tr>\n",
       "    <tr>\n",
       "      <th>2019-08-16</th>\n",
       "      <td>0.285609</td>\n",
       "      <td>-1.988379</td>\n",
       "      <td>-0.072780</td>\n",
       "      <td>-0.022133</td>\n",
       "    </tr>\n",
       "    <tr>\n",
       "      <th>2019-08-17</th>\n",
       "      <td>0.478272</td>\n",
       "      <td>-0.718344</td>\n",
       "      <td>-0.770699</td>\n",
       "      <td>0.670264</td>\n",
       "    </tr>\n",
       "    <tr>\n",
       "      <th>2019-08-18</th>\n",
       "      <td>0.011216</td>\n",
       "      <td>1.633362</td>\n",
       "      <td>0.251957</td>\n",
       "      <td>0.733674</td>\n",
       "    </tr>\n",
       "  </tbody>\n",
       "</table>\n",
       "</div>"
      ],
      "text/plain": [
       "                   A         B         C         D\n",
       "2019-08-12  0.328596  1.567552  0.184518  0.338254\n",
       "2019-08-13  0.020636 -0.090526 -1.772958  0.863691\n",
       "2019-08-14 -0.590542  1.466718  1.670739  0.181129\n",
       "2019-08-15 -0.125967  0.624590 -1.654098  1.408463\n",
       "2019-08-16  0.285609 -1.988379 -0.072780 -0.022133\n",
       "2019-08-17  0.478272 -0.718344 -0.770699  0.670264\n",
       "2019-08-18  0.011216  1.633362  0.251957  0.733674"
      ]
     },
     "execution_count": 20,
     "metadata": {},
     "output_type": "execute_result"
    }
   ],
   "source": [
    "# 슬라이싱 : 차원유지\n",
    "df[:] # 카피동일, 처음부터 끝까지 차원카피"
   ]
  },
  {
   "cell_type": "code",
   "execution_count": 21,
   "metadata": {},
   "outputs": [
    {
     "data": {
      "text/html": [
       "<div>\n",
       "<style scoped>\n",
       "    .dataframe tbody tr th:only-of-type {\n",
       "        vertical-align: middle;\n",
       "    }\n",
       "\n",
       "    .dataframe tbody tr th {\n",
       "        vertical-align: top;\n",
       "    }\n",
       "\n",
       "    .dataframe thead th {\n",
       "        text-align: right;\n",
       "    }\n",
       "</style>\n",
       "<table border=\"1\" class=\"dataframe\">\n",
       "  <thead>\n",
       "    <tr style=\"text-align: right;\">\n",
       "      <th></th>\n",
       "      <th>A</th>\n",
       "      <th>B</th>\n",
       "      <th>C</th>\n",
       "      <th>D</th>\n",
       "    </tr>\n",
       "  </thead>\n",
       "  <tbody>\n",
       "    <tr>\n",
       "      <th>2019-08-13</th>\n",
       "      <td>0.020636</td>\n",
       "      <td>-0.090526</td>\n",
       "      <td>-1.772958</td>\n",
       "      <td>0.863691</td>\n",
       "    </tr>\n",
       "    <tr>\n",
       "      <th>2019-08-14</th>\n",
       "      <td>-0.590542</td>\n",
       "      <td>1.466718</td>\n",
       "      <td>1.670739</td>\n",
       "      <td>0.181129</td>\n",
       "    </tr>\n",
       "  </tbody>\n",
       "</table>\n",
       "</div>"
      ],
      "text/plain": [
       "                   A         B         C         D\n",
       "2019-08-13  0.020636 -0.090526 -1.772958  0.863691\n",
       "2019-08-14 -0.590542  1.466718  1.670739  0.181129"
      ]
     },
     "execution_count": 21,
     "metadata": {},
     "output_type": "execute_result"
    }
   ],
   "source": [
    "# 데이터가 슬라이싱 되서 나온다 => 차원을 유지해야 하니까 \n",
    "# a <= x < b \n",
    "df[1:3] # 인덱스 3을 제외하고 1,2 가 들어온다"
   ]
  },
  {
   "cell_type": "code",
   "execution_count": 22,
   "metadata": {},
   "outputs": [
    {
     "data": {
      "text/html": [
       "<div>\n",
       "<style scoped>\n",
       "    .dataframe tbody tr th:only-of-type {\n",
       "        vertical-align: middle;\n",
       "    }\n",
       "\n",
       "    .dataframe tbody tr th {\n",
       "        vertical-align: top;\n",
       "    }\n",
       "\n",
       "    .dataframe thead th {\n",
       "        text-align: right;\n",
       "    }\n",
       "</style>\n",
       "<table border=\"1\" class=\"dataframe\">\n",
       "  <thead>\n",
       "    <tr style=\"text-align: right;\">\n",
       "      <th></th>\n",
       "      <th>A</th>\n",
       "      <th>B</th>\n",
       "      <th>C</th>\n",
       "      <th>D</th>\n",
       "    </tr>\n",
       "  </thead>\n",
       "  <tbody>\n",
       "    <tr>\n",
       "      <th>2019-08-13</th>\n",
       "      <td>0.020636</td>\n",
       "      <td>-0.090526</td>\n",
       "      <td>-1.772958</td>\n",
       "      <td>0.863691</td>\n",
       "    </tr>\n",
       "    <tr>\n",
       "      <th>2019-08-14</th>\n",
       "      <td>-0.590542</td>\n",
       "      <td>1.466718</td>\n",
       "      <td>1.670739</td>\n",
       "      <td>0.181129</td>\n",
       "    </tr>\n",
       "    <tr>\n",
       "      <th>2019-08-15</th>\n",
       "      <td>-0.125967</td>\n",
       "      <td>0.624590</td>\n",
       "      <td>-1.654098</td>\n",
       "      <td>1.408463</td>\n",
       "    </tr>\n",
       "  </tbody>\n",
       "</table>\n",
       "</div>"
      ],
      "text/plain": [
       "                   A         B         C         D\n",
       "2019-08-13  0.020636 -0.090526 -1.772958  0.863691\n",
       "2019-08-14 -0.590542  1.466718  1.670739  0.181129\n",
       "2019-08-15 -0.125967  0.624590 -1.654098  1.408463"
      ]
     },
     "execution_count": 22,
     "metadata": {},
     "output_type": "execute_result"
    }
   ],
   "source": [
    "# 슬라이싱을 하는데 인덱싱값이 아닌, 실제값으로 자르기\n",
    "# a <= x <= b \n",
    "df[ '2019-08-13':'2019-08-15' ]"
   ]
  },
  {
   "cell_type": "markdown",
   "metadata": {},
   "source": [
    "- 전통적인 인덱싱과 슬라이싱을 진행하면 표현의 한계점에 도달\n",
    "- 이를 극복하기 위해서  pandas만의 데이터 추출법이 추가가 되었다\n",
    "- loc, iloc <= 이 2개를 주로 사용한다\n",
    "- 연속데이터에 대한 추출 <-> 비연속 데이터들의 추출법 (펜시인덱싱, 쿼리수행등등)"
   ]
  },
  {
   "cell_type": "markdown",
   "metadata": {},
   "source": [
    "### loc"
   ]
  },
  {
   "cell_type": "code",
   "execution_count": 23,
   "metadata": {},
   "outputs": [
    {
     "data": {
      "text/plain": [
       "(A    0.328596\n",
       " B    1.567552\n",
       " C    0.184518\n",
       " D    0.338254\n",
       " Name: 2019-08-12 00:00:00, dtype: float64, pandas.core.series.Series)"
      ]
     },
     "execution_count": 23,
     "metadata": {},
     "output_type": "execute_result"
    }
   ],
   "source": [
    "# 위에서까지는 dataframe에 대한것에 대해서 알았으니, 이젠 뽑는것에 대해서 알아본다\n",
    "# loc : location 정보를 옵션으로 하여 슬라이싱 지원\n",
    "# loc를 통한 데이터 추출\n",
    "# df.loc[ '인덱스명' ]\n",
    "df.loc[ '2019-08-12' ], type(df.loc[ '2019-08-12' ]) # []로 진행된다 : loc은 함수라기보단 맴버변수에 가깝다는 뜻\n",
    "# 전체데이터중에서 8월12일에 해당되는 것만추출, 위에서 df로 표현을 하면 컬럼만을 가져오게 되어 상세히 표현못함"
   ]
  },
  {
   "cell_type": "code",
   "execution_count": 24,
   "metadata": {},
   "outputs": [
    {
     "data": {
      "text/html": [
       "<div>\n",
       "<style scoped>\n",
       "    .dataframe tbody tr th:only-of-type {\n",
       "        vertical-align: middle;\n",
       "    }\n",
       "\n",
       "    .dataframe tbody tr th {\n",
       "        vertical-align: top;\n",
       "    }\n",
       "\n",
       "    .dataframe thead th {\n",
       "        text-align: right;\n",
       "    }\n",
       "</style>\n",
       "<table border=\"1\" class=\"dataframe\">\n",
       "  <thead>\n",
       "    <tr style=\"text-align: right;\">\n",
       "      <th></th>\n",
       "      <th>A</th>\n",
       "      <th>B</th>\n",
       "      <th>C</th>\n",
       "      <th>D</th>\n",
       "    </tr>\n",
       "  </thead>\n",
       "  <tbody>\n",
       "    <tr>\n",
       "      <th>2019-08-12</th>\n",
       "      <td>0.328596</td>\n",
       "      <td>1.567552</td>\n",
       "      <td>0.184518</td>\n",
       "      <td>0.338254</td>\n",
       "    </tr>\n",
       "    <tr>\n",
       "      <th>2019-08-13</th>\n",
       "      <td>0.020636</td>\n",
       "      <td>-0.090526</td>\n",
       "      <td>-1.772958</td>\n",
       "      <td>0.863691</td>\n",
       "    </tr>\n",
       "    <tr>\n",
       "      <th>2019-08-14</th>\n",
       "      <td>-0.590542</td>\n",
       "      <td>1.466718</td>\n",
       "      <td>1.670739</td>\n",
       "      <td>0.181129</td>\n",
       "    </tr>\n",
       "    <tr>\n",
       "      <th>2019-08-15</th>\n",
       "      <td>-0.125967</td>\n",
       "      <td>0.624590</td>\n",
       "      <td>-1.654098</td>\n",
       "      <td>1.408463</td>\n",
       "    </tr>\n",
       "    <tr>\n",
       "      <th>2019-08-16</th>\n",
       "      <td>0.285609</td>\n",
       "      <td>-1.988379</td>\n",
       "      <td>-0.072780</td>\n",
       "      <td>-0.022133</td>\n",
       "    </tr>\n",
       "    <tr>\n",
       "      <th>2019-08-17</th>\n",
       "      <td>0.478272</td>\n",
       "      <td>-0.718344</td>\n",
       "      <td>-0.770699</td>\n",
       "      <td>0.670264</td>\n",
       "    </tr>\n",
       "    <tr>\n",
       "      <th>2019-08-18</th>\n",
       "      <td>0.011216</td>\n",
       "      <td>1.633362</td>\n",
       "      <td>0.251957</td>\n",
       "      <td>0.733674</td>\n",
       "    </tr>\n",
       "  </tbody>\n",
       "</table>\n",
       "</div>"
      ],
      "text/plain": [
       "                   A         B         C         D\n",
       "2019-08-12  0.328596  1.567552  0.184518  0.338254\n",
       "2019-08-13  0.020636 -0.090526 -1.772958  0.863691\n",
       "2019-08-14 -0.590542  1.466718  1.670739  0.181129\n",
       "2019-08-15 -0.125967  0.624590 -1.654098  1.408463\n",
       "2019-08-16  0.285609 -1.988379 -0.072780 -0.022133\n",
       "2019-08-17  0.478272 -0.718344 -0.770699  0.670264\n",
       "2019-08-18  0.011216  1.633362  0.251957  0.733674"
      ]
     },
     "execution_count": 24,
     "metadata": {},
     "output_type": "execute_result"
    }
   ],
   "source": [
    "# 원본카피 -> 원본그대로 나온다\n",
    "df.loc[ : ] "
   ]
  },
  {
   "cell_type": "code",
   "execution_count": 25,
   "metadata": {},
   "outputs": [
    {
     "data": {
      "text/html": [
       "<div>\n",
       "<style scoped>\n",
       "    .dataframe tbody tr th:only-of-type {\n",
       "        vertical-align: middle;\n",
       "    }\n",
       "\n",
       "    .dataframe tbody tr th {\n",
       "        vertical-align: top;\n",
       "    }\n",
       "\n",
       "    .dataframe thead th {\n",
       "        text-align: right;\n",
       "    }\n",
       "</style>\n",
       "<table border=\"1\" class=\"dataframe\">\n",
       "  <thead>\n",
       "    <tr style=\"text-align: right;\">\n",
       "      <th></th>\n",
       "      <th>A</th>\n",
       "      <th>C</th>\n",
       "    </tr>\n",
       "  </thead>\n",
       "  <tbody>\n",
       "    <tr>\n",
       "      <th>2019-08-12</th>\n",
       "      <td>0.328596</td>\n",
       "      <td>0.184518</td>\n",
       "    </tr>\n",
       "    <tr>\n",
       "      <th>2019-08-13</th>\n",
       "      <td>0.020636</td>\n",
       "      <td>-1.772958</td>\n",
       "    </tr>\n",
       "    <tr>\n",
       "      <th>2019-08-14</th>\n",
       "      <td>-0.590542</td>\n",
       "      <td>1.670739</td>\n",
       "    </tr>\n",
       "    <tr>\n",
       "      <th>2019-08-15</th>\n",
       "      <td>-0.125967</td>\n",
       "      <td>-1.654098</td>\n",
       "    </tr>\n",
       "    <tr>\n",
       "      <th>2019-08-16</th>\n",
       "      <td>0.285609</td>\n",
       "      <td>-0.072780</td>\n",
       "    </tr>\n",
       "    <tr>\n",
       "      <th>2019-08-17</th>\n",
       "      <td>0.478272</td>\n",
       "      <td>-0.770699</td>\n",
       "    </tr>\n",
       "    <tr>\n",
       "      <th>2019-08-18</th>\n",
       "      <td>0.011216</td>\n",
       "      <td>0.251957</td>\n",
       "    </tr>\n",
       "  </tbody>\n",
       "</table>\n",
       "</div>"
      ],
      "text/plain": [
       "                   A         C\n",
       "2019-08-12  0.328596  0.184518\n",
       "2019-08-13  0.020636 -1.772958\n",
       "2019-08-14 -0.590542  1.670739\n",
       "2019-08-15 -0.125967 -1.654098\n",
       "2019-08-16  0.285609 -0.072780\n",
       "2019-08-17  0.478272 -0.770699\n",
       "2019-08-18  0.011216  0.251957"
      ]
     },
     "execution_count": 25,
     "metadata": {},
     "output_type": "execute_result"
    }
   ],
   "source": [
    "# 인덱스쪽은 전부 포함시키고(1차원만 해석한다), 컬럼은 A,C만 포함(2차원만 해석한다)\n",
    "# 1차원, 2차원을 각각 표현한다는것이 중요하다\n",
    "df.loc[ : , ['A','C'] ] "
   ]
  },
  {
   "cell_type": "code",
   "execution_count": 26,
   "metadata": {},
   "outputs": [
    {
     "data": {
      "text/plain": [
       "2019-08-12    0.328596\n",
       "2019-08-13    0.020636\n",
       "2019-08-14   -0.590542\n",
       "2019-08-15   -0.125967\n",
       "2019-08-16    0.285609\n",
       "2019-08-17    0.478272\n",
       "2019-08-18    0.011216\n",
       "Freq: D, Name: A, dtype: float64"
      ]
     },
     "execution_count": 26,
     "metadata": {},
     "output_type": "execute_result"
    }
   ],
   "source": [
    "# 차원이 축소가 된다.( 2차원을 건드리는 것이다)\n",
    "df.loc[ : , 'A' ]"
   ]
  },
  {
   "cell_type": "code",
   "execution_count": 27,
   "metadata": {},
   "outputs": [
    {
     "data": {
      "text/html": [
       "<div>\n",
       "<style scoped>\n",
       "    .dataframe tbody tr th:only-of-type {\n",
       "        vertical-align: middle;\n",
       "    }\n",
       "\n",
       "    .dataframe tbody tr th {\n",
       "        vertical-align: top;\n",
       "    }\n",
       "\n",
       "    .dataframe thead th {\n",
       "        text-align: right;\n",
       "    }\n",
       "</style>\n",
       "<table border=\"1\" class=\"dataframe\">\n",
       "  <thead>\n",
       "    <tr style=\"text-align: right;\">\n",
       "      <th></th>\n",
       "      <th>A</th>\n",
       "    </tr>\n",
       "  </thead>\n",
       "  <tbody>\n",
       "    <tr>\n",
       "      <th>2019-08-12</th>\n",
       "      <td>0.328596</td>\n",
       "    </tr>\n",
       "    <tr>\n",
       "      <th>2019-08-13</th>\n",
       "      <td>0.020636</td>\n",
       "    </tr>\n",
       "    <tr>\n",
       "      <th>2019-08-14</th>\n",
       "      <td>-0.590542</td>\n",
       "    </tr>\n",
       "    <tr>\n",
       "      <th>2019-08-15</th>\n",
       "      <td>-0.125967</td>\n",
       "    </tr>\n",
       "    <tr>\n",
       "      <th>2019-08-16</th>\n",
       "      <td>0.285609</td>\n",
       "    </tr>\n",
       "    <tr>\n",
       "      <th>2019-08-17</th>\n",
       "      <td>0.478272</td>\n",
       "    </tr>\n",
       "    <tr>\n",
       "      <th>2019-08-18</th>\n",
       "      <td>0.011216</td>\n",
       "    </tr>\n",
       "  </tbody>\n",
       "</table>\n",
       "</div>"
      ],
      "text/plain": [
       "                   A\n",
       "2019-08-12  0.328596\n",
       "2019-08-13  0.020636\n",
       "2019-08-14 -0.590542\n",
       "2019-08-15 -0.125967\n",
       "2019-08-16  0.285609\n",
       "2019-08-17  0.478272\n",
       "2019-08-18  0.011216"
      ]
     },
     "execution_count": 27,
     "metadata": {},
     "output_type": "execute_result"
    }
   ],
   "source": [
    "# 차원을 유지하는 것이다.( 2차원을 건드리는 것이다)\n",
    "df.loc[ : , ['A'] ]"
   ]
  },
  {
   "cell_type": "code",
   "execution_count": 28,
   "metadata": {},
   "outputs": [
    {
     "data": {
      "text/html": [
       "<div>\n",
       "<style scoped>\n",
       "    .dataframe tbody tr th:only-of-type {\n",
       "        vertical-align: middle;\n",
       "    }\n",
       "\n",
       "    .dataframe tbody tr th {\n",
       "        vertical-align: top;\n",
       "    }\n",
       "\n",
       "    .dataframe thead th {\n",
       "        text-align: right;\n",
       "    }\n",
       "</style>\n",
       "<table border=\"1\" class=\"dataframe\">\n",
       "  <thead>\n",
       "    <tr style=\"text-align: right;\">\n",
       "      <th></th>\n",
       "      <th>A</th>\n",
       "      <th>C</th>\n",
       "    </tr>\n",
       "  </thead>\n",
       "  <tbody>\n",
       "    <tr>\n",
       "      <th>2019-08-13</th>\n",
       "      <td>0.020636</td>\n",
       "      <td>-1.772958</td>\n",
       "    </tr>\n",
       "    <tr>\n",
       "      <th>2019-08-14</th>\n",
       "      <td>-0.590542</td>\n",
       "      <td>1.670739</td>\n",
       "    </tr>\n",
       "    <tr>\n",
       "      <th>2019-08-15</th>\n",
       "      <td>-0.125967</td>\n",
       "      <td>-1.654098</td>\n",
       "    </tr>\n",
       "  </tbody>\n",
       "</table>\n",
       "</div>"
      ],
      "text/plain": [
       "                   A         C\n",
       "2019-08-13  0.020636 -1.772958\n",
       "2019-08-14 -0.590542  1.670739\n",
       "2019-08-15 -0.125967 -1.654098"
      ]
     },
     "execution_count": 28,
     "metadata": {},
     "output_type": "execute_result"
    }
   ],
   "source": [
    "# 차원유지\n",
    "df.loc[ '2019-08-13':'2019-08-15' , ['A','C'] ]"
   ]
  },
  {
   "cell_type": "code",
   "execution_count": 29,
   "metadata": {},
   "outputs": [
    {
     "data": {
      "text/plain": [
       "A    0.020636\n",
       "C   -1.772958\n",
       "Name: 2019-08-13 00:00:00, dtype: float64"
      ]
     },
     "execution_count": 29,
     "metadata": {},
     "output_type": "execute_result"
    }
   ],
   "source": [
    "# 차원축소 -> 인덱스를 한개만 지정\n",
    "df.loc[ '2019-08-13' , ['A','C'] ]"
   ]
  },
  {
   "cell_type": "code",
   "execution_count": 30,
   "metadata": {},
   "outputs": [],
   "source": [
    "# error\n",
    "#df.loc[ ['2019-08-13'] , ['A','C'] ]\n",
    "# error\n",
    "#df.loc[ ['2019-08-13':'2019-08-13'] , ['A','C'] ]"
   ]
  },
  {
   "cell_type": "code",
   "execution_count": 31,
   "metadata": {},
   "outputs": [
    {
     "data": {
      "text/html": [
       "<div>\n",
       "<style scoped>\n",
       "    .dataframe tbody tr th:only-of-type {\n",
       "        vertical-align: middle;\n",
       "    }\n",
       "\n",
       "    .dataframe tbody tr th {\n",
       "        vertical-align: top;\n",
       "    }\n",
       "\n",
       "    .dataframe thead th {\n",
       "        text-align: right;\n",
       "    }\n",
       "</style>\n",
       "<table border=\"1\" class=\"dataframe\">\n",
       "  <thead>\n",
       "    <tr style=\"text-align: right;\">\n",
       "      <th></th>\n",
       "      <th>A</th>\n",
       "      <th>C</th>\n",
       "    </tr>\n",
       "  </thead>\n",
       "  <tbody>\n",
       "    <tr>\n",
       "      <th>2019-08-13</th>\n",
       "      <td>0.020636</td>\n",
       "      <td>-1.772958</td>\n",
       "    </tr>\n",
       "  </tbody>\n",
       "</table>\n",
       "</div>"
      ],
      "text/plain": [
       "                   A         C\n",
       "2019-08-13  0.020636 -1.772958"
      ]
     },
     "execution_count": 31,
     "metadata": {},
     "output_type": "execute_result"
    }
   ],
   "source": [
    "df.loc[ '2019-08-13':'2019-08-13' , ['A','C'] ]"
   ]
  },
  {
   "cell_type": "code",
   "execution_count": 32,
   "metadata": {},
   "outputs": [
    {
     "data": {
      "text/plain": [
       "0.02063608244495575"
      ]
     },
     "execution_count": 32,
     "metadata": {},
     "output_type": "execute_result"
    }
   ],
   "source": [
    "# 차원축소가 2회 진행하는 것이다. -> 스칼라(값)\n",
    "df.loc[ '2019-08-13' , 'A' ]"
   ]
  },
  {
   "cell_type": "markdown",
   "metadata": {},
   "source": [
    "### iloc\n",
    "- 펜시인덱싱과 유사하다\n",
    "- 행과 열의 번호를 이용하여 데이터를 접근하는 방식\n",
    "- i -> index"
   ]
  },
  {
   "cell_type": "code",
   "execution_count": 33,
   "metadata": {},
   "outputs": [
    {
     "data": {
      "text/html": [
       "<div>\n",
       "<style scoped>\n",
       "    .dataframe tbody tr th:only-of-type {\n",
       "        vertical-align: middle;\n",
       "    }\n",
       "\n",
       "    .dataframe tbody tr th {\n",
       "        vertical-align: top;\n",
       "    }\n",
       "\n",
       "    .dataframe thead th {\n",
       "        text-align: right;\n",
       "    }\n",
       "</style>\n",
       "<table border=\"1\" class=\"dataframe\">\n",
       "  <thead>\n",
       "    <tr style=\"text-align: right;\">\n",
       "      <th></th>\n",
       "      <th>A</th>\n",
       "      <th>B</th>\n",
       "      <th>C</th>\n",
       "      <th>D</th>\n",
       "    </tr>\n",
       "  </thead>\n",
       "  <tbody>\n",
       "    <tr>\n",
       "      <th>2019-08-12</th>\n",
       "      <td>0.328596</td>\n",
       "      <td>1.567552</td>\n",
       "      <td>0.184518</td>\n",
       "      <td>0.338254</td>\n",
       "    </tr>\n",
       "    <tr>\n",
       "      <th>2019-08-13</th>\n",
       "      <td>0.020636</td>\n",
       "      <td>-0.090526</td>\n",
       "      <td>-1.772958</td>\n",
       "      <td>0.863691</td>\n",
       "    </tr>\n",
       "    <tr>\n",
       "      <th>2019-08-14</th>\n",
       "      <td>-0.590542</td>\n",
       "      <td>1.466718</td>\n",
       "      <td>1.670739</td>\n",
       "      <td>0.181129</td>\n",
       "    </tr>\n",
       "    <tr>\n",
       "      <th>2019-08-15</th>\n",
       "      <td>-0.125967</td>\n",
       "      <td>0.624590</td>\n",
       "      <td>-1.654098</td>\n",
       "      <td>1.408463</td>\n",
       "    </tr>\n",
       "    <tr>\n",
       "      <th>2019-08-16</th>\n",
       "      <td>0.285609</td>\n",
       "      <td>-1.988379</td>\n",
       "      <td>-0.072780</td>\n",
       "      <td>-0.022133</td>\n",
       "    </tr>\n",
       "    <tr>\n",
       "      <th>2019-08-17</th>\n",
       "      <td>0.478272</td>\n",
       "      <td>-0.718344</td>\n",
       "      <td>-0.770699</td>\n",
       "      <td>0.670264</td>\n",
       "    </tr>\n",
       "    <tr>\n",
       "      <th>2019-08-18</th>\n",
       "      <td>0.011216</td>\n",
       "      <td>1.633362</td>\n",
       "      <td>0.251957</td>\n",
       "      <td>0.733674</td>\n",
       "    </tr>\n",
       "  </tbody>\n",
       "</table>\n",
       "</div>"
      ],
      "text/plain": [
       "                   A         B         C         D\n",
       "2019-08-12  0.328596  1.567552  0.184518  0.338254\n",
       "2019-08-13  0.020636 -0.090526 -1.772958  0.863691\n",
       "2019-08-14 -0.590542  1.466718  1.670739  0.181129\n",
       "2019-08-15 -0.125967  0.624590 -1.654098  1.408463\n",
       "2019-08-16  0.285609 -1.988379 -0.072780 -0.022133\n",
       "2019-08-17  0.478272 -0.718344 -0.770699  0.670264\n",
       "2019-08-18  0.011216  1.633362  0.251957  0.733674"
      ]
     },
     "execution_count": 33,
     "metadata": {},
     "output_type": "execute_result"
    }
   ],
   "source": [
    "df"
   ]
  },
  {
   "cell_type": "code",
   "execution_count": 34,
   "metadata": {},
   "outputs": [
    {
     "data": {
      "text/plain": [
       "A    0.020636\n",
       "B   -0.090526\n",
       "C   -1.772958\n",
       "D    0.863691\n",
       "Name: 2019-08-13 00:00:00, dtype: float64"
      ]
     },
     "execution_count": 34,
     "metadata": {},
     "output_type": "execute_result"
    }
   ],
   "source": [
    "# 2019-08-13일자 데이터 추출\n",
    "# 1 => 인덱스값이 1인 데이터\n",
    "df.iloc[ 1 ]"
   ]
  },
  {
   "cell_type": "code",
   "execution_count": 35,
   "metadata": {},
   "outputs": [
    {
     "data": {
      "text/html": [
       "<div>\n",
       "<style scoped>\n",
       "    .dataframe tbody tr th:only-of-type {\n",
       "        vertical-align: middle;\n",
       "    }\n",
       "\n",
       "    .dataframe tbody tr th {\n",
       "        vertical-align: top;\n",
       "    }\n",
       "\n",
       "    .dataframe thead th {\n",
       "        text-align: right;\n",
       "    }\n",
       "</style>\n",
       "<table border=\"1\" class=\"dataframe\">\n",
       "  <thead>\n",
       "    <tr style=\"text-align: right;\">\n",
       "      <th></th>\n",
       "      <th>B</th>\n",
       "      <th>C</th>\n",
       "    </tr>\n",
       "  </thead>\n",
       "  <tbody>\n",
       "    <tr>\n",
       "      <th>2019-08-13</th>\n",
       "      <td>-0.090526</td>\n",
       "      <td>-1.772958</td>\n",
       "    </tr>\n",
       "    <tr>\n",
       "      <th>2019-08-14</th>\n",
       "      <td>1.466718</td>\n",
       "      <td>1.670739</td>\n",
       "    </tr>\n",
       "  </tbody>\n",
       "</table>\n",
       "</div>"
      ],
      "text/plain": [
       "                   B         C\n",
       "2019-08-13 -0.090526 -1.772958\n",
       "2019-08-14  1.466718  1.670739"
      ]
     },
     "execution_count": 35,
     "metadata": {},
     "output_type": "execute_result"
    }
   ],
   "source": [
    "# iloc 슬라이싱\n",
    "# a <= index < b, c <= column < d\n",
    "df.iloc[ 1:3, 1:3 ]"
   ]
  },
  {
   "cell_type": "code",
   "execution_count": 36,
   "metadata": {
    "scrolled": true
   },
   "outputs": [
    {
     "data": {
      "text/html": [
       "<div>\n",
       "<style scoped>\n",
       "    .dataframe tbody tr th:only-of-type {\n",
       "        vertical-align: middle;\n",
       "    }\n",
       "\n",
       "    .dataframe tbody tr th {\n",
       "        vertical-align: top;\n",
       "    }\n",
       "\n",
       "    .dataframe thead th {\n",
       "        text-align: right;\n",
       "    }\n",
       "</style>\n",
       "<table border=\"1\" class=\"dataframe\">\n",
       "  <thead>\n",
       "    <tr style=\"text-align: right;\">\n",
       "      <th></th>\n",
       "      <th>A</th>\n",
       "      <th>C</th>\n",
       "    </tr>\n",
       "  </thead>\n",
       "  <tbody>\n",
       "    <tr>\n",
       "      <th>2019-08-13</th>\n",
       "      <td>0.020636</td>\n",
       "      <td>-1.772958</td>\n",
       "    </tr>\n",
       "    <tr>\n",
       "      <th>2019-08-16</th>\n",
       "      <td>0.285609</td>\n",
       "      <td>-0.072780</td>\n",
       "    </tr>\n",
       "    <tr>\n",
       "      <th>2019-08-14</th>\n",
       "      <td>-0.590542</td>\n",
       "      <td>1.670739</td>\n",
       "    </tr>\n",
       "  </tbody>\n",
       "</table>\n",
       "</div>"
      ],
      "text/plain": [
       "                   A         C\n",
       "2019-08-13  0.020636 -1.772958\n",
       "2019-08-16  0.285609 -0.072780\n",
       "2019-08-14 -0.590542  1.670739"
      ]
     },
     "execution_count": 36,
     "metadata": {},
     "output_type": "execute_result"
    }
   ],
   "source": [
    "# iloc + 펜시인덱싱 기법 사용 ( 인덱스, 컬럼을 비연속적 위치를 나열 )\n",
    "df.iloc[ [1,4,2] , [0,2] ]"
   ]
  },
  {
   "cell_type": "code",
   "execution_count": 37,
   "metadata": {},
   "outputs": [
    {
     "data": {
      "text/html": [
       "<div>\n",
       "<style scoped>\n",
       "    .dataframe tbody tr th:only-of-type {\n",
       "        vertical-align: middle;\n",
       "    }\n",
       "\n",
       "    .dataframe tbody tr th {\n",
       "        vertical-align: top;\n",
       "    }\n",
       "\n",
       "    .dataframe thead th {\n",
       "        text-align: right;\n",
       "    }\n",
       "</style>\n",
       "<table border=\"1\" class=\"dataframe\">\n",
       "  <thead>\n",
       "    <tr style=\"text-align: right;\">\n",
       "      <th></th>\n",
       "      <th>A</th>\n",
       "      <th>B</th>\n",
       "      <th>C</th>\n",
       "      <th>D</th>\n",
       "    </tr>\n",
       "  </thead>\n",
       "  <tbody>\n",
       "    <tr>\n",
       "      <th>2019-08-12</th>\n",
       "      <td>0.328596</td>\n",
       "      <td>1.567552</td>\n",
       "      <td>0.184518</td>\n",
       "      <td>0.338254</td>\n",
       "    </tr>\n",
       "    <tr>\n",
       "      <th>2019-08-14</th>\n",
       "      <td>-0.590542</td>\n",
       "      <td>1.466718</td>\n",
       "      <td>1.670739</td>\n",
       "      <td>0.181129</td>\n",
       "    </tr>\n",
       "    <tr>\n",
       "      <th>2019-08-18</th>\n",
       "      <td>0.011216</td>\n",
       "      <td>1.633362</td>\n",
       "      <td>0.251957</td>\n",
       "      <td>0.733674</td>\n",
       "    </tr>\n",
       "  </tbody>\n",
       "</table>\n",
       "</div>"
      ],
      "text/plain": [
       "                   A         B         C         D\n",
       "2019-08-12  0.328596  1.567552  0.184518  0.338254\n",
       "2019-08-14 -0.590542  1.466718  1.670739  0.181129\n",
       "2019-08-18  0.011216  1.633362  0.251957  0.733674"
      ]
     },
     "execution_count": 37,
     "metadata": {},
     "output_type": "execute_result"
    }
   ],
   "source": [
    "# 특정 조건에 만족하는 데이터만 추출\n",
    "# 데이터프레임이 생성되면 컬러명은 맴버변수로 자동생성됨 : df.(스크롤안에 A,B,C,D가 나옴)\n",
    "# C컬럼에 존재하는 데이터중에 양수만(양수면: True, 음수면: False)\n",
    "# 조건을 부여하여 블리언 데이터를 만들어 참만 포함시키는 방식 : 블리언(2진데이터와 같은 맥락이다: 참,거짓 밖에 없기 때문이다) 인덱싱\n",
    "# 전형적인 슬라이싱 기법에 기반(?)\n",
    "# 특정조건만을 만족시키는 것만 살게하고 싶으면 조건을 쓰면된다\n",
    "# [ T, F, F, F, T, T, T ] 데이터를 and하면 참만 살아남아서 아래와 같은 결과를 발생\n",
    "# df에 식을 치면 => 전체 구성원에 전부다 연산이 진행된다\n",
    "# 행렬 (연산) 값 => 각 구성원에 일일이 다 연산하는것과 동일\n",
    "df[ df.C > 0 ] # -> 벡터에 스칼라 기법이기때문에 부등호가 들어간 수식작성 가능"
   ]
  },
  {
   "cell_type": "code",
   "execution_count": 38,
   "metadata": {},
   "outputs": [
    {
     "data": {
      "text/html": [
       "<div>\n",
       "<style scoped>\n",
       "    .dataframe tbody tr th:only-of-type {\n",
       "        vertical-align: middle;\n",
       "    }\n",
       "\n",
       "    .dataframe tbody tr th {\n",
       "        vertical-align: top;\n",
       "    }\n",
       "\n",
       "    .dataframe thead th {\n",
       "        text-align: right;\n",
       "    }\n",
       "</style>\n",
       "<table border=\"1\" class=\"dataframe\">\n",
       "  <thead>\n",
       "    <tr style=\"text-align: right;\">\n",
       "      <th></th>\n",
       "      <th>A</th>\n",
       "      <th>B</th>\n",
       "      <th>C</th>\n",
       "      <th>D</th>\n",
       "    </tr>\n",
       "  </thead>\n",
       "  <tbody>\n",
       "    <tr>\n",
       "      <th>2019-08-12</th>\n",
       "      <td>0.328596</td>\n",
       "      <td>1.567552</td>\n",
       "      <td>0.184518</td>\n",
       "      <td>0.338254</td>\n",
       "    </tr>\n",
       "    <tr>\n",
       "      <th>2019-08-13</th>\n",
       "      <td>0.020636</td>\n",
       "      <td>NaN</td>\n",
       "      <td>NaN</td>\n",
       "      <td>0.863691</td>\n",
       "    </tr>\n",
       "    <tr>\n",
       "      <th>2019-08-14</th>\n",
       "      <td>NaN</td>\n",
       "      <td>1.466718</td>\n",
       "      <td>1.670739</td>\n",
       "      <td>0.181129</td>\n",
       "    </tr>\n",
       "    <tr>\n",
       "      <th>2019-08-15</th>\n",
       "      <td>NaN</td>\n",
       "      <td>0.624590</td>\n",
       "      <td>NaN</td>\n",
       "      <td>1.408463</td>\n",
       "    </tr>\n",
       "    <tr>\n",
       "      <th>2019-08-16</th>\n",
       "      <td>0.285609</td>\n",
       "      <td>NaN</td>\n",
       "      <td>NaN</td>\n",
       "      <td>NaN</td>\n",
       "    </tr>\n",
       "    <tr>\n",
       "      <th>2019-08-17</th>\n",
       "      <td>0.478272</td>\n",
       "      <td>NaN</td>\n",
       "      <td>NaN</td>\n",
       "      <td>0.670264</td>\n",
       "    </tr>\n",
       "    <tr>\n",
       "      <th>2019-08-18</th>\n",
       "      <td>0.011216</td>\n",
       "      <td>1.633362</td>\n",
       "      <td>0.251957</td>\n",
       "      <td>0.733674</td>\n",
       "    </tr>\n",
       "  </tbody>\n",
       "</table>\n",
       "</div>"
      ],
      "text/plain": [
       "                   A         B         C         D\n",
       "2019-08-12  0.328596  1.567552  0.184518  0.338254\n",
       "2019-08-13  0.020636       NaN       NaN  0.863691\n",
       "2019-08-14       NaN  1.466718  1.670739  0.181129\n",
       "2019-08-15       NaN  0.624590       NaN  1.408463\n",
       "2019-08-16  0.285609       NaN       NaN       NaN\n",
       "2019-08-17  0.478272       NaN       NaN  0.670264\n",
       "2019-08-18  0.011216  1.633362  0.251957  0.733674"
      ]
     },
     "execution_count": 38,
     "metadata": {},
     "output_type": "execute_result"
    }
   ],
   "source": [
    "# 데이터 전체를 기준으로 0보다 큰가? -> 대상은 살아남고 비대상은 NaN대체(결과확인)\n",
    "#                                    -> 0보다 같거나 작은 데이터들은? NaN 대체\n",
    "df[ df > 0 ]"
   ]
  },
  {
   "cell_type": "code",
   "execution_count": 39,
   "metadata": {},
   "outputs": [
    {
     "data": {
      "text/plain": [
       "(                   A         B         C         D\n",
       " 2019-08-12  0.328596  1.567552  0.184518  0.338254\n",
       " 2019-08-13  0.020636 -0.090526 -1.772958  0.863691\n",
       " 2019-08-14 -0.590542  1.466718  1.670739  0.181129\n",
       " 2019-08-15 -0.125967  0.624590 -1.654098  1.408463\n",
       " 2019-08-16  0.285609 -1.988379 -0.072780 -0.022133\n",
       " 2019-08-17  0.478272 -0.718344 -0.770699  0.670264\n",
       " 2019-08-18  0.011216  1.633362  0.251957  0.733674,\n",
       "                    A         B         C         D\n",
       " 2019-08-12  0.328596  1.567552  0.184518  0.338254\n",
       " 2019-08-13  0.020636 -0.090526 -1.772958  0.863691\n",
       " 2019-08-14 -0.590542  1.466718  1.670739  0.181129\n",
       " 2019-08-15 -0.125967  0.624590 -1.654098  1.408463\n",
       " 2019-08-16  0.285609 -1.988379 -0.072780 -0.022133\n",
       " 2019-08-17  0.478272 -0.718344 -0.770699  0.670264\n",
       " 2019-08-18  0.011216  1.633362  0.251957  0.733674)"
      ]
     },
     "execution_count": 39,
     "metadata": {},
     "output_type": "execute_result"
    }
   ],
   "source": [
    "# 복사\n",
    "df.copy(), df[:]"
   ]
  },
  {
   "cell_type": "code",
   "execution_count": 40,
   "metadata": {},
   "outputs": [
    {
     "data": {
      "text/html": [
       "<div>\n",
       "<style scoped>\n",
       "    .dataframe tbody tr th:only-of-type {\n",
       "        vertical-align: middle;\n",
       "    }\n",
       "\n",
       "    .dataframe tbody tr th {\n",
       "        vertical-align: top;\n",
       "    }\n",
       "\n",
       "    .dataframe thead th {\n",
       "        text-align: right;\n",
       "    }\n",
       "</style>\n",
       "<table border=\"1\" class=\"dataframe\">\n",
       "  <thead>\n",
       "    <tr style=\"text-align: right;\">\n",
       "      <th></th>\n",
       "      <th>A</th>\n",
       "      <th>B</th>\n",
       "      <th>C</th>\n",
       "      <th>D</th>\n",
       "      <th>E</th>\n",
       "    </tr>\n",
       "  </thead>\n",
       "  <tbody>\n",
       "    <tr>\n",
       "      <th>2019-08-12</th>\n",
       "      <td>0.328596</td>\n",
       "      <td>1.567552</td>\n",
       "      <td>0.184518</td>\n",
       "      <td>0.338254</td>\n",
       "      <td>one</td>\n",
       "    </tr>\n",
       "    <tr>\n",
       "      <th>2019-08-13</th>\n",
       "      <td>0.020636</td>\n",
       "      <td>-0.090526</td>\n",
       "      <td>-1.772958</td>\n",
       "      <td>0.863691</td>\n",
       "      <td>one</td>\n",
       "    </tr>\n",
       "  </tbody>\n",
       "</table>\n",
       "</div>"
      ],
      "text/plain": [
       "                   A         B         C         D    E\n",
       "2019-08-12  0.328596  1.567552  0.184518  0.338254  one\n",
       "2019-08-13  0.020636 -0.090526 -1.772958  0.863691  one"
      ]
     },
     "execution_count": 40,
     "metadata": {},
     "output_type": "execute_result"
    }
   ],
   "source": [
    "# 기존 데이터 df에 새로운 컬럼을 추가한다 !! ( 아주 중요 ) => 파생변수, 뒤로 갈수록 줄줄이 나올 것으로 예상됨\n",
    "# 기존 df의 1차원과 동수의 데이터가 존재해야 한다\n",
    "# 데이터는 리스트 ok, Series도 ok\n",
    "new_data = ['one','one','two','three','four','three','five']\n",
    "# 데이터 추가 : 대상[ 신규컬럼명 ] = 데이터\n",
    "df['E'] = new_data \n",
    "df.head(2)"
   ]
  },
  {
   "cell_type": "code",
   "execution_count": 41,
   "metadata": {},
   "outputs": [
    {
     "data": {
      "text/plain": [
       "2019-08-12    False\n",
       "2019-08-13    False\n",
       "2019-08-14     True\n",
       "2019-08-15    False\n",
       "2019-08-16     True\n",
       "2019-08-17    False\n",
       "2019-08-18    False\n",
       "Freq: D, Name: E, dtype: bool"
      ]
     },
     "execution_count": 41,
     "metadata": {},
     "output_type": "execute_result"
    }
   ],
   "source": [
    "# 데이터 조사\n",
    "# 안에 그런값이 있는가? \n",
    "df['E'].isin(['two','four'])"
   ]
  },
  {
   "cell_type": "code",
   "execution_count": 42,
   "metadata": {},
   "outputs": [
    {
     "data": {
      "text/html": [
       "<div>\n",
       "<style scoped>\n",
       "    .dataframe tbody tr th:only-of-type {\n",
       "        vertical-align: middle;\n",
       "    }\n",
       "\n",
       "    .dataframe tbody tr th {\n",
       "        vertical-align: top;\n",
       "    }\n",
       "\n",
       "    .dataframe thead th {\n",
       "        text-align: right;\n",
       "    }\n",
       "</style>\n",
       "<table border=\"1\" class=\"dataframe\">\n",
       "  <thead>\n",
       "    <tr style=\"text-align: right;\">\n",
       "      <th></th>\n",
       "      <th>A</th>\n",
       "      <th>B</th>\n",
       "      <th>C</th>\n",
       "      <th>D</th>\n",
       "      <th>E</th>\n",
       "    </tr>\n",
       "  </thead>\n",
       "  <tbody>\n",
       "    <tr>\n",
       "      <th>2019-08-14</th>\n",
       "      <td>-0.590542</td>\n",
       "      <td>1.466718</td>\n",
       "      <td>1.670739</td>\n",
       "      <td>0.181129</td>\n",
       "      <td>two</td>\n",
       "    </tr>\n",
       "    <tr>\n",
       "      <th>2019-08-16</th>\n",
       "      <td>0.285609</td>\n",
       "      <td>-1.988379</td>\n",
       "      <td>-0.072780</td>\n",
       "      <td>-0.022133</td>\n",
       "      <td>four</td>\n",
       "    </tr>\n",
       "  </tbody>\n",
       "</table>\n",
       "</div>"
      ],
      "text/plain": [
       "                   A         B         C         D     E\n",
       "2019-08-14 -0.590542  1.466718  1.670739  0.181129   two\n",
       "2019-08-16  0.285609 -1.988379 -0.072780 -0.022133  four"
      ]
     },
     "execution_count": 42,
     "metadata": {},
     "output_type": "execute_result"
    }
   ],
   "source": [
    "df[df['E'].isin(['two','four'])]"
   ]
  },
  {
   "cell_type": "code",
   "execution_count": 43,
   "metadata": {},
   "outputs": [
    {
     "data": {
      "text/html": [
       "<div>\n",
       "<style scoped>\n",
       "    .dataframe tbody tr th:only-of-type {\n",
       "        vertical-align: middle;\n",
       "    }\n",
       "\n",
       "    .dataframe tbody tr th {\n",
       "        vertical-align: top;\n",
       "    }\n",
       "\n",
       "    .dataframe thead th {\n",
       "        text-align: right;\n",
       "    }\n",
       "</style>\n",
       "<table border=\"1\" class=\"dataframe\">\n",
       "  <thead>\n",
       "    <tr style=\"text-align: right;\">\n",
       "      <th></th>\n",
       "      <th>A</th>\n",
       "      <th>B</th>\n",
       "      <th>C</th>\n",
       "      <th>D</th>\n",
       "      <th>E</th>\n",
       "    </tr>\n",
       "  </thead>\n",
       "  <tbody>\n",
       "    <tr>\n",
       "      <th>2019-08-12</th>\n",
       "      <td>0.328596</td>\n",
       "      <td>1.567552</td>\n",
       "      <td>0.184518</td>\n",
       "      <td>0.338254</td>\n",
       "      <td>one</td>\n",
       "    </tr>\n",
       "    <tr>\n",
       "      <th>2019-08-13</th>\n",
       "      <td>0.349232</td>\n",
       "      <td>1.477026</td>\n",
       "      <td>-1.588441</td>\n",
       "      <td>1.201945</td>\n",
       "      <td>oneone</td>\n",
       "    </tr>\n",
       "    <tr>\n",
       "      <th>2019-08-14</th>\n",
       "      <td>-0.241310</td>\n",
       "      <td>2.943744</td>\n",
       "      <td>0.082298</td>\n",
       "      <td>1.383074</td>\n",
       "      <td>oneonetwo</td>\n",
       "    </tr>\n",
       "    <tr>\n",
       "      <th>2019-08-15</th>\n",
       "      <td>-0.367276</td>\n",
       "      <td>3.568334</td>\n",
       "      <td>-1.571800</td>\n",
       "      <td>2.791537</td>\n",
       "      <td>oneonetwothree</td>\n",
       "    </tr>\n",
       "    <tr>\n",
       "      <th>2019-08-16</th>\n",
       "      <td>-0.081667</td>\n",
       "      <td>1.579954</td>\n",
       "      <td>-1.644580</td>\n",
       "      <td>2.769404</td>\n",
       "      <td>oneonetwothreefour</td>\n",
       "    </tr>\n",
       "    <tr>\n",
       "      <th>2019-08-17</th>\n",
       "      <td>0.396605</td>\n",
       "      <td>0.861610</td>\n",
       "      <td>-2.415279</td>\n",
       "      <td>3.439668</td>\n",
       "      <td>oneonetwothreefourthree</td>\n",
       "    </tr>\n",
       "    <tr>\n",
       "      <th>2019-08-18</th>\n",
       "      <td>0.407822</td>\n",
       "      <td>2.494972</td>\n",
       "      <td>-2.163322</td>\n",
       "      <td>4.173342</td>\n",
       "      <td>oneonetwothreefourthreefive</td>\n",
       "    </tr>\n",
       "  </tbody>\n",
       "</table>\n",
       "</div>"
      ],
      "text/plain": [
       "                   A         B         C         D  \\\n",
       "2019-08-12  0.328596  1.567552  0.184518  0.338254   \n",
       "2019-08-13  0.349232  1.477026 -1.588441  1.201945   \n",
       "2019-08-14 -0.241310  2.943744  0.082298  1.383074   \n",
       "2019-08-15 -0.367276  3.568334 -1.571800  2.791537   \n",
       "2019-08-16 -0.081667  1.579954 -1.644580  2.769404   \n",
       "2019-08-17  0.396605  0.861610 -2.415279  3.439668   \n",
       "2019-08-18  0.407822  2.494972 -2.163322  4.173342   \n",
       "\n",
       "                                      E  \n",
       "2019-08-12                          one  \n",
       "2019-08-13                       oneone  \n",
       "2019-08-14                    oneonetwo  \n",
       "2019-08-15               oneonetwothree  \n",
       "2019-08-16           oneonetwothreefour  \n",
       "2019-08-17      oneonetwothreefourthree  \n",
       "2019-08-18  oneonetwothreefourthreefive  "
      ]
     },
     "execution_count": 43,
     "metadata": {},
     "output_type": "execute_result"
    }
   ],
   "source": [
    "# 누적합\n",
    "# apply( 함수를 표현 ) => 맴버들을 다 건드린다\n",
    "df.apply( np.cumsum )"
   ]
  },
  {
   "cell_type": "code",
   "execution_count": 44,
   "metadata": {},
   "outputs": [],
   "source": [
    "try:\n",
    "    # 제거\n",
    "    df.drop( ['E'], inplace=True, axis=1 )  # axis= : 축의 방향\n",
    "    df\n",
    "except Exception as e:\n",
    "    pass"
   ]
  },
  {
   "cell_type": "code",
   "execution_count": 45,
   "metadata": {},
   "outputs": [
    {
     "data": {
      "text/plain": [
       "A    1.068814\n",
       "B    3.621741\n",
       "C    3.443697\n",
       "D    1.430596\n",
       "dtype: float64"
      ]
     },
     "execution_count": 45,
     "metadata": {},
     "output_type": "execute_result"
    }
   ],
   "source": [
    "# 각 컬럼의 최대값에서 최소값을 뺀 값 => 거리:distance\n",
    "df.apply( lambda x:x.max()-x.min() )"
   ]
  },
  {
   "cell_type": "code",
   "execution_count": 46,
   "metadata": {},
   "outputs": [
    {
     "data": {
      "text/plain": [
       "(A    0.478272\n",
       " B    1.633362\n",
       " C    1.670739\n",
       " D    1.408463\n",
       " dtype: float64, A   -0.590542\n",
       " B   -1.988379\n",
       " C   -1.772958\n",
       " D   -0.022133\n",
       " dtype: float64)"
      ]
     },
     "execution_count": 46,
     "metadata": {},
     "output_type": "execute_result"
    }
   ],
   "source": [
    "df.max(), df.min() # max, min 값만 봤을때: 차원축소가 되어서 Series가 된다."
   ]
  },
  {
   "cell_type": "code",
   "execution_count": null,
   "metadata": {},
   "outputs": [],
   "source": []
  },
  {
   "cell_type": "code",
   "execution_count": null,
   "metadata": {},
   "outputs": [],
   "source": []
  },
  {
   "cell_type": "code",
   "execution_count": null,
   "metadata": {},
   "outputs": [],
   "source": []
  },
  {
   "cell_type": "code",
   "execution_count": null,
   "metadata": {},
   "outputs": [],
   "source": []
  },
  {
   "cell_type": "code",
   "execution_count": null,
   "metadata": {},
   "outputs": [],
   "source": []
  },
  {
   "cell_type": "code",
   "execution_count": null,
   "metadata": {},
   "outputs": [],
   "source": []
  },
  {
   "cell_type": "code",
   "execution_count": null,
   "metadata": {},
   "outputs": [],
   "source": []
  },
  {
   "cell_type": "code",
   "execution_count": null,
   "metadata": {},
   "outputs": [],
   "source": []
  },
  {
   "cell_type": "code",
   "execution_count": null,
   "metadata": {},
   "outputs": [],
   "source": []
  },
  {
   "cell_type": "code",
   "execution_count": null,
   "metadata": {},
   "outputs": [],
   "source": []
  },
  {
   "cell_type": "code",
   "execution_count": null,
   "metadata": {},
   "outputs": [],
   "source": []
  },
  {
   "cell_type": "code",
   "execution_count": null,
   "metadata": {},
   "outputs": [],
   "source": []
  },
  {
   "cell_type": "code",
   "execution_count": null,
   "metadata": {},
   "outputs": [],
   "source": []
  },
  {
   "cell_type": "code",
   "execution_count": null,
   "metadata": {},
   "outputs": [],
   "source": []
  },
  {
   "cell_type": "code",
   "execution_count": null,
   "metadata": {},
   "outputs": [],
   "source": []
  }
 ],
 "metadata": {
  "kernelspec": {
   "display_name": "Python 3",
   "language": "python",
   "name": "python3"
  },
  "language_info": {
   "codemirror_mode": {
    "name": "ipython",
    "version": 3
   },
   "file_extension": ".py",
   "mimetype": "text/x-python",
   "name": "python",
   "nbconvert_exporter": "python",
   "pygments_lexer": "ipython3",
   "version": "3.6.5"
  }
 },
 "nbformat": 4,
 "nbformat_minor": 2
}

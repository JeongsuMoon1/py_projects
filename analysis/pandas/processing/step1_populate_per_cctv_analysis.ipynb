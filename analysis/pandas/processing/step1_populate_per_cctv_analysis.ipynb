{
 "cells": [
  {
   "cell_type": "markdown",
   "metadata": {},
   "source": [
    "## 서울시기준, 자치구별 cctv, 인구현황분석\n",
    "- 개별 데이터 분석\n",
    "- 상관성 분석\n",
    "- pandas 사용법 습득, 시각화 기초"
   ]
  },
  {
   "cell_type": "markdown",
   "metadata": {},
   "source": [
    "### 1. 데이터 수집(획득) 및 로드"
   ]
  },
  {
   "cell_type": "code",
   "execution_count": 7,
   "metadata": {},
   "outputs": [],
   "source": [
    "# 일반적으로 2가지가 형식적이다\n",
    "import numpy as np\n",
    "import pandas as pd"
   ]
  },
  {
   "cell_type": "markdown",
   "metadata": {},
   "source": [
    "- pandas에서 엑셀(csv) 파일로드\n",
    "- 데이터를 부분 확인 후 데이터의 이상여부 간단히 시각적 확인"
   ]
  },
  {
   "cell_type": "code",
   "execution_count": 8,
   "metadata": {},
   "outputs": [],
   "source": [
    "# pd.read_ : 출처경로가 된다(의미: 경로출처)\n",
    "s_cctv = pd.read_excel( '../data/seoul_cctv_state.xlsx', encoding='utf-8' ) # 엑셀로 안깨졌을 때 utf-8"
   ]
  },
  {
   "cell_type": "code",
   "execution_count": 9,
   "metadata": {},
   "outputs": [
    {
     "data": {
      "text/html": [
       "<div>\n",
       "<style scoped>\n",
       "    .dataframe tbody tr th:only-of-type {\n",
       "        vertical-align: middle;\n",
       "    }\n",
       "\n",
       "    .dataframe tbody tr th {\n",
       "        vertical-align: top;\n",
       "    }\n",
       "\n",
       "    .dataframe thead th {\n",
       "        text-align: right;\n",
       "    }\n",
       "</style>\n",
       "<table border=\"1\" class=\"dataframe\">\n",
       "  <thead>\n",
       "    <tr style=\"text-align: right;\">\n",
       "      <th></th>\n",
       "      <th>기관명</th>\n",
       "      <th>소계</th>\n",
       "      <th>2011년 이전</th>\n",
       "      <th>2012년</th>\n",
       "      <th>2013년</th>\n",
       "      <th>2014년</th>\n",
       "      <th>2015년</th>\n",
       "      <th>2016년</th>\n",
       "      <th>2017년</th>\n",
       "      <th>2018년</th>\n",
       "    </tr>\n",
       "  </thead>\n",
       "  <tbody>\n",
       "    <tr>\n",
       "      <th>0</th>\n",
       "      <td>강 남 구</td>\n",
       "      <td>5221</td>\n",
       "      <td>1944.0</td>\n",
       "      <td>195.0</td>\n",
       "      <td>316.0</td>\n",
       "      <td>430</td>\n",
       "      <td>546</td>\n",
       "      <td>765</td>\n",
       "      <td>577</td>\n",
       "      <td>448</td>\n",
       "    </tr>\n",
       "    <tr>\n",
       "      <th>1</th>\n",
       "      <td>강 동 구</td>\n",
       "      <td>1879</td>\n",
       "      <td>303.0</td>\n",
       "      <td>387.0</td>\n",
       "      <td>134.0</td>\n",
       "      <td>59</td>\n",
       "      <td>144</td>\n",
       "      <td>194</td>\n",
       "      <td>273</td>\n",
       "      <td>385</td>\n",
       "    </tr>\n",
       "    <tr>\n",
       "      <th>2</th>\n",
       "      <td>강 북 구</td>\n",
       "      <td>1265</td>\n",
       "      <td>243.0</td>\n",
       "      <td>88.0</td>\n",
       "      <td>141.0</td>\n",
       "      <td>74</td>\n",
       "      <td>145</td>\n",
       "      <td>254</td>\n",
       "      <td>1</td>\n",
       "      <td>319</td>\n",
       "    </tr>\n",
       "    <tr>\n",
       "      <th>3</th>\n",
       "      <td>강 서 구</td>\n",
       "      <td>1617</td>\n",
       "      <td>219.0</td>\n",
       "      <td>155.0</td>\n",
       "      <td>118.0</td>\n",
       "      <td>230</td>\n",
       "      <td>187</td>\n",
       "      <td>190</td>\n",
       "      <td>264</td>\n",
       "      <td>254</td>\n",
       "    </tr>\n",
       "    <tr>\n",
       "      <th>4</th>\n",
       "      <td>관 악 구</td>\n",
       "      <td>3985</td>\n",
       "      <td>430.0</td>\n",
       "      <td>56.0</td>\n",
       "      <td>419.0</td>\n",
       "      <td>487</td>\n",
       "      <td>609</td>\n",
       "      <td>619</td>\n",
       "      <td>694</td>\n",
       "      <td>671</td>\n",
       "    </tr>\n",
       "    <tr>\n",
       "      <th>5</th>\n",
       "      <td>광 진 구</td>\n",
       "      <td>1581</td>\n",
       "      <td>470.0</td>\n",
       "      <td>42.0</td>\n",
       "      <td>83.0</td>\n",
       "      <td>87</td>\n",
       "      <td>64</td>\n",
       "      <td>21</td>\n",
       "      <td>468</td>\n",
       "      <td>346</td>\n",
       "    </tr>\n",
       "    <tr>\n",
       "      <th>6</th>\n",
       "      <td>구 로 구</td>\n",
       "      <td>3227</td>\n",
       "      <td>852.0</td>\n",
       "      <td>219.0</td>\n",
       "      <td>349.0</td>\n",
       "      <td>187</td>\n",
       "      <td>268</td>\n",
       "      <td>326</td>\n",
       "      <td>540</td>\n",
       "      <td>486</td>\n",
       "    </tr>\n",
       "    <tr>\n",
       "      <th>7</th>\n",
       "      <td>금 천 구</td>\n",
       "      <td>1634</td>\n",
       "      <td>27.0</td>\n",
       "      <td>17.0</td>\n",
       "      <td>242.0</td>\n",
       "      <td>101</td>\n",
       "      <td>382</td>\n",
       "      <td>136</td>\n",
       "      <td>199</td>\n",
       "      <td>530</td>\n",
       "    </tr>\n",
       "    <tr>\n",
       "      <th>8</th>\n",
       "      <td>노 원 구</td>\n",
       "      <td>1906</td>\n",
       "      <td>481.0</td>\n",
       "      <td>117.0</td>\n",
       "      <td>203.0</td>\n",
       "      <td>80</td>\n",
       "      <td>461</td>\n",
       "      <td>298</td>\n",
       "      <td>110</td>\n",
       "      <td>156</td>\n",
       "    </tr>\n",
       "    <tr>\n",
       "      <th>9</th>\n",
       "      <td>도 봉 구</td>\n",
       "      <td>858</td>\n",
       "      <td>197.0</td>\n",
       "      <td>66.0</td>\n",
       "      <td>8.0</td>\n",
       "      <td>185</td>\n",
       "      <td>59</td>\n",
       "      <td>155</td>\n",
       "      <td>117</td>\n",
       "      <td>71</td>\n",
       "    </tr>\n",
       "    <tr>\n",
       "      <th>10</th>\n",
       "      <td>동대문구</td>\n",
       "      <td>2003</td>\n",
       "      <td>NaN</td>\n",
       "      <td>NaN</td>\n",
       "      <td>NaN</td>\n",
       "      <td>1326</td>\n",
       "      <td>111</td>\n",
       "      <td>233</td>\n",
       "      <td>136</td>\n",
       "      <td>197</td>\n",
       "    </tr>\n",
       "    <tr>\n",
       "      <th>11</th>\n",
       "      <td>동 작 구</td>\n",
       "      <td>1780</td>\n",
       "      <td>238.0</td>\n",
       "      <td>93.0</td>\n",
       "      <td>29.0</td>\n",
       "      <td>503</td>\n",
       "      <td>130</td>\n",
       "      <td>254</td>\n",
       "      <td>278</td>\n",
       "      <td>255</td>\n",
       "    </tr>\n",
       "    <tr>\n",
       "      <th>12</th>\n",
       "      <td>마 포 구</td>\n",
       "      <td>1935</td>\n",
       "      <td>585.0</td>\n",
       "      <td>108.0</td>\n",
       "      <td>69.0</td>\n",
       "      <td>70</td>\n",
       "      <td>177</td>\n",
       "      <td>359</td>\n",
       "      <td>372</td>\n",
       "      <td>195</td>\n",
       "    </tr>\n",
       "    <tr>\n",
       "      <th>13</th>\n",
       "      <td>서대문구</td>\n",
       "      <td>2121</td>\n",
       "      <td>565.0</td>\n",
       "      <td>233.0</td>\n",
       "      <td>214.0</td>\n",
       "      <td>114</td>\n",
       "      <td>109</td>\n",
       "      <td>277</td>\n",
       "      <td>415</td>\n",
       "      <td>194</td>\n",
       "    </tr>\n",
       "    <tr>\n",
       "      <th>14</th>\n",
       "      <td>서 초 구</td>\n",
       "      <td>2835</td>\n",
       "      <td>1172.0</td>\n",
       "      <td>91.0</td>\n",
       "      <td>228.0</td>\n",
       "      <td>134</td>\n",
       "      <td>215</td>\n",
       "      <td>352</td>\n",
       "      <td>247</td>\n",
       "      <td>396</td>\n",
       "    </tr>\n",
       "    <tr>\n",
       "      <th>15</th>\n",
       "      <td>성 동 구</td>\n",
       "      <td>2679</td>\n",
       "      <td>665.0</td>\n",
       "      <td>109.0</td>\n",
       "      <td>118.0</td>\n",
       "      <td>101</td>\n",
       "      <td>258</td>\n",
       "      <td>201</td>\n",
       "      <td>933</td>\n",
       "      <td>294</td>\n",
       "    </tr>\n",
       "    <tr>\n",
       "      <th>16</th>\n",
       "      <td>성 북 구</td>\n",
       "      <td>3003</td>\n",
       "      <td>779.0</td>\n",
       "      <td>84.0</td>\n",
       "      <td>304.0</td>\n",
       "      <td>241</td>\n",
       "      <td>279</td>\n",
       "      <td>388</td>\n",
       "      <td>285</td>\n",
       "      <td>643</td>\n",
       "    </tr>\n",
       "    <tr>\n",
       "      <th>17</th>\n",
       "      <td>송 파 구</td>\n",
       "      <td>1586</td>\n",
       "      <td>600.0</td>\n",
       "      <td>99.0</td>\n",
       "      <td>88.0</td>\n",
       "      <td>21</td>\n",
       "      <td>166</td>\n",
       "      <td>100</td>\n",
       "      <td>116</td>\n",
       "      <td>396</td>\n",
       "    </tr>\n",
       "    <tr>\n",
       "      <th>18</th>\n",
       "      <td>양 천 구</td>\n",
       "      <td>2775</td>\n",
       "      <td>772.0</td>\n",
       "      <td>161.0</td>\n",
       "      <td>185.0</td>\n",
       "      <td>169</td>\n",
       "      <td>172</td>\n",
       "      <td>349</td>\n",
       "      <td>137</td>\n",
       "      <td>830</td>\n",
       "    </tr>\n",
       "    <tr>\n",
       "      <th>19</th>\n",
       "      <td>영등포구</td>\n",
       "      <td>2495</td>\n",
       "      <td>132.0</td>\n",
       "      <td>121.0</td>\n",
       "      <td>206.0</td>\n",
       "      <td>217</td>\n",
       "      <td>366</td>\n",
       "      <td>289</td>\n",
       "      <td>371</td>\n",
       "      <td>793</td>\n",
       "    </tr>\n",
       "    <tr>\n",
       "      <th>20</th>\n",
       "      <td>용 산 구</td>\n",
       "      <td>2063</td>\n",
       "      <td>1279.0</td>\n",
       "      <td>152.0</td>\n",
       "      <td>201.0</td>\n",
       "      <td>107</td>\n",
       "      <td>102</td>\n",
       "      <td>89</td>\n",
       "      <td>60</td>\n",
       "      <td>73</td>\n",
       "    </tr>\n",
       "    <tr>\n",
       "      <th>21</th>\n",
       "      <td>은 평 구</td>\n",
       "      <td>2962</td>\n",
       "      <td>1365.0</td>\n",
       "      <td>83.0</td>\n",
       "      <td>99.0</td>\n",
       "      <td>343</td>\n",
       "      <td>180</td>\n",
       "      <td>296</td>\n",
       "      <td>229</td>\n",
       "      <td>367</td>\n",
       "    </tr>\n",
       "    <tr>\n",
       "      <th>22</th>\n",
       "      <td>종 로 구</td>\n",
       "      <td>1471</td>\n",
       "      <td>8.0</td>\n",
       "      <td>7.0</td>\n",
       "      <td>599.0</td>\n",
       "      <td>132</td>\n",
       "      <td>195</td>\n",
       "      <td>148</td>\n",
       "      <td>281</td>\n",
       "      <td>101</td>\n",
       "    </tr>\n",
       "    <tr>\n",
       "      <th>23</th>\n",
       "      <td>중     구</td>\n",
       "      <td>1544</td>\n",
       "      <td>25.0</td>\n",
       "      <td>165.0</td>\n",
       "      <td>114.0</td>\n",
       "      <td>80</td>\n",
       "      <td>245</td>\n",
       "      <td>270</td>\n",
       "      <td>317</td>\n",
       "      <td>328</td>\n",
       "    </tr>\n",
       "    <tr>\n",
       "      <th>24</th>\n",
       "      <td>중 랑 구</td>\n",
       "      <td>1068</td>\n",
       "      <td>NaN</td>\n",
       "      <td>NaN</td>\n",
       "      <td>NaN</td>\n",
       "      <td>770</td>\n",
       "      <td>102</td>\n",
       "      <td>121</td>\n",
       "      <td>66</td>\n",
       "      <td>9</td>\n",
       "    </tr>\n",
       "  </tbody>\n",
       "</table>\n",
       "</div>"
      ],
      "text/plain": [
       "        기관명    소계  2011년 이전  2012년  2013년  2014년  2015년  2016년  2017년  2018년\n",
       "0     강 남 구  5221    1944.0  195.0  316.0    430    546    765    577    448\n",
       "1     강 동 구  1879     303.0  387.0  134.0     59    144    194    273    385\n",
       "2     강 북 구  1265     243.0   88.0  141.0     74    145    254      1    319\n",
       "3     강 서 구  1617     219.0  155.0  118.0    230    187    190    264    254\n",
       "4     관 악 구  3985     430.0   56.0  419.0    487    609    619    694    671\n",
       "5     광 진 구  1581     470.0   42.0   83.0     87     64     21    468    346\n",
       "6     구 로 구  3227     852.0  219.0  349.0    187    268    326    540    486\n",
       "7     금 천 구  1634      27.0   17.0  242.0    101    382    136    199    530\n",
       "8     노 원 구  1906     481.0  117.0  203.0     80    461    298    110    156\n",
       "9     도 봉 구   858     197.0   66.0    8.0    185     59    155    117     71\n",
       "10     동대문구  2003       NaN    NaN    NaN   1326    111    233    136    197\n",
       "11    동 작 구  1780     238.0   93.0   29.0    503    130    254    278    255\n",
       "12    마 포 구  1935     585.0  108.0   69.0     70    177    359    372    195\n",
       "13     서대문구  2121     565.0  233.0  214.0    114    109    277    415    194\n",
       "14    서 초 구  2835    1172.0   91.0  228.0    134    215    352    247    396\n",
       "15    성 동 구  2679     665.0  109.0  118.0    101    258    201    933    294\n",
       "16    성 북 구  3003     779.0   84.0  304.0    241    279    388    285    643\n",
       "17    송 파 구  1586     600.0   99.0   88.0     21    166    100    116    396\n",
       "18    양 천 구  2775     772.0  161.0  185.0    169    172    349    137    830\n",
       "19     영등포구  2495     132.0  121.0  206.0    217    366    289    371    793\n",
       "20    용 산 구  2063    1279.0  152.0  201.0    107    102     89     60     73\n",
       "21    은 평 구  2962    1365.0   83.0   99.0    343    180    296    229    367\n",
       "22    종 로 구  1471       8.0    7.0  599.0    132    195    148    281    101\n",
       "23  중     구  1544      25.0  165.0  114.0     80    245    270    317    328\n",
       "24    중 랑 구  1068       NaN    NaN    NaN    770    102    121     66      9"
      ]
     },
     "execution_count": 9,
     "metadata": {},
     "output_type": "execute_result"
    }
   ],
   "source": [
    "# 전체확인\n",
    "s_cctv"
   ]
  },
  {
   "cell_type": "code",
   "execution_count": 10,
   "metadata": {},
   "outputs": [
    {
     "data": {
      "text/html": [
       "<div>\n",
       "<style scoped>\n",
       "    .dataframe tbody tr th:only-of-type {\n",
       "        vertical-align: middle;\n",
       "    }\n",
       "\n",
       "    .dataframe tbody tr th {\n",
       "        vertical-align: top;\n",
       "    }\n",
       "\n",
       "    .dataframe thead th {\n",
       "        text-align: right;\n",
       "    }\n",
       "</style>\n",
       "<table border=\"1\" class=\"dataframe\">\n",
       "  <thead>\n",
       "    <tr style=\"text-align: right;\">\n",
       "      <th></th>\n",
       "      <th>기관명</th>\n",
       "      <th>소계</th>\n",
       "      <th>2011년 이전</th>\n",
       "      <th>2012년</th>\n",
       "      <th>2013년</th>\n",
       "      <th>2014년</th>\n",
       "      <th>2015년</th>\n",
       "      <th>2016년</th>\n",
       "      <th>2017년</th>\n",
       "      <th>2018년</th>\n",
       "    </tr>\n",
       "  </thead>\n",
       "  <tbody>\n",
       "    <tr>\n",
       "      <th>0</th>\n",
       "      <td>강 남 구</td>\n",
       "      <td>5221</td>\n",
       "      <td>1944.0</td>\n",
       "      <td>195.0</td>\n",
       "      <td>316.0</td>\n",
       "      <td>430</td>\n",
       "      <td>546</td>\n",
       "      <td>765</td>\n",
       "      <td>577</td>\n",
       "      <td>448</td>\n",
       "    </tr>\n",
       "    <tr>\n",
       "      <th>1</th>\n",
       "      <td>강 동 구</td>\n",
       "      <td>1879</td>\n",
       "      <td>303.0</td>\n",
       "      <td>387.0</td>\n",
       "      <td>134.0</td>\n",
       "      <td>59</td>\n",
       "      <td>144</td>\n",
       "      <td>194</td>\n",
       "      <td>273</td>\n",
       "      <td>385</td>\n",
       "    </tr>\n",
       "  </tbody>\n",
       "</table>\n",
       "</div>"
      ],
      "text/plain": [
       "     기관명    소계  2011년 이전  2012년  2013년  2014년  2015년  2016년  2017년  2018년\n",
       "0  강 남 구  5221    1944.0  195.0  316.0    430    546    765    577    448\n",
       "1  강 동 구  1879     303.0  387.0  134.0     59    144    194    273    385"
      ]
     },
     "execution_count": 10,
     "metadata": {},
     "output_type": "execute_result"
    }
   ],
   "source": [
    "# 상위값 확인\n",
    "# s_cctv.head() # 5개 출력된다\n",
    "s_cctv.head( 2 ) # 2개"
   ]
  },
  {
   "cell_type": "code",
   "execution_count": 11,
   "metadata": {},
   "outputs": [
    {
     "data": {
      "text/html": [
       "<div>\n",
       "<style scoped>\n",
       "    .dataframe tbody tr th:only-of-type {\n",
       "        vertical-align: middle;\n",
       "    }\n",
       "\n",
       "    .dataframe tbody tr th {\n",
       "        vertical-align: top;\n",
       "    }\n",
       "\n",
       "    .dataframe thead th {\n",
       "        text-align: right;\n",
       "    }\n",
       "</style>\n",
       "<table border=\"1\" class=\"dataframe\">\n",
       "  <thead>\n",
       "    <tr style=\"text-align: right;\">\n",
       "      <th></th>\n",
       "      <th>기관명</th>\n",
       "      <th>소계</th>\n",
       "      <th>2011년 이전</th>\n",
       "      <th>2012년</th>\n",
       "      <th>2013년</th>\n",
       "      <th>2014년</th>\n",
       "      <th>2015년</th>\n",
       "      <th>2016년</th>\n",
       "      <th>2017년</th>\n",
       "      <th>2018년</th>\n",
       "    </tr>\n",
       "  </thead>\n",
       "  <tbody>\n",
       "    <tr>\n",
       "      <th>23</th>\n",
       "      <td>중     구</td>\n",
       "      <td>1544</td>\n",
       "      <td>25.0</td>\n",
       "      <td>165.0</td>\n",
       "      <td>114.0</td>\n",
       "      <td>80</td>\n",
       "      <td>245</td>\n",
       "      <td>270</td>\n",
       "      <td>317</td>\n",
       "      <td>328</td>\n",
       "    </tr>\n",
       "    <tr>\n",
       "      <th>24</th>\n",
       "      <td>중 랑 구</td>\n",
       "      <td>1068</td>\n",
       "      <td>NaN</td>\n",
       "      <td>NaN</td>\n",
       "      <td>NaN</td>\n",
       "      <td>770</td>\n",
       "      <td>102</td>\n",
       "      <td>121</td>\n",
       "      <td>66</td>\n",
       "      <td>9</td>\n",
       "    </tr>\n",
       "  </tbody>\n",
       "</table>\n",
       "</div>"
      ],
      "text/plain": [
       "        기관명    소계  2011년 이전  2012년  2013년  2014년  2015년  2016년  2017년  2018년\n",
       "23  중     구  1544      25.0  165.0  114.0     80    245    270    317    328\n",
       "24    중 랑 구  1068       NaN    NaN    NaN    770    102    121     66      9"
      ]
     },
     "execution_count": 11,
     "metadata": {},
     "output_type": "execute_result"
    }
   ],
   "source": [
    "# 하위값 확인\n",
    "# s_cctv.tail() # 5개\n",
    "s_cctv.tail( 2 ) # 2개 "
   ]
  },
  {
   "cell_type": "markdown",
   "metadata": {},
   "source": [
    " - 대략적으로 탐색한 결과 '동대문구'와 '중랑구'에 결측치 확인, NaN으로 표기 "
   ]
  },
  {
   "cell_type": "code",
   "execution_count": 12,
   "metadata": {},
   "outputs": [
    {
     "data": {
      "text/plain": [
       "Index(['기관명', '소계', '2011년 이전', '2012년', '2013년', '2014년', '2015년', '2016년',\n",
       "       '2017년', '2018년'],\n",
       "      dtype='object')"
      ]
     },
     "execution_count": 12,
     "metadata": {},
     "output_type": "execute_result"
    }
   ],
   "source": [
    "# 탐색\n",
    "# 컬럼명 확인\n",
    "s_cctv.columns"
   ]
  },
  {
   "cell_type": "code",
   "execution_count": 13,
   "metadata": {},
   "outputs": [
    {
     "data": {
      "text/plain": [
       "'2011년 이전'"
      ]
     },
     "execution_count": 13,
     "metadata": {},
     "output_type": "execute_result"
    }
   ],
   "source": [
    "# '2011년 이전'이라는 컬럼명을 획득하고 싶을 경우\n",
    "s_cctv.columns[2]"
   ]
  },
  {
   "cell_type": "code",
   "execution_count": 14,
   "metadata": {},
   "outputs": [
    {
     "data": {
      "text/plain": [
       "(25, 10)"
      ]
     },
     "execution_count": 14,
     "metadata": {},
     "output_type": "execute_result"
    }
   ],
   "source": [
    "# 데이터의 차원, 모습 확인 => shape\n",
    "s_cctv.shape\n",
    "# 1차원이 25개, 2차원이 10개 -> 튜플이 2개임:2차원이라는 뜻"
   ]
  },
  {
   "cell_type": "code",
   "execution_count": 15,
   "metadata": {},
   "outputs": [
    {
     "data": {
      "text/plain": [
       "RangeIndex(start=0, stop=25, step=1)"
      ]
     },
     "execution_count": 15,
     "metadata": {},
     "output_type": "execute_result"
    }
   ],
   "source": [
    "# 인덱스\n",
    "s_cctv.index"
   ]
  },
  {
   "cell_type": "code",
   "execution_count": 16,
   "metadata": {},
   "outputs": [
    {
     "data": {
      "text/plain": [
       "1"
      ]
     },
     "execution_count": 16,
     "metadata": {},
     "output_type": "execute_result"
    }
   ],
   "source": [
    "s_cctv.index[1]"
   ]
  },
  {
   "cell_type": "code",
   "execution_count": 17,
   "metadata": {},
   "outputs": [
    {
     "data": {
      "text/html": [
       "<div>\n",
       "<style scoped>\n",
       "    .dataframe tbody tr th:only-of-type {\n",
       "        vertical-align: middle;\n",
       "    }\n",
       "\n",
       "    .dataframe tbody tr th {\n",
       "        vertical-align: top;\n",
       "    }\n",
       "\n",
       "    .dataframe thead th {\n",
       "        text-align: right;\n",
       "    }\n",
       "</style>\n",
       "<table border=\"1\" class=\"dataframe\">\n",
       "  <thead>\n",
       "    <tr style=\"text-align: right;\">\n",
       "      <th></th>\n",
       "      <th>기관명</th>\n",
       "      <th>소계</th>\n",
       "      <th>2011년 이전</th>\n",
       "      <th>2012년</th>\n",
       "      <th>2013년</th>\n",
       "      <th>2014년</th>\n",
       "      <th>2015년</th>\n",
       "      <th>2016년</th>\n",
       "      <th>2017년</th>\n",
       "      <th>2018년</th>\n",
       "    </tr>\n",
       "  </thead>\n",
       "  <tbody>\n",
       "    <tr>\n",
       "      <th>0</th>\n",
       "      <td>강 남 구</td>\n",
       "      <td>5221</td>\n",
       "      <td>1944.0</td>\n",
       "      <td>195.0</td>\n",
       "      <td>316.0</td>\n",
       "      <td>430</td>\n",
       "      <td>546</td>\n",
       "      <td>765</td>\n",
       "      <td>577</td>\n",
       "      <td>448</td>\n",
       "    </tr>\n",
       "    <tr>\n",
       "      <th>1</th>\n",
       "      <td>강 동 구</td>\n",
       "      <td>1879</td>\n",
       "      <td>303.0</td>\n",
       "      <td>387.0</td>\n",
       "      <td>134.0</td>\n",
       "      <td>59</td>\n",
       "      <td>144</td>\n",
       "      <td>194</td>\n",
       "      <td>273</td>\n",
       "      <td>385</td>\n",
       "    </tr>\n",
       "  </tbody>\n",
       "</table>\n",
       "</div>"
      ],
      "text/plain": [
       "     기관명    소계  2011년 이전  2012년  2013년  2014년  2015년  2016년  2017년  2018년\n",
       "0  강 남 구  5221    1944.0  195.0  316.0    430    546    765    577    448\n",
       "1  강 동 구  1879     303.0  387.0  134.0     59    144    194    273    385"
      ]
     },
     "execution_count": 17,
     "metadata": {},
     "output_type": "execute_result"
    }
   ],
   "source": [
    "s_cctv.head(2)"
   ]
  },
  {
   "cell_type": "code",
   "execution_count": 18,
   "metadata": {},
   "outputs": [],
   "source": [
    "# 기관명을 => 자치구 명칭을 통일 => DataFrame의 컬럼명 변경하여 의미의 명확성 부여\n",
    "# inplace : 파라미터는 원본을 변경할 것인가? True면 원본변경(반영)\n",
    "# 키 : 이전명컬럼 , 값 : 신규컬럼명\n",
    "s_cctv.rename( columns={ s_cctv.columns[0]:'자치구'}, inplace=True ) # columns= : 기본값 부여, {}: 딕셔너리"
   ]
  },
  {
   "cell_type": "code",
   "execution_count": 19,
   "metadata": {},
   "outputs": [
    {
     "data": {
      "text/html": [
       "<div>\n",
       "<style scoped>\n",
       "    .dataframe tbody tr th:only-of-type {\n",
       "        vertical-align: middle;\n",
       "    }\n",
       "\n",
       "    .dataframe tbody tr th {\n",
       "        vertical-align: top;\n",
       "    }\n",
       "\n",
       "    .dataframe thead th {\n",
       "        text-align: right;\n",
       "    }\n",
       "</style>\n",
       "<table border=\"1\" class=\"dataframe\">\n",
       "  <thead>\n",
       "    <tr style=\"text-align: right;\">\n",
       "      <th></th>\n",
       "      <th>자치구</th>\n",
       "      <th>소계</th>\n",
       "      <th>2011년 이전</th>\n",
       "      <th>2012년</th>\n",
       "      <th>2013년</th>\n",
       "      <th>2014년</th>\n",
       "      <th>2015년</th>\n",
       "      <th>2016년</th>\n",
       "      <th>2017년</th>\n",
       "      <th>2018년</th>\n",
       "    </tr>\n",
       "  </thead>\n",
       "  <tbody>\n",
       "    <tr>\n",
       "      <th>0</th>\n",
       "      <td>강 남 구</td>\n",
       "      <td>5221</td>\n",
       "      <td>1944.0</td>\n",
       "      <td>195.0</td>\n",
       "      <td>316.0</td>\n",
       "      <td>430</td>\n",
       "      <td>546</td>\n",
       "      <td>765</td>\n",
       "      <td>577</td>\n",
       "      <td>448</td>\n",
       "    </tr>\n",
       "  </tbody>\n",
       "</table>\n",
       "</div>"
      ],
      "text/plain": [
       "     자치구    소계  2011년 이전  2012년  2013년  2014년  2015년  2016년  2017년  2018년\n",
       "0  강 남 구  5221    1944.0  195.0  316.0    430    546    765    577    448"
      ]
     },
     "execution_count": 19,
     "metadata": {},
     "output_type": "execute_result"
    }
   ],
   "source": [
    "s_cctv.head(1)"
   ]
  },
  {
   "cell_type": "markdown",
   "metadata": {},
   "source": [
    "### 실습\n",
    "- s_pop이란 변수명으로 report.csv를 데이터를 로드하시오\n",
    "- 데이터가 잘 오픈되지 않아서 일단 report.xls로 다시 받아서 동처리(동일한) 실행"
   ]
  },
  {
   "cell_type": "code",
   "execution_count": 20,
   "metadata": {},
   "outputs": [
    {
     "data": {
      "text/html": [
       "<div>\n",
       "<style scoped>\n",
       "    .dataframe tbody tr th:only-of-type {\n",
       "        vertical-align: middle;\n",
       "    }\n",
       "\n",
       "    .dataframe tbody tr th {\n",
       "        vertical-align: top;\n",
       "    }\n",
       "\n",
       "    .dataframe thead th {\n",
       "        text-align: right;\n",
       "    }\n",
       "</style>\n",
       "<table border=\"1\" class=\"dataframe\">\n",
       "  <thead>\n",
       "    <tr style=\"text-align: right;\">\n",
       "      <th></th>\n",
       "      <th>기간</th>\n",
       "      <th>자치구</th>\n",
       "      <th>계</th>\n",
       "      <th>계.1</th>\n",
       "      <th>계.2</th>\n",
       "      <th>65세이상고령자</th>\n",
       "    </tr>\n",
       "  </thead>\n",
       "  <tbody>\n",
       "    <tr>\n",
       "      <th>0</th>\n",
       "      <td>2011</td>\n",
       "      <td>합계</td>\n",
       "      <td>10528774</td>\n",
       "      <td>10249679</td>\n",
       "      <td>279095</td>\n",
       "      <td>1049425</td>\n",
       "    </tr>\n",
       "    <tr>\n",
       "      <th>1</th>\n",
       "      <td>2011</td>\n",
       "      <td>종로구</td>\n",
       "      <td>177419</td>\n",
       "      <td>168382</td>\n",
       "      <td>9037</td>\n",
       "      <td>22939</td>\n",
       "    </tr>\n",
       "  </tbody>\n",
       "</table>\n",
       "</div>"
      ],
      "text/plain": [
       "     기간  자치구         계       계.1     계.2  65세이상고령자\n",
       "0  2011   합계  10528774  10249679  279095   1049425\n",
       "1  2011  종로구    177419    168382    9037     22939"
      ]
     },
     "execution_count": 20,
     "metadata": {},
     "output_type": "execute_result"
    }
   ],
   "source": [
    "# csv 파일은 오류못잡아서 홈페이지에서 엑셀파일 다운로드\n",
    "# 데이터를 들여다보니 컬럼쪽이 2개가 더 많이 나타남 -> 해더를 2번으로 지정하여 갯수를 줄이겠다\n",
    "# s_pop = pd.read_excel( '../data/report.xls', encoding='euc-kr')\n",
    "# 필요없는 데이터는 로드 단계에서 걷어내곘다 -> 사전에 데이터를 보고 판단\n",
    "# 필요한컬럼 : 자치구, 합계-계, 인구-한국인계, 인구-외국인계, 65세이상 고령자\n",
    "s_pop = pd.read_excel( '../data/report.xls', encoding='euc-kr', header=2,  # 파일이 깨졌을 경우 : euc-kr\n",
    "                       usecols='A,B,D,G,J,P' # usecols : 엑셀에서 필요한 컬럼을 가지고 오는 함수\n",
    "                      )\n",
    "s_pop.head(2)"
   ]
  },
  {
   "cell_type": "code",
   "execution_count": 21,
   "metadata": {},
   "outputs": [
    {
     "data": {
      "text/html": [
       "<div>\n",
       "<style scoped>\n",
       "    .dataframe tbody tr th:only-of-type {\n",
       "        vertical-align: middle;\n",
       "    }\n",
       "\n",
       "    .dataframe tbody tr th {\n",
       "        vertical-align: top;\n",
       "    }\n",
       "\n",
       "    .dataframe thead th {\n",
       "        text-align: right;\n",
       "    }\n",
       "</style>\n",
       "<table border=\"1\" class=\"dataframe\">\n",
       "  <thead>\n",
       "    <tr style=\"text-align: right;\">\n",
       "      <th></th>\n",
       "      <th>기간</th>\n",
       "      <th>자치구</th>\n",
       "      <th>인구수</th>\n",
       "      <th>한국인</th>\n",
       "      <th>외국인</th>\n",
       "      <th>고령자</th>\n",
       "    </tr>\n",
       "  </thead>\n",
       "  <tbody>\n",
       "    <tr>\n",
       "      <th>0</th>\n",
       "      <td>2011</td>\n",
       "      <td>합계</td>\n",
       "      <td>10528774</td>\n",
       "      <td>10249679</td>\n",
       "      <td>279095</td>\n",
       "      <td>1049425</td>\n",
       "    </tr>\n",
       "    <tr>\n",
       "      <th>1</th>\n",
       "      <td>2011</td>\n",
       "      <td>종로구</td>\n",
       "      <td>177419</td>\n",
       "      <td>168382</td>\n",
       "      <td>9037</td>\n",
       "      <td>22939</td>\n",
       "    </tr>\n",
       "  </tbody>\n",
       "</table>\n",
       "</div>"
      ],
      "text/plain": [
       "     기간  자치구       인구수       한국인     외국인      고령자\n",
       "0  2011   합계  10528774  10249679  279095  1049425\n",
       "1  2011  종로구    177419    168382    9037    22939"
      ]
     },
     "execution_count": 21,
     "metadata": {},
     "output_type": "execute_result"
    }
   ],
   "source": [
    "# 컬럼명을 의미있게 조정\n",
    "# 계~..고령자 까지. => 인구수, 한국인, 외국인, 고령자 \n",
    "dic = {\n",
    "    s_pop.columns[2]:'인구수',\n",
    "    s_pop.columns[3]:'한국인',\n",
    "    s_pop.columns[4]:'외국인',\n",
    "    s_pop.columns[5]:'고령자'\n",
    "}\n",
    "s_pop.rename( columns=dic, inplace=True ) # inplace=true : 원본을 바꿔준다는 뜻\n",
    "s_pop.head(2)"
   ]
  },
  {
   "cell_type": "markdown",
   "metadata": {},
   "source": [
    "## pandas 기초학습\n",
    "<a href='http://localhost:8889/notebooks/Desktop/py_projects/analysis/pandas/basic/pandas_기초.ipynb'>이동하기</a>"
   ]
  },
  {
   "cell_type": "markdown",
   "metadata": {},
   "source": [
    "## 데이터 특성파악"
   ]
  },
  {
   "cell_type": "code",
   "execution_count": 22,
   "metadata": {},
   "outputs": [
    {
     "data": {
      "text/html": [
       "<div>\n",
       "<style scoped>\n",
       "    .dataframe tbody tr th:only-of-type {\n",
       "        vertical-align: middle;\n",
       "    }\n",
       "\n",
       "    .dataframe tbody tr th {\n",
       "        vertical-align: top;\n",
       "    }\n",
       "\n",
       "    .dataframe thead th {\n",
       "        text-align: right;\n",
       "    }\n",
       "</style>\n",
       "<table border=\"1\" class=\"dataframe\">\n",
       "  <thead>\n",
       "    <tr style=\"text-align: right;\">\n",
       "      <th></th>\n",
       "      <th>자치구</th>\n",
       "      <th>소계</th>\n",
       "      <th>2011년 이전</th>\n",
       "      <th>2012년</th>\n",
       "      <th>2013년</th>\n",
       "      <th>2014년</th>\n",
       "      <th>2015년</th>\n",
       "      <th>2016년</th>\n",
       "      <th>2017년</th>\n",
       "      <th>2018년</th>\n",
       "    </tr>\n",
       "  </thead>\n",
       "  <tbody>\n",
       "    <tr>\n",
       "      <th>0</th>\n",
       "      <td>강 남 구</td>\n",
       "      <td>5221</td>\n",
       "      <td>1944.0</td>\n",
       "      <td>195.0</td>\n",
       "      <td>316.0</td>\n",
       "      <td>430</td>\n",
       "      <td>546</td>\n",
       "      <td>765</td>\n",
       "      <td>577</td>\n",
       "      <td>448</td>\n",
       "    </tr>\n",
       "    <tr>\n",
       "      <th>1</th>\n",
       "      <td>강 동 구</td>\n",
       "      <td>1879</td>\n",
       "      <td>303.0</td>\n",
       "      <td>387.0</td>\n",
       "      <td>134.0</td>\n",
       "      <td>59</td>\n",
       "      <td>144</td>\n",
       "      <td>194</td>\n",
       "      <td>273</td>\n",
       "      <td>385</td>\n",
       "    </tr>\n",
       "  </tbody>\n",
       "</table>\n",
       "</div>"
      ],
      "text/plain": [
       "     자치구    소계  2011년 이전  2012년  2013년  2014년  2015년  2016년  2017년  2018년\n",
       "0  강 남 구  5221    1944.0  195.0  316.0    430    546    765    577    448\n",
       "1  강 동 구  1879     303.0  387.0  134.0     59    144    194    273    385"
      ]
     },
     "execution_count": 22,
     "metadata": {},
     "output_type": "execute_result"
    }
   ],
   "source": [
    "s_cctv.head(2)"
   ]
  },
  {
   "cell_type": "code",
   "execution_count": 23,
   "metadata": {},
   "outputs": [
    {
     "data": {
      "text/html": [
       "<div>\n",
       "<style scoped>\n",
       "    .dataframe tbody tr th:only-of-type {\n",
       "        vertical-align: middle;\n",
       "    }\n",
       "\n",
       "    .dataframe tbody tr th {\n",
       "        vertical-align: top;\n",
       "    }\n",
       "\n",
       "    .dataframe thead th {\n",
       "        text-align: right;\n",
       "    }\n",
       "</style>\n",
       "<table border=\"1\" class=\"dataframe\">\n",
       "  <thead>\n",
       "    <tr style=\"text-align: right;\">\n",
       "      <th></th>\n",
       "      <th>자치구</th>\n",
       "      <th>소계</th>\n",
       "      <th>2011년 이전</th>\n",
       "      <th>2012년</th>\n",
       "      <th>2013년</th>\n",
       "      <th>2014년</th>\n",
       "      <th>2015년</th>\n",
       "      <th>2016년</th>\n",
       "      <th>2017년</th>\n",
       "      <th>2018년</th>\n",
       "    </tr>\n",
       "  </thead>\n",
       "  <tbody>\n",
       "    <tr>\n",
       "      <th>9</th>\n",
       "      <td>도 봉 구</td>\n",
       "      <td>858</td>\n",
       "      <td>197.0</td>\n",
       "      <td>66.0</td>\n",
       "      <td>8.0</td>\n",
       "      <td>185</td>\n",
       "      <td>59</td>\n",
       "      <td>155</td>\n",
       "      <td>117</td>\n",
       "      <td>71</td>\n",
       "    </tr>\n",
       "    <tr>\n",
       "      <th>24</th>\n",
       "      <td>중 랑 구</td>\n",
       "      <td>1068</td>\n",
       "      <td>NaN</td>\n",
       "      <td>NaN</td>\n",
       "      <td>NaN</td>\n",
       "      <td>770</td>\n",
       "      <td>102</td>\n",
       "      <td>121</td>\n",
       "      <td>66</td>\n",
       "      <td>9</td>\n",
       "    </tr>\n",
       "    <tr>\n",
       "      <th>2</th>\n",
       "      <td>강 북 구</td>\n",
       "      <td>1265</td>\n",
       "      <td>243.0</td>\n",
       "      <td>88.0</td>\n",
       "      <td>141.0</td>\n",
       "      <td>74</td>\n",
       "      <td>145</td>\n",
       "      <td>254</td>\n",
       "      <td>1</td>\n",
       "      <td>319</td>\n",
       "    </tr>\n",
       "    <tr>\n",
       "      <th>22</th>\n",
       "      <td>종 로 구</td>\n",
       "      <td>1471</td>\n",
       "      <td>8.0</td>\n",
       "      <td>7.0</td>\n",
       "      <td>599.0</td>\n",
       "      <td>132</td>\n",
       "      <td>195</td>\n",
       "      <td>148</td>\n",
       "      <td>281</td>\n",
       "      <td>101</td>\n",
       "    </tr>\n",
       "  </tbody>\n",
       "</table>\n",
       "</div>"
      ],
      "text/plain": [
       "      자치구    소계  2011년 이전  2012년  2013년  2014년  2015년  2016년  2017년  2018년\n",
       "9   도 봉 구   858     197.0   66.0    8.0    185     59    155    117     71\n",
       "24  중 랑 구  1068       NaN    NaN    NaN    770    102    121     66      9\n",
       "2   강 북 구  1265     243.0   88.0  141.0     74    145    254      1    319\n",
       "22  종 로 구  1471       8.0    7.0  599.0    132    195    148    281    101"
      ]
     },
     "execution_count": 23,
     "metadata": {},
     "output_type": "execute_result"
    }
   ],
   "source": [
    "# 소계 컬럼을 중심으로 오른차순 정렬 \n",
    "s_cctv.sort_values( by='소계', ascending=True).head(4) # 사본출력, 결과 안나오면 원본"
   ]
  },
  {
   "cell_type": "code",
   "execution_count": 24,
   "metadata": {},
   "outputs": [
    {
     "data": {
      "text/html": [
       "<div>\n",
       "<style scoped>\n",
       "    .dataframe tbody tr th:only-of-type {\n",
       "        vertical-align: middle;\n",
       "    }\n",
       "\n",
       "    .dataframe tbody tr th {\n",
       "        vertical-align: top;\n",
       "    }\n",
       "\n",
       "    .dataframe thead th {\n",
       "        text-align: right;\n",
       "    }\n",
       "</style>\n",
       "<table border=\"1\" class=\"dataframe\">\n",
       "  <thead>\n",
       "    <tr style=\"text-align: right;\">\n",
       "      <th></th>\n",
       "      <th>자치구</th>\n",
       "      <th>소계</th>\n",
       "      <th>2011년 이전</th>\n",
       "      <th>2012년</th>\n",
       "      <th>2013년</th>\n",
       "      <th>2014년</th>\n",
       "      <th>2015년</th>\n",
       "      <th>2016년</th>\n",
       "      <th>2017년</th>\n",
       "      <th>2018년</th>\n",
       "    </tr>\n",
       "  </thead>\n",
       "  <tbody>\n",
       "    <tr>\n",
       "      <th>16</th>\n",
       "      <td>성 북 구</td>\n",
       "      <td>3003</td>\n",
       "      <td>779.0</td>\n",
       "      <td>84.0</td>\n",
       "      <td>304.0</td>\n",
       "      <td>241</td>\n",
       "      <td>279</td>\n",
       "      <td>388</td>\n",
       "      <td>285</td>\n",
       "      <td>643</td>\n",
       "    </tr>\n",
       "    <tr>\n",
       "      <th>6</th>\n",
       "      <td>구 로 구</td>\n",
       "      <td>3227</td>\n",
       "      <td>852.0</td>\n",
       "      <td>219.0</td>\n",
       "      <td>349.0</td>\n",
       "      <td>187</td>\n",
       "      <td>268</td>\n",
       "      <td>326</td>\n",
       "      <td>540</td>\n",
       "      <td>486</td>\n",
       "    </tr>\n",
       "    <tr>\n",
       "      <th>4</th>\n",
       "      <td>관 악 구</td>\n",
       "      <td>3985</td>\n",
       "      <td>430.0</td>\n",
       "      <td>56.0</td>\n",
       "      <td>419.0</td>\n",
       "      <td>487</td>\n",
       "      <td>609</td>\n",
       "      <td>619</td>\n",
       "      <td>694</td>\n",
       "      <td>671</td>\n",
       "    </tr>\n",
       "    <tr>\n",
       "      <th>0</th>\n",
       "      <td>강 남 구</td>\n",
       "      <td>5221</td>\n",
       "      <td>1944.0</td>\n",
       "      <td>195.0</td>\n",
       "      <td>316.0</td>\n",
       "      <td>430</td>\n",
       "      <td>546</td>\n",
       "      <td>765</td>\n",
       "      <td>577</td>\n",
       "      <td>448</td>\n",
       "    </tr>\n",
       "  </tbody>\n",
       "</table>\n",
       "</div>"
      ],
      "text/plain": [
       "      자치구    소계  2011년 이전  2012년  2013년  2014년  2015년  2016년  2017년  2018년\n",
       "16  성 북 구  3003     779.0   84.0  304.0    241    279    388    285    643\n",
       "6   구 로 구  3227     852.0  219.0  349.0    187    268    326    540    486\n",
       "4   관 악 구  3985     430.0   56.0  419.0    487    609    619    694    671\n",
       "0   강 남 구  5221    1944.0  195.0  316.0    430    546    765    577    448"
      ]
     },
     "execution_count": 24,
     "metadata": {},
     "output_type": "execute_result"
    }
   ],
   "source": [
    "s_cctv.sort_values( by='소계', ascending=True).tail(4) "
   ]
  },
  {
   "cell_type": "markdown",
   "metadata": {},
   "source": [
    "- 강남구, 구로구 지역은 상업지구가 많아서, 관악구나 성북구는 산을 타고 빌라촌이 많다\n",
    "- 이런 지역에는 인구 밀도가 비교적 높아서(예상) 혹은 유동인구가 많아서 CCTV가 많을 것으로 예상된다\n",
    "- 도봉구, 중랑구, 강북구등은 주거지가 많아서 적어 보이고, 종로구는 보류\n",
    "- 2011년도 이전 대비, 향후 7년간 증가율 계산 \n",
    "- 7년간 증가율 = (2012+2013+2014+~2018)/2011년 * 100"
   ]
  },
  {
   "cell_type": "code",
   "execution_count": 25,
   "metadata": {},
   "outputs": [
    {
     "data": {
      "text/plain": [
       "0     3277.0\n",
       "1     1576.0\n",
       "2     1022.0\n",
       "3     1398.0\n",
       "4     3555.0\n",
       "5     1111.0\n",
       "6     2375.0\n",
       "7     1607.0\n",
       "8     1425.0\n",
       "9      661.0\n",
       "10       NaN\n",
       "11    1542.0\n",
       "12    1350.0\n",
       "13    1556.0\n",
       "14    1663.0\n",
       "15    2014.0\n",
       "16    2224.0\n",
       "17     986.0\n",
       "18    2003.0\n",
       "19    2363.0\n",
       "20     784.0\n",
       "21    1597.0\n",
       "22    1463.0\n",
       "23    1519.0\n",
       "24       NaN\n",
       "dtype: float64"
      ]
     },
     "execution_count": 25,
     "metadata": {},
     "output_type": "execute_result"
    }
   ],
   "source": [
    "# 나중에 언제든 활용 가능하도록 만드는 것이 목적\n",
    "tmp_sum = s_cctv['2012년'] + s_cctv['2013년'] + s_cctv['2014년'] + s_cctv['2015년'] + s_cctv['2016년'] + s_cctv['2017년'] + s_cctv['2018년']\n",
    "tmp_sum"
   ]
  },
  {
   "cell_type": "code",
   "execution_count": 26,
   "metadata": {},
   "outputs": [
    {
     "data": {
      "text/plain": [
       "0     511.0\n",
       "1     521.0\n",
       "2     229.0\n",
       "3     273.0\n",
       "4     475.0\n",
       "5     125.0\n",
       "6     568.0\n",
       "7     259.0\n",
       "8     320.0\n",
       "9      74.0\n",
       "10      NaN\n",
       "11    122.0\n",
       "12    177.0\n",
       "13    447.0\n",
       "14    319.0\n",
       "15    227.0\n",
       "16    388.0\n",
       "17    187.0\n",
       "18    346.0\n",
       "19    327.0\n",
       "20    353.0\n",
       "21    182.0\n",
       "22    606.0\n",
       "23    279.0\n",
       "24      NaN\n",
       "dtype: float64"
      ]
     },
     "execution_count": 26,
     "metadata": {},
     "output_type": "execute_result"
    }
   ],
   "source": [
    "# 행렬의 합\n",
    "s_cctv['2012년'] + s_cctv['2013년'] "
   ]
  },
  {
   "cell_type": "code",
   "execution_count": 27,
   "metadata": {},
   "outputs": [
    {
     "data": {
      "text/html": [
       "<div>\n",
       "<style scoped>\n",
       "    .dataframe tbody tr th:only-of-type {\n",
       "        vertical-align: middle;\n",
       "    }\n",
       "\n",
       "    .dataframe tbody tr th {\n",
       "        vertical-align: top;\n",
       "    }\n",
       "\n",
       "    .dataframe thead th {\n",
       "        text-align: right;\n",
       "    }\n",
       "</style>\n",
       "<table border=\"1\" class=\"dataframe\">\n",
       "  <thead>\n",
       "    <tr style=\"text-align: right;\">\n",
       "      <th></th>\n",
       "      <th>자치구</th>\n",
       "      <th>소계</th>\n",
       "      <th>2011년 이전</th>\n",
       "      <th>2012년</th>\n",
       "      <th>2013년</th>\n",
       "      <th>2014년</th>\n",
       "      <th>2015년</th>\n",
       "      <th>2016년</th>\n",
       "      <th>2017년</th>\n",
       "      <th>2018년</th>\n",
       "      <th>최신 증가율</th>\n",
       "    </tr>\n",
       "  </thead>\n",
       "  <tbody>\n",
       "    <tr>\n",
       "      <th>0</th>\n",
       "      <td>강 남 구</td>\n",
       "      <td>5221</td>\n",
       "      <td>1944.0</td>\n",
       "      <td>195.0</td>\n",
       "      <td>316.0</td>\n",
       "      <td>430</td>\n",
       "      <td>546</td>\n",
       "      <td>765</td>\n",
       "      <td>577</td>\n",
       "      <td>448</td>\n",
       "      <td>168.569959</td>\n",
       "    </tr>\n",
       "    <tr>\n",
       "      <th>1</th>\n",
       "      <td>강 동 구</td>\n",
       "      <td>1879</td>\n",
       "      <td>303.0</td>\n",
       "      <td>387.0</td>\n",
       "      <td>134.0</td>\n",
       "      <td>59</td>\n",
       "      <td>144</td>\n",
       "      <td>194</td>\n",
       "      <td>273</td>\n",
       "      <td>385</td>\n",
       "      <td>520.132013</td>\n",
       "    </tr>\n",
       "    <tr>\n",
       "      <th>2</th>\n",
       "      <td>강 북 구</td>\n",
       "      <td>1265</td>\n",
       "      <td>243.0</td>\n",
       "      <td>88.0</td>\n",
       "      <td>141.0</td>\n",
       "      <td>74</td>\n",
       "      <td>145</td>\n",
       "      <td>254</td>\n",
       "      <td>1</td>\n",
       "      <td>319</td>\n",
       "      <td>420.576132</td>\n",
       "    </tr>\n",
       "    <tr>\n",
       "      <th>3</th>\n",
       "      <td>강 서 구</td>\n",
       "      <td>1617</td>\n",
       "      <td>219.0</td>\n",
       "      <td>155.0</td>\n",
       "      <td>118.0</td>\n",
       "      <td>230</td>\n",
       "      <td>187</td>\n",
       "      <td>190</td>\n",
       "      <td>264</td>\n",
       "      <td>254</td>\n",
       "      <td>638.356164</td>\n",
       "    </tr>\n",
       "    <tr>\n",
       "      <th>4</th>\n",
       "      <td>관 악 구</td>\n",
       "      <td>3985</td>\n",
       "      <td>430.0</td>\n",
       "      <td>56.0</td>\n",
       "      <td>419.0</td>\n",
       "      <td>487</td>\n",
       "      <td>609</td>\n",
       "      <td>619</td>\n",
       "      <td>694</td>\n",
       "      <td>671</td>\n",
       "      <td>826.744186</td>\n",
       "    </tr>\n",
       "    <tr>\n",
       "      <th>5</th>\n",
       "      <td>광 진 구</td>\n",
       "      <td>1581</td>\n",
       "      <td>470.0</td>\n",
       "      <td>42.0</td>\n",
       "      <td>83.0</td>\n",
       "      <td>87</td>\n",
       "      <td>64</td>\n",
       "      <td>21</td>\n",
       "      <td>468</td>\n",
       "      <td>346</td>\n",
       "      <td>236.382979</td>\n",
       "    </tr>\n",
       "    <tr>\n",
       "      <th>6</th>\n",
       "      <td>구 로 구</td>\n",
       "      <td>3227</td>\n",
       "      <td>852.0</td>\n",
       "      <td>219.0</td>\n",
       "      <td>349.0</td>\n",
       "      <td>187</td>\n",
       "      <td>268</td>\n",
       "      <td>326</td>\n",
       "      <td>540</td>\n",
       "      <td>486</td>\n",
       "      <td>278.755869</td>\n",
       "    </tr>\n",
       "    <tr>\n",
       "      <th>7</th>\n",
       "      <td>금 천 구</td>\n",
       "      <td>1634</td>\n",
       "      <td>27.0</td>\n",
       "      <td>17.0</td>\n",
       "      <td>242.0</td>\n",
       "      <td>101</td>\n",
       "      <td>382</td>\n",
       "      <td>136</td>\n",
       "      <td>199</td>\n",
       "      <td>530</td>\n",
       "      <td>5951.851852</td>\n",
       "    </tr>\n",
       "    <tr>\n",
       "      <th>8</th>\n",
       "      <td>노 원 구</td>\n",
       "      <td>1906</td>\n",
       "      <td>481.0</td>\n",
       "      <td>117.0</td>\n",
       "      <td>203.0</td>\n",
       "      <td>80</td>\n",
       "      <td>461</td>\n",
       "      <td>298</td>\n",
       "      <td>110</td>\n",
       "      <td>156</td>\n",
       "      <td>296.257796</td>\n",
       "    </tr>\n",
       "    <tr>\n",
       "      <th>9</th>\n",
       "      <td>도 봉 구</td>\n",
       "      <td>858</td>\n",
       "      <td>197.0</td>\n",
       "      <td>66.0</td>\n",
       "      <td>8.0</td>\n",
       "      <td>185</td>\n",
       "      <td>59</td>\n",
       "      <td>155</td>\n",
       "      <td>117</td>\n",
       "      <td>71</td>\n",
       "      <td>335.532995</td>\n",
       "    </tr>\n",
       "    <tr>\n",
       "      <th>10</th>\n",
       "      <td>동대문구</td>\n",
       "      <td>2003</td>\n",
       "      <td>NaN</td>\n",
       "      <td>NaN</td>\n",
       "      <td>NaN</td>\n",
       "      <td>1326</td>\n",
       "      <td>111</td>\n",
       "      <td>233</td>\n",
       "      <td>136</td>\n",
       "      <td>197</td>\n",
       "      <td>NaN</td>\n",
       "    </tr>\n",
       "    <tr>\n",
       "      <th>11</th>\n",
       "      <td>동 작 구</td>\n",
       "      <td>1780</td>\n",
       "      <td>238.0</td>\n",
       "      <td>93.0</td>\n",
       "      <td>29.0</td>\n",
       "      <td>503</td>\n",
       "      <td>130</td>\n",
       "      <td>254</td>\n",
       "      <td>278</td>\n",
       "      <td>255</td>\n",
       "      <td>647.899160</td>\n",
       "    </tr>\n",
       "    <tr>\n",
       "      <th>12</th>\n",
       "      <td>마 포 구</td>\n",
       "      <td>1935</td>\n",
       "      <td>585.0</td>\n",
       "      <td>108.0</td>\n",
       "      <td>69.0</td>\n",
       "      <td>70</td>\n",
       "      <td>177</td>\n",
       "      <td>359</td>\n",
       "      <td>372</td>\n",
       "      <td>195</td>\n",
       "      <td>230.769231</td>\n",
       "    </tr>\n",
       "    <tr>\n",
       "      <th>13</th>\n",
       "      <td>서대문구</td>\n",
       "      <td>2121</td>\n",
       "      <td>565.0</td>\n",
       "      <td>233.0</td>\n",
       "      <td>214.0</td>\n",
       "      <td>114</td>\n",
       "      <td>109</td>\n",
       "      <td>277</td>\n",
       "      <td>415</td>\n",
       "      <td>194</td>\n",
       "      <td>275.398230</td>\n",
       "    </tr>\n",
       "    <tr>\n",
       "      <th>14</th>\n",
       "      <td>서 초 구</td>\n",
       "      <td>2835</td>\n",
       "      <td>1172.0</td>\n",
       "      <td>91.0</td>\n",
       "      <td>228.0</td>\n",
       "      <td>134</td>\n",
       "      <td>215</td>\n",
       "      <td>352</td>\n",
       "      <td>247</td>\n",
       "      <td>396</td>\n",
       "      <td>141.894198</td>\n",
       "    </tr>\n",
       "    <tr>\n",
       "      <th>15</th>\n",
       "      <td>성 동 구</td>\n",
       "      <td>2679</td>\n",
       "      <td>665.0</td>\n",
       "      <td>109.0</td>\n",
       "      <td>118.0</td>\n",
       "      <td>101</td>\n",
       "      <td>258</td>\n",
       "      <td>201</td>\n",
       "      <td>933</td>\n",
       "      <td>294</td>\n",
       "      <td>302.857143</td>\n",
       "    </tr>\n",
       "    <tr>\n",
       "      <th>16</th>\n",
       "      <td>성 북 구</td>\n",
       "      <td>3003</td>\n",
       "      <td>779.0</td>\n",
       "      <td>84.0</td>\n",
       "      <td>304.0</td>\n",
       "      <td>241</td>\n",
       "      <td>279</td>\n",
       "      <td>388</td>\n",
       "      <td>285</td>\n",
       "      <td>643</td>\n",
       "      <td>285.494223</td>\n",
       "    </tr>\n",
       "    <tr>\n",
       "      <th>17</th>\n",
       "      <td>송 파 구</td>\n",
       "      <td>1586</td>\n",
       "      <td>600.0</td>\n",
       "      <td>99.0</td>\n",
       "      <td>88.0</td>\n",
       "      <td>21</td>\n",
       "      <td>166</td>\n",
       "      <td>100</td>\n",
       "      <td>116</td>\n",
       "      <td>396</td>\n",
       "      <td>164.333333</td>\n",
       "    </tr>\n",
       "    <tr>\n",
       "      <th>18</th>\n",
       "      <td>양 천 구</td>\n",
       "      <td>2775</td>\n",
       "      <td>772.0</td>\n",
       "      <td>161.0</td>\n",
       "      <td>185.0</td>\n",
       "      <td>169</td>\n",
       "      <td>172</td>\n",
       "      <td>349</td>\n",
       "      <td>137</td>\n",
       "      <td>830</td>\n",
       "      <td>259.455959</td>\n",
       "    </tr>\n",
       "    <tr>\n",
       "      <th>19</th>\n",
       "      <td>영등포구</td>\n",
       "      <td>2495</td>\n",
       "      <td>132.0</td>\n",
       "      <td>121.0</td>\n",
       "      <td>206.0</td>\n",
       "      <td>217</td>\n",
       "      <td>366</td>\n",
       "      <td>289</td>\n",
       "      <td>371</td>\n",
       "      <td>793</td>\n",
       "      <td>1790.151515</td>\n",
       "    </tr>\n",
       "    <tr>\n",
       "      <th>20</th>\n",
       "      <td>용 산 구</td>\n",
       "      <td>2063</td>\n",
       "      <td>1279.0</td>\n",
       "      <td>152.0</td>\n",
       "      <td>201.0</td>\n",
       "      <td>107</td>\n",
       "      <td>102</td>\n",
       "      <td>89</td>\n",
       "      <td>60</td>\n",
       "      <td>73</td>\n",
       "      <td>61.297889</td>\n",
       "    </tr>\n",
       "    <tr>\n",
       "      <th>21</th>\n",
       "      <td>은 평 구</td>\n",
       "      <td>2962</td>\n",
       "      <td>1365.0</td>\n",
       "      <td>83.0</td>\n",
       "      <td>99.0</td>\n",
       "      <td>343</td>\n",
       "      <td>180</td>\n",
       "      <td>296</td>\n",
       "      <td>229</td>\n",
       "      <td>367</td>\n",
       "      <td>116.996337</td>\n",
       "    </tr>\n",
       "    <tr>\n",
       "      <th>22</th>\n",
       "      <td>종 로 구</td>\n",
       "      <td>1471</td>\n",
       "      <td>8.0</td>\n",
       "      <td>7.0</td>\n",
       "      <td>599.0</td>\n",
       "      <td>132</td>\n",
       "      <td>195</td>\n",
       "      <td>148</td>\n",
       "      <td>281</td>\n",
       "      <td>101</td>\n",
       "      <td>18287.500000</td>\n",
       "    </tr>\n",
       "    <tr>\n",
       "      <th>23</th>\n",
       "      <td>중     구</td>\n",
       "      <td>1544</td>\n",
       "      <td>25.0</td>\n",
       "      <td>165.0</td>\n",
       "      <td>114.0</td>\n",
       "      <td>80</td>\n",
       "      <td>245</td>\n",
       "      <td>270</td>\n",
       "      <td>317</td>\n",
       "      <td>328</td>\n",
       "      <td>6076.000000</td>\n",
       "    </tr>\n",
       "    <tr>\n",
       "      <th>24</th>\n",
       "      <td>중 랑 구</td>\n",
       "      <td>1068</td>\n",
       "      <td>NaN</td>\n",
       "      <td>NaN</td>\n",
       "      <td>NaN</td>\n",
       "      <td>770</td>\n",
       "      <td>102</td>\n",
       "      <td>121</td>\n",
       "      <td>66</td>\n",
       "      <td>9</td>\n",
       "      <td>NaN</td>\n",
       "    </tr>\n",
       "  </tbody>\n",
       "</table>\n",
       "</div>"
      ],
      "text/plain": [
       "        자치구    소계  2011년 이전  2012년  2013년  2014년  2015년  2016년  2017년  2018년  \\\n",
       "0     강 남 구  5221    1944.0  195.0  316.0    430    546    765    577    448   \n",
       "1     강 동 구  1879     303.0  387.0  134.0     59    144    194    273    385   \n",
       "2     강 북 구  1265     243.0   88.0  141.0     74    145    254      1    319   \n",
       "3     강 서 구  1617     219.0  155.0  118.0    230    187    190    264    254   \n",
       "4     관 악 구  3985     430.0   56.0  419.0    487    609    619    694    671   \n",
       "5     광 진 구  1581     470.0   42.0   83.0     87     64     21    468    346   \n",
       "6     구 로 구  3227     852.0  219.0  349.0    187    268    326    540    486   \n",
       "7     금 천 구  1634      27.0   17.0  242.0    101    382    136    199    530   \n",
       "8     노 원 구  1906     481.0  117.0  203.0     80    461    298    110    156   \n",
       "9     도 봉 구   858     197.0   66.0    8.0    185     59    155    117     71   \n",
       "10     동대문구  2003       NaN    NaN    NaN   1326    111    233    136    197   \n",
       "11    동 작 구  1780     238.0   93.0   29.0    503    130    254    278    255   \n",
       "12    마 포 구  1935     585.0  108.0   69.0     70    177    359    372    195   \n",
       "13     서대문구  2121     565.0  233.0  214.0    114    109    277    415    194   \n",
       "14    서 초 구  2835    1172.0   91.0  228.0    134    215    352    247    396   \n",
       "15    성 동 구  2679     665.0  109.0  118.0    101    258    201    933    294   \n",
       "16    성 북 구  3003     779.0   84.0  304.0    241    279    388    285    643   \n",
       "17    송 파 구  1586     600.0   99.0   88.0     21    166    100    116    396   \n",
       "18    양 천 구  2775     772.0  161.0  185.0    169    172    349    137    830   \n",
       "19     영등포구  2495     132.0  121.0  206.0    217    366    289    371    793   \n",
       "20    용 산 구  2063    1279.0  152.0  201.0    107    102     89     60     73   \n",
       "21    은 평 구  2962    1365.0   83.0   99.0    343    180    296    229    367   \n",
       "22    종 로 구  1471       8.0    7.0  599.0    132    195    148    281    101   \n",
       "23  중     구  1544      25.0  165.0  114.0     80    245    270    317    328   \n",
       "24    중 랑 구  1068       NaN    NaN    NaN    770    102    121     66      9   \n",
       "\n",
       "          최신 증가율  \n",
       "0     168.569959  \n",
       "1     520.132013  \n",
       "2     420.576132  \n",
       "3     638.356164  \n",
       "4     826.744186  \n",
       "5     236.382979  \n",
       "6     278.755869  \n",
       "7    5951.851852  \n",
       "8     296.257796  \n",
       "9     335.532995  \n",
       "10           NaN  \n",
       "11    647.899160  \n",
       "12    230.769231  \n",
       "13    275.398230  \n",
       "14    141.894198  \n",
       "15    302.857143  \n",
       "16    285.494223  \n",
       "17    164.333333  \n",
       "18    259.455959  \n",
       "19   1790.151515  \n",
       "20     61.297889  \n",
       "21    116.996337  \n",
       "22  18287.500000  \n",
       "23   6076.000000  \n",
       "24           NaN  "
      ]
     },
     "execution_count": 27,
     "metadata": {},
     "output_type": "execute_result"
    }
   ],
   "source": [
    "s_cctv['최신 증가율']=(tmp_sum) / (s_cctv['2011년 이전']) * 100\n",
    "s_cctv"
   ]
  },
  {
   "cell_type": "markdown",
   "metadata": {},
   "source": [
    "- 결측치가 이미 존재했던 중량구, 동대문구에 대한 조치 필요\n",
    "> 결측치를 0으로 처리하는 방안\n",
    "> 최초 데이터가 존재하는 년도까지 기준점으로 잡고가는 방향\n",
    "> 최초 데이터에 대한 의구심을 가지고 다시 데이터를 수집 하는 방향\n",
    "- 종로구는 초기 데이터가 워낙 작아서 증가율이 너무 크게 나온다\n",
    "> 특정 구간까지는 xx년도 이전으로 묵어주는것이 나을듯하다\n",
    "- 공공데이터 자료 검토 결과 2018년도와 2019년도 자료가 상이하다\n",
    "- nan 처리 -> 0으로 진행\n",
    "- 원래는, 자료 제공기관에 문의하여 확인과정이 필요하나, 절차상 생략하고, 2019년도 자료에서 2011년이전~2012, 2013, 2014 까지를 합산하여 새로운 컬럼 2014년도 이전을 생성할 것이다\n",
    "- 필요없는 자료는 제거\n",
    "- 2014년도 이전 자료 대비 2015~2018 최근증가율(4년간)이라는 항목으로 추가"
   ]
  },
  {
   "cell_type": "markdown",
   "metadata": {},
   "source": [
    "### nan 처리 => 결측치 처리\n",
    "- 결측값 채우기\n",
    "> 1. 특정값\n",
    "> 2. 앞방향으로 채우기 -> 시계열활용\n",
    "> 3. 뒷방향으로 채우기 -> 시계열활용\n",
    "> 4. 채우는 회수 제한\n",
    "- 결측값 대체하기\n",
    "> 변수별 평균으로 대체\n",
    "- 결측값 처리\n",
    "> 다른 변수의 값으로 대체\n",
    "- 결측값 제거\n",
    "> 아래 코드 참조(isnull 검사후 => 블리언인덱싱 이용 => 원데이터에 대상 index를 획득)\n",
    "> any()로 검사후 참이면 해당 인덱스에 일치되는 데이터를 제거"
   ]
  },
  {
   "cell_type": "code",
   "execution_count": 28,
   "metadata": {},
   "outputs": [
    {
     "data": {
      "text/html": [
       "<div>\n",
       "<style scoped>\n",
       "    .dataframe tbody tr th:only-of-type {\n",
       "        vertical-align: middle;\n",
       "    }\n",
       "\n",
       "    .dataframe tbody tr th {\n",
       "        vertical-align: top;\n",
       "    }\n",
       "\n",
       "    .dataframe thead th {\n",
       "        text-align: right;\n",
       "    }\n",
       "</style>\n",
       "<table border=\"1\" class=\"dataframe\">\n",
       "  <thead>\n",
       "    <tr style=\"text-align: right;\">\n",
       "      <th></th>\n",
       "      <th>자치구</th>\n",
       "      <th>소계</th>\n",
       "      <th>2011년 이전</th>\n",
       "      <th>2012년</th>\n",
       "      <th>2013년</th>\n",
       "      <th>2014년</th>\n",
       "      <th>2015년</th>\n",
       "      <th>2016년</th>\n",
       "      <th>2017년</th>\n",
       "      <th>2018년</th>\n",
       "      <th>최신 증가율</th>\n",
       "    </tr>\n",
       "  </thead>\n",
       "  <tbody>\n",
       "    <tr>\n",
       "      <th>0</th>\n",
       "      <td>강 남 구</td>\n",
       "      <td>5221</td>\n",
       "      <td>1944.0</td>\n",
       "      <td>195.0</td>\n",
       "      <td>316.0</td>\n",
       "      <td>430</td>\n",
       "      <td>546</td>\n",
       "      <td>765</td>\n",
       "      <td>577</td>\n",
       "      <td>448</td>\n",
       "      <td>168.569959</td>\n",
       "    </tr>\n",
       "    <tr>\n",
       "      <th>1</th>\n",
       "      <td>강 동 구</td>\n",
       "      <td>1879</td>\n",
       "      <td>303.0</td>\n",
       "      <td>387.0</td>\n",
       "      <td>134.0</td>\n",
       "      <td>59</td>\n",
       "      <td>144</td>\n",
       "      <td>194</td>\n",
       "      <td>273</td>\n",
       "      <td>385</td>\n",
       "      <td>520.132013</td>\n",
       "    </tr>\n",
       "    <tr>\n",
       "      <th>2</th>\n",
       "      <td>강 북 구</td>\n",
       "      <td>1265</td>\n",
       "      <td>243.0</td>\n",
       "      <td>88.0</td>\n",
       "      <td>141.0</td>\n",
       "      <td>74</td>\n",
       "      <td>145</td>\n",
       "      <td>254</td>\n",
       "      <td>1</td>\n",
       "      <td>319</td>\n",
       "      <td>420.576132</td>\n",
       "    </tr>\n",
       "    <tr>\n",
       "      <th>3</th>\n",
       "      <td>강 서 구</td>\n",
       "      <td>1617</td>\n",
       "      <td>219.0</td>\n",
       "      <td>155.0</td>\n",
       "      <td>118.0</td>\n",
       "      <td>230</td>\n",
       "      <td>187</td>\n",
       "      <td>190</td>\n",
       "      <td>264</td>\n",
       "      <td>254</td>\n",
       "      <td>638.356164</td>\n",
       "    </tr>\n",
       "    <tr>\n",
       "      <th>4</th>\n",
       "      <td>관 악 구</td>\n",
       "      <td>3985</td>\n",
       "      <td>430.0</td>\n",
       "      <td>56.0</td>\n",
       "      <td>419.0</td>\n",
       "      <td>487</td>\n",
       "      <td>609</td>\n",
       "      <td>619</td>\n",
       "      <td>694</td>\n",
       "      <td>671</td>\n",
       "      <td>826.744186</td>\n",
       "    </tr>\n",
       "    <tr>\n",
       "      <th>5</th>\n",
       "      <td>광 진 구</td>\n",
       "      <td>1581</td>\n",
       "      <td>470.0</td>\n",
       "      <td>42.0</td>\n",
       "      <td>83.0</td>\n",
       "      <td>87</td>\n",
       "      <td>64</td>\n",
       "      <td>21</td>\n",
       "      <td>468</td>\n",
       "      <td>346</td>\n",
       "      <td>236.382979</td>\n",
       "    </tr>\n",
       "    <tr>\n",
       "      <th>6</th>\n",
       "      <td>구 로 구</td>\n",
       "      <td>3227</td>\n",
       "      <td>852.0</td>\n",
       "      <td>219.0</td>\n",
       "      <td>349.0</td>\n",
       "      <td>187</td>\n",
       "      <td>268</td>\n",
       "      <td>326</td>\n",
       "      <td>540</td>\n",
       "      <td>486</td>\n",
       "      <td>278.755869</td>\n",
       "    </tr>\n",
       "    <tr>\n",
       "      <th>7</th>\n",
       "      <td>금 천 구</td>\n",
       "      <td>1634</td>\n",
       "      <td>27.0</td>\n",
       "      <td>17.0</td>\n",
       "      <td>242.0</td>\n",
       "      <td>101</td>\n",
       "      <td>382</td>\n",
       "      <td>136</td>\n",
       "      <td>199</td>\n",
       "      <td>530</td>\n",
       "      <td>5951.851852</td>\n",
       "    </tr>\n",
       "    <tr>\n",
       "      <th>8</th>\n",
       "      <td>노 원 구</td>\n",
       "      <td>1906</td>\n",
       "      <td>481.0</td>\n",
       "      <td>117.0</td>\n",
       "      <td>203.0</td>\n",
       "      <td>80</td>\n",
       "      <td>461</td>\n",
       "      <td>298</td>\n",
       "      <td>110</td>\n",
       "      <td>156</td>\n",
       "      <td>296.257796</td>\n",
       "    </tr>\n",
       "    <tr>\n",
       "      <th>9</th>\n",
       "      <td>도 봉 구</td>\n",
       "      <td>858</td>\n",
       "      <td>197.0</td>\n",
       "      <td>66.0</td>\n",
       "      <td>8.0</td>\n",
       "      <td>185</td>\n",
       "      <td>59</td>\n",
       "      <td>155</td>\n",
       "      <td>117</td>\n",
       "      <td>71</td>\n",
       "      <td>335.532995</td>\n",
       "    </tr>\n",
       "    <tr>\n",
       "      <th>10</th>\n",
       "      <td>동대문구</td>\n",
       "      <td>2003</td>\n",
       "      <td>0.0</td>\n",
       "      <td>0.0</td>\n",
       "      <td>0.0</td>\n",
       "      <td>1326</td>\n",
       "      <td>111</td>\n",
       "      <td>233</td>\n",
       "      <td>136</td>\n",
       "      <td>197</td>\n",
       "      <td>0.000000</td>\n",
       "    </tr>\n",
       "    <tr>\n",
       "      <th>11</th>\n",
       "      <td>동 작 구</td>\n",
       "      <td>1780</td>\n",
       "      <td>238.0</td>\n",
       "      <td>93.0</td>\n",
       "      <td>29.0</td>\n",
       "      <td>503</td>\n",
       "      <td>130</td>\n",
       "      <td>254</td>\n",
       "      <td>278</td>\n",
       "      <td>255</td>\n",
       "      <td>647.899160</td>\n",
       "    </tr>\n",
       "    <tr>\n",
       "      <th>12</th>\n",
       "      <td>마 포 구</td>\n",
       "      <td>1935</td>\n",
       "      <td>585.0</td>\n",
       "      <td>108.0</td>\n",
       "      <td>69.0</td>\n",
       "      <td>70</td>\n",
       "      <td>177</td>\n",
       "      <td>359</td>\n",
       "      <td>372</td>\n",
       "      <td>195</td>\n",
       "      <td>230.769231</td>\n",
       "    </tr>\n",
       "    <tr>\n",
       "      <th>13</th>\n",
       "      <td>서대문구</td>\n",
       "      <td>2121</td>\n",
       "      <td>565.0</td>\n",
       "      <td>233.0</td>\n",
       "      <td>214.0</td>\n",
       "      <td>114</td>\n",
       "      <td>109</td>\n",
       "      <td>277</td>\n",
       "      <td>415</td>\n",
       "      <td>194</td>\n",
       "      <td>275.398230</td>\n",
       "    </tr>\n",
       "    <tr>\n",
       "      <th>14</th>\n",
       "      <td>서 초 구</td>\n",
       "      <td>2835</td>\n",
       "      <td>1172.0</td>\n",
       "      <td>91.0</td>\n",
       "      <td>228.0</td>\n",
       "      <td>134</td>\n",
       "      <td>215</td>\n",
       "      <td>352</td>\n",
       "      <td>247</td>\n",
       "      <td>396</td>\n",
       "      <td>141.894198</td>\n",
       "    </tr>\n",
       "    <tr>\n",
       "      <th>15</th>\n",
       "      <td>성 동 구</td>\n",
       "      <td>2679</td>\n",
       "      <td>665.0</td>\n",
       "      <td>109.0</td>\n",
       "      <td>118.0</td>\n",
       "      <td>101</td>\n",
       "      <td>258</td>\n",
       "      <td>201</td>\n",
       "      <td>933</td>\n",
       "      <td>294</td>\n",
       "      <td>302.857143</td>\n",
       "    </tr>\n",
       "    <tr>\n",
       "      <th>16</th>\n",
       "      <td>성 북 구</td>\n",
       "      <td>3003</td>\n",
       "      <td>779.0</td>\n",
       "      <td>84.0</td>\n",
       "      <td>304.0</td>\n",
       "      <td>241</td>\n",
       "      <td>279</td>\n",
       "      <td>388</td>\n",
       "      <td>285</td>\n",
       "      <td>643</td>\n",
       "      <td>285.494223</td>\n",
       "    </tr>\n",
       "    <tr>\n",
       "      <th>17</th>\n",
       "      <td>송 파 구</td>\n",
       "      <td>1586</td>\n",
       "      <td>600.0</td>\n",
       "      <td>99.0</td>\n",
       "      <td>88.0</td>\n",
       "      <td>21</td>\n",
       "      <td>166</td>\n",
       "      <td>100</td>\n",
       "      <td>116</td>\n",
       "      <td>396</td>\n",
       "      <td>164.333333</td>\n",
       "    </tr>\n",
       "    <tr>\n",
       "      <th>18</th>\n",
       "      <td>양 천 구</td>\n",
       "      <td>2775</td>\n",
       "      <td>772.0</td>\n",
       "      <td>161.0</td>\n",
       "      <td>185.0</td>\n",
       "      <td>169</td>\n",
       "      <td>172</td>\n",
       "      <td>349</td>\n",
       "      <td>137</td>\n",
       "      <td>830</td>\n",
       "      <td>259.455959</td>\n",
       "    </tr>\n",
       "    <tr>\n",
       "      <th>19</th>\n",
       "      <td>영등포구</td>\n",
       "      <td>2495</td>\n",
       "      <td>132.0</td>\n",
       "      <td>121.0</td>\n",
       "      <td>206.0</td>\n",
       "      <td>217</td>\n",
       "      <td>366</td>\n",
       "      <td>289</td>\n",
       "      <td>371</td>\n",
       "      <td>793</td>\n",
       "      <td>1790.151515</td>\n",
       "    </tr>\n",
       "    <tr>\n",
       "      <th>20</th>\n",
       "      <td>용 산 구</td>\n",
       "      <td>2063</td>\n",
       "      <td>1279.0</td>\n",
       "      <td>152.0</td>\n",
       "      <td>201.0</td>\n",
       "      <td>107</td>\n",
       "      <td>102</td>\n",
       "      <td>89</td>\n",
       "      <td>60</td>\n",
       "      <td>73</td>\n",
       "      <td>61.297889</td>\n",
       "    </tr>\n",
       "    <tr>\n",
       "      <th>21</th>\n",
       "      <td>은 평 구</td>\n",
       "      <td>2962</td>\n",
       "      <td>1365.0</td>\n",
       "      <td>83.0</td>\n",
       "      <td>99.0</td>\n",
       "      <td>343</td>\n",
       "      <td>180</td>\n",
       "      <td>296</td>\n",
       "      <td>229</td>\n",
       "      <td>367</td>\n",
       "      <td>116.996337</td>\n",
       "    </tr>\n",
       "    <tr>\n",
       "      <th>22</th>\n",
       "      <td>종 로 구</td>\n",
       "      <td>1471</td>\n",
       "      <td>8.0</td>\n",
       "      <td>7.0</td>\n",
       "      <td>599.0</td>\n",
       "      <td>132</td>\n",
       "      <td>195</td>\n",
       "      <td>148</td>\n",
       "      <td>281</td>\n",
       "      <td>101</td>\n",
       "      <td>18287.500000</td>\n",
       "    </tr>\n",
       "    <tr>\n",
       "      <th>23</th>\n",
       "      <td>중     구</td>\n",
       "      <td>1544</td>\n",
       "      <td>25.0</td>\n",
       "      <td>165.0</td>\n",
       "      <td>114.0</td>\n",
       "      <td>80</td>\n",
       "      <td>245</td>\n",
       "      <td>270</td>\n",
       "      <td>317</td>\n",
       "      <td>328</td>\n",
       "      <td>6076.000000</td>\n",
       "    </tr>\n",
       "    <tr>\n",
       "      <th>24</th>\n",
       "      <td>중 랑 구</td>\n",
       "      <td>1068</td>\n",
       "      <td>0.0</td>\n",
       "      <td>0.0</td>\n",
       "      <td>0.0</td>\n",
       "      <td>770</td>\n",
       "      <td>102</td>\n",
       "      <td>121</td>\n",
       "      <td>66</td>\n",
       "      <td>9</td>\n",
       "      <td>0.000000</td>\n",
       "    </tr>\n",
       "  </tbody>\n",
       "</table>\n",
       "</div>"
      ],
      "text/plain": [
       "        자치구    소계  2011년 이전  2012년  2013년  2014년  2015년  2016년  2017년  2018년  \\\n",
       "0     강 남 구  5221    1944.0  195.0  316.0    430    546    765    577    448   \n",
       "1     강 동 구  1879     303.0  387.0  134.0     59    144    194    273    385   \n",
       "2     강 북 구  1265     243.0   88.0  141.0     74    145    254      1    319   \n",
       "3     강 서 구  1617     219.0  155.0  118.0    230    187    190    264    254   \n",
       "4     관 악 구  3985     430.0   56.0  419.0    487    609    619    694    671   \n",
       "5     광 진 구  1581     470.0   42.0   83.0     87     64     21    468    346   \n",
       "6     구 로 구  3227     852.0  219.0  349.0    187    268    326    540    486   \n",
       "7     금 천 구  1634      27.0   17.0  242.0    101    382    136    199    530   \n",
       "8     노 원 구  1906     481.0  117.0  203.0     80    461    298    110    156   \n",
       "9     도 봉 구   858     197.0   66.0    8.0    185     59    155    117     71   \n",
       "10     동대문구  2003       0.0    0.0    0.0   1326    111    233    136    197   \n",
       "11    동 작 구  1780     238.0   93.0   29.0    503    130    254    278    255   \n",
       "12    마 포 구  1935     585.0  108.0   69.0     70    177    359    372    195   \n",
       "13     서대문구  2121     565.0  233.0  214.0    114    109    277    415    194   \n",
       "14    서 초 구  2835    1172.0   91.0  228.0    134    215    352    247    396   \n",
       "15    성 동 구  2679     665.0  109.0  118.0    101    258    201    933    294   \n",
       "16    성 북 구  3003     779.0   84.0  304.0    241    279    388    285    643   \n",
       "17    송 파 구  1586     600.0   99.0   88.0     21    166    100    116    396   \n",
       "18    양 천 구  2775     772.0  161.0  185.0    169    172    349    137    830   \n",
       "19     영등포구  2495     132.0  121.0  206.0    217    366    289    371    793   \n",
       "20    용 산 구  2063    1279.0  152.0  201.0    107    102     89     60     73   \n",
       "21    은 평 구  2962    1365.0   83.0   99.0    343    180    296    229    367   \n",
       "22    종 로 구  1471       8.0    7.0  599.0    132    195    148    281    101   \n",
       "23  중     구  1544      25.0  165.0  114.0     80    245    270    317    328   \n",
       "24    중 랑 구  1068       0.0    0.0    0.0    770    102    121     66      9   \n",
       "\n",
       "          최신 증가율  \n",
       "0     168.569959  \n",
       "1     520.132013  \n",
       "2     420.576132  \n",
       "3     638.356164  \n",
       "4     826.744186  \n",
       "5     236.382979  \n",
       "6     278.755869  \n",
       "7    5951.851852  \n",
       "8     296.257796  \n",
       "9     335.532995  \n",
       "10      0.000000  \n",
       "11    647.899160  \n",
       "12    230.769231  \n",
       "13    275.398230  \n",
       "14    141.894198  \n",
       "15    302.857143  \n",
       "16    285.494223  \n",
       "17    164.333333  \n",
       "18    259.455959  \n",
       "19   1790.151515  \n",
       "20     61.297889  \n",
       "21    116.996337  \n",
       "22  18287.500000  \n",
       "23   6076.000000  \n",
       "24      0.000000  "
      ]
     },
     "execution_count": 28,
     "metadata": {},
     "output_type": "execute_result"
    }
   ],
   "source": [
    "# 결측값 채우기\n",
    "s_cctv.fillna(0, inplace=True)\n",
    "s_cctv"
   ]
  },
  {
   "cell_type": "code",
   "execution_count": 29,
   "metadata": {},
   "outputs": [
    {
     "data": {
      "text/plain": [
       "Index(['자치구', '소계', '2011년 이전', '2012년', '2013년', '2014년', '2015년', '2016년',\n",
       "       '2017년', '2018년', '최신 증가율'],\n",
       "      dtype='object')"
      ]
     },
     "execution_count": 29,
     "metadata": {},
     "output_type": "execute_result"
    }
   ],
   "source": [
    "s_cctv.columns"
   ]
  },
  {
   "cell_type": "code",
   "execution_count": 30,
   "metadata": {},
   "outputs": [],
   "source": [
    "# 2011이전 ~ 2012, 2013, 2014만 추출\n",
    "tmp = s_cctv.iloc[ :, [2,3,4,5] ]"
   ]
  },
  {
   "cell_type": "code",
   "execution_count": 31,
   "metadata": {
    "scrolled": true
   },
   "outputs": [
    {
     "data": {
      "text/plain": [
       "0     2885.0\n",
       "1      883.0\n",
       "2      546.0\n",
       "3      722.0\n",
       "4     1392.0\n",
       "5      682.0\n",
       "6     1607.0\n",
       "7      387.0\n",
       "8      881.0\n",
       "9      456.0\n",
       "10    1326.0\n",
       "11     863.0\n",
       "12     832.0\n",
       "13    1126.0\n",
       "14    1625.0\n",
       "15     993.0\n",
       "16    1408.0\n",
       "17     808.0\n",
       "18    1287.0\n",
       "19     676.0\n",
       "20    1739.0\n",
       "21    1890.0\n",
       "22     746.0\n",
       "23     384.0\n",
       "24     770.0\n",
       "dtype: float64"
      ]
     },
     "execution_count": 31,
     "metadata": {},
     "output_type": "execute_result"
    }
   ],
   "source": [
    "tmp.sum(axis=1)"
   ]
  },
  {
   "cell_type": "code",
   "execution_count": 32,
   "metadata": {},
   "outputs": [],
   "source": [
    "# 밑의 소스코드와 동일한 소스코드가 된다\n",
    "# s_cctv['2014년도 이전'] =  s_cctv[ '2011년도 이전' ] + s_cctv['2012'] + s_cctv['2013']..."
   ]
  },
  {
   "cell_type": "code",
   "execution_count": 33,
   "metadata": {},
   "outputs": [],
   "source": [
    "# 2011년이전~2012, 2013, 2014 까지를 합산하여, 새로운 컬럼 2014년도 이전을 생성\n",
    "s_cctv[ '2014년도 이전' ] = s_cctv.iloc[ :, [2,3,4,5]  ].sum(axis=1)"
   ]
  },
  {
   "cell_type": "code",
   "execution_count": 34,
   "metadata": {
    "scrolled": true
   },
   "outputs": [
    {
     "data": {
      "text/html": [
       "<div>\n",
       "<style scoped>\n",
       "    .dataframe tbody tr th:only-of-type {\n",
       "        vertical-align: middle;\n",
       "    }\n",
       "\n",
       "    .dataframe tbody tr th {\n",
       "        vertical-align: top;\n",
       "    }\n",
       "\n",
       "    .dataframe thead th {\n",
       "        text-align: right;\n",
       "    }\n",
       "</style>\n",
       "<table border=\"1\" class=\"dataframe\">\n",
       "  <thead>\n",
       "    <tr style=\"text-align: right;\">\n",
       "      <th></th>\n",
       "      <th>자치구</th>\n",
       "      <th>소계</th>\n",
       "      <th>2011년 이전</th>\n",
       "      <th>2012년</th>\n",
       "      <th>2013년</th>\n",
       "      <th>2014년</th>\n",
       "      <th>2015년</th>\n",
       "      <th>2016년</th>\n",
       "      <th>2017년</th>\n",
       "      <th>2018년</th>\n",
       "      <th>최신 증가율</th>\n",
       "      <th>2014년도 이전</th>\n",
       "    </tr>\n",
       "  </thead>\n",
       "  <tbody>\n",
       "    <tr>\n",
       "      <th>0</th>\n",
       "      <td>강 남 구</td>\n",
       "      <td>5221</td>\n",
       "      <td>1944.0</td>\n",
       "      <td>195.0</td>\n",
       "      <td>316.0</td>\n",
       "      <td>430</td>\n",
       "      <td>546</td>\n",
       "      <td>765</td>\n",
       "      <td>577</td>\n",
       "      <td>448</td>\n",
       "      <td>168.569959</td>\n",
       "      <td>2885.0</td>\n",
       "    </tr>\n",
       "    <tr>\n",
       "      <th>1</th>\n",
       "      <td>강 동 구</td>\n",
       "      <td>1879</td>\n",
       "      <td>303.0</td>\n",
       "      <td>387.0</td>\n",
       "      <td>134.0</td>\n",
       "      <td>59</td>\n",
       "      <td>144</td>\n",
       "      <td>194</td>\n",
       "      <td>273</td>\n",
       "      <td>385</td>\n",
       "      <td>520.132013</td>\n",
       "      <td>883.0</td>\n",
       "    </tr>\n",
       "  </tbody>\n",
       "</table>\n",
       "</div>"
      ],
      "text/plain": [
       "     자치구    소계  2011년 이전  2012년  2013년  2014년  2015년  2016년  2017년  2018년  \\\n",
       "0  강 남 구  5221    1944.0  195.0  316.0    430    546    765    577    448   \n",
       "1  강 동 구  1879     303.0  387.0  134.0     59    144    194    273    385   \n",
       "\n",
       "       최신 증가율  2014년도 이전  \n",
       "0  168.569959     2885.0  \n",
       "1  520.132013      883.0  "
      ]
     },
     "execution_count": 34,
     "metadata": {},
     "output_type": "execute_result"
    }
   ],
   "source": [
    "s_cctv.head(2)"
   ]
  },
  {
   "cell_type": "code",
   "execution_count": 35,
   "metadata": {},
   "outputs": [],
   "source": [
    "rm_cols = s_cctv.columns[2:6]"
   ]
  },
  {
   "cell_type": "code",
   "execution_count": 36,
   "metadata": {},
   "outputs": [
    {
     "name": "stdout",
     "output_type": "stream",
     "text": [
      "     자치구    소계  2015년  2016년  2017년  2018년      최신 증가율  2014년도 이전\n",
      "0  강 남 구  5221    546    765    577    448  168.569959     2885.0\n",
      "1  강 동 구  1879    144    194    273    385  520.132013      883.0\n"
     ]
    }
   ],
   "source": [
    "try:    \n",
    "    # 제거\n",
    "    s_cctv.drop( rm_cols, inplace=True, axis=1 )\n",
    "    print( s_cctv.head(2) )\n",
    "except Exception as e:\n",
    "    pass"
   ]
  },
  {
   "cell_type": "code",
   "execution_count": 37,
   "metadata": {},
   "outputs": [
    {
     "data": {
      "text/html": [
       "<div>\n",
       "<style scoped>\n",
       "    .dataframe tbody tr th:only-of-type {\n",
       "        vertical-align: middle;\n",
       "    }\n",
       "\n",
       "    .dataframe tbody tr th {\n",
       "        vertical-align: top;\n",
       "    }\n",
       "\n",
       "    .dataframe thead th {\n",
       "        text-align: right;\n",
       "    }\n",
       "</style>\n",
       "<table border=\"1\" class=\"dataframe\">\n",
       "  <thead>\n",
       "    <tr style=\"text-align: right;\">\n",
       "      <th></th>\n",
       "      <th>자치구</th>\n",
       "      <th>소계</th>\n",
       "      <th>2015년</th>\n",
       "      <th>2016년</th>\n",
       "      <th>2017년</th>\n",
       "      <th>2018년</th>\n",
       "      <th>최신 증가율</th>\n",
       "      <th>2014년도 이전</th>\n",
       "    </tr>\n",
       "  </thead>\n",
       "  <tbody>\n",
       "    <tr>\n",
       "      <th>0</th>\n",
       "      <td>강 남 구</td>\n",
       "      <td>5221</td>\n",
       "      <td>546</td>\n",
       "      <td>765</td>\n",
       "      <td>577</td>\n",
       "      <td>448</td>\n",
       "      <td>168.569959</td>\n",
       "      <td>2885.0</td>\n",
       "    </tr>\n",
       "    <tr>\n",
       "      <th>1</th>\n",
       "      <td>강 동 구</td>\n",
       "      <td>1879</td>\n",
       "      <td>144</td>\n",
       "      <td>194</td>\n",
       "      <td>273</td>\n",
       "      <td>385</td>\n",
       "      <td>520.132013</td>\n",
       "      <td>883.0</td>\n",
       "    </tr>\n",
       "  </tbody>\n",
       "</table>\n",
       "</div>"
      ],
      "text/plain": [
       "     자치구    소계  2015년  2016년  2017년  2018년      최신 증가율  2014년도 이전\n",
       "0  강 남 구  5221    546    765    577    448  168.569959     2885.0\n",
       "1  강 동 구  1879    144    194    273    385  520.132013      883.0"
      ]
     },
     "execution_count": 37,
     "metadata": {},
     "output_type": "execute_result"
    }
   ],
   "source": [
    "s_cctv.head(2)"
   ]
  },
  {
   "cell_type": "code",
   "execution_count": 38,
   "metadata": {},
   "outputs": [
    {
     "data": {
      "text/html": [
       "<div>\n",
       "<style scoped>\n",
       "    .dataframe tbody tr th:only-of-type {\n",
       "        vertical-align: middle;\n",
       "    }\n",
       "\n",
       "    .dataframe tbody tr th {\n",
       "        vertical-align: top;\n",
       "    }\n",
       "\n",
       "    .dataframe thead th {\n",
       "        text-align: right;\n",
       "    }\n",
       "</style>\n",
       "<table border=\"1\" class=\"dataframe\">\n",
       "  <thead>\n",
       "    <tr style=\"text-align: right;\">\n",
       "      <th></th>\n",
       "      <th>자치구</th>\n",
       "      <th>소계</th>\n",
       "      <th>2014년도 이전</th>\n",
       "      <th>2015년</th>\n",
       "      <th>2016년</th>\n",
       "      <th>2017년</th>\n",
       "      <th>2018년</th>\n",
       "      <th>최신 증가율</th>\n",
       "    </tr>\n",
       "  </thead>\n",
       "  <tbody>\n",
       "    <tr>\n",
       "      <th>0</th>\n",
       "      <td>강 남 구</td>\n",
       "      <td>5221</td>\n",
       "      <td>2885.0</td>\n",
       "      <td>546</td>\n",
       "      <td>765</td>\n",
       "      <td>577</td>\n",
       "      <td>448</td>\n",
       "      <td>168.569959</td>\n",
       "    </tr>\n",
       "    <tr>\n",
       "      <th>1</th>\n",
       "      <td>강 동 구</td>\n",
       "      <td>1879</td>\n",
       "      <td>883.0</td>\n",
       "      <td>144</td>\n",
       "      <td>194</td>\n",
       "      <td>273</td>\n",
       "      <td>385</td>\n",
       "      <td>520.132013</td>\n",
       "    </tr>\n",
       "    <tr>\n",
       "      <th>2</th>\n",
       "      <td>강 북 구</td>\n",
       "      <td>1265</td>\n",
       "      <td>546.0</td>\n",
       "      <td>145</td>\n",
       "      <td>254</td>\n",
       "      <td>1</td>\n",
       "      <td>319</td>\n",
       "      <td>420.576132</td>\n",
       "    </tr>\n",
       "    <tr>\n",
       "      <th>3</th>\n",
       "      <td>강 서 구</td>\n",
       "      <td>1617</td>\n",
       "      <td>722.0</td>\n",
       "      <td>187</td>\n",
       "      <td>190</td>\n",
       "      <td>264</td>\n",
       "      <td>254</td>\n",
       "      <td>638.356164</td>\n",
       "    </tr>\n",
       "    <tr>\n",
       "      <th>4</th>\n",
       "      <td>관 악 구</td>\n",
       "      <td>3985</td>\n",
       "      <td>1392.0</td>\n",
       "      <td>609</td>\n",
       "      <td>619</td>\n",
       "      <td>694</td>\n",
       "      <td>671</td>\n",
       "      <td>826.744186</td>\n",
       "    </tr>\n",
       "    <tr>\n",
       "      <th>5</th>\n",
       "      <td>광 진 구</td>\n",
       "      <td>1581</td>\n",
       "      <td>682.0</td>\n",
       "      <td>64</td>\n",
       "      <td>21</td>\n",
       "      <td>468</td>\n",
       "      <td>346</td>\n",
       "      <td>236.382979</td>\n",
       "    </tr>\n",
       "    <tr>\n",
       "      <th>6</th>\n",
       "      <td>구 로 구</td>\n",
       "      <td>3227</td>\n",
       "      <td>1607.0</td>\n",
       "      <td>268</td>\n",
       "      <td>326</td>\n",
       "      <td>540</td>\n",
       "      <td>486</td>\n",
       "      <td>278.755869</td>\n",
       "    </tr>\n",
       "    <tr>\n",
       "      <th>7</th>\n",
       "      <td>금 천 구</td>\n",
       "      <td>1634</td>\n",
       "      <td>387.0</td>\n",
       "      <td>382</td>\n",
       "      <td>136</td>\n",
       "      <td>199</td>\n",
       "      <td>530</td>\n",
       "      <td>5951.851852</td>\n",
       "    </tr>\n",
       "    <tr>\n",
       "      <th>8</th>\n",
       "      <td>노 원 구</td>\n",
       "      <td>1906</td>\n",
       "      <td>881.0</td>\n",
       "      <td>461</td>\n",
       "      <td>298</td>\n",
       "      <td>110</td>\n",
       "      <td>156</td>\n",
       "      <td>296.257796</td>\n",
       "    </tr>\n",
       "    <tr>\n",
       "      <th>9</th>\n",
       "      <td>도 봉 구</td>\n",
       "      <td>858</td>\n",
       "      <td>456.0</td>\n",
       "      <td>59</td>\n",
       "      <td>155</td>\n",
       "      <td>117</td>\n",
       "      <td>71</td>\n",
       "      <td>335.532995</td>\n",
       "    </tr>\n",
       "    <tr>\n",
       "      <th>10</th>\n",
       "      <td>동대문구</td>\n",
       "      <td>2003</td>\n",
       "      <td>1326.0</td>\n",
       "      <td>111</td>\n",
       "      <td>233</td>\n",
       "      <td>136</td>\n",
       "      <td>197</td>\n",
       "      <td>0.000000</td>\n",
       "    </tr>\n",
       "    <tr>\n",
       "      <th>11</th>\n",
       "      <td>동 작 구</td>\n",
       "      <td>1780</td>\n",
       "      <td>863.0</td>\n",
       "      <td>130</td>\n",
       "      <td>254</td>\n",
       "      <td>278</td>\n",
       "      <td>255</td>\n",
       "      <td>647.899160</td>\n",
       "    </tr>\n",
       "    <tr>\n",
       "      <th>12</th>\n",
       "      <td>마 포 구</td>\n",
       "      <td>1935</td>\n",
       "      <td>832.0</td>\n",
       "      <td>177</td>\n",
       "      <td>359</td>\n",
       "      <td>372</td>\n",
       "      <td>195</td>\n",
       "      <td>230.769231</td>\n",
       "    </tr>\n",
       "    <tr>\n",
       "      <th>13</th>\n",
       "      <td>서대문구</td>\n",
       "      <td>2121</td>\n",
       "      <td>1126.0</td>\n",
       "      <td>109</td>\n",
       "      <td>277</td>\n",
       "      <td>415</td>\n",
       "      <td>194</td>\n",
       "      <td>275.398230</td>\n",
       "    </tr>\n",
       "    <tr>\n",
       "      <th>14</th>\n",
       "      <td>서 초 구</td>\n",
       "      <td>2835</td>\n",
       "      <td>1625.0</td>\n",
       "      <td>215</td>\n",
       "      <td>352</td>\n",
       "      <td>247</td>\n",
       "      <td>396</td>\n",
       "      <td>141.894198</td>\n",
       "    </tr>\n",
       "    <tr>\n",
       "      <th>15</th>\n",
       "      <td>성 동 구</td>\n",
       "      <td>2679</td>\n",
       "      <td>993.0</td>\n",
       "      <td>258</td>\n",
       "      <td>201</td>\n",
       "      <td>933</td>\n",
       "      <td>294</td>\n",
       "      <td>302.857143</td>\n",
       "    </tr>\n",
       "    <tr>\n",
       "      <th>16</th>\n",
       "      <td>성 북 구</td>\n",
       "      <td>3003</td>\n",
       "      <td>1408.0</td>\n",
       "      <td>279</td>\n",
       "      <td>388</td>\n",
       "      <td>285</td>\n",
       "      <td>643</td>\n",
       "      <td>285.494223</td>\n",
       "    </tr>\n",
       "    <tr>\n",
       "      <th>17</th>\n",
       "      <td>송 파 구</td>\n",
       "      <td>1586</td>\n",
       "      <td>808.0</td>\n",
       "      <td>166</td>\n",
       "      <td>100</td>\n",
       "      <td>116</td>\n",
       "      <td>396</td>\n",
       "      <td>164.333333</td>\n",
       "    </tr>\n",
       "    <tr>\n",
       "      <th>18</th>\n",
       "      <td>양 천 구</td>\n",
       "      <td>2775</td>\n",
       "      <td>1287.0</td>\n",
       "      <td>172</td>\n",
       "      <td>349</td>\n",
       "      <td>137</td>\n",
       "      <td>830</td>\n",
       "      <td>259.455959</td>\n",
       "    </tr>\n",
       "    <tr>\n",
       "      <th>19</th>\n",
       "      <td>영등포구</td>\n",
       "      <td>2495</td>\n",
       "      <td>676.0</td>\n",
       "      <td>366</td>\n",
       "      <td>289</td>\n",
       "      <td>371</td>\n",
       "      <td>793</td>\n",
       "      <td>1790.151515</td>\n",
       "    </tr>\n",
       "    <tr>\n",
       "      <th>20</th>\n",
       "      <td>용 산 구</td>\n",
       "      <td>2063</td>\n",
       "      <td>1739.0</td>\n",
       "      <td>102</td>\n",
       "      <td>89</td>\n",
       "      <td>60</td>\n",
       "      <td>73</td>\n",
       "      <td>61.297889</td>\n",
       "    </tr>\n",
       "    <tr>\n",
       "      <th>21</th>\n",
       "      <td>은 평 구</td>\n",
       "      <td>2962</td>\n",
       "      <td>1890.0</td>\n",
       "      <td>180</td>\n",
       "      <td>296</td>\n",
       "      <td>229</td>\n",
       "      <td>367</td>\n",
       "      <td>116.996337</td>\n",
       "    </tr>\n",
       "    <tr>\n",
       "      <th>22</th>\n",
       "      <td>종 로 구</td>\n",
       "      <td>1471</td>\n",
       "      <td>746.0</td>\n",
       "      <td>195</td>\n",
       "      <td>148</td>\n",
       "      <td>281</td>\n",
       "      <td>101</td>\n",
       "      <td>18287.500000</td>\n",
       "    </tr>\n",
       "    <tr>\n",
       "      <th>23</th>\n",
       "      <td>중     구</td>\n",
       "      <td>1544</td>\n",
       "      <td>384.0</td>\n",
       "      <td>245</td>\n",
       "      <td>270</td>\n",
       "      <td>317</td>\n",
       "      <td>328</td>\n",
       "      <td>6076.000000</td>\n",
       "    </tr>\n",
       "    <tr>\n",
       "      <th>24</th>\n",
       "      <td>중 랑 구</td>\n",
       "      <td>1068</td>\n",
       "      <td>770.0</td>\n",
       "      <td>102</td>\n",
       "      <td>121</td>\n",
       "      <td>66</td>\n",
       "      <td>9</td>\n",
       "      <td>0.000000</td>\n",
       "    </tr>\n",
       "  </tbody>\n",
       "</table>\n",
       "</div>"
      ],
      "text/plain": [
       "        자치구    소계  2014년도 이전  2015년  2016년  2017년  2018년        최신 증가율\n",
       "0     강 남 구  5221     2885.0    546    765    577    448    168.569959\n",
       "1     강 동 구  1879      883.0    144    194    273    385    520.132013\n",
       "2     강 북 구  1265      546.0    145    254      1    319    420.576132\n",
       "3     강 서 구  1617      722.0    187    190    264    254    638.356164\n",
       "4     관 악 구  3985     1392.0    609    619    694    671    826.744186\n",
       "5     광 진 구  1581      682.0     64     21    468    346    236.382979\n",
       "6     구 로 구  3227     1607.0    268    326    540    486    278.755869\n",
       "7     금 천 구  1634      387.0    382    136    199    530   5951.851852\n",
       "8     노 원 구  1906      881.0    461    298    110    156    296.257796\n",
       "9     도 봉 구   858      456.0     59    155    117     71    335.532995\n",
       "10     동대문구  2003     1326.0    111    233    136    197      0.000000\n",
       "11    동 작 구  1780      863.0    130    254    278    255    647.899160\n",
       "12    마 포 구  1935      832.0    177    359    372    195    230.769231\n",
       "13     서대문구  2121     1126.0    109    277    415    194    275.398230\n",
       "14    서 초 구  2835     1625.0    215    352    247    396    141.894198\n",
       "15    성 동 구  2679      993.0    258    201    933    294    302.857143\n",
       "16    성 북 구  3003     1408.0    279    388    285    643    285.494223\n",
       "17    송 파 구  1586      808.0    166    100    116    396    164.333333\n",
       "18    양 천 구  2775     1287.0    172    349    137    830    259.455959\n",
       "19     영등포구  2495      676.0    366    289    371    793   1790.151515\n",
       "20    용 산 구  2063     1739.0    102     89     60     73     61.297889\n",
       "21    은 평 구  2962     1890.0    180    296    229    367    116.996337\n",
       "22    종 로 구  1471      746.0    195    148    281    101  18287.500000\n",
       "23  중     구  1544      384.0    245    270    317    328   6076.000000\n",
       "24    중 랑 구  1068      770.0    102    121     66      9      0.000000"
      ]
     },
     "execution_count": 38,
     "metadata": {},
     "output_type": "execute_result"
    }
   ],
   "source": [
    "# 최신증가율을 다시 계산해서 세팅\n",
    "tmp = s_cctv.iloc[ :, [2,3,4,5]  ].sum(axis=1)\n",
    "s_cctv[ '최신증가율' ] = tmp / s_cctv[ '2014년도 이전' ] * 100\n",
    "# 펜시 인덱싱을 통함 컬럼 재배치 후 사본 리턴\n",
    "s_cctv = s_cctv.iloc[ :, [0,1,7,2,3,4,5,6] ]\n",
    "s_cctv"
   ]
  },
  {
   "cell_type": "markdown",
   "metadata": {},
   "source": [
    "### 인구 현황 분석"
   ]
  },
  {
   "cell_type": "code",
   "execution_count": 39,
   "metadata": {},
   "outputs": [
    {
     "data": {
      "text/plain": [
       "기간      int64\n",
       "자치구    object\n",
       "인구수     int64\n",
       "한국인     int64\n",
       "외국인     int64\n",
       "고령자     int64\n",
       "dtype: object"
      ]
     },
     "execution_count": 39,
     "metadata": {},
     "output_type": "execute_result"
    }
   ],
   "source": [
    "s_pop.dtypes"
   ]
  },
  {
   "cell_type": "code",
   "execution_count": 40,
   "metadata": {},
   "outputs": [],
   "source": [
    "# s_pop에서 기간이 2014~2018년도까지만 추출해라"
   ]
  },
  {
   "cell_type": "code",
   "execution_count": 41,
   "metadata": {},
   "outputs": [
    {
     "data": {
      "text/plain": [
       "(130, 6)"
      ]
     },
     "execution_count": 41,
     "metadata": {},
     "output_type": "execute_result"
    }
   ],
   "source": [
    "s_pop_last = s_pop[ s_pop.기간 >= 2014]\n",
    "s_pop_last.shape"
   ]
  },
  {
   "cell_type": "code",
   "execution_count": 42,
   "metadata": {},
   "outputs": [
    {
     "data": {
      "text/plain": [
       "(25, 8)"
      ]
     },
     "execution_count": 42,
     "metadata": {},
     "output_type": "execute_result"
    }
   ],
   "source": [
    "s_cctv.shape"
   ]
  },
  {
   "cell_type": "code",
   "execution_count": 43,
   "metadata": {},
   "outputs": [
    {
     "data": {
      "text/plain": [
       "5.2"
      ]
     },
     "execution_count": 43,
     "metadata": {},
     "output_type": "execute_result"
    }
   ],
   "source": [
    "# 자치구 개수로 인구데이터 개수를 나눠보니 딱 안떨어진다 => 125가 되야 되는데\n",
    "# 130이 되었다 => 년도별로 1개씩 데이터가 더 있다 \n",
    "s_pop_last.shape[0] / s_cctv.shape[0]"
   ]
  },
  {
   "cell_type": "code",
   "execution_count": 44,
   "metadata": {},
   "outputs": [
    {
     "data": {
      "text/plain": [
       "(125, 6)"
      ]
     },
     "execution_count": 44,
     "metadata": {},
     "output_type": "execute_result"
    }
   ],
   "source": [
    "s_pop_last.head(27)\n",
    "# 년도별로 합계 데이터가 추가되어있다. \n",
    "# 합계를 제거해라 혹은 합계를 빼고 데이터프레임을 구성해라\n",
    "s_pop_last = s_pop_last[s_pop_last.자치구 != '합계']\n",
    "s_pop_last.shape"
   ]
  },
  {
   "cell_type": "code",
   "execution_count": 45,
   "metadata": {},
   "outputs": [
    {
     "data": {
      "text/plain": [
       "5.0"
      ]
     },
     "execution_count": 45,
     "metadata": {},
     "output_type": "execute_result"
    }
   ],
   "source": [
    "# 데이터 매칭 정상\n",
    "s_pop_last.shape[0] / s_cctv.shape[0]"
   ]
  },
  {
   "cell_type": "code",
   "execution_count": 46,
   "metadata": {},
   "outputs": [
    {
     "data": {
      "text/plain": [
       "(25, 25)"
      ]
     },
     "execution_count": 46,
     "metadata": {},
     "output_type": "execute_result"
    }
   ],
   "source": [
    "# 데이터 프레임을 합쳐서 진행할 것인데, 자치구 데이터들이 고유한지 체크\n",
    "len(s_cctv['자치구'].unique()), len(s_pop_last['자치구'].unique())"
   ]
  },
  {
   "cell_type": "code",
   "execution_count": 47,
   "metadata": {},
   "outputs": [
    {
     "data": {
      "text/plain": [
       "0    False\n",
       "1    False\n",
       "Name: 자치구, dtype: bool"
      ]
     },
     "execution_count": 47,
     "metadata": {},
     "output_type": "execute_result"
    }
   ],
   "source": [
    "# NaN 검출\n",
    "s_cctv['자치구'].isnull().head(2)"
   ]
  },
  {
   "cell_type": "code",
   "execution_count": 48,
   "metadata": {},
   "outputs": [],
   "source": [
    "# NaN 데이터를 제거할 때는\n",
    "nanidx = s_cctv[s_cctv['자치구'].isnull()].index\n",
    "if nanidx.any():\n",
    "    s_cctv.drop([nanidx], inplace=True)"
   ]
  },
  {
   "cell_type": "code",
   "execution_count": 49,
   "metadata": {},
   "outputs": [
    {
     "data": {
      "text/plain": [
       "Index(['기간', '자치구', '인구수', '한국인', '외국인', '고령자'], dtype='object')"
      ]
     },
     "execution_count": 49,
     "metadata": {},
     "output_type": "execute_result"
    }
   ],
   "source": [
    "s_pop_last.columns"
   ]
  },
  {
   "cell_type": "code",
   "execution_count": 50,
   "metadata": {},
   "outputs": [
    {
     "data": {
      "text/html": [
       "<div>\n",
       "<style scoped>\n",
       "    .dataframe tbody tr th:only-of-type {\n",
       "        vertical-align: middle;\n",
       "    }\n",
       "\n",
       "    .dataframe tbody tr th {\n",
       "        vertical-align: top;\n",
       "    }\n",
       "\n",
       "    .dataframe thead th {\n",
       "        text-align: right;\n",
       "    }\n",
       "</style>\n",
       "<table border=\"1\" class=\"dataframe\">\n",
       "  <thead>\n",
       "    <tr style=\"text-align: right;\">\n",
       "      <th></th>\n",
       "      <th>기간</th>\n",
       "      <th>자치구</th>\n",
       "      <th>인구수</th>\n",
       "      <th>한국인</th>\n",
       "      <th>외국인</th>\n",
       "      <th>고령자</th>\n",
       "      <th>외국인비율</th>\n",
       "      <th>고령자비율</th>\n",
       "    </tr>\n",
       "  </thead>\n",
       "  <tbody>\n",
       "    <tr>\n",
       "      <th>79</th>\n",
       "      <td>2014</td>\n",
       "      <td>종로구</td>\n",
       "      <td>165344</td>\n",
       "      <td>156993</td>\n",
       "      <td>8351</td>\n",
       "      <td>24537</td>\n",
       "      <td>5.050682</td>\n",
       "      <td>14.839970</td>\n",
       "    </tr>\n",
       "    <tr>\n",
       "      <th>80</th>\n",
       "      <td>2014</td>\n",
       "      <td>중구</td>\n",
       "      <td>136227</td>\n",
       "      <td>128065</td>\n",
       "      <td>8162</td>\n",
       "      <td>19960</td>\n",
       "      <td>5.991470</td>\n",
       "      <td>14.652015</td>\n",
       "    </tr>\n",
       "  </tbody>\n",
       "</table>\n",
       "</div>"
      ],
      "text/plain": [
       "      기간  자치구     인구수     한국인   외국인    고령자     외국인비율      고령자비율\n",
       "79  2014  종로구  165344  156993  8351  24537  5.050682  14.839970\n",
       "80  2014   중구  136227  128065  8162  19960  5.991470  14.652015"
      ]
     },
     "execution_count": 50,
     "metadata": {},
     "output_type": "execute_result"
    }
   ],
   "source": [
    "# 인구 데이터 s_pop_last 에서 외국인비율, 고령자비율 컬럼 추가\n",
    "# 외국인비율 =  외국인 / 인구수 * 100\n",
    "s_pop_last['외국인비율'] = s_pop_last['외국인'] / s_pop_last['인구수'] * 100\n",
    "s_pop_last['고령자비율'] = s_pop_last['고령자'] / s_pop_last['인구수'] * 100\n",
    "s_pop_last.head(2)"
   ]
  },
  {
   "cell_type": "code",
   "execution_count": 51,
   "metadata": {},
   "outputs": [
    {
     "data": {
      "text/plain": [
       "(25, 8)"
      ]
     },
     "execution_count": 51,
     "metadata": {},
     "output_type": "execute_result"
    }
   ],
   "source": [
    "# s_pop_last 데이터에서 s_pop_last_2018 생성, 2018년도만 획득\n",
    "s_pop_last_2018 = s_pop_last[ s_pop_last.기간 == 2018 ]\n",
    "s_pop_last_2018.shape"
   ]
  },
  {
   "cell_type": "code",
   "execution_count": 52,
   "metadata": {},
   "outputs": [
    {
     "data": {
      "text/html": [
       "<div>\n",
       "<style scoped>\n",
       "    .dataframe tbody tr th:only-of-type {\n",
       "        vertical-align: middle;\n",
       "    }\n",
       "\n",
       "    .dataframe tbody tr th {\n",
       "        vertical-align: top;\n",
       "    }\n",
       "\n",
       "    .dataframe thead th {\n",
       "        text-align: right;\n",
       "    }\n",
       "</style>\n",
       "<table border=\"1\" class=\"dataframe\">\n",
       "  <thead>\n",
       "    <tr style=\"text-align: right;\">\n",
       "      <th></th>\n",
       "      <th>기간</th>\n",
       "      <th>자치구</th>\n",
       "      <th>인구수</th>\n",
       "      <th>한국인</th>\n",
       "      <th>외국인</th>\n",
       "      <th>고령자</th>\n",
       "      <th>외국인비율</th>\n",
       "      <th>고령자비율</th>\n",
       "    </tr>\n",
       "  </thead>\n",
       "  <tbody>\n",
       "    <tr>\n",
       "      <th>191</th>\n",
       "      <td>2018</td>\n",
       "      <td>강북구</td>\n",
       "      <td>322915</td>\n",
       "      <td>319164</td>\n",
       "      <td>3751</td>\n",
       "      <td>58196</td>\n",
       "      <td>1.161606</td>\n",
       "      <td>18.022080</td>\n",
       "    </tr>\n",
       "    <tr>\n",
       "      <th>183</th>\n",
       "      <td>2018</td>\n",
       "      <td>종로구</td>\n",
       "      <td>163026</td>\n",
       "      <td>153065</td>\n",
       "      <td>9961</td>\n",
       "      <td>26742</td>\n",
       "      <td>6.110068</td>\n",
       "      <td>16.403518</td>\n",
       "    </tr>\n",
       "    <tr>\n",
       "      <th>192</th>\n",
       "      <td>2018</td>\n",
       "      <td>도봉구</td>\n",
       "      <td>341649</td>\n",
       "      <td>339413</td>\n",
       "      <td>2236</td>\n",
       "      <td>55964</td>\n",
       "      <td>0.654473</td>\n",
       "      <td>16.380554</td>\n",
       "    </tr>\n",
       "  </tbody>\n",
       "</table>\n",
       "</div>"
      ],
      "text/plain": [
       "       기간  자치구     인구수     한국인   외국인    고령자     외국인비율      고령자비율\n",
       "191  2018  강북구  322915  319164  3751  58196  1.161606  18.022080\n",
       "183  2018  종로구  163026  153065  9961  26742  6.110068  16.403518\n",
       "192  2018  도봉구  341649  339413  2236  55964  0.654473  16.380554"
      ]
     },
     "execution_count": 52,
     "metadata": {},
     "output_type": "execute_result"
    }
   ],
   "source": [
    "s_pop_last_2018.sort_values( by='고령자비율', ascending=False ).head(3)"
   ]
  },
  {
   "cell_type": "code",
   "execution_count": 53,
   "metadata": {},
   "outputs": [
    {
     "data": {
      "text/html": [
       "<div>\n",
       "<style scoped>\n",
       "    .dataframe tbody tr th:only-of-type {\n",
       "        vertical-align: middle;\n",
       "    }\n",
       "\n",
       "    .dataframe tbody tr th {\n",
       "        vertical-align: top;\n",
       "    }\n",
       "\n",
       "    .dataframe thead th {\n",
       "        text-align: right;\n",
       "    }\n",
       "</style>\n",
       "<table border=\"1\" class=\"dataframe\">\n",
       "  <thead>\n",
       "    <tr style=\"text-align: right;\">\n",
       "      <th></th>\n",
       "      <th>기간</th>\n",
       "      <th>자치구</th>\n",
       "      <th>인구수</th>\n",
       "      <th>한국인</th>\n",
       "      <th>외국인</th>\n",
       "      <th>고령자</th>\n",
       "      <th>외국인비율</th>\n",
       "      <th>고령자비율</th>\n",
       "    </tr>\n",
       "  </thead>\n",
       "  <tbody>\n",
       "    <tr>\n",
       "      <th>201</th>\n",
       "      <td>2018</td>\n",
       "      <td>영등포구</td>\n",
       "      <td>403600</td>\n",
       "      <td>367778</td>\n",
       "      <td>35822</td>\n",
       "      <td>55673</td>\n",
       "      <td>8.875619</td>\n",
       "      <td>13.794103</td>\n",
       "    </tr>\n",
       "    <tr>\n",
       "      <th>200</th>\n",
       "      <td>2018</td>\n",
       "      <td>금천구</td>\n",
       "      <td>254021</td>\n",
       "      <td>233917</td>\n",
       "      <td>20104</td>\n",
       "      <td>35739</td>\n",
       "      <td>7.914306</td>\n",
       "      <td>14.069309</td>\n",
       "    </tr>\n",
       "    <tr>\n",
       "      <th>199</th>\n",
       "      <td>2018</td>\n",
       "      <td>구로구</td>\n",
       "      <td>438486</td>\n",
       "      <td>404497</td>\n",
       "      <td>33989</td>\n",
       "      <td>61801</td>\n",
       "      <td>7.751445</td>\n",
       "      <td>14.094179</td>\n",
       "    </tr>\n",
       "  </tbody>\n",
       "</table>\n",
       "</div>"
      ],
      "text/plain": [
       "       기간   자치구     인구수     한국인    외국인    고령자     외국인비율      고령자비율\n",
       "201  2018  영등포구  403600  367778  35822  55673  8.875619  13.794103\n",
       "200  2018   금천구  254021  233917  20104  35739  7.914306  14.069309\n",
       "199  2018   구로구  438486  404497  33989  61801  7.751445  14.094179"
      ]
     },
     "execution_count": 53,
     "metadata": {},
     "output_type": "execute_result"
    }
   ],
   "source": [
    "s_pop_last_2018.sort_values( by='외국인비율', ascending=False ).head(3)"
   ]
  },
  {
   "cell_type": "code",
   "execution_count": 54,
   "metadata": {},
   "outputs": [
    {
     "data": {
      "text/html": [
       "<div>\n",
       "<style scoped>\n",
       "    .dataframe tbody tr th:only-of-type {\n",
       "        vertical-align: middle;\n",
       "    }\n",
       "\n",
       "    .dataframe tbody tr th {\n",
       "        vertical-align: top;\n",
       "    }\n",
       "\n",
       "    .dataframe thead th {\n",
       "        text-align: right;\n",
       "    }\n",
       "</style>\n",
       "<table border=\"1\" class=\"dataframe\">\n",
       "  <thead>\n",
       "    <tr style=\"text-align: right;\">\n",
       "      <th></th>\n",
       "      <th>자치구</th>\n",
       "      <th>소계</th>\n",
       "      <th>2014년도 이전</th>\n",
       "      <th>2015년</th>\n",
       "      <th>2016년</th>\n",
       "      <th>2017년</th>\n",
       "      <th>2018년</th>\n",
       "      <th>최신 증가율</th>\n",
       "    </tr>\n",
       "  </thead>\n",
       "  <tbody>\n",
       "    <tr>\n",
       "      <th>0</th>\n",
       "      <td>강 남 구</td>\n",
       "      <td>5221</td>\n",
       "      <td>2885.0</td>\n",
       "      <td>546</td>\n",
       "      <td>765</td>\n",
       "      <td>577</td>\n",
       "      <td>448</td>\n",
       "      <td>168.569959</td>\n",
       "    </tr>\n",
       "    <tr>\n",
       "      <th>1</th>\n",
       "      <td>강 동 구</td>\n",
       "      <td>1879</td>\n",
       "      <td>883.0</td>\n",
       "      <td>144</td>\n",
       "      <td>194</td>\n",
       "      <td>273</td>\n",
       "      <td>385</td>\n",
       "      <td>520.132013</td>\n",
       "    </tr>\n",
       "    <tr>\n",
       "      <th>2</th>\n",
       "      <td>강 북 구</td>\n",
       "      <td>1265</td>\n",
       "      <td>546.0</td>\n",
       "      <td>145</td>\n",
       "      <td>254</td>\n",
       "      <td>1</td>\n",
       "      <td>319</td>\n",
       "      <td>420.576132</td>\n",
       "    </tr>\n",
       "  </tbody>\n",
       "</table>\n",
       "</div>"
      ],
      "text/plain": [
       "     자치구    소계  2014년도 이전  2015년  2016년  2017년  2018년      최신 증가율\n",
       "0  강 남 구  5221     2885.0    546    765    577    448  168.569959\n",
       "1  강 동 구  1879      883.0    144    194    273    385  520.132013\n",
       "2  강 북 구  1265      546.0    145    254      1    319  420.576132"
      ]
     },
     "execution_count": 54,
     "metadata": {},
     "output_type": "execute_result"
    }
   ],
   "source": [
    "s_cctv.head(3)"
   ]
  },
  {
   "cell_type": "markdown",
   "metadata": {},
   "source": [
    "### DataFrame 합치기: 병합(고급주제)\n",
    "<a href='http://localhost:8889/notebooks/Desktop/py_projects/analysis/pandas/basic/pandas_advanced.ipynb'>실습하기</a>"
   ]
  },
  {
   "cell_type": "code",
   "execution_count": 55,
   "metadata": {},
   "outputs": [
    {
     "data": {
      "text/plain": [
       "(3, 15)"
      ]
     },
     "execution_count": 55,
     "metadata": {},
     "output_type": "execute_result"
    }
   ],
   "source": [
    "# s_cctv, s_pop_last_2018 2개를 병합\n",
    "data_result = pd.merge( s_cctv, s_pop_last_2018, on='자치구' )\n",
    "data_result.shape"
   ]
  },
  {
   "cell_type": "code",
   "execution_count": 56,
   "metadata": {},
   "outputs": [
    {
     "data": {
      "text/plain": [
       "(0       강 남 구\n",
       " 1       강 동 구\n",
       " 2       강 북 구\n",
       " 3       강 서 구\n",
       " 4       관 악 구\n",
       " 5       광 진 구\n",
       " 6       구 로 구\n",
       " 7       금 천 구\n",
       " 8       노 원 구\n",
       " 9       도 봉 구\n",
       " 10       동대문구\n",
       " 11      동 작 구\n",
       " 12      마 포 구\n",
       " 13       서대문구\n",
       " 14      서 초 구\n",
       " 15      성 동 구\n",
       " 16      성 북 구\n",
       " 17      송 파 구\n",
       " 18      양 천 구\n",
       " 19       영등포구\n",
       " 20      용 산 구\n",
       " 21      은 평 구\n",
       " 22      종 로 구\n",
       " 23    중     구\n",
       " 24      중 랑 구\n",
       " Name: 자치구, dtype: object, 183     종로구\n",
       " 184      중구\n",
       " 185     용산구\n",
       " 186     성동구\n",
       " 187     광진구\n",
       " 188    동대문구\n",
       " 189     중랑구\n",
       " 190     성북구\n",
       " 191     강북구\n",
       " 192     도봉구\n",
       " 193     노원구\n",
       " 194     은평구\n",
       " 195    서대문구\n",
       " 196     마포구\n",
       " 197     양천구\n",
       " 198     강서구\n",
       " 199     구로구\n",
       " 200     금천구\n",
       " 201    영등포구\n",
       " 202     동작구\n",
       " 203     관악구\n",
       " 204     서초구\n",
       " 205     강남구\n",
       " 206     송파구\n",
       " 207     강동구\n",
       " Name: 자치구, dtype: object)"
      ]
     },
     "execution_count": 56,
     "metadata": {},
     "output_type": "execute_result"
    }
   ],
   "source": [
    "s_cctv['자치구'], s_pop_last_2018['자치구']"
   ]
  },
  {
   "cell_type": "code",
   "execution_count": 57,
   "metadata": {},
   "outputs": [
    {
     "data": {
      "text/plain": [
       "'용산구'"
      ]
     },
     "execution_count": 57,
     "metadata": {},
     "output_type": "execute_result"
    }
   ],
   "source": [
    "# 자치구 용어가 통일이 않되있어서 문자열 내부에 공백이 존재한다\n",
    "# 공백을 부여할것인지, 공백을 제거할것인지 기준점을 정해서 데이터를 전처리후 병합진행\n",
    "'용 산 구'.replace(' ','')"
   ]
  },
  {
   "cell_type": "code",
   "execution_count": 58,
   "metadata": {},
   "outputs": [
    {
     "name": "stderr",
     "output_type": "stream",
     "text": [
      "C:\\Users\\User\\Anaconda3\\lib\\site-packages\\ipykernel_launcher.py:7: SettingWithCopyWarning: \n",
      "A value is trying to be set on a copy of a slice from a DataFrame.\n",
      "Try using .loc[row_indexer,col_indexer] = value instead\n",
      "\n",
      "See the caveats in the documentation: http://pandas.pydata.org/pandas-docs/stable/indexing.html#indexing-view-versus-copy\n",
      "  import sys\n"
     ]
    }
   ],
   "source": [
    "# s_cctv의 자치구 데이터를 한놈씩 꺼내서 공백을 제거하고 원위치 시켜야 된다\n",
    "def reSpace(x):\n",
    "    return x.replace(' ','')\n",
    "\n",
    "# 처리할 내용이 1줄이면 lambda로 처리, 그 이상이면 함수를 정의해서 처리한다\n",
    "#s_cctv['자치구'].apply( reSpace )\n",
    "s_cctv['자치구'] = s_cctv['자치구'].apply( lambda x: x.replace(' ','') )"
   ]
  },
  {
   "cell_type": "code",
   "execution_count": 59,
   "metadata": {},
   "outputs": [
    {
     "data": {
      "text/plain": [
       "(25, 15)"
      ]
     },
     "execution_count": 59,
     "metadata": {},
     "output_type": "execute_result"
    }
   ],
   "source": [
    "# 데이터를 보정했다 => 다시 병합\n",
    "data_result = pd.merge( s_cctv, s_pop_last_2018, on='자치구' )\n",
    "data_result.shape"
   ]
  },
  {
   "cell_type": "code",
   "execution_count": 60,
   "metadata": {},
   "outputs": [
    {
     "data": {
      "text/html": [
       "<div>\n",
       "<style scoped>\n",
       "    .dataframe tbody tr th:only-of-type {\n",
       "        vertical-align: middle;\n",
       "    }\n",
       "\n",
       "    .dataframe tbody tr th {\n",
       "        vertical-align: top;\n",
       "    }\n",
       "\n",
       "    .dataframe thead th {\n",
       "        text-align: right;\n",
       "    }\n",
       "</style>\n",
       "<table border=\"1\" class=\"dataframe\">\n",
       "  <thead>\n",
       "    <tr style=\"text-align: right;\">\n",
       "      <th></th>\n",
       "      <th>자치구</th>\n",
       "      <th>소계</th>\n",
       "      <th>2014년도 이전</th>\n",
       "      <th>2015년</th>\n",
       "      <th>2016년</th>\n",
       "      <th>2017년</th>\n",
       "      <th>2018년</th>\n",
       "      <th>최신 증가율</th>\n",
       "      <th>기간</th>\n",
       "      <th>인구수</th>\n",
       "      <th>한국인</th>\n",
       "      <th>외국인</th>\n",
       "      <th>고령자</th>\n",
       "      <th>외국인비율</th>\n",
       "      <th>고령자비율</th>\n",
       "    </tr>\n",
       "  </thead>\n",
       "  <tbody>\n",
       "    <tr>\n",
       "      <th>0</th>\n",
       "      <td>강남구</td>\n",
       "      <td>5221</td>\n",
       "      <td>2885.0</td>\n",
       "      <td>546</td>\n",
       "      <td>765</td>\n",
       "      <td>577</td>\n",
       "      <td>448</td>\n",
       "      <td>168.569959</td>\n",
       "      <td>2018</td>\n",
       "      <td>547453</td>\n",
       "      <td>542364</td>\n",
       "      <td>5089</td>\n",
       "      <td>67085</td>\n",
       "      <td>0.929578</td>\n",
       "      <td>12.254020</td>\n",
       "    </tr>\n",
       "    <tr>\n",
       "      <th>1</th>\n",
       "      <td>강동구</td>\n",
       "      <td>1879</td>\n",
       "      <td>883.0</td>\n",
       "      <td>144</td>\n",
       "      <td>194</td>\n",
       "      <td>273</td>\n",
       "      <td>385</td>\n",
       "      <td>520.132013</td>\n",
       "      <td>2018</td>\n",
       "      <td>431920</td>\n",
       "      <td>427573</td>\n",
       "      <td>4347</td>\n",
       "      <td>58770</td>\n",
       "      <td>1.006436</td>\n",
       "      <td>13.606686</td>\n",
       "    </tr>\n",
       "  </tbody>\n",
       "</table>\n",
       "</div>"
      ],
      "text/plain": [
       "   자치구    소계  2014년도 이전  2015년  2016년  2017년  2018년      최신 증가율    기간     인구수  \\\n",
       "0  강남구  5221     2885.0    546    765    577    448  168.569959  2018  547453   \n",
       "1  강동구  1879      883.0    144    194    273    385  520.132013  2018  431920   \n",
       "\n",
       "      한국인   외국인    고령자     외국인비율      고령자비율  \n",
       "0  542364  5089  67085  0.929578  12.254020  \n",
       "1  427573  4347  58770  1.006436  13.606686  "
      ]
     },
     "execution_count": 60,
     "metadata": {},
     "output_type": "execute_result"
    }
   ],
   "source": [
    "data_result.head(2)"
   ]
  },
  {
   "cell_type": "code",
   "execution_count": 61,
   "metadata": {},
   "outputs": [],
   "source": [
    "# 기간 제거 -> 간단히 제거하는 방법\n",
    "del data_result['기간']"
   ]
  },
  {
   "cell_type": "code",
   "execution_count": 62,
   "metadata": {},
   "outputs": [
    {
     "data": {
      "text/html": [
       "<div>\n",
       "<style scoped>\n",
       "    .dataframe tbody tr th:only-of-type {\n",
       "        vertical-align: middle;\n",
       "    }\n",
       "\n",
       "    .dataframe tbody tr th {\n",
       "        vertical-align: top;\n",
       "    }\n",
       "\n",
       "    .dataframe thead th {\n",
       "        text-align: right;\n",
       "    }\n",
       "</style>\n",
       "<table border=\"1\" class=\"dataframe\">\n",
       "  <thead>\n",
       "    <tr style=\"text-align: right;\">\n",
       "      <th></th>\n",
       "      <th>자치구</th>\n",
       "      <th>소계</th>\n",
       "      <th>2014년도 이전</th>\n",
       "      <th>2015년</th>\n",
       "      <th>2016년</th>\n",
       "      <th>2017년</th>\n",
       "      <th>2018년</th>\n",
       "      <th>최신 증가율</th>\n",
       "      <th>인구수</th>\n",
       "      <th>한국인</th>\n",
       "      <th>외국인</th>\n",
       "      <th>고령자</th>\n",
       "      <th>외국인비율</th>\n",
       "      <th>고령자비율</th>\n",
       "    </tr>\n",
       "  </thead>\n",
       "  <tbody>\n",
       "    <tr>\n",
       "      <th>0</th>\n",
       "      <td>강남구</td>\n",
       "      <td>5221</td>\n",
       "      <td>2885.0</td>\n",
       "      <td>546</td>\n",
       "      <td>765</td>\n",
       "      <td>577</td>\n",
       "      <td>448</td>\n",
       "      <td>168.569959</td>\n",
       "      <td>547453</td>\n",
       "      <td>542364</td>\n",
       "      <td>5089</td>\n",
       "      <td>67085</td>\n",
       "      <td>0.929578</td>\n",
       "      <td>12.254020</td>\n",
       "    </tr>\n",
       "    <tr>\n",
       "      <th>1</th>\n",
       "      <td>강동구</td>\n",
       "      <td>1879</td>\n",
       "      <td>883.0</td>\n",
       "      <td>144</td>\n",
       "      <td>194</td>\n",
       "      <td>273</td>\n",
       "      <td>385</td>\n",
       "      <td>520.132013</td>\n",
       "      <td>431920</td>\n",
       "      <td>427573</td>\n",
       "      <td>4347</td>\n",
       "      <td>58770</td>\n",
       "      <td>1.006436</td>\n",
       "      <td>13.606686</td>\n",
       "    </tr>\n",
       "  </tbody>\n",
       "</table>\n",
       "</div>"
      ],
      "text/plain": [
       "   자치구    소계  2014년도 이전  2015년  2016년  2017년  2018년      최신 증가율     인구수  \\\n",
       "0  강남구  5221     2885.0    546    765    577    448  168.569959  547453   \n",
       "1  강동구  1879      883.0    144    194    273    385  520.132013  431920   \n",
       "\n",
       "      한국인   외국인    고령자     외국인비율      고령자비율  \n",
       "0  542364  5089  67085  0.929578  12.254020  \n",
       "1  427573  4347  58770  1.006436  13.606686  "
      ]
     },
     "execution_count": 62,
     "metadata": {},
     "output_type": "execute_result"
    }
   ],
   "source": [
    "data_result.head(2)"
   ]
  },
  {
   "cell_type": "code",
   "execution_count": 63,
   "metadata": {},
   "outputs": [
    {
     "data": {
      "text/html": [
       "<div>\n",
       "<style scoped>\n",
       "    .dataframe tbody tr th:only-of-type {\n",
       "        vertical-align: middle;\n",
       "    }\n",
       "\n",
       "    .dataframe tbody tr th {\n",
       "        vertical-align: top;\n",
       "    }\n",
       "\n",
       "    .dataframe thead th {\n",
       "        text-align: right;\n",
       "    }\n",
       "</style>\n",
       "<table border=\"1\" class=\"dataframe\">\n",
       "  <thead>\n",
       "    <tr style=\"text-align: right;\">\n",
       "      <th></th>\n",
       "      <th>소계</th>\n",
       "      <th>2014년도 이전</th>\n",
       "      <th>2015년</th>\n",
       "      <th>2016년</th>\n",
       "      <th>2017년</th>\n",
       "      <th>2018년</th>\n",
       "      <th>최신 증가율</th>\n",
       "      <th>인구수</th>\n",
       "      <th>한국인</th>\n",
       "      <th>외국인</th>\n",
       "      <th>고령자</th>\n",
       "      <th>외국인비율</th>\n",
       "      <th>고령자비율</th>\n",
       "    </tr>\n",
       "    <tr>\n",
       "      <th>자치구</th>\n",
       "      <th></th>\n",
       "      <th></th>\n",
       "      <th></th>\n",
       "      <th></th>\n",
       "      <th></th>\n",
       "      <th></th>\n",
       "      <th></th>\n",
       "      <th></th>\n",
       "      <th></th>\n",
       "      <th></th>\n",
       "      <th></th>\n",
       "      <th></th>\n",
       "      <th></th>\n",
       "    </tr>\n",
       "  </thead>\n",
       "  <tbody>\n",
       "    <tr>\n",
       "      <th>강남구</th>\n",
       "      <td>5221</td>\n",
       "      <td>2885.0</td>\n",
       "      <td>546</td>\n",
       "      <td>765</td>\n",
       "      <td>577</td>\n",
       "      <td>448</td>\n",
       "      <td>168.569959</td>\n",
       "      <td>547453</td>\n",
       "      <td>542364</td>\n",
       "      <td>5089</td>\n",
       "      <td>67085</td>\n",
       "      <td>0.929578</td>\n",
       "      <td>12.254020</td>\n",
       "    </tr>\n",
       "    <tr>\n",
       "      <th>강동구</th>\n",
       "      <td>1879</td>\n",
       "      <td>883.0</td>\n",
       "      <td>144</td>\n",
       "      <td>194</td>\n",
       "      <td>273</td>\n",
       "      <td>385</td>\n",
       "      <td>520.132013</td>\n",
       "      <td>431920</td>\n",
       "      <td>427573</td>\n",
       "      <td>4347</td>\n",
       "      <td>58770</td>\n",
       "      <td>1.006436</td>\n",
       "      <td>13.606686</td>\n",
       "    </tr>\n",
       "    <tr>\n",
       "      <th>강북구</th>\n",
       "      <td>1265</td>\n",
       "      <td>546.0</td>\n",
       "      <td>145</td>\n",
       "      <td>254</td>\n",
       "      <td>1</td>\n",
       "      <td>319</td>\n",
       "      <td>420.576132</td>\n",
       "      <td>322915</td>\n",
       "      <td>319164</td>\n",
       "      <td>3751</td>\n",
       "      <td>58196</td>\n",
       "      <td>1.161606</td>\n",
       "      <td>18.022080</td>\n",
       "    </tr>\n",
       "    <tr>\n",
       "      <th>강서구</th>\n",
       "      <td>1617</td>\n",
       "      <td>722.0</td>\n",
       "      <td>187</td>\n",
       "      <td>190</td>\n",
       "      <td>264</td>\n",
       "      <td>254</td>\n",
       "      <td>638.356164</td>\n",
       "      <td>603611</td>\n",
       "      <td>596949</td>\n",
       "      <td>6662</td>\n",
       "      <td>79660</td>\n",
       "      <td>1.103691</td>\n",
       "      <td>13.197241</td>\n",
       "    </tr>\n",
       "    <tr>\n",
       "      <th>관악구</th>\n",
       "      <td>3985</td>\n",
       "      <td>1392.0</td>\n",
       "      <td>609</td>\n",
       "      <td>619</td>\n",
       "      <td>694</td>\n",
       "      <td>671</td>\n",
       "      <td>826.744186</td>\n",
       "      <td>520040</td>\n",
       "      <td>501957</td>\n",
       "      <td>18083</td>\n",
       "      <td>72249</td>\n",
       "      <td>3.477233</td>\n",
       "      <td>13.892970</td>\n",
       "    </tr>\n",
       "  </tbody>\n",
       "</table>\n",
       "</div>"
      ],
      "text/plain": [
       "       소계  2014년도 이전  2015년  2016년  2017년  2018년      최신 증가율     인구수     한국인  \\\n",
       "자치구                                                                            \n",
       "강남구  5221     2885.0    546    765    577    448  168.569959  547453  542364   \n",
       "강동구  1879      883.0    144    194    273    385  520.132013  431920  427573   \n",
       "강북구  1265      546.0    145    254      1    319  420.576132  322915  319164   \n",
       "강서구  1617      722.0    187    190    264    254  638.356164  603611  596949   \n",
       "관악구  3985     1392.0    609    619    694    671  826.744186  520040  501957   \n",
       "\n",
       "       외국인    고령자     외국인비율      고령자비율  \n",
       "자치구                                     \n",
       "강남구   5089  67085  0.929578  12.254020  \n",
       "강동구   4347  58770  1.006436  13.606686  \n",
       "강북구   3751  58196  1.161606  18.022080  \n",
       "강서구   6662  79660  1.103691  13.197241  \n",
       "관악구  18083  72249  3.477233  13.892970  "
      ]
     },
     "execution_count": 63,
     "metadata": {},
     "output_type": "execute_result"
    }
   ],
   "source": [
    "# 자치구=> 인덱스로 적용 => 시각화를 위해 배치\n",
    "# 특정 컬럼을 인덱스로 적용\n",
    "data_result.set_index('자치구', inplace=True)\n",
    "data_result.head()"
   ]
  },
  {
   "cell_type": "markdown",
   "metadata": {},
   "source": [
    "### 상관성 검사 \n",
    "- 상관계수 : ~ 0 ~ 1  \n",
    "> 0.1 이하 : 거의 관련 없음, 무시  \n",
    "> 0.3 이하 : 약한 상관관계  \n",
    "> 0.7 이하 : 뚜렷한 상관관계  \n",
    "> ~이상  : 명확한 상관관계   \n",
    "- np.corroef()"
   ]
  },
  {
   "cell_type": "code",
   "execution_count": 64,
   "metadata": {},
   "outputs": [
    {
     "data": {
      "text/plain": [
       "Index(['소계', '2014년도 이전', '2015년', '2016년', '2017년', '2018년', '최신 증가율', '인구수',\n",
       "       '한국인', '외국인', '고령자', '외국인비율', '고령자비율'],\n",
       "      dtype='object')"
      ]
     },
     "execution_count": 64,
     "metadata": {},
     "output_type": "execute_result"
    }
   ],
   "source": [
    "data_result.columns"
   ]
  },
  {
   "cell_type": "code",
   "execution_count": 65,
   "metadata": {},
   "outputs": [
    {
     "data": {
      "text/plain": [
       "array([[ 1.        , -0.40379375],\n",
       "       [-0.40379375,  1.        ]])"
      ]
     },
     "execution_count": 65,
     "metadata": {},
     "output_type": "execute_result"
    }
   ],
   "source": [
    "# CCTV 설치 총양 대비 고령자 비율\n",
    "np.corrcoef( data_result['고령자비율'], data_result['소계'] )\n",
    "# 행렬로 응답, 대각선 기준 값이 출력"
   ]
  },
  {
   "cell_type": "code",
   "execution_count": 66,
   "metadata": {},
   "outputs": [],
   "source": [
    "# -0.40379375 => 관련 없음"
   ]
  },
  {
   "cell_type": "code",
   "execution_count": 67,
   "metadata": {},
   "outputs": [
    {
     "data": {
      "text/plain": [
       "array([[1.        , 0.37523207],\n",
       "       [0.37523207, 1.        ]])"
      ]
     },
     "execution_count": 67,
     "metadata": {},
     "output_type": "execute_result"
    }
   ],
   "source": [
    "np.corrcoef( data_result['인구수'], data_result['소계'] )\n",
    "# 0.37523207 : 뚜렷한 상관관계 (약한쪽에 가까운)"
   ]
  },
  {
   "cell_type": "code",
   "execution_count": 68,
   "metadata": {},
   "outputs": [
    {
     "data": {
      "text/plain": [
       "array([[ 1.        , -0.04143132],\n",
       "       [-0.04143132,  1.        ]])"
      ]
     },
     "execution_count": 68,
     "metadata": {},
     "output_type": "execute_result"
    }
   ],
   "source": [
    "np.corrcoef( data_result['외국인비율'], data_result['소계'] )"
   ]
  },
  {
   "cell_type": "code",
   "execution_count": 69,
   "metadata": {},
   "outputs": [
    {
     "data": {
      "text/plain": [
       "array([[1.       , 0.3580254],\n",
       "       [0.3580254, 1.       ]])"
      ]
     },
     "execution_count": 69,
     "metadata": {},
     "output_type": "execute_result"
    }
   ],
   "source": [
    "np.corrcoef( data_result['한국인'], data_result['소계'] )"
   ]
  },
  {
   "cell_type": "code",
   "execution_count": 70,
   "metadata": {},
   "outputs": [
    {
     "data": {
      "text/html": [
       "<div>\n",
       "<style scoped>\n",
       "    .dataframe tbody tr th:only-of-type {\n",
       "        vertical-align: middle;\n",
       "    }\n",
       "\n",
       "    .dataframe tbody tr th {\n",
       "        vertical-align: top;\n",
       "    }\n",
       "\n",
       "    .dataframe thead th {\n",
       "        text-align: right;\n",
       "    }\n",
       "</style>\n",
       "<table border=\"1\" class=\"dataframe\">\n",
       "  <thead>\n",
       "    <tr style=\"text-align: right;\">\n",
       "      <th></th>\n",
       "      <th>소계</th>\n",
       "      <th>2014년도 이전</th>\n",
       "      <th>2015년</th>\n",
       "      <th>2016년</th>\n",
       "      <th>2017년</th>\n",
       "      <th>2018년</th>\n",
       "      <th>최신 증가율</th>\n",
       "      <th>인구수</th>\n",
       "      <th>한국인</th>\n",
       "      <th>외국인</th>\n",
       "      <th>고령자</th>\n",
       "      <th>외국인비율</th>\n",
       "      <th>고령자비율</th>\n",
       "    </tr>\n",
       "    <tr>\n",
       "      <th>자치구</th>\n",
       "      <th></th>\n",
       "      <th></th>\n",
       "      <th></th>\n",
       "      <th></th>\n",
       "      <th></th>\n",
       "      <th></th>\n",
       "      <th></th>\n",
       "      <th></th>\n",
       "      <th></th>\n",
       "      <th></th>\n",
       "      <th></th>\n",
       "      <th></th>\n",
       "      <th></th>\n",
       "    </tr>\n",
       "  </thead>\n",
       "  <tbody>\n",
       "    <tr>\n",
       "      <th>강남구</th>\n",
       "      <td>5221</td>\n",
       "      <td>2885.0</td>\n",
       "      <td>546</td>\n",
       "      <td>765</td>\n",
       "      <td>577</td>\n",
       "      <td>448</td>\n",
       "      <td>168.569959</td>\n",
       "      <td>547453</td>\n",
       "      <td>542364</td>\n",
       "      <td>5089</td>\n",
       "      <td>67085</td>\n",
       "      <td>0.929578</td>\n",
       "      <td>12.254020</td>\n",
       "    </tr>\n",
       "    <tr>\n",
       "      <th>관악구</th>\n",
       "      <td>3985</td>\n",
       "      <td>1392.0</td>\n",
       "      <td>609</td>\n",
       "      <td>619</td>\n",
       "      <td>694</td>\n",
       "      <td>671</td>\n",
       "      <td>826.744186</td>\n",
       "      <td>520040</td>\n",
       "      <td>501957</td>\n",
       "      <td>18083</td>\n",
       "      <td>72249</td>\n",
       "      <td>3.477233</td>\n",
       "      <td>13.892970</td>\n",
       "    </tr>\n",
       "    <tr>\n",
       "      <th>구로구</th>\n",
       "      <td>3227</td>\n",
       "      <td>1607.0</td>\n",
       "      <td>268</td>\n",
       "      <td>326</td>\n",
       "      <td>540</td>\n",
       "      <td>486</td>\n",
       "      <td>278.755869</td>\n",
       "      <td>438486</td>\n",
       "      <td>404497</td>\n",
       "      <td>33989</td>\n",
       "      <td>61801</td>\n",
       "      <td>7.751445</td>\n",
       "      <td>14.094179</td>\n",
       "    </tr>\n",
       "    <tr>\n",
       "      <th>성북구</th>\n",
       "      <td>3003</td>\n",
       "      <td>1408.0</td>\n",
       "      <td>279</td>\n",
       "      <td>388</td>\n",
       "      <td>285</td>\n",
       "      <td>643</td>\n",
       "      <td>285.494223</td>\n",
       "      <td>447687</td>\n",
       "      <td>435868</td>\n",
       "      <td>11819</td>\n",
       "      <td>67782</td>\n",
       "      <td>2.640014</td>\n",
       "      <td>15.140489</td>\n",
       "    </tr>\n",
       "    <tr>\n",
       "      <th>은평구</th>\n",
       "      <td>2962</td>\n",
       "      <td>1890.0</td>\n",
       "      <td>180</td>\n",
       "      <td>296</td>\n",
       "      <td>229</td>\n",
       "      <td>367</td>\n",
       "      <td>116.996337</td>\n",
       "      <td>487666</td>\n",
       "      <td>483197</td>\n",
       "      <td>4469</td>\n",
       "      <td>77420</td>\n",
       "      <td>0.916406</td>\n",
       "      <td>15.875620</td>\n",
       "    </tr>\n",
       "  </tbody>\n",
       "</table>\n",
       "</div>"
      ],
      "text/plain": [
       "       소계  2014년도 이전  2015년  2016년  2017년  2018년      최신 증가율     인구수     한국인  \\\n",
       "자치구                                                                            \n",
       "강남구  5221     2885.0    546    765    577    448  168.569959  547453  542364   \n",
       "관악구  3985     1392.0    609    619    694    671  826.744186  520040  501957   \n",
       "구로구  3227     1607.0    268    326    540    486  278.755869  438486  404497   \n",
       "성북구  3003     1408.0    279    388    285    643  285.494223  447687  435868   \n",
       "은평구  2962     1890.0    180    296    229    367  116.996337  487666  483197   \n",
       "\n",
       "       외국인    고령자     외국인비율      고령자비율  \n",
       "자치구                                     \n",
       "강남구   5089  67085  0.929578  12.254020  \n",
       "관악구  18083  72249  3.477233  13.892970  \n",
       "구로구  33989  61801  7.751445  14.094179  \n",
       "성북구  11819  67782  2.640014  15.140489  \n",
       "은평구   4469  77420  0.916406  15.875620  "
      ]
     },
     "execution_count": 70,
     "metadata": {},
     "output_type": "execute_result"
    }
   ],
   "source": [
    "# CCTV가 많은 구 시각화를 한다 => 데이터가 정렬\n",
    "data_result.sort_values( by='소계', ascending=False ).head()"
   ]
  },
  {
   "cell_type": "markdown",
   "metadata": {},
   "source": [
    "## 시각화 기초\n",
    "<a href='http://localhost:8888/notebooks/Desktop/py_projects/analysis/pandas/basic/시각화.ipynb'>시각화</a><br>\n",
    "<a href='http://localhost:8888/notebooks/Desktop/py_projects/analysis/pandas/basic/matplotlib_시각화기초.ipynb'>matplotlib의 기초 시각화</a>"
   ]
  },
  {
   "cell_type": "code",
   "execution_count": 71,
   "metadata": {},
   "outputs": [],
   "source": [
    "from matplotlib import pyplot as plt\n",
    "import matplotlib\n",
    "%matplotlib inline"
   ]
  },
  {
   "cell_type": "code",
   "execution_count": 72,
   "metadata": {},
   "outputs": [],
   "source": [
    "# 폰트 모듈화 시킨다. -> korea_font 파이썬 파일 하나 만들어서 모듈 소스코드 작성후 -> 덤프시킨다 (다운로드 as해서 프로젝트 파일인 프로세싱안에 잡아 넣는다 )"
   ]
  },
  {
   "cell_type": "code",
   "execution_count": 73,
   "metadata": {},
   "outputs": [
    {
     "name": "stdout",
     "output_type": "stream",
     "text": [
      "Malgun Gothic\n"
     ]
    }
   ],
   "source": [
    "# 시각화 자료에 한글 처리\n",
    "from korea_font import initKoreaFontLoad\n",
    "initKoreaFontLoad()"
   ]
  },
  {
   "cell_type": "code",
   "execution_count": 74,
   "metadata": {},
   "outputs": [],
   "source": [
    "# 폰트\n",
    "import platform\n",
    "from matplotlib import font_manager, rc"
   ]
  },
  {
   "cell_type": "code",
   "execution_count": 75,
   "metadata": {},
   "outputs": [
    {
     "name": "stdout",
     "output_type": "stream",
     "text": [
      "Malgun Gothic\n"
     ]
    }
   ],
   "source": [
    "plt.rcParams['axes.unicode_minus'] = False\n",
    "os_name = platform.system()\n",
    "\n",
    "if os_name == 'Darwin':   # MacOS, Linux\n",
    "    rc( 'font', family='AppleGothic' ) # 통상 맥을 사용한다고 보고, 폰트를 지정\n",
    "    \n",
    "elif os_name == 'Windows':# window10~,window server\n",
    "    path = \"c:/Windows/Fonts/malgun.ttf\"\n",
    "    font_name = font_manager.FontProperties(fname=path).get_name()\n",
    "    print(font_name)\n",
    "    rc( 'font', family=font_name)#'Malgun Gothic' )\n",
    "    \n",
    "else:\n",
    "    print('알수없는 시스템')\n",
    "    pass"
   ]
  },
  {
   "cell_type": "code",
   "execution_count": 77,
   "metadata": {},
   "outputs": [
    {
     "data": {
      "image/png": "[encoded data removed]",
      "text/plain": [
       "<Figure size 720x720 with 1 Axes>"
      ]
     },
     "metadata": {},
     "output_type": "display_data"
    }
   ],
   "source": [
    "# cctv자료를 bar차트로 표현\n",
    "# 소계의 자치구별 바차트 시각화 \n",
    "plt.figure()\n",
    "data_result['소계'].plot(kind='bar', grid=True, figsize=(10,10), rot=45 ) # 소계만 가지고오는 차원축소니깐 Series로 작성(컬럼한개면 그래프의 효율상 시리즈가 합리적이다)\n",
    "# grid : 격자, rot: 축네임 프레임을 비튼다\n",
    "plt.show()"
   ]
  },
  {
   "cell_type": "code",
   "execution_count": 78,
   "metadata": {},
   "outputs": [
    {
     "data": {
      "image/png": "[encoded data removed]",
      "text/plain": [
       "<Figure size 720x720 with 1 Axes>"
      ]
     },
     "metadata": {},
     "output_type": "display_data"
    }
   ],
   "source": [
    "# cctv자료를 bar차트로 표현\n",
    "# 소계의 자치구별 바차트 시각화 \n",
    "plt.figure()\n",
    "data_result['소계'].plot(kind='barh', grid=True, figsize=(10,10), rot=45 ) # 소계만 가지고오는 차원축소니깐 Series로 작성(컬럼한개면 그래프의 효율상 시리즈가 합리적이다)\n",
    "# grid : 격자, rot: 축네임 프레임을 비튼다\n",
    "plt.show()"
   ]
  },
  {
   "cell_type": "code",
   "execution_count": 79,
   "metadata": {},
   "outputs": [
    {
     "data": {
      "image/png": "[encoded data removed]",
      "text/plain": [
       "<Figure size 720x720 with 1 Axes>"
      ]
     },
     "metadata": {},
     "output_type": "display_data"
    }
   ],
   "source": [
    "plt.figure()\n",
    "\n",
    "data_result['소계'].sort_values().plot(kind='barh', grid=True, figsize=(10,10) ) \n",
    "\n",
    "plt.show()\n",
    "# 강남, 관악, 구로구가 상위권을 차지하고, 강남구는 그중에서 압도적으로 설치 대수가 많다.\n",
    "# 도봉구가 최소량의 설치 수를 가지고 있다."
   ]
  },
  {
   "cell_type": "code",
   "execution_count": 81,
   "metadata": {},
   "outputs": [
    {
     "data": {
      "image/png": "[encoded data removed]",
      "text/plain": [
       "<Figure size 720x720 with 1 Axes>"
      ]
     },
     "metadata": {},
     "output_type": "display_data"
    }
   ],
   "source": [
    "# 인구대비 CCTV설치 비율을 계산하여 정렬해보자!!\n",
    "# 컬럼명 => CCTV비율 계산 => 정렬 => 시각화( bar차트(수평처리) )\n",
    "data_result['CCTV비율'] = data_result['소계'] / data_result['인구수'] * 100\n",
    "data_result['CCTV비율'].sort_values().plot(kind='barh', grid=True, figsize=(10,10) ) \n",
    "plt.show()\n",
    "# 중구가 인구대비 cctv 설치율 1위, 중구는 cctv 설치 개수가 낮은 편인데, 주거지가 적고,\n",
    "# 상업지구나 회사가 많이 위치해 있어서 유동인구가 많은 편이라 이렇게 결과가 나온것으로 보인다.\n",
    "# 그럼에도 불구하고, 강남구 2위에 위치해 있어서 설치대수가 많고, 상주인구도 많음을 알 수 있다.\n",
    "# 보동구는 여전히 하위권, 송파구가 비율적으로 가장 적다.( 인구가 cctv대비 더 많다 )"
   ]
  },
  {
   "cell_type": "code",
   "execution_count": 84,
   "metadata": {},
   "outputs": [
    {
     "data": {
      "image/png": "[encoded data removed]",
      "text/plain": [
       "<Figure size 432x432 with 1 Axes>"
      ]
     },
     "metadata": {},
     "output_type": "display_data"
    }
   ],
   "source": [
    "# 산포도, 평균선 작성 \n",
    "# 인구대비 CCTV 설치 비율이 가장 적정한 자치구는 ?\n",
    "plt.figure(figsize=(6,6))\n",
    "plt.scatter( data_result['인구수'], data_result['소계'], s=50 )\n",
    "plt.xlabel('인구수') # x축\n",
    "plt.ylabel('CCTV') # y축\n",
    "plt.grid()\n",
    "plt.show()"
   ]
  },
  {
   "cell_type": "code",
   "execution_count": 85,
   "metadata": {},
   "outputs": [
    {
     "data": {
      "text/plain": [
       "array([2.85240371e-03, 1.07309855e+03])"
      ]
     },
     "execution_count": 85,
     "metadata": {},
     "output_type": "execute_result"
    }
   ],
   "source": [
    "# 위의 산포도 기준으로 데이터의 분포를 설명할 수 있는 기울기가 1인 직선값을 찾는 방법\n",
    "# polyfit()\n",
    "fq1 = np.polyfit( data_result['인구수'], data_result['소계'], 1) # 기울기: 1\n",
    "# y = ax + b \n",
    "# a : 기울기\n",
    "# b : 절편\n",
    "fq1\n",
    "# 결과값 : [기울기, 절편] 해서 array로 나온다 "
   ]
  },
  {
   "cell_type": "code",
   "execution_count": 87,
   "metadata": {},
   "outputs": [
    {
     "data": {
      "text/plain": [
       "numpy.lib.polynomial.poly1d"
      ]
     },
     "execution_count": 87,
     "metadata": {},
     "output_type": "execute_result"
    }
   ],
   "source": [
    "# 함수를 구성\n",
    "f1 = np.poly1d( fq1 ) # 위에서 구한 기울기와 절편을 넣어서 함수를 생성하는 함수\n",
    "# type확인\n",
    "type(f1)"
   ]
  },
  {
   "cell_type": "code",
   "execution_count": 88,
   "metadata": {},
   "outputs": [
    {
     "data": {
      "text/plain": [
       "100"
      ]
     },
     "execution_count": 88,
     "metadata": {},
     "output_type": "execute_result"
    }
   ],
   "source": [
    "# 산포도에서의 기울기가 1인 직선 표현\n",
    "# x축 데이터가 고르게 가는 것이 필요함,\n",
    "# 100000~700000사이를 100개로 구간을 나눈다\n",
    "fx = np.linspace( 100000, 700000, 100) # 10만에서 70만 사이를 100칸으로 쪼개는 것\n",
    "len(fx)"
   ]
  },
  {
   "cell_type": "code",
   "execution_count": 89,
   "metadata": {},
   "outputs": [
    {
     "data": {
      "image/png": "[encoded data removed]",
      "text/plain": [
       "<Figure size 432x432 with 1 Axes>"
      ]
     },
     "metadata": {},
     "output_type": "display_data"
    }
   ],
   "source": [
    "# 위에 작성된 산포도 소스코드를 그대로 가지고온 이후 수정\n",
    "plt.figure(figsize=(6,6))\n",
    "plt.scatter( data_result['인구수'], data_result['소계'], s=50 )\n",
    "# 인구수 대비 cctv 수에 대한 직선을 그려본다\n",
    "plt.plot( fx, f1(fx), ls='dashed', color='g', lw=3 ) # x축 : fx, y축 : f1, ls : 선의 모양에 관한 것\n",
    "plt.xlabel('인구수') # x축\n",
    "plt.ylabel('CCTV') # y축\n",
    "plt.grid()\n",
    "plt.show()"
   ]
  },
  {
   "cell_type": "code",
   "execution_count": 91,
   "metadata": {},
   "outputs": [
    {
     "data": {
      "text/plain": [
       "array([2214.06003236])"
      ]
     },
     "execution_count": 91,
     "metadata": {},
     "output_type": "execute_result"
    }
   ],
   "source": [
    "# comment : 직선은 대표값이다.\n",
    "# 인구수 40만명일 때, 적정 CCTV 설치 대수는?\n",
    "tmp = [400000]\n",
    "f1(tmp)"
   ]
  },
  {
   "cell_type": "code",
   "execution_count": null,
   "metadata": {},
   "outputs": [],
   "source": [
    "# 산포도 포인트에 자치구를 표현(텍스트를 구현해보는 것)\n",
    "# 대표값 기준으로 포인트들의 거리를 계산해서 멀수록 색상을 진하게 혹은 연하게 처리\n",
    "# 색상으로도 설명할 수 있도록 데코레이션 처리 "
   ]
  },
  {
   "cell_type": "code",
   "execution_count": 94,
   "metadata": {},
   "outputs": [
    {
     "data": {
      "image/png": "[encoded data removed]",
      "text/plain": [
       "<Figure size 432x432 with 1 Axes>"
      ]
     },
     "metadata": {},
     "output_type": "display_data"
    }
   ],
   "source": [
    "# 산포도\n",
    "plt.figure(figsize=(6,6))\n",
    "plt.scatter( data_result['인구수'], data_result['소계'], s=50 )\n",
    "plt.plot( fx, f1(fx), ls='dashed', color='g', lw=3 ) # x축 : fx, y축 : f1, ls : 선의 모양에 관한 것\n",
    "# 포인트에 자치구 표현\n",
    "# 기준은 대상선정, 좌표(X1=X*1.02(0.2%가 키움), Y1=Y*0.98(0.2%를 줄여라))가 필요하다\n",
    "# 현재는 전체를 드로잉 했으나, 향후 목적에 따라 특정 자치구만 노출시킬 수 있다\n",
    "for n in range( data_result.shape[0] ): # 데이터 25개가 나옴, 연속수를 쓰겠다는 뜻이다\n",
    "    plt.text( data_result['인구수'][n]*1.02,   # x \n",
    "              data_result['소계'][n]*0.98,     # y \n",
    "              data_result.index[n], fontsize=10 # 텍스트\n",
    "            ) # 문자열을 그리는 뜻, 시리중(인구수)중에 n번째 0.2증가,감소\n",
    "plt.xlabel('인구수') # x축\n",
    "plt.ylabel('CCTV') # y축\n",
    "plt.grid()\n",
    "plt.show()"
   ]
  },
  {
   "cell_type": "code",
   "execution_count": 95,
   "metadata": {},
   "outputs": [
    {
     "data": {
      "text/plain": [
       "자치구\n",
       "강남구     2586.344483\n",
       "강동구      426.108759\n",
       "강북구      729.182492\n",
       "강서구     1177.840805\n",
       "관악구     1428.537426\n",
       "광진구      550.520026\n",
       "구로구      903.162358\n",
       "금천구      163.668991\n",
       "노원구      730.672166\n",
       "도봉구     1189.619423\n",
       "동대문구     109.337611\n",
       "동작구      460.829841\n",
       "마포구      240.150393\n",
       "서대문구     126.346861\n",
       "서초구      512.083685\n",
       "성동구      703.221217\n",
       "성북구      652.917392\n",
       "송파구     1408.212414\n",
       "양천구      366.562917\n",
       "영등포구     270.671314\n",
       "용산구      290.805827\n",
       "은평구      497.881144\n",
       "종로구       67.114515\n",
       "중구        84.021380\n",
       "중랑구     1169.298565\n",
       "Name: 오차, dtype: float64"
      ]
     },
     "execution_count": 95,
     "metadata": {},
     "output_type": "execute_result"
    }
   ],
   "source": [
    "# 거리 계산, 오차,\n",
    "# 공식 = 절대값|cctv수 - 해당인구수의 평균cctv수| , *절대값으로 만들어줌\n",
    "data_result['오차']=np.abs( data_result['소계'] - f1( data_result['인구수'] ) ) # 절대값 처리\n",
    "data_result['오차']"
   ]
  },
  {
   "cell_type": "code",
   "execution_count": 105,
   "metadata": {},
   "outputs": [
    {
     "data": {
      "image/png": "[encoded data removed]",
      "text/plain": [
       "<Figure size 432x432 with 2 Axes>"
      ]
     },
     "metadata": {},
     "output_type": "display_data"
    }
   ],
   "source": [
    "# 거리가 먼 자치구 3곳, 거리가 가까운 자치구 3곳 표시\n",
    "\n",
    "plt.figure(figsize=(6,6))\n",
    "# 칼라맵을 활성화 시킴(밀도화)\n",
    "plt.scatter( data_result['인구수'], data_result['소계'], s=50, c=data_result['오차'] )\n",
    "plt.plot( fx, f1(fx), ls='dashed', color='g', lw=3 ) \n",
    "# 오차기준 가장 큰값을 가진 자치구 3개와 가장 작은값을 가진 자치구 3개를 표현하라\n",
    "# 글자만 3개, 3개 드로잉\n",
    "for n in range( data_result.shape[0] ): \n",
    "    plt.text( data_result['인구수'][n]*1.02,   \n",
    "              data_result['소계'][n]*0.98,\n",
    "              data_result.index[n], fontsize=10\n",
    "            ) \n",
    "plt.xlabel('인구수') \n",
    "plt.ylabel('CCTV') \n",
    "plt.grid()\n",
    "# 칼라바를 표현한다\n",
    "plt.colorbar()\n",
    "plt.show()"
   ]
  },
  {
   "cell_type": "code",
   "execution_count": 112,
   "metadata": {},
   "outputs": [
    {
     "data": {
      "text/plain": [
       "['강남구', '관악구', '송파구']"
      ]
     },
     "execution_count": 112,
     "metadata": {},
     "output_type": "execute_result"
    }
   ],
   "source": [
    "# 오차의 top 3\n",
    "list(data_result.sort_values( by='오차', ascending=False ).index[:3])"
   ]
  },
  {
   "cell_type": "code",
   "execution_count": 113,
   "metadata": {},
   "outputs": [
    {
     "data": {
      "text/plain": [
       "['동대문구', '중구', '종로구']"
      ]
     },
     "execution_count": 113,
     "metadata": {},
     "output_type": "execute_result"
    }
   ],
   "source": [
    "# 오차의 bottom 3\n",
    "list(data_result.sort_values( by='오차', ascending=False ).index[-3:])"
   ]
  },
  {
   "cell_type": "code",
   "execution_count": 118,
   "metadata": {},
   "outputs": [
    {
     "data": {
      "text/plain": [
       "['강남구', '관악구', '송파구', '동대문구', '중구', '종로구']"
      ]
     },
     "execution_count": 118,
     "metadata": {},
     "output_type": "execute_result"
    }
   ],
   "source": [
    "# 오차의 상,하위 3개씩의 데이터를 묶어서 자료 표현\n",
    "tmp    = data_result.sort_values( by='오차', ascending=False )\n",
    "target = list(tmp.index[:3]) + list(tmp.index[-3:])\n",
    "target"
   ]
  },
  {
   "cell_type": "code",
   "execution_count": 119,
   "metadata": {},
   "outputs": [
    {
     "data": {
      "image/png": "[encoded data removed]",
      "text/plain": [
       "<Figure size 432x432 with 2 Axes>"
      ]
     },
     "metadata": {},
     "output_type": "display_data"
    }
   ],
   "source": [
    "plt.figure(figsize=(6,6))\n",
    "plt.scatter( data_result['인구수'], data_result['소계'], s=50, c=data_result['오차'] )\n",
    "plt.plot( fx, f1(fx), ls='dashed', color='g', lw=3 ) \n",
    "for n in range( data_result.shape[0] ):\n",
    "    # 그리고자 하는 텍스트가 대상 맴버중에 포함되어 있는가? 리스트 내부에 있는가?\n",
    "    if data_result.index[n] in target:\n",
    "        plt.text( data_result['인구수'][n]*1.02,   \n",
    "                  data_result['소계'][n]*0.98,\n",
    "                  data_result.index[n], \n",
    "                 fontsize=10\n",
    "                ) \n",
    "plt.xlabel('인구수') \n",
    "plt.ylabel('CCTV') \n",
    "plt.grid()\n",
    "# 칼라바를 표현한다\n",
    "plt.colorbar()\n",
    "plt.show()\n",
    "# 강남구, 관악구, 송파구는 인구대비 cctv 현황이 현저이 크거나(2개), 작다(1개)\n",
    "# 이들은 예산 삭감 및 증액등의 기존 예산검토후 액션을 취해야 한다\n",
    "# 중구, 종로구, 동대문구는 아주 효율적으로 cctv를 증설해 왔다 => 포상개념 xx 지원하다"
   ]
  },
  {
   "cell_type": "code",
   "execution_count": 120,
   "metadata": {},
   "outputs": [],
   "source": [
    "# 자료 덤프\n",
    "data_result.to_csv( '../data/populate_per_cctv_analysis_result.csv', sep=',', \n",
    "                      encoding='utf-8') # csv는 구분자가 중요하다, sep"
   ]
  },
  {
   "cell_type": "code",
   "execution_count": null,
   "metadata": {},
   "outputs": [],
   "source": [
    "# 쥬피터 readme.txt로 이동해서 내용 작성(5대범죄 데이터 다운로드 진행하는 내용임)"
   ]
  },
  {
   "cell_type": "code",
   "execution_count": null,
   "metadata": {},
   "outputs": [],
   "source": []
  },
  {
   "cell_type": "code",
   "execution_count": null,
   "metadata": {},
   "outputs": [],
   "source": []
  },
  {
   "cell_type": "code",
   "execution_count": null,
   "metadata": {},
   "outputs": [],
   "source": []
  },
  {
   "cell_type": "code",
   "execution_count": null,
   "metadata": {},
   "outputs": [],
   "source": []
  },
  {
   "cell_type": "code",
   "execution_count": null,
   "metadata": {},
   "outputs": [],
   "source": []
  },
  {
   "cell_type": "code",
   "execution_count": null,
   "metadata": {},
   "outputs": [],
   "source": []
  }
 ],
 "metadata": {
  "kernelspec": {
   "display_name": "Python 3",
   "language": "python",
   "name": "python3"
  },
  "language_info": {
   "codemirror_mode": {
    "name": "ipython",
    "version": 3
   },
   "file_extension": ".py",
   "mimetype": "text/x-python",
   "name": "python",
   "nbconvert_exporter": "python",
   "pygments_lexer": "ipython3",
   "version": "3.6.5"
  }
 },
 "nbformat": 4,
 "nbformat_minor": 2
}

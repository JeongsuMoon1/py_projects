{
 "cells": [
  {
   "cell_type": "code",
   "execution_count": 1,
   "metadata": {},
   "outputs": [],
   "source": [
    "from scipy.spatial.distance import correlation"
   ]
  },
  {
   "cell_type": "code",
   "execution_count": 2,
   "metadata": {},
   "outputs": [],
   "source": [
    "# 피어슨 상관관계\n",
    "def person_coefficient(u, v):\n",
    "    return 1 - correlation(u, v) # 나랑 가까운 유저들의 그룹이 보인다 -> 그 그룹에서 비슷한 선호도를 보면된다"
   ]
  },
  {
   "cell_type": "code",
   "execution_count": null,
   "metadata": {},
   "outputs": [],
   "source": []
  },
  {
   "cell_type": "code",
   "execution_count": 5,
   "metadata": {},
   "outputs": [],
   "source": [
    "import numpy as np\n",
    "def person_coefficient_law(u, v):\n",
    "    u_diff = u - np.mean(u)\n",
    "    v_diff = v - np.mean(v)\n",
    "    # dot : 내적, 외적에 대한것이 떠올려야 한다, ** : 제곱\n",
    "    return np.dot(u_diff, v_diff) / (np.sqrt(sum(u_diff ** 2)) * np.sqrt(sum(v_diff ** 2)))  "
   ]
  },
  {
   "cell_type": "code",
   "execution_count": null,
   "metadata": {},
   "outputs": [],
   "source": [
    "# scipy와 numpy를 비교했을 때 간단한것은 scipy가 더 간결하게 작성된다\n",
    "# 다만, numpy는 알고리즘을 익히기가 쉽다"
   ]
  },
  {
   "cell_type": "code",
   "execution_count": null,
   "metadata": {},
   "outputs": [],
   "source": [
    "# 코사인 유도\n",
    "from scipy.spatial.distance import cosine\n",
    "def cosine_similarity( u, v ):\n",
    "    return 1 - cosine( u, v)"
   ]
  },
  {
   "cell_type": "code",
   "execution_count": null,
   "metadata": {},
   "outputs": [],
   "source": [
    "# 코사인 유도 직접 구현\n",
    "import numpy as np\n",
    "def cosine_similarity_law( u, v ):\n",
    "    return np.dot( u, v ) / ( np.sqrt( sum( u ** 2 ) ) * np.sqrt( sum( v ** 2) ) )"
   ]
  },
  {
   "cell_type": "code",
   "execution_count": null,
   "metadata": {},
   "outputs": [],
   "source": [
    "from scipy.spatial.distance import jaccard\n",
    "    def jaccard_similarity( u, v ):\n",
    "        return 1- jaccard(u, v)"
   ]
  },
  {
   "cell_type": "code",
   "execution_count": null,
   "metadata": {},
   "outputs": [],
   "source": [
    "# 자카드 계수 직접 구현\n",
    "import numpy as np\n",
    "def jaccard_similarity( u, v ):\n",
    "    return np.dot( u, v ) / ( sum(np.absolute(u)) + sum(np.absolute(v)) - np.dot(u,v)  "
   ]
  },
  {
   "cell_type": "code",
   "execution_count": null,
   "metadata": {},
   "outputs": [],
   "source": [
    "# 개선된 코사인 유도 \n",
    "import numpy as np\n",
    "def adjusted_cosine_similarity( m, n, u_mean ):\n",
    "    ad_m = m - u_mean\n",
    "    ad_n = n - u_mean\n",
    "    return np.dot( ad_m, ad_n ) / ( np.sqrt( sum( ad_m ** 2 ) ) * np.sqrt( sum( ad_n ** 2) ) )"
   ]
  },
  {
   "cell_type": "code",
   "execution_count": null,
   "metadata": {},
   "outputs": [],
   "source": []
  },
  {
   "cell_type": "code",
   "execution_count": null,
   "metadata": {},
   "outputs": [],
   "source": []
  },
  {
   "cell_type": "code",
   "execution_count": null,
   "metadata": {},
   "outputs": [],
   "source": []
  }
 ],
 "metadata": {
  "kernelspec": {
   "display_name": "Python 3",
   "language": "python",
   "name": "python3"
  },
  "language_info": {
   "codemirror_mode": {
    "name": "ipython",
    "version": 3
   },
   "file_extension": ".py",
   "mimetype": "text/x-python",
   "name": "python",
   "nbconvert_exporter": "python",
   "pygments_lexer": "ipython3",
   "version": "3.6.5"
  }
 },
 "nbformat": 4,
 "nbformat_minor": 2
}

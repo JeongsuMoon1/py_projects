{
 "cells": [
  {
   "cell_type": "markdown",
   "metadata": {},
   "source": [
    "### 지도학습 > 분류 > 분류 결과에 대한 평가\n",
    "\n",
    "#### 지표\n",
    "- 정확도 ( accuracy )\n",
    " > 결과가 얼마나 정확하게 나누어졌는가?를 기준으로 분류기의 성능을 평가\n",
    " > 정확도 = 정답과 일치한 수 / 전체 데이터 수\n",
    " > 예) 수신된 메일이 100건, 분류기로 분류를 해보니 스팸이 60건으로 일치되어서 처리되었다, 정상은 40건 체크 => 60/100 => 60%\n",
    " > 무작위로 선택된 결과를 최저 성능으로 두는 방법\n",
    "\n",
    "- 정밀도 ( precision )  \n",
    " > 출력 결과에서 정답을 얼마나 맞췄는지 나타내는 지표\n",
    " > 분류기가 스팸으로 판정한 메일들 중에, 진짜 스팸인 비율\n",
    " > 스팸 판정한 메일이 80개다, 이중 진짜가 55개다 => 55/80 = 0.6875\n",
    " > 많이 분류를 해내지 못하더라도, 더 정확한 예측을 중시한다면 정밀도를 선호한다!!! -> 스팸이 들어와도 좋으니, 반드시 받아야하는 메일을 스팸으로 잡히면 안된다!!!\n",
    " \n",
    "- 재현율 ( recall )\n",
    " > 출력 결과가 실제 정답중에서 얼마나 맞추었는가?를 나타내는 지표\n",
    " > 전제 데이터에 포함된 실제 스팸(60건), 분류기가 스팸으로 판정한 개수(55건)의 비율 => 55/60 = 0.916\n",
    " > 현재 상황을 보면 재현율이 정밀도보다 1에 더 가까우므로, 재현율을 중시한다라고 이 분류기를 체크할 수 있다\n",
    " > 잘못 거르더라도, 스팸을 놓치지 않는다. 이런 경우 재현율을 중시!! -> 질병 -> 발생빈도가 낮은 질병이라도, 거짓 양성이 가끔 나오더라도 이런 환자는 재검사를 통해서 확진하면 되니깐, 문제가 없다 -> 이런 논리를 가진 문제!!! \n",
    "\n",
    "- F-점수, f1-score\n",
    " > 균형 잡힌 성능 평가 지표\n",
    " > 정밀도와 재현율의 상충 관계 => 평가에 반영하여, 실제 뷴류기를 비교할때 사용하는 지표\n",
    " > F-measure => 2 / ( (1/정밀도) + (1/재현율) ) = 2 / ( (1/0.68) + (1/0.92) ) = 0.782\n",
    " \n",
    " > 정밀도와 재현율이 균형을 이룰때, F-점수는 높아진다\n",
    "\n",
    "- ROC 곡선 \n",
    " > 기준점에 따른 분류기의 성능을 시각화 하는 것\n",
    " > 거짓 양성비를 x축, 참 양성비를 y축으로 구성\n",
    " > 좌측 상단에 위치한 분류기가 가장 완벽한 분류기이다\n",
    "\n",
    "- AUC \n",
    " > ROC는 유용하나, 미세하게 성능들이 겹치면, 구분하기 어렵다, 평가가 힘들다\n",
    " > 이 성능을 수치화한 즉, 요약한 숫자가 필요\n",
    " > ROC 곡선 하단의 면적을 계산하는 AUC( area under curve )를 많이 사용한다\n",
    " > 성능이 좋으면 1에 가까워지고, 나쁘면 0.5 수준에 가까워진다\n",
    " > AUC가 0.9 이라고 한다면 => 참값을 가진 표본수가 거짓 표본보다 높은 점수를 줄 확률이 90%이다라고 해석\n",
    "\n",
    "- 평가기준 -> 균형!!! \n",
    " > 지표는 프로젝트나, 비즈니스상에 최소한의 품질을 확보하는 기준점\n",
    " > 이런 상황에서 나오는 문제점이 이 지표에 매몰되는 부분!!! -> 이 지표가 목적이 되버리는 문제가 발생(주의해야 한다)\n",
    " > 학습 모델의 성능을 높이는 부분과, 비즈니스의 목적을 달성하는 부분은 다르다"
   ]
  },
  {
   "cell_type": "markdown",
   "metadata": {},
   "source": [
    "#### 관련개념 ( 분류쪽 얘기다 )\n",
    "\n",
    "- 혼동행렬 ( confusion matrix )\n",
    " > 양성( 스팸이 맞음을 뜻함 ) -> 진짜 양성( True Positive : TP ) <-> 거짓 음성( False Negative : FN )\n",
    " > 음성( 스팸이 아님을 뜻함 ) -> 거짓 양성( False Positive : FP ) <-> 진짜 음성( True Negative : TN ) \n",
    "\n",
    " > 메일은 총 100건, 실제 스팸 60건(일일이 확인한 것), 분류기가 판정한 스팸 80건, 그 중 진짜 스팸은 55건\n",
    " \n",
    "                     예측결과\n",
    " -----------------------------------------------------------------------------------------\n",
    "                     양성(스팸)                             음성(스팸 아님)\n",
    " 실제 :               55                                       5(60-55)\n",
    " 결과 :               25(80-55)                                15(20-5)\n",
    " \n",
    " - TP, FN, FP, TN 를 밑에 각각 붙여 보시오\n",
    " - 55        : 메일 100개중, 실제 스팸 60개, 분류기가 판정 80개, 그중 맞춘게 55개, TP\n",
    " - 25(80-55) : 분류기가 판정한 80개 그 중에 맞춘게 55개 틀린것인 25개, FP\n",
    " - 5(60-55)  : 실제 스팸이 60개 그 중에서 분류기가 맞춘게 55개 합이 틀린게 5개, FN\n",
    " - 15(20-5)  : 스팸이 아니라고 판정한게 20(100-80)개 그 중에 진짜 스팸인것 5개 이것을 뺀 15개, TN\n",
    "\n",
    " - 정밀도 = TP / ( TP + FP ) = 0.6875\n",
    "  > 분류기가 분류한 스팸 중에 진짜 스팸이 얼마나 있는가?\n",
    "  > 55/80 => 55 / (55+25) = 0.6875\n",
    "  \n",
    " - 재현율 = TP / ( TP + FN ) = 0.916\n",
    "  > 분류기가 분류한 스팸이 진짜 스팸 대비 얼마나 되는가?\n",
    "  > 55/60 => 55 / (55+5) = 0.916\n",
    " \n",
    " - 정확도 = ( TP + TN ) / ( TP + FP + TN + FN ) = 0.7 \n",
    "  > 분류기가 분류한 \n",
    "  > ( 55 + 15 ) / ( 55 + 25 + 15 + 5 ) = 0.7\n",
    " \n",
    " => sklearn.metrics.confusion_matrix() 이 함수가 자동 계산 해준다 => 혼동행렬값을 계산해서 리턴해준다 => 이를 통해서 모델의 비교, 평가를 자동으로 수행할 수 있다\n",
    " [[ 55, 5 ]]\n",
    " [[ 25, 15 ]]\n",
    " \n",
    "#### 다중 클레스 분류에서 클레스 전체의 평균을 구하는 방법\n",
    " - 마이크로 평균\n",
    "  > 모든 클레스의 결과를 합쳐서 전체를 평가\n",
    "  > 3개 클레스의 결과 -> TP1, FP1, TP2, FP2, TP3, FP3 이렇게 존재한다면\n",
    "  > 정밀도( 마이크로 평균 ) = ( TP1 + TP2 + TP3 ) / ( TP1 + FP1 + TP2 + FP2 + TP3 + FP3 )\n",
    " \n",
    " - 매크로 평균\n",
    "  > 전체 성능의 양상을 알기 위해 사용\n",
    "  > 클레스별 정밀도를 획득\n",
    "  > 정밀도( 매크로 평균 ) = ( 정밀도1 + 정밀도2 + 정밀도3 ) / 3\n",
    "  \n",
    "\n"
   ]
  },
  {
   "cell_type": "code",
   "execution_count": 1,
   "metadata": {},
   "outputs": [],
   "source": [
    "from matplotlib import pyplot as plt\n",
    "import sklearn.datasets\n",
    "import pandas as pd"
   ]
  },
  {
   "cell_type": "code",
   "execution_count": 20,
   "metadata": {},
   "outputs": [],
   "source": [
    "# 아이리스 데이터 로드\n",
    "def attach_iris_df():\n",
    "    # 데이터 로드\n",
    "    ds = sklearn.datasets.load_iris()\n",
    "    #print(type(ds), ds['data']))\n",
    "    # df 구성\n",
    "    df = pd.DataFrame( ds['data'], columns=ds['feature_names'] )\n",
    "    #print(df.head(2))\n",
    "    \n",
    "    #print(ds['target_names'])\n",
    "    # 레이블데이터 컬럼명은 species\n",
    "    # species라는 컬럼명을 추가하고, target_names의 값을 세팅하시오\n",
    "    # 정답 데이터는 ds['target']이다\n",
    "    # idx : 0~1~2\n",
    "    # { 0:'setosa', ... }\n",
    "    tmp = dict( zip( range(3), ds['target_names'] ) ) # 딕셔너리로 가야한다\n",
    "    df['species'] = [ tmp[idx] for idx in ds['target'] ]\n",
    "    \n",
    "    #print(df.head(2))\n",
    "    \n",
    "    return df"
   ]
  },
  {
   "cell_type": "code",
   "execution_count": 22,
   "metadata": {},
   "outputs": [
    {
     "data": {
      "text/html": [
       "<div>\n",
       "<style scoped>\n",
       "    .dataframe tbody tr th:only-of-type {\n",
       "        vertical-align: middle;\n",
       "    }\n",
       "\n",
       "    .dataframe tbody tr th {\n",
       "        vertical-align: top;\n",
       "    }\n",
       "\n",
       "    .dataframe thead th {\n",
       "        text-align: right;\n",
       "    }\n",
       "</style>\n",
       "<table border=\"1\" class=\"dataframe\">\n",
       "  <thead>\n",
       "    <tr style=\"text-align: right;\">\n",
       "      <th></th>\n",
       "      <th>sepal length (cm)</th>\n",
       "      <th>sepal width (cm)</th>\n",
       "      <th>petal length (cm)</th>\n",
       "      <th>petal width (cm)</th>\n",
       "      <th>species</th>\n",
       "    </tr>\n",
       "  </thead>\n",
       "  <tbody>\n",
       "    <tr>\n",
       "      <th>0</th>\n",
       "      <td>5.1</td>\n",
       "      <td>3.5</td>\n",
       "      <td>1.4</td>\n",
       "      <td>0.2</td>\n",
       "      <td>setosa</td>\n",
       "    </tr>\n",
       "    <tr>\n",
       "      <th>1</th>\n",
       "      <td>4.9</td>\n",
       "      <td>3.0</td>\n",
       "      <td>1.4</td>\n",
       "      <td>0.2</td>\n",
       "      <td>setosa</td>\n",
       "    </tr>\n",
       "  </tbody>\n",
       "</table>\n",
       "</div>"
      ],
      "text/plain": [
       "   sepal length (cm)  sepal width (cm)  petal length (cm)  petal width (cm)  \\\n",
       "0                5.1               3.5                1.4               0.2   \n",
       "1                4.9               3.0                1.4               0.2   \n",
       "\n",
       "  species  \n",
       "0  setosa  \n",
       "1  setosa  "
      ]
     },
     "execution_count": 22,
     "metadata": {},
     "output_type": "execute_result"
    }
   ],
   "source": [
    "df = attach_iris_df()\n",
    "df.head(2)"
   ]
  },
  {
   "cell_type": "code",
   "execution_count": 23,
   "metadata": {},
   "outputs": [],
   "source": [
    "# roc, auc를 이용한 성능평가를 수행하기 위해 모듈 가져오기\n",
    "import sklearn\n",
    "# 측정 폐키지\n",
    "from sklearn.metrics import roc_curve, auc\n",
    "# 훈련용, 테스트용 분류\n",
    "from sklearn.model_selection import train_test_split\n",
    "# 분류 알고리즘\n",
    "from sklearn.linear_model import LogisticRegression\n",
    "from sklearn.tree import DecisionTreeClassifier\n",
    "from sklearn.ensemble import RandomForestClassifier\n",
    "from sklearn.naive_bayes import GaussianNB"
   ]
  },
  {
   "cell_type": "code",
   "execution_count": 24,
   "metadata": {},
   "outputs": [],
   "source": [
    "# 분류 알고리즘 별로 손쉽게 시각화를 하기 위해 값 세팅\n",
    "class_map = { # 딕셔너리를 뺐다\n",
    "    '로지스틱 회귀': ('-', LogisticRegression()),\n",
    "    '결정 트리':     ('--',DecisionTreeClassifier(max_depth=5)),\n",
    "    '랜덤 포레스트': ('.-',RandomForestClassifier(max_depth=5, n_estimators=10, max_features=1)),\n",
    "    '나이브 베이즈': (':',GaussianNB())\n",
    "    \n",
    "}"
   ]
  },
  {
   "cell_type": "code",
   "execution_count": 25,
   "metadata": {},
   "outputs": [
    {
     "data": {
      "text/plain": [
       "(150, 5)"
      ]
     },
     "execution_count": 25,
     "metadata": {},
     "output_type": "execute_result"
    }
   ],
   "source": [
    "df.shape"
   ]
  },
  {
   "cell_type": "code",
   "execution_count": 28,
   "metadata": {},
   "outputs": [
    {
     "data": {
      "text/plain": [
       "(150, 4)"
      ]
     },
     "execution_count": 28,
     "metadata": {},
     "output_type": "execute_result"
    }
   ],
   "source": [
    "# 데이터를 나눠서 임시 구성\n",
    "# species를 제외하고 나머지만 150x4\n",
    "X = df[ df.columns[:4] ]\n",
    "X.shape"
   ]
  },
  {
   "cell_type": "code",
   "execution_count": 41,
   "metadata": {},
   "outputs": [
    {
     "data": {
      "text/plain": [
       "{'setosa', 'versicolor', 'virginica'}"
      ]
     },
     "execution_count": 41,
     "metadata": {},
     "output_type": "execute_result"
    }
   ],
   "source": [
    "set(df['species'])"
   ]
  },
  {
   "cell_type": "code",
   "execution_count": 42,
   "metadata": {},
   "outputs": [
    {
     "data": {
      "text/plain": [
       "(0    False\n",
       " 1    False\n",
       " Name: species, dtype: bool, pandas.core.series.Series, (150,))"
      ]
     },
     "execution_count": 42,
     "metadata": {},
     "output_type": "execute_result"
    }
   ],
   "source": [
    "# Y는 이진 분류 데이터로 구성하겠다\n",
    "# 종이 setosa 인가 아닌가로 구성\n",
    "Y = df[ 'species' ] == 'versicolor'\n",
    "Y[:2], type(Y), Y.shape"
   ]
  },
  {
   "cell_type": "code",
   "execution_count": 43,
   "metadata": {},
   "outputs": [],
   "source": [
    "# 데이터를 훈련용, 테스트용\n",
    "X_train, X_test, Y_train, Y_test = train_test_split( X, Y, test_size=0.8 ) # test_size: 구분 사이즈"
   ]
  },
  {
   "cell_type": "code",
   "execution_count": 44,
   "metadata": {},
   "outputs": [
    {
     "data": {
      "text/plain": [
       "((30, 4), (120, 4), (30,), (120,))"
      ]
     },
     "execution_count": 44,
     "metadata": {},
     "output_type": "execute_result"
    }
   ],
   "source": [
    "X_train.shape, X_test.shape, Y_train.shape, Y_test.shape"
   ]
  },
  {
   "cell_type": "code",
   "execution_count": 45,
   "metadata": {},
   "outputs": [
    {
     "name": "stdout",
     "output_type": "stream",
     "text": [
      "('로지스틱 회귀', ('-', LogisticRegression(C=1.0, class_weight=None, dual=False, fit_intercept=True,\n",
      "          intercept_scaling=1, max_iter=100, multi_class='ovr', n_jobs=1,\n",
      "          penalty='l2', random_state=None, solver='liblinear', tol=0.0001,\n",
      "          verbose=0, warm_start=False)))\n",
      "('결정 트리', ('--', DecisionTreeClassifier(class_weight=None, criterion='gini', max_depth=5,\n",
      "            max_features=None, max_leaf_nodes=None,\n",
      "            min_impurity_decrease=0.0, min_impurity_split=None,\n",
      "            min_samples_leaf=1, min_samples_split=2,\n",
      "            min_weight_fraction_leaf=0.0, presort=False, random_state=None,\n",
      "            splitter='best')))\n",
      "('랜덤 포레스트', ('.-', RandomForestClassifier(bootstrap=True, class_weight=None, criterion='gini',\n",
      "            max_depth=5, max_features=1, max_leaf_nodes=None,\n",
      "            min_impurity_decrease=0.0, min_impurity_split=None,\n",
      "            min_samples_leaf=1, min_samples_split=2,\n",
      "            min_weight_fraction_leaf=0.0, n_estimators=10, n_jobs=1,\n",
      "            oob_score=False, random_state=None, verbose=0,\n",
      "            warm_start=False)))\n",
      "('나이브 베이즈', (':', GaussianNB(priors=None)))\n"
     ]
    }
   ],
   "source": [
    "for a in class_map.items():\n",
    "    print(a) # 튜플형태로 나온다"
   ]
  },
  {
   "cell_type": "code",
   "execution_count": null,
   "metadata": {},
   "outputs": [],
   "source": []
  },
  {
   "cell_type": "code",
   "execution_count": 46,
   "metadata": {},
   "outputs": [
    {
     "name": "stdout",
     "output_type": "stream",
     "text": [
      "Malgun Gothic\n"
     ]
    }
   ],
   "source": [
    "from korea_font import initKoreaFontLoad\n",
    "initKoreaFontLoad()"
   ]
  },
  {
   "cell_type": "code",
   "execution_count": 52,
   "metadata": {},
   "outputs": [
    {
     "name": "stdout",
     "output_type": "stream",
     "text": [
      "로지스틱 회귀 auc : 0.6813651464814255 \n",
      "결정 트리 auc : 0.8796436122017518 \n",
      "랜덤 포레스트 auc : 0.9916943521594684 \n",
      "나이브 베이즈 auc : 0.9758381153729989 \n"
     ]
    },
    {
     "data": {
      "image/png": "[encoded data removed]",
      "text/plain": [
       "<Figure size 576x576 with 1 Axes>"
      ]
     },
     "metadata": {},
     "output_type": "display_data"
    }
   ],
   "source": [
    "plt.figure( figsize=(8,8) )\n",
    "\n",
    "for name, ( line_style, model ) in class_map.items():\n",
    "    # 훈련\n",
    "    model.fit( X_train, Y_train )\n",
    "    # 예측\n",
    "    # predict_proba(): 예측에 대한 확률로 예측 -> 알고리즘의 신뢰수준을 알수가 있어서 비교시 활용된다( 0, 1 중에 1이 될 확률 0.57이다 => 1을\n",
    "    # 상대적으로 더 예측하는 모델인데, 만약 해당 모델이 0을 더 잘 맞춘다고 본다면\n",
    "    # 예측값은 0으로 해석)\n",
    "    # predict(): 예측값을 기준으로 예측\n",
    "    preds = model.predict_proba( X_test )\n",
    "    \n",
    "    #print(preds[:2])\n",
    "    # roc 커브\n",
    "    pred = pd.Series( preds[:, 1] ) # 예측값 pred를 roc커브에 넣을때 형식을 맞춰줘야 해서 형식을 맞춰준다 \n",
    "    \n",
    "    # fpr        : 거짓 양성비( False positive rate)\n",
    "    # tpr        : 참 양성비  ( True positive rate)\n",
    "    # thresholds : fpr, tpr를 계산할 때 사용한 결정함수의 임계값\n",
    "    fpr, tpr, thresholds = roc_curve( Y_test, pred ) # 이 값을 리턴해서주는 것이 3개가 있다\n",
    "    # auc 스코어 => 곡선을 본다면, 수치적 비교가 안된다( 점들이 겹치고 난리나서 구분어려움 )\n",
    "    auc_score = auc( fpr, tpr )\n",
    "    print( '%s auc : %s ' % ( name, auc_score ) )\n",
    "    # 그리기\n",
    "    plt.plot( fpr, tpr, line_style, linewidth=5, label=name ) # x: fpr, y: tpr\n",
    "    \n",
    "plt.legend()\n",
    "plt.title('분류기 성능 비교')\n",
    "# 구분을 위해서 대각선 기울기가 1인 선을 드로잉\n",
    "plt.plot( [0,1], [0,1], 'k--' )    \n",
    "\n",
    "# 구간제한\n",
    "plt.ylim( [0.0, 1.05] ) # lim: limit제한\n",
    "\n",
    "\n",
    "# 라벨\n",
    "plt.xlabel('거짓 양성비')\n",
    "plt.ylabel('참 양성비')\n",
    "plt.show()"
   ]
  },
  {
   "cell_type": "code",
   "execution_count": 48,
   "metadata": {},
   "outputs": [
    {
     "name": "stdout",
     "output_type": "stream",
     "text": [
      "0.26666666666666666\n"
     ]
    }
   ],
   "source": [
    "# 메크로 평균, 마이크로 평균\n",
    "from sklearn.metrics import f1_score\n",
    "# 예를 들어\n",
    "y_true = [ 0, 1, 2, 0, 1, 2 ] # 실제값\n",
    "y_pred = [ 0, 2, 1, 0, 0, 1 ] # 예측값\n",
    "# 메크로 평균 기반\n",
    "# 정밀도 = 참의 개별값 합산 / ( 참의 개별값 합산 + 거짓의 개별값 합산 )\n",
    "print(f1_score( y_true, y_pred, average= 'macro' )) # 정밀도를 판별하는 지표"
   ]
  },
  {
   "cell_type": "code",
   "execution_count": 49,
   "metadata": {},
   "outputs": [
    {
     "name": "stdout",
     "output_type": "stream",
     "text": [
      "0.3333333333333333\n"
     ]
    }
   ],
   "source": [
    "# 마이크로 평균 기반\n",
    "# 정밀도 = ( 정밀도1 + 정밀도2 + ...) / n 개의 클레스 분류개수\n",
    "\n",
    "print(f1_score( y_true, y_pred, average= 'micro' )) # macro 와 micro 의 가중치가 좀 차이가 난다 # 정밀도를 판별하는 지표"
   ]
  },
  {
   "cell_type": "code",
   "execution_count": 50,
   "metadata": {},
   "outputs": [
    {
     "name": "stdout",
     "output_type": "stream",
     "text": [
      "0.26666666666666666\n"
     ]
    }
   ],
   "source": [
    "print(f1_score( y_true, y_pred, average= 'weighted' )) # 정밀도를 판별하는 지표"
   ]
  },
  {
   "cell_type": "code",
   "execution_count": 51,
   "metadata": {},
   "outputs": [
    {
     "name": "stdout",
     "output_type": "stream",
     "text": [
      "[0.8 0.  0. ]\n"
     ]
    }
   ],
   "source": [
    "print(f1_score( y_true, y_pred, average= None )) # 정밀도를 판별하는 지표"
   ]
  },
  {
   "cell_type": "code",
   "execution_count": null,
   "metadata": {},
   "outputs": [],
   "source": []
  },
  {
   "cell_type": "markdown",
   "metadata": {},
   "source": [
    "### 지도학습 > 회귀 > 회귀 모델에 대한 평가\n",
    "\n",
    "#### 지표\n",
    "##### 추천 시스템에서 체크\n",
    "- 평균 제곱근 오차\n",
    "- 결정계수"
   ]
  },
  {
   "cell_type": "markdown",
   "metadata": {},
   "source": [
    "#### 기타 > A/B 테스트( 원리적으로는 머신러닝쪽, 실제는 웹쪽에서 사용됨 )\n",
    "\n",
    "- 일반 s/w에서 테스트하는 방식을 혼용"
   ]
  },
  {
   "cell_type": "code",
   "execution_count": null,
   "metadata": {},
   "outputs": [],
   "source": []
  },
  {
   "cell_type": "code",
   "execution_count": null,
   "metadata": {},
   "outputs": [],
   "source": []
  },
  {
   "cell_type": "code",
   "execution_count": null,
   "metadata": {},
   "outputs": [],
   "source": []
  },
  {
   "cell_type": "code",
   "execution_count": null,
   "metadata": {},
   "outputs": [],
   "source": []
  },
  {
   "cell_type": "code",
   "execution_count": null,
   "metadata": {},
   "outputs": [],
   "source": []
  },
  {
   "cell_type": "code",
   "execution_count": null,
   "metadata": {},
   "outputs": [],
   "source": []
  },
  {
   "cell_type": "code",
   "execution_count": null,
   "metadata": {},
   "outputs": [],
   "source": []
  },
  {
   "cell_type": "code",
   "execution_count": null,
   "metadata": {},
   "outputs": [],
   "source": []
  },
  {
   "cell_type": "code",
   "execution_count": null,
   "metadata": {},
   "outputs": [],
   "source": []
  },
  {
   "cell_type": "code",
   "execution_count": null,
   "metadata": {},
   "outputs": [],
   "source": []
  },
  {
   "cell_type": "code",
   "execution_count": null,
   "metadata": {},
   "outputs": [],
   "source": []
  },
  {
   "cell_type": "code",
   "execution_count": null,
   "metadata": {},
   "outputs": [],
   "source": []
  },
  {
   "cell_type": "code",
   "execution_count": null,
   "metadata": {},
   "outputs": [],
   "source": []
  },
  {
   "cell_type": "code",
   "execution_count": null,
   "metadata": {},
   "outputs": [],
   "source": []
  },
  {
   "cell_type": "code",
   "execution_count": null,
   "metadata": {},
   "outputs": [],
   "source": []
  },
  {
   "cell_type": "code",
   "execution_count": null,
   "metadata": {},
   "outputs": [],
   "source": []
  },
  {
   "cell_type": "code",
   "execution_count": null,
   "metadata": {},
   "outputs": [],
   "source": []
  },
  {
   "cell_type": "code",
   "execution_count": null,
   "metadata": {},
   "outputs": [],
   "source": []
  },
  {
   "cell_type": "code",
   "execution_count": null,
   "metadata": {},
   "outputs": [],
   "source": []
  },
  {
   "cell_type": "code",
   "execution_count": null,
   "metadata": {},
   "outputs": [],
   "source": []
  },
  {
   "cell_type": "code",
   "execution_count": null,
   "metadata": {},
   "outputs": [],
   "source": []
  },
  {
   "cell_type": "code",
   "execution_count": null,
   "metadata": {},
   "outputs": [],
   "source": []
  },
  {
   "cell_type": "code",
   "execution_count": null,
   "metadata": {},
   "outputs": [],
   "source": []
  },
  {
   "cell_type": "code",
   "execution_count": null,
   "metadata": {},
   "outputs": [],
   "source": []
  },
  {
   "cell_type": "code",
   "execution_count": null,
   "metadata": {},
   "outputs": [],
   "source": []
  },
  {
   "cell_type": "code",
   "execution_count": null,
   "metadata": {},
   "outputs": [],
   "source": []
  },
  {
   "cell_type": "code",
   "execution_count": null,
   "metadata": {},
   "outputs": [],
   "source": []
  },
  {
   "cell_type": "code",
   "execution_count": null,
   "metadata": {},
   "outputs": [],
   "source": []
  },
  {
   "cell_type": "code",
   "execution_count": null,
   "metadata": {},
   "outputs": [],
   "source": []
  },
  {
   "cell_type": "code",
   "execution_count": null,
   "metadata": {},
   "outputs": [],
   "source": []
  },
  {
   "cell_type": "code",
   "execution_count": null,
   "metadata": {},
   "outputs": [],
   "source": []
  },
  {
   "cell_type": "code",
   "execution_count": null,
   "metadata": {},
   "outputs": [],
   "source": []
  },
  {
   "cell_type": "code",
   "execution_count": null,
   "metadata": {},
   "outputs": [],
   "source": []
  },
  {
   "cell_type": "code",
   "execution_count": null,
   "metadata": {},
   "outputs": [],
   "source": []
  },
  {
   "cell_type": "code",
   "execution_count": null,
   "metadata": {},
   "outputs": [],
   "source": []
  },
  {
   "cell_type": "code",
   "execution_count": null,
   "metadata": {},
   "outputs": [],
   "source": []
  },
  {
   "cell_type": "code",
   "execution_count": null,
   "metadata": {},
   "outputs": [],
   "source": []
  },
  {
   "cell_type": "code",
   "execution_count": null,
   "metadata": {},
   "outputs": [],
   "source": []
  },
  {
   "cell_type": "code",
   "execution_count": null,
   "metadata": {},
   "outputs": [],
   "source": []
  },
  {
   "cell_type": "code",
   "execution_count": null,
   "metadata": {},
   "outputs": [],
   "source": []
  },
  {
   "cell_type": "code",
   "execution_count": null,
   "metadata": {},
   "outputs": [],
   "source": []
  },
  {
   "cell_type": "code",
   "execution_count": null,
   "metadata": {},
   "outputs": [],
   "source": []
  }
 ],
 "metadata": {
  "kernelspec": {
   "display_name": "Python 3",
   "language": "python",
   "name": "python3"
  },
  "language_info": {
   "codemirror_mode": {
    "name": "ipython",
    "version": 3
   },
   "file_extension": ".py",
   "mimetype": "text/x-python",
   "name": "python",
   "nbconvert_exporter": "python",
   "pygments_lexer": "ipython3",
   "version": "3.6.5"
  }
 },
 "nbformat": 4,
 "nbformat_minor": 2
}

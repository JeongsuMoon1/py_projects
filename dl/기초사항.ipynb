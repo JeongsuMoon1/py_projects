{
 "cells": [
  {
   "cell_type": "markdown",
   "metadata": {},
   "source": [
    "#### 주요 신경망\n",
    "\n",
    "<img src='./data/nn.png'>"
   ]
  },
  {
   "cell_type": "markdown",
   "metadata": {},
   "source": [
    "#### 인공지능, 인공신경망\n",
    "\n",
    "- 인공신경망은 인공지능을 구현하는 알고리즘이다.\n",
    "- 두뇌를 구성하는 뉴런(신경세포)를 본따서 시스템을 구성\n",
    "- 신경망을 이용하여서 지능을 발현하는 원리를 기계에 적용한 방식"
   ]
  },
  {
   "cell_type": "markdown",
   "metadata": {},
   "source": [
    "#### history (발전 -> 암흑 -> 발전 -> 암흑 -> 발전 ->.....)\n",
    "\n",
    "- 1956년 : 존 매카시가 주장해서 처음으로 등장\n",
    "- 1980년 : 전문분야의 지식을 모은 전문가 시스템으로 다시 한 번 도약\n",
    "- 1990년 : 인터넷, 컴퓨터 시스템의 발전 -> 역전파 알고리즘 등장\n",
    "- 1997년 : IBM 딥블루 -> 체스 세계 챔피언과의 대전에서 승리\n",
    "- 2006년 : 토랜토 대학의 제프리 힌트 교수 -> 합성곱에 대한 인공신경망의 효율적 학습 가능성에 대한 논문 등장 -> 딥러닝이라 부른다(이 시기에)\n",
    "- 2011년 : 퀴즈대회 제프디 -> 인공지능 왓슨 우승 -> 의료, 금융분야 확대\n",
    "- 2012년 : 이미지 인식대회에서 딥러닝으로 출전한 제프리 힌트 팀이 딥러닝으로 추천. \n",
    "- 2014년 : 구글우승,그전까지 대부분 참가자들은 머신러닝으로 경쟁했다면, 이후로는 딥러닝으로 경쟁하는 패러다임 변경 -> 인식율 90%까지 달성(끌어올림)\n",
    "- 2016년 : 강화학습이라는 방법으로 알파고가 바둑에서 이세돌에게 승리 -> 전세계적인 이슈를 달성\n",
    "- GPU가 효율적인 딥러닝 학습이 가능하다는 것이 알려지게 되면서, 한대의 PC에서도 처리가 가능한 구조로 변경 -> 블록체인의 채굴!!\n",
    "- 4차 산업의 핵심 기술로 자리를 잡았다.\n",
    "\n"
   ]
  },
  {
   "cell_type": "markdown",
   "metadata": {},
   "source": [
    "#### 인공지능 엔진\n",
    "\n",
    "- 밑의 각자가 알고리즘도 다 다르다\n",
    "\n",
    "- Theano      : 티아노, 시애노\n",
    "- Tensorflow : 구글 텐서플로어 -> C++, 커뮤니티 가장 강력, 거대하다, 지원도 적극적\n",
    "- CNTK        : MS\n",
    "- MXNET       : 아마존\n",
    "- PladinML    : OpenGL 기반 다양한 GPU 를 지원하는 모든 플랫폼을 위한 오픈소스 딥러닝 엔진\n",
    "\n"
   ]
  },
  {
   "cell_type": "markdown",
   "metadata": {},
   "source": [
    "#### 케라스\n",
    "\n",
    "- 문과생들을 위한 딥러닝 인터페이스 도구\n",
    "- 인공지능 (딥 러닝 관점) 코딩을 쉽게 할 수 있는 파이썬 라이브러리\n",
    "- 특정 엔진에 종속되지 않는다\n",
    "- 어떤 엔진을 사용하더라도, 코드가 일관성있게 작성된다"
   ]
  },
  {
   "cell_type": "markdown",
   "metadata": {},
   "source": [
    "<img src='./data/layer.png'>"
   ]
  },
  {
   "cell_type": "markdown",
   "metadata": {},
   "source": [
    "#### 딥러닝\n",
    "\n",
    "- Deep Learing\n",
    "- 여러 계층(layer)를 가진 신경망(Neural Network)을 사용하여 머신러닝을 수행\n",
    "- 머신러닝의 한 범주\n",
    "- 주목받는 시점\n",
    " > 2012년 이미지 인식 대회 ILSVRC에서 주목(영상인식/분류/ 소프트웨어 대회)\n",
    " > 제프리 힌튼 교수팀 딥러닝 기법으로 처음 등장\n",
    " > 2013년 부터는 상위권이 거의 다 딥러닝, 2014년 구글이 우승\n",
    "- 딥러닝은 이미지(영상)인식, 음성인식, 자연어처리 분야에 큰 성과를 내고 있다."
   ]
  },
  {
   "cell_type": "markdown",
   "metadata": {},
   "source": [
    "#### 이미지 인식의 차이점\n",
    "\n",
    "- **특징량 추출**이라는 부분이 가장 큰 차이가 발생\n",
    "- 기존법 : 사람이 이미지의 내부 특성을 하나 하나 체크해서 잡아줘야 한다\n",
    "- 딥러닝 : 학습 데이터에서 기계가 자동으로 특징을 추출한다 -> 스스로 특징을 추출해서 학습"
   ]
  },
  {
   "cell_type": "markdown",
   "metadata": {},
   "source": [
    "#### DNN(Deep Neural Network)\n",
    "\n",
    "- 뉴럴 네트워크 : 인간의 신경망을 본따서 만든 네트워크 구조\n",
    " > 인간의 뇌에 있는 신경세포 : 뉴런\n",
    " > 하나의 뉴런이 다른 뉴런에게 신호를 받고, 전달하는 역활을 담당\n",
    " > 신경의 흐름을 기반으로 다양한 정보를 생성해낸다\n",
    " \n",
    "- 신경망\n",
    " > 이런 뉴런들의 연결되어 있는 구조의 양\n",
    "\n",
    "- 신경망이 3개 이상 중첩되면 -> DNN\n",
    " > 이런 신경망을 이용하여 기계학습을 수행하면 딥러닝이라고 한다.\n",
    " > 대량의 데이터로 학습\n",
    " > 학습 => 뉴런의 접속 가중치를 조정하는 행위\n"
   ]
  },
  {
   "cell_type": "markdown",
   "metadata": {},
   "source": [
    "#### 퍼셉트론(화요일)"
   ]
  },
  {
   "cell_type": "markdown",
   "metadata": {},
   "source": [
    "#### TensorFlow\n",
    "\n",
    "- 구글이 오픈소스로 공개한 머신러닝(범주가 더 크다) 라이브러리\n",
    "- 딥러닝, 머신러닝에 다양하게 사용된다\n",
    "- 대규모의 수치 연산(계산)을 하는 범용 라이브러리\n",
    "- Thensor 는 다차원 행렬 계산을 의미\n",
    "- 상용용도가 가능한 라이센스 Apache 2.0\n",
    "- 자료가 많다. C++로 코어 개발 \n",
    "- 전체적으로 계산식을 만들고, 데이터를 넣어서 파이썬 바깥에서 연산을 수행\n",
    "- 영상처리시(이미지, 음향) opencv등 병행해서 진행 \n",
    "- www.tensorflow.org\n",
    "- conda install tensorflow\n",
    "- 파이썬에서 무거운 작업을 독립적으로 수행하지 않고, \n",
    "- 상호연관작업을 수행하는 연산간의 그래프(텐서플로우)를 기술하고,\n",
    "- 그 연산은 파이썬 바깥, 텐서플로우에서 동작한다 [기술하는 곳이 있고, 가동하는 곳이 따로 존재한다]\n"
   ]
  },
  {
   "cell_type": "code",
   "execution_count": null,
   "metadata": {},
   "outputs": [],
   "source": []
  },
  {
   "cell_type": "code",
   "execution_count": null,
   "metadata": {},
   "outputs": [],
   "source": []
  },
  {
   "cell_type": "code",
   "execution_count": null,
   "metadata": {},
   "outputs": [],
   "source": []
  },
  {
   "cell_type": "code",
   "execution_count": null,
   "metadata": {},
   "outputs": [],
   "source": []
  },
  {
   "cell_type": "code",
   "execution_count": null,
   "metadata": {},
   "outputs": [],
   "source": []
  },
  {
   "cell_type": "code",
   "execution_count": null,
   "metadata": {},
   "outputs": [],
   "source": []
  },
  {
   "cell_type": "code",
   "execution_count": null,
   "metadata": {},
   "outputs": [],
   "source": []
  },
  {
   "cell_type": "code",
   "execution_count": null,
   "metadata": {},
   "outputs": [],
   "source": []
  },
  {
   "cell_type": "code",
   "execution_count": null,
   "metadata": {},
   "outputs": [],
   "source": []
  },
  {
   "cell_type": "code",
   "execution_count": null,
   "metadata": {},
   "outputs": [],
   "source": []
  },
  {
   "cell_type": "code",
   "execution_count": null,
   "metadata": {},
   "outputs": [],
   "source": []
  },
  {
   "cell_type": "code",
   "execution_count": null,
   "metadata": {},
   "outputs": [],
   "source": []
  },
  {
   "cell_type": "code",
   "execution_count": null,
   "metadata": {},
   "outputs": [],
   "source": []
  },
  {
   "cell_type": "code",
   "execution_count": null,
   "metadata": {},
   "outputs": [],
   "source": []
  },
  {
   "cell_type": "code",
   "execution_count": null,
   "metadata": {},
   "outputs": [],
   "source": []
  },
  {
   "cell_type": "code",
   "execution_count": null,
   "metadata": {},
   "outputs": [],
   "source": []
  },
  {
   "cell_type": "code",
   "execution_count": null,
   "metadata": {},
   "outputs": [],
   "source": []
  },
  {
   "cell_type": "code",
   "execution_count": null,
   "metadata": {},
   "outputs": [],
   "source": []
  },
  {
   "cell_type": "code",
   "execution_count": null,
   "metadata": {},
   "outputs": [],
   "source": []
  },
  {
   "cell_type": "code",
   "execution_count": null,
   "metadata": {},
   "outputs": [],
   "source": []
  },
  {
   "cell_type": "code",
   "execution_count": null,
   "metadata": {},
   "outputs": [],
   "source": []
  },
  {
   "cell_type": "code",
   "execution_count": null,
   "metadata": {},
   "outputs": [],
   "source": []
  },
  {
   "cell_type": "code",
   "execution_count": null,
   "metadata": {},
   "outputs": [],
   "source": []
  },
  {
   "cell_type": "code",
   "execution_count": null,
   "metadata": {},
   "outputs": [],
   "source": []
  }
 ],
 "metadata": {
  "kernelspec": {
   "display_name": "Python 3",
   "language": "python",
   "name": "python3"
  },
  "language_info": {
   "codemirror_mode": {
    "name": "ipython",
    "version": 3
   },
   "file_extension": ".py",
   "mimetype": "text/x-python",
   "name": "python",
   "nbconvert_exporter": "python",
   "pygments_lexer": "ipython3",
   "version": "3.6.5"
  }
 },
 "nbformat": 4,
 "nbformat_minor": 2
}

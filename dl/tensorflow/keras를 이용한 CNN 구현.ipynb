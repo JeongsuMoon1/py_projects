{
 "cells": [
  {
   "cell_type": "code",
   "execution_count": 3,
   "metadata": {},
   "outputs": [
    {
     "name": "stderr",
     "output_type": "stream",
     "text": [
      "C:\\Users\\User\\Anaconda3\\lib\\site-packages\\h5py\\__init__.py:36: FutureWarning: Conversion of the second argument of issubdtype from `float` to `np.floating` is deprecated. In future, it will be treated as `np.float64 == np.dtype(float).type`.\n",
      "  from ._conv import register_converters as _register_converters\n",
      "Using TensorFlow backend.\n",
      "C:\\Users\\User\\Anaconda3\\lib\\site-packages\\tensorflow\\python\\framework\\dtypes.py:526: FutureWarning: Passing (type, 1) or '1type' as a synonym of type is deprecated; in a future version of numpy, it will be understood as (type, (1,)) / '(1,)type'.\n",
      "  _np_qint8 = np.dtype([(\"qint8\", np.int8, 1)])\n",
      "C:\\Users\\User\\Anaconda3\\lib\\site-packages\\tensorflow\\python\\framework\\dtypes.py:527: FutureWarning: Passing (type, 1) or '1type' as a synonym of type is deprecated; in a future version of numpy, it will be understood as (type, (1,)) / '(1,)type'.\n",
      "  _np_quint8 = np.dtype([(\"quint8\", np.uint8, 1)])\n",
      "C:\\Users\\User\\Anaconda3\\lib\\site-packages\\tensorflow\\python\\framework\\dtypes.py:528: FutureWarning: Passing (type, 1) or '1type' as a synonym of type is deprecated; in a future version of numpy, it will be understood as (type, (1,)) / '(1,)type'.\n",
      "  _np_qint16 = np.dtype([(\"qint16\", np.int16, 1)])\n",
      "C:\\Users\\User\\Anaconda3\\lib\\site-packages\\tensorflow\\python\\framework\\dtypes.py:529: FutureWarning: Passing (type, 1) or '1type' as a synonym of type is deprecated; in a future version of numpy, it will be understood as (type, (1,)) / '(1,)type'.\n",
      "  _np_quint16 = np.dtype([(\"quint16\", np.uint16, 1)])\n",
      "C:\\Users\\User\\Anaconda3\\lib\\site-packages\\tensorflow\\python\\framework\\dtypes.py:530: FutureWarning: Passing (type, 1) or '1type' as a synonym of type is deprecated; in a future version of numpy, it will be understood as (type, (1,)) / '(1,)type'.\n",
      "  _np_qint32 = np.dtype([(\"qint32\", np.int32, 1)])\n",
      "C:\\Users\\User\\Anaconda3\\lib\\site-packages\\tensorflow\\python\\framework\\dtypes.py:535: FutureWarning: Passing (type, 1) or '1type' as a synonym of type is deprecated; in a future version of numpy, it will be understood as (type, (1,)) / '(1,)type'.\n",
      "  np_resource = np.dtype([(\"resource\", np.ubyte, 1)])\n"
     ]
    }
   ],
   "source": [
    "import keras\n",
    "from keras import models, layers"
   ]
  },
  {
   "cell_type": "code",
   "execution_count": 4,
   "metadata": {},
   "outputs": [],
   "source": [
    "from keras import backend\n",
    "from keras.datasets import mnist"
   ]
  },
  {
   "cell_type": "code",
   "execution_count": 6,
   "metadata": {},
   "outputs": [],
   "source": [
    "# 데이터를 맞추는 과정"
   ]
  },
  {
   "cell_type": "code",
   "execution_count": 7,
   "metadata": {},
   "outputs": [],
   "source": [
    "# 데이터 획득\n",
    "(x_train, y_train), (x_test, y_test) = mnist.load_data()"
   ]
  },
  {
   "cell_type": "code",
   "execution_count": 8,
   "metadata": {},
   "outputs": [
    {
     "data": {
      "text/plain": [
       "((60000, 28, 28), (60000,), (10000, 28, 28), (10000,))"
      ]
     },
     "execution_count": 8,
     "metadata": {},
     "output_type": "execute_result"
    }
   ],
   "source": [
    "x_train.shape, y_train.shape, x_test.shape, y_test.shape"
   ]
  },
  {
   "cell_type": "code",
   "execution_count": 9,
   "metadata": {},
   "outputs": [
    {
     "data": {
      "text/plain": [
       "(28, 28)"
      ]
     },
     "execution_count": 9,
     "metadata": {},
     "output_type": "execute_result"
    }
   ],
   "source": [
    "# 이미지 크기\n",
    "img_rows, img_cols = x_train.shape[1:]\n",
    "img_rows, img_cols"
   ]
  },
  {
   "cell_type": "code",
   "execution_count": 10,
   "metadata": {},
   "outputs": [
    {
     "data": {
      "text/plain": [
       "'channels_last'"
      ]
     },
     "execution_count": 10,
     "metadata": {},
     "output_type": "execute_result"
    }
   ],
   "source": [
    "# 채널의 위치 조정\n",
    "backend.image_data_format()"
   ]
  },
  {
   "cell_type": "code",
   "execution_count": 11,
   "metadata": {},
   "outputs": [],
   "source": [
    "if backend.image_data_format() == 'channel_first':\n",
    "    \n",
    "    x_train = x_train.reshape( x_train.shape[0], 1, img_rows, img_cols )\n",
    "    x_test  = x_test.reshape(  x_test.shape[0], 1, img_rows, img_cols )\n",
    "    input_shape = ( 1, img_rows, img_cols )\n",
    "    \n",
    "else:\n",
    "    # 흑백 이미지의 채널 정보를 처리하기 위해서는 추가 차원을 넣어야 한다\n",
    "    # 컬러 이미지는 RGB색상을 다루는 채널 정보가 이미지 데이터에 포함되어 있다\n",
    "    # 흑백은 채널 정보가 없어서, 입력 데이터 차원을 하나 더 추가해야 한다\n",
    "    # 채널의 위치를 확인해서 앞쪽이면 앞으로, 뒤쪽이면 뒤로 배치\n",
    "    x_train = x_train.reshape( x_train.shape[0], img_rows, img_cols, 1 )\n",
    "    x_test = x_test.reshape( x_test.shape[0], img_rows, img_cols, 1 )\n",
    "    input_shape = ( img_rows, img_cols, 1 )\n",
    "    \n",
    "    "
   ]
  },
  {
   "cell_type": "code",
   "execution_count": 12,
   "metadata": {},
   "outputs": [],
   "source": [
    "x_train =  x_train.astype('float32')\n",
    "x_test =  x_test.astype('float32')"
   ]
  },
  {
   "cell_type": "code",
   "execution_count": 13,
   "metadata": {},
   "outputs": [],
   "source": [
    "x_train /= 255\n",
    "x_test /= 255"
   ]
  },
  {
   "cell_type": "code",
   "execution_count": 14,
   "metadata": {},
   "outputs": [
    {
     "data": {
      "text/plain": [
       "array([5, 0, 4, 1, 9], dtype=uint8)"
      ]
     },
     "execution_count": 14,
     "metadata": {},
     "output_type": "execute_result"
    }
   ],
   "source": [
    "y_train[:5]"
   ]
  },
  {
   "cell_type": "code",
   "execution_count": 15,
   "metadata": {},
   "outputs": [],
   "source": [
    "a = set(y_train)\n",
    "label_nums = len(a)"
   ]
  },
  {
   "cell_type": "code",
   "execution_count": 43,
   "metadata": {},
   "outputs": [],
   "source": [
    "# 벡터화\n",
    "# 레이블의 분류형 변수로 특성 이진화 처리\n",
    "y_train = keras.utils.to_categorical( y_train, label_nums )\n",
    "y_test = keras.utils.to_categorical( y_test, label_nums )"
   ]
  },
  {
   "cell_type": "code",
   "execution_count": 44,
   "metadata": {},
   "outputs": [
    {
     "data": {
      "text/plain": [
       "array([[0., 0., 0., 0., 0., 1., 0., 0., 0., 0.],\n",
       "       [1., 0., 0., 0., 0., 0., 0., 0., 0., 0.]], dtype=float32)"
      ]
     },
     "execution_count": 44,
     "metadata": {},
     "output_type": "execute_result"
    }
   ],
   "source": [
    "y_train[:2]"
   ]
  },
  {
   "cell_type": "code",
   "execution_count": 45,
   "metadata": {},
   "outputs": [
    {
     "data": {
      "text/plain": [
       "((60000, 28, 28, 1), (60000, 10))"
      ]
     },
     "execution_count": 45,
     "metadata": {},
     "output_type": "execute_result"
    }
   ],
   "source": [
    "x_train.shape, y_train.shape"
   ]
  },
  {
   "cell_type": "code",
   "execution_count": 46,
   "metadata": {},
   "outputs": [],
   "source": [
    "# 여기까지가 데이터를 준비하는 과정"
   ]
  },
  {
   "cell_type": "code",
   "execution_count": null,
   "metadata": {},
   "outputs": [],
   "source": []
  },
  {
   "cell_type": "code",
   "execution_count": 47,
   "metadata": {},
   "outputs": [],
   "source": [
    "# 모델 생성\n",
    "model = models.Sequential()"
   ]
  },
  {
   "cell_type": "code",
   "execution_count": 48,
   "metadata": {},
   "outputs": [],
   "source": [
    "# 학습공층 생성\n",
    "# 32 : 출력 채널\n",
    "# 커널, 필터, 가중치 -> 3x3, 활성화함수 지정, 편향은 생략\n",
    "model.add( layers.Conv2D( 32, kernel_size=(3,3), activation='relu', input_shape=input_shape ) ) # 텐서플로우를 이용한 CNN 구현에서 합성곱층 만드는 것이랑 같은 것이다\n"
   ]
  },
  {
   "cell_type": "code",
   "execution_count": 49,
   "metadata": {},
   "outputs": [],
   "source": [
    "# 풀링층\n",
    "model.add( layers.MaxPool2D( pool_size=(2,2) ) )"
   ]
  },
  {
   "cell_type": "code",
   "execution_count": 50,
   "metadata": {},
   "outputs": [],
   "source": [
    "# 과적합 방지( 개인이 조합해서 만드는 부분이다. )\n",
    "# 0.25 : 설정값 (하이퍼파라미터)\n",
    "model.add( layers.Dropout(0.25) )"
   ]
  },
  {
   "cell_type": "code",
   "execution_count": 51,
   "metadata": {},
   "outputs": [],
   "source": [
    "# 합성곱2\n",
    "model.add( layers.Conv2D( 64, (3,3), activation='relu' ) ) # kenel_size 를 빼도 무방한 이유는 2번째 자리가 원래 kenel_size자리이기 떄문에 굳이 풀 네임 안써도 된다"
   ]
  },
  {
   "cell_type": "code",
   "execution_count": 52,
   "metadata": {},
   "outputs": [],
   "source": [
    "# 풀링층2\n",
    "model.add( layers.MaxPool2D(pool_size=(2,2)) )"
   ]
  },
  {
   "cell_type": "code",
   "execution_count": 53,
   "metadata": {},
   "outputs": [],
   "source": [
    "# 과적합 방지( 개인이 조합해서 만드는 부분이다. )\n",
    "# 0.25 : 설정값 (하이퍼파라미터)\n",
    "model.add( layers.Dropout(0.25) )"
   ]
  },
  {
   "cell_type": "code",
   "execution_count": 54,
   "metadata": {},
   "outputs": [],
   "source": [
    "# 데이터를 편다\n",
    "model.add(layers.Flatten())"
   ]
  },
  {
   "cell_type": "code",
   "execution_count": 55,
   "metadata": {},
   "outputs": [],
   "source": [
    "# 전결합층\n",
    "# 128 : 출력 채널 설정\n",
    "model.add(layers.Dense(128, activation='relu'))"
   ]
  },
  {
   "cell_type": "code",
   "execution_count": 56,
   "metadata": {},
   "outputs": [],
   "source": [
    "# 과적합 방지( 개인이 조합해서 만드는 부분이다. )\n",
    "# 0.5 : 설정값 (하이퍼파라미터)\n",
    "model.add( layers.Dropout(0.5) )"
   ]
  },
  {
   "cell_type": "code",
   "execution_count": 57,
   "metadata": {},
   "outputs": [],
   "source": [
    "# 출력층\n",
    "model.add( layers.Dense( label_nums, activation='softmax' ) )"
   ]
  },
  {
   "cell_type": "code",
   "execution_count": 58,
   "metadata": {},
   "outputs": [],
   "source": [
    "# 손실함수 : 크로스엔트로피\n",
    "# 최적화 : 평균제곱근오차 : rmsprop\n",
    "# 정확도 : \n",
    "model.compile( loss=keras.losses.categorical_crossentropy,\n",
    "               optimizer='rmsprop', metrics=['accuracy'])"
   ]
  },
  {
   "cell_type": "code",
   "execution_count": 59,
   "metadata": {},
   "outputs": [],
   "source": [
    "# 학습 사이즈\n",
    "batch_size = 128\n",
    "# 수행횟수\n",
    "epochs = 10"
   ]
  },
  {
   "cell_type": "code",
   "execution_count": 60,
   "metadata": {},
   "outputs": [
    {
     "name": "stdout",
     "output_type": "stream",
     "text": [
      "WARNING:tensorflow:From C:\\Users\\User\\Anaconda3\\lib\\site-packages\\tensorflow\\python\\ops\\math_ops.py:3066: to_int32 (from tensorflow.python.ops.math_ops) is deprecated and will be removed in a future version.\n",
      "Instructions for updating:\n",
      "Use tf.cast instead.\n",
      "Train on 48000 samples, validate on 12000 samples\n",
      "Epoch 1/10\n",
      "48000/48000 [==============================] - 70s 1ms/step - loss: 0.3756 - accuracy: 0.8805 - val_loss: 0.0889 - val_accuracy: 0.9742\n",
      "Epoch 2/10\n",
      "48000/48000 [==============================] - 66s 1ms/step - loss: 0.1289 - accuracy: 0.9613 - val_loss: 0.0581 - val_accuracy: 0.9825\n",
      "Epoch 3/10\n",
      "48000/48000 [==============================] - 67s 1ms/step - loss: 0.0954 - accuracy: 0.9709 - val_loss: 0.0508 - val_accuracy: 0.9849\n",
      "Epoch 4/10\n",
      "48000/48000 [==============================] - 68s 1ms/step - loss: 0.0783 - accuracy: 0.9766 - val_loss: 0.0426 - val_accuracy: 0.9883\n",
      "Epoch 5/10\n",
      "48000/48000 [==============================] - 67s 1ms/step - loss: 0.0692 - accuracy: 0.9790 - val_loss: 0.0425 - val_accuracy: 0.9882\n",
      "Epoch 6/10\n",
      "48000/48000 [==============================] - 66s 1ms/step - loss: 0.0628 - accuracy: 0.9818 - val_loss: 0.0410 - val_accuracy: 0.9883\n",
      "Epoch 7/10\n",
      "48000/48000 [==============================] - 66s 1ms/step - loss: 0.0570 - accuracy: 0.9826 - val_loss: 0.0339 - val_accuracy: 0.9905\n",
      "Epoch 8/10\n",
      "48000/48000 [==============================] - 71s 1ms/step - loss: 0.0525 - accuracy: 0.9839 - val_loss: 0.0365 - val_accuracy: 0.9893\n",
      "Epoch 9/10\n",
      "48000/48000 [==============================] - 80s 2ms/step - loss: 0.0492 - accuracy: 0.9856 - val_loss: 0.0332 - val_accuracy: 0.9906\n",
      "Epoch 10/10\n",
      "48000/48000 [==============================] - 72s 1ms/step - loss: 0.0481 - accuracy: 0.9862 - val_loss: 0.0330 - val_accuracy: 0.9913\n"
     ]
    }
   ],
   "source": [
    "# 훈련데이터 중에 검증용 20% 사용\n",
    "his = model.fit( x_train, y_train, batch_size=batch_size, epochs=epochs, \n",
    "                 validation_split=0.2 )"
   ]
  },
  {
   "cell_type": "code",
   "execution_count": 61,
   "metadata": {},
   "outputs": [
    {
     "name": "stdout",
     "output_type": "stream",
     "text": [
      "10000/10000 [==============================] - 4s 446us/step\n"
     ]
    },
    {
     "data": {
      "text/plain": [
       "[0.025363308865006547, 0.9911999702453613]"
      ]
     },
     "execution_count": 61,
     "metadata": {},
     "output_type": "execute_result"
    }
   ],
   "source": [
    "score = model.evaluate( x_test, y_test )\n",
    "score"
   ]
  },
  {
   "cell_type": "code",
   "execution_count": null,
   "metadata": {},
   "outputs": [],
   "source": []
  },
  {
   "cell_type": "code",
   "execution_count": null,
   "metadata": {},
   "outputs": [],
   "source": []
  },
  {
   "cell_type": "code",
   "execution_count": null,
   "metadata": {},
   "outputs": [],
   "source": []
  },
  {
   "cell_type": "code",
   "execution_count": null,
   "metadata": {},
   "outputs": [],
   "source": []
  }
 ],
 "metadata": {
  "kernelspec": {
   "display_name": "Python 3",
   "language": "python",
   "name": "python3"
  },
  "language_info": {
   "codemirror_mode": {
    "name": "ipython",
    "version": 3
   },
   "file_extension": ".py",
   "mimetype": "text/x-python",
   "name": "python",
   "nbconvert_exporter": "python",
   "pygments_lexer": "ipython3",
   "version": "3.6.5"
  }
 },
 "nbformat": 4,
 "nbformat_minor": 2
}

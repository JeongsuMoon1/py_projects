{
 "cells": [
  {
   "cell_type": "markdown",
   "metadata": {},
   "source": [
    "### 텐서플로우를 이용하여 ML 구현"
   ]
  },
  {
   "cell_type": "markdown",
   "metadata": {},
   "source": [
    "- 알고리즘 SVM 을 이용하여 BMI를 학습시키고, 비만도를 판정\n",
    "- BMI 지수 = (몸무게/키)*키\n",
    "- 데이터 3.bmi.csv"
   ]
  },
  {
   "cell_type": "markdown",
   "metadata": {},
   "source": [
    "<img src='./텐서용어.png'>"
   ]
  },
  {
   "cell_type": "code",
   "execution_count": null,
   "metadata": {},
   "outputs": [],
   "source": [
    "# 사용패키지 로드\n",
    "import pandas as pd\n",
    "import numpy as np\n",
    "import tensorflow as tf"
   ]
  },
  {
   "cell_type": "code",
   "execution_count": null,
   "metadata": {},
   "outputs": [],
   "source": [
    "# 데이터로드\n",
    "csv = pd.read_csv('./3_bmi.csv')\n",
    "csv.shape"
   ]
  },
  {
   "cell_type": "code",
   "execution_count": null,
   "metadata": {},
   "outputs": [],
   "source": [
    "csv.head(2)"
   ]
  },
  {
   "cell_type": "code",
   "execution_count": null,
   "metadata": {},
   "outputs": [],
   "source": [
    "# 데이터 전처리\n",
    "# height\tweight의 최대값기준 정규화\n",
    "csv['height'] = csv['height']  / csv['height'].max()\n",
    "csv['weight'] = csv['weight']  / csv['weight'].max()"
   ]
  },
  {
   "cell_type": "code",
   "execution_count": null,
   "metadata": {},
   "outputs": [],
   "source": [
    "csv['height'].min(), csv['height'].max()"
   ]
  },
  {
   "cell_type": "code",
   "execution_count": null,
   "metadata": {},
   "outputs": [],
   "source": [
    "csv['weight'].min(), csv['weight'].max()"
   ]
  },
  {
   "cell_type": "code",
   "execution_count": null,
   "metadata": {},
   "outputs": [],
   "source": [
    "csv.head(2)"
   ]
  },
  {
   "cell_type": "code",
   "execution_count": null,
   "metadata": {},
   "outputs": [],
   "source": [
    "csv['label'].unique()"
   ]
  },
  {
   "cell_type": "code",
   "execution_count": null,
   "metadata": {},
   "outputs": [],
   "source": [
    "# csv['label']의 백터화 => 분류변수\n",
    "labelClass = {\n",
    "    'thin':  [1,0,0],\n",
    "    'normal':[0,1,0],\n",
    "    'fat':   [0,0,1]\n",
    "}"
   ]
  },
  {
   "cell_type": "code",
   "execution_count": null,
   "metadata": {},
   "outputs": [],
   "source": [
    "# 데이터 전환 -> 값으로 배열을 넣는다 => np.array( 리스트 )\n",
    "csv['label_bmi'] = csv['label'].apply( lambda x : np.array( labelClass[x] ) )\n",
    "csv['label_bmi'][:2]"
   ]
  },
  {
   "cell_type": "code",
   "execution_count": null,
   "metadata": {},
   "outputs": [],
   "source": [
    "csv.head(2)"
   ]
  },
  {
   "cell_type": "code",
   "execution_count": null,
   "metadata": {},
   "outputs": [],
   "source": [
    "# 데이터 준비 -> 훈련용 데이터, 검증용 데이터로 분류\n",
    "from sklearn.model_selection import train_test_split"
   ]
  },
  {
   "cell_type": "code",
   "execution_count": null,
   "metadata": {},
   "outputs": [],
   "source": [
    "csv[ ['height','weight'] ].head(1), csv['label_bmi'][:1]"
   ]
  },
  {
   "cell_type": "code",
   "execution_count": null,
   "metadata": {},
   "outputs": [],
   "source": [
    "# 일관성 있게 결과를 얻고 싶다면 => 난수의 시드를 고정해라\n",
    "X_train, X_test, y_train, y_test = train_test_split(\n",
    "    csv[ ['weight','height'] ], csv['label_bmi'],\n",
    "    test_size = 0.25, random_state = 0 )"
   ]
  },
  {
   "cell_type": "code",
   "execution_count": null,
   "metadata": {},
   "outputs": [],
   "source": [
    "X_train.shape, X_test.shape, y_train.shape, y_test.shape"
   ]
  },
  {
   "cell_type": "code",
   "execution_count": null,
   "metadata": {},
   "outputs": [],
   "source": [
    "y_train[:2]"
   ]
  },
  {
   "cell_type": "markdown",
   "metadata": {},
   "source": [
    "- 텐서플로우 등장\n",
    "- 소프트맥스 회귀라는 알고리즘을 사용 -> DL 수행시 자주 사용하는 활성화 함수중에\n",
    "  하나, softmax(), sigmod(),.. : 소프트맥스 회귀->인공신경망과 아주 유사\n",
    "<img src='./sm0.png' width='200'>"
   ]
  },
  {
   "cell_type": "markdown",
   "metadata": {},
   "source": [
    "- 각각의 입력값에 가중치(W)를 곱하고, 편향:바이어스(b)를 더하고 나서 \n",
    "- softmax() 함수를 통과 시키면,  출력값이 나타나게 된다"
   ]
  },
  {
   "cell_type": "markdown",
   "metadata": {},
   "source": [
    "<img src='./sm1.png' width='500'>"
   ]
  },
  {
   "cell_type": "markdown",
   "metadata": {},
   "source": [
    "<img src='./sm2.png' width='500'>"
   ]
  },
  {
   "cell_type": "markdown",
   "metadata": {},
   "source": [
    "<img src='./sm3.png' width='500'>"
   ]
  },
  {
   "cell_type": "markdown",
   "metadata": {},
   "source": [
    "- **y = softmax( Wx + b )**\n",
    "- 실제 텐서플로우로 구현시 차원유지를 위해서 Wx는 xW로 구현할수 있다 행렬곱"
   ]
  },
  {
   "cell_type": "code",
   "execution_count": null,
   "metadata": {},
   "outputs": [],
   "source": [
    "# 소프트맥스회귀 식을 텐서플로우 구현하기 위해 구성요소 정의\n",
    "# 입력 => x => 키, 몸무게  이렇것이  N개\n",
    "#x = tf.placeholder( tf.float32, [None, 2] \n",
    "x  = tf.placeholder(tf.float32, [None, 2])"
   ]
  },
  {
   "cell_type": "code",
   "execution_count": null,
   "metadata": {},
   "outputs": [],
   "source": [
    "# 출력  y_ -> 1,0,0 or 0,1,0 or 0,0,1 -> [None 3]\n",
    "#y_ = tf.placeholder( tf.float32, [None, 3] )\n",
    "y_ = tf.placeholder(tf.float32, [None, 3])"
   ]
  },
  {
   "cell_type": "code",
   "execution_count": null,
   "metadata": {},
   "outputs": [],
   "source": [
    "# 가중치 : W -> 필터, 커널로 표현\n",
    "# W*[None,2] + b = [None,3]\n",
    "# [None,2]*[2, 3] + [3] = [None,3]\n",
    "# tf.zeros() 통해서 해당 행렬에 기본값을 0으로 세팅\n",
    "#W = tf.Variable( tf.zeros([2, 3]) )\n",
    "W = tf.Variable(tf.zeros([2, 3]));"
   ]
  },
  {
   "cell_type": "code",
   "execution_count": null,
   "metadata": {},
   "outputs": [],
   "source": [
    "# 편향, 바이어스\n",
    "#b = tf.Variable( tf.zeros([3]) )\n",
    "b = tf.Variable(tf.zeros([3]));    "
   ]
  },
  {
   "cell_type": "code",
   "execution_count": null,
   "metadata": {},
   "outputs": [],
   "source": [
    "# 데이터 플로우 그래프 y\n",
    "#y = tf.nn.softmax( tf.matmul( x, W ) + b )\n",
    "y = tf.nn.softmax(tf.matmul(x, W) + b)"
   ]
  },
  {
   "cell_type": "code",
   "execution_count": null,
   "metadata": {},
   "outputs": [],
   "source": [
    "'%s x %s + %s = %s' % ( x.shape, W.shape, b.shape, y.shape ) # 출력형태"
   ]
  },
  {
   "cell_type": "markdown",
   "metadata": {},
   "source": [
    "#### 학습\n",
    "\n",
    "- 좋은 모델에 대한 정의\n",
    "- 기준\n",
    "    - 비용(cost), 손실(loss)등 원하는 결과에서 얼마나 떨어져 있는지 지표\n",
    "    - 이런 격차를 줄이는 방향으로 내용 전개. \n",
    "    - 이를 위해서 통상 \"크로스 엔트로피\" 알고리즘 적용\n",
    "    - 정보 이론 분야에 정보 알축 알고리즘으로 고안  \n",
    "    - 도박, 머신러닝등에 중요한 아이디어로 사용\n",
    "    <img src='./sm4.png' width='200'>"
   ]
  },
  {
   "cell_type": "code",
   "execution_count": null,
   "metadata": {},
   "outputs": [],
   "source": [
    "# 텐서플로워로 크로스 엔트로피 구성\n",
    "# y_ : 정답 레이블, y:예측 레이블\n",
    "#cross_entropy = -tf.reduce_sum(y_ * tf.log(y) )\n",
    "cross_entropy = -tf.reduce_sum(y_ * tf.log(y))"
   ]
  },
  {
   "cell_type": "code",
   "execution_count": null,
   "metadata": {},
   "outputs": [],
   "source": [
    "# 크로스 엔트로피값을 최소화 하도록 작업이 진행\n",
    "# 이런 지시는 => 경사 하강법(gradient descent algorithm)으로 수행\n",
    "# 경사하강법을 적용하면, 텐서플로우가 각각의 변수를 비용을 줄이는 방향으로\n",
    "# 조금씩 이동시켜서 연산. => 오차율이 최소가 되게 하기 위해 \n",
    "# 경사 하강법 알고리즘 생성\n",
    "\n",
    "# 하이퍼파라미터 0.01\n",
    "#optimzer = tf.train.GradientDescentOptimizer( 0.01 ) \n",
    "optimizer     = tf.train.GradientDescentOptimizer(0.01)"
   ]
  },
  {
   "cell_type": "code",
   "execution_count": null,
   "metadata": {},
   "outputs": [],
   "source": [
    "# 훈련 정의\n",
    "#train = optimzer.minimize( cross_entropy )\n",
    "train         = optimizer.minimize(cross_entropy)"
   ]
  },
  {
   "cell_type": "code",
   "execution_count": null,
   "metadata": {},
   "outputs": [],
   "source": [
    "# 정답률 예측 정의\n",
    "# y_ : 정답 레이블\n",
    "# y  : 예측 레이블\n",
    "# tf.argmax( y, 1 ) : 모델이 판단하기에 각 데이터별 가장 적합하다고 판단되는라벨\n",
    "predict = tf.equal( tf.argmax( y, 1 ), tf.argmax( y_, 1) )"
   ]
  },
  {
   "cell_type": "code",
   "execution_count": null,
   "metadata": {},
   "outputs": [],
   "source": [
    "# 정확도 정의\n",
    "# predict => 불린형 리스트 => 부동소수 변환 => 평균\n",
    "#accurary = tf.reduce_mean( tf.cast(predict, tf.float32) )\n",
    "accuracy      = tf.reduce_mean(tf.cast(predict, tf.float32))"
   ]
  },
  {
   "cell_type": "markdown",
   "metadata": {},
   "source": [
    "- 세션 가동 => 실제 연산 수행 => 결과 획득"
   ]
  },
  {
   "cell_type": "code",
   "execution_count": null,
   "metadata": {},
   "outputs": [],
   "source": [
    "# 구동을 반복해서 시키면 학습량이 증가해서, 정확도가 상승한다\n",
    "with tf.Session() as sess:\n",
    "    # 변수 초기화\n",
    "    sess.run( tf.global_variables_initializer() )\n",
    "    print( \"W\", W)\n",
    "    print( \"b\", b)\n",
    "    \n",
    "    # 학습 데이터 0 ~ 15000 => 100개 단위로 학습하겟다 => 150회 학습\n",
    "    TERM = 100\n",
    "    size = int(X_train.shape[0]/TERM)\n",
    "    print( \"b\", size)\n",
    "    \n",
    "    # 학습\n",
    "    # 성능 향상(일반적)\n",
    "    for step in range( size*16 ):\n",
    "        # X_train에서 데이터를 추출 ->  시작위치\n",
    "        startIdx = (int)(step * TERM/16)\n",
    "        # 앞에서 부터 TERM  단위로 훈련 데이터를 추출 하겟다\n",
    "        rows = X_train[ startIdx :startIdx + TERM ]\n",
    "    \n",
    "        # 학습 데이터 구성\n",
    "        x_pat = rows[ ['weight','height'] ]\n",
    "        y_ans = list(y_train[ startIdx :startIdx + TERM ])\n",
    "        # 평가를 위한 구조\n",
    "        fd    = { x:x_pat,  y_:y_ans }\n",
    "        \n",
    "        # 학습 세트 훈련\n",
    "        # sess.run 구동시 데이터를 전달 => feed_dict=\n",
    "        sess.run( train, feed_dict=fd )\n",
    "        \n",
    "        # 중간 확인\n",
    "        if step % 16 == 0:# 15번째 마다 점검\n",
    "            # 크로스 엔트로피값 획득\n",
    "            cre = sess.run( cross_entropy, feed_dict=fd )\n",
    "            # 정확도 : X_train, X_test, y_train, y_test\n",
    "            acc = sess.run( accuracy, feed_dict={x:X_test, y_:list(y_test)} )\n",
    "            print( 'step=%s cre=%s acc=%s' % (step, cre, acc) )\n",
    "            \n",
    "    # 최종적인 정답값 확인\n",
    "    acc = sess.run( accuracy, feed_dict={x:X_test, y_:list(y_test)} )\n",
    "    print('정답률', acc)\n",
    "    \n",
    "    # 텐서들의 관계및 흐름을 보기 위해 지원: 텐서보드\n",
    "    tf.summary.FileWriter( './bmi_tf_log', graph=sess.graph )"
   ]
  },
  {
   "cell_type": "code",
   "execution_count": null,
   "metadata": {},
   "outputs": [],
   "source": [
    "# 텐서보드 가동\n",
    "# shell을 가동 \n",
    "!tensorboard --logdir=bmi_tf_log\n",
    "# http://ip:6006"
   ]
  },
  {
   "cell_type": "code",
   "execution_count": null,
   "metadata": {},
   "outputs": [],
   "source": [
    "# 컴퓨터 따라서 실행이 않될수 있으니 \n",
    "$ tensroboard --logdir=bmi_tf_log"
   ]
  },
  {
   "cell_type": "code",
   "execution_count": null,
   "metadata": {},
   "outputs": [],
   "source": []
  },
  {
   "cell_type": "code",
   "execution_count": null,
   "metadata": {},
   "outputs": [],
   "source": []
  },
  {
   "cell_type": "code",
   "execution_count": null,
   "metadata": {},
   "outputs": [],
   "source": []
  },
  {
   "cell_type": "code",
   "execution_count": null,
   "metadata": {},
   "outputs": [],
   "source": []
  },
  {
   "cell_type": "code",
   "execution_count": null,
   "metadata": {},
   "outputs": [],
   "source": []
  },
  {
   "cell_type": "code",
   "execution_count": null,
   "metadata": {},
   "outputs": [],
   "source": []
  }
 ],
 "metadata": {
  "kernelspec": {
   "display_name": "Python 3",
   "language": "python",
   "name": "python3"
  },
  "language_info": {
   "codemirror_mode": {
    "name": "ipython",
    "version": 3
   },
   "file_extension": ".py",
   "mimetype": "text/x-python",
   "name": "python",
   "nbconvert_exporter": "python",
   "pygments_lexer": "ipython3",
   "version": "3.6.5"
  }
 },
 "nbformat": 4,
 "nbformat_minor": 2
}

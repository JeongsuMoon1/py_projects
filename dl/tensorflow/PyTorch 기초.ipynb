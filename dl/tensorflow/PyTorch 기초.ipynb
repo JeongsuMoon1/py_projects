{
 "cells": [
  {
   "cell_type": "markdown",
   "metadata": {},
   "source": [
    "### 설치\n",
    "\n",
    "- window\n",
    "    - conda install -y -c peterjc123 pytorch\n",
    "- mac/linux\n",
    "    - conda install -y pytorch torchvision -c pytorch\n",
    "  \n",
    "- 가장 마지막에 강사님이 수정해주신 설치문\n",
    "    - conda install pytorch-cpu torchvision-cpu -c pytorch"
   ]
  },
  {
   "cell_type": "markdown",
   "metadata": {},
   "source": [
    "### PyTorch( 파이토치 )\n",
    "\n",
    "- 딥러닝 프레임웍(엔진)\n",
    "- Lua(루아) 언어로 만든 오픈소스 라이브러리\n",
    "- 뉴욕대 + 페이스북 공동 개발\n",
    "- 루아로 만들어 뒀을때는 별로 인기가 없었다( 접근성 힘듬 ), 파이썬 버전으로 나오고나서 1.0발표후 급격하게 증가\n",
    "- 딥러닝 프레임웍의 특성\n",
    "    - 복잡한, 큰 계산 그래프를 손쉽게 개발할 수 있다\n",
    "    - 계산 그래프를 이용하여 미적분 같은 연산도 쉽게 처리 \n",
    "    - GPU 연산을 효율적으로 수행\n",
    "- 파이토치 특징\n",
    "    - Numpy 기반 Tensor 연산을 GPU로 수행 가능 \n",
    "    - 자동미분시스템을 이용하여 모델을 쉽게 구성한다\n",
    "    - 파이썬과 같이 활용\n",
    "        - scipy :과학 컴퓨팅과 기술 컴퓨팅에 사용\n",
    "        - Numpy : 행렬, 대규모의 다차원 배열을 쉽게 처리하는 수학, 과학용 라이브러리\n",
    "        - Cython : 파이썬의 빠른 생산성, 외부 C의 강력한 처리속도를 연동하여 수행\n",
    "    - Dynamic Graph Define : 변수 선언 동시에 그래프를 그리고 연산을 가능하게 만든다"
   ]
  },
  {
   "cell_type": "markdown",
   "metadata": {},
   "source": [
    "### Tensorflow vs PyTorch\n",
    "** 장르의 경계는 없다 **\n",
    "\n",
    "- Tensorflow : 산업용\n",
    "    - Define-and-Run 방식\n",
    "        - 계산 그래프를 그림\n",
    "        - 세션에 그래프에 들어갈 수치를 대입\n",
    "        - 연산 실행\n",
    "- PyTorch : 학계용\n",
    "    - Define-by-Run 방식\n",
    "        - 계산 그래프를 그리는 동시에\n",
    "        - 그래프에 들어간 숫자를 보관하고 있고\n",
    "        - 연산 실행이 바로 수행 가능하다\n",
    "    - 2018.10 이후 산업용으로 확산되고 있다. ( 제품화 솔루션을 지원 )"
   ]
  },
  {
   "cell_type": "markdown",
   "metadata": {},
   "source": [
    "- 텐서 : Tensor\n",
    "    - 딥러닝은 텐서를 기반으로 진행하는 연산의 연속\n",
    "    - 텐서의 종류 : 딥러닝의 중요 단위\n",
    "    \n",
    "    <img src='./8.tensor.jpeg' >"
   ]
  },
  {
   "cell_type": "code",
   "execution_count": null,
   "metadata": {},
   "outputs": [],
   "source": []
  },
  {
   "cell_type": "code",
   "execution_count": null,
   "metadata": {},
   "outputs": [],
   "source": []
  },
  {
   "cell_type": "code",
   "execution_count": 8,
   "metadata": {},
   "outputs": [],
   "source": [
    "import torch\n",
    "import numpy as np"
   ]
  },
  {
   "cell_type": "code",
   "execution_count": 9,
   "metadata": {},
   "outputs": [
    {
     "data": {
      "text/plain": [
       "tensor([[1., 2., 3.],\n",
       "        [4., 5., 6.]])"
      ]
     },
     "execution_count": 9,
     "metadata": {},
     "output_type": "execute_result"
    }
   ],
   "source": [
    "# 리스트로부터 텐서 생성\n",
    "tmp_list = [[1,2,3],[4,5,6]] \n",
    "x_list_tensor = torch.Tensor( tmp_list ) # 그냥 tensorflow 같은 경우에는 sess를 통해서 run해야 돌아가는데 torch는 파이썬처럼 바로 실행\n",
    "# 텐서를 생성하면 정수값도 float(실수)로 변환된다\n",
    "x_list_tensor"
   ]
  },
  {
   "cell_type": "code",
   "execution_count": 10,
   "metadata": {},
   "outputs": [
    {
     "data": {
      "text/plain": [
       "[[1.0, 2.0, 3.0], [4.0, 5.0, 6.0]]"
      ]
     },
     "execution_count": 10,
     "metadata": {},
     "output_type": "execute_result"
    }
   ],
   "source": [
    "# 원복 : Tensor => 리스트 추출\n",
    "x_list_tensor.tolist() # list로 내보낸다는 뜻"
   ]
  },
  {
   "cell_type": "code",
   "execution_count": 11,
   "metadata": {},
   "outputs": [
    {
     "data": {
      "text/plain": [
       "array([[1, 2, 3],\n",
       "       [4, 5, 6]])"
      ]
     },
     "execution_count": 11,
     "metadata": {},
     "output_type": "execute_result"
    }
   ],
   "source": [
    "# 배열(numpy ndarray) : \n",
    "x_numpy_array = np.array( tmp_list )\n",
    "x_numpy_array # 2차원 배열(매트릭스) 출력"
   ]
  },
  {
   "cell_type": "code",
   "execution_count": 12,
   "metadata": {},
   "outputs": [
    {
     "data": {
      "text/plain": [
       "tensor([[1., 2., 3.],\n",
       "        [4., 5., 6.]])"
      ]
     },
     "execution_count": 12,
     "metadata": {},
     "output_type": "execute_result"
    }
   ],
   "source": [
    "x = torch.Tensor( x_numpy_array )\n",
    "x"
   ]
  },
  {
   "cell_type": "code",
   "execution_count": 13,
   "metadata": {},
   "outputs": [
    {
     "data": {
      "text/plain": [
       "array([[1., 2., 3.],\n",
       "       [4., 5., 6.]], dtype=float32)"
      ]
     },
     "execution_count": 13,
     "metadata": {},
     "output_type": "execute_result"
    }
   ],
   "source": [
    "# 원복\n",
    "x.numpy() # 행렬을 넣어서 만들고 행렬을 빼서 만들고 "
   ]
  },
  {
   "cell_type": "code",
   "execution_count": null,
   "metadata": {},
   "outputs": [],
   "source": []
  },
  {
   "cell_type": "markdown",
   "metadata": {},
   "source": [
    "- GPU"
   ]
  },
  {
   "cell_type": "code",
   "execution_count": 14,
   "metadata": {},
   "outputs": [
    {
     "data": {
      "text/plain": [
       "device(type='cpu')"
      ]
     },
     "execution_count": 14,
     "metadata": {},
     "output_type": "execute_result"
    }
   ],
   "source": [
    "x.device"
   ]
  },
  {
   "cell_type": "code",
   "execution_count": 15,
   "metadata": {},
   "outputs": [
    {
     "name": "stdout",
     "output_type": "stream",
     "text": [
      "cuda 미지원 Torch not compiled with CUDA enabled\n"
     ]
    }
   ],
   "source": [
    "# NVIDIA의 cuda 지원 여부\n",
    "device ='cuda'\n",
    "try :\n",
    "    x = x.to(device)\n",
    "    print('%s 지원' % device, x )\n",
    "except Exception as e :\n",
    "    print('%s 미지원' % device, e )"
   ]
  },
  {
   "cell_type": "code",
   "execution_count": 16,
   "metadata": {},
   "outputs": [
    {
     "name": "stdout",
     "output_type": "stream",
     "text": [
      "cpu 지원 tensor([[1., 2., 3.],\n",
      "        [4., 5., 6.]])\n"
     ]
    }
   ],
   "source": [
    "device = 'cpu'\n",
    "try :\n",
    "    x = x.to(device)\n",
    "    print('%s 지원' % device, x )\n",
    "except Exception as e :\n",
    "    print('%s 미지원' % device, e )"
   ]
  },
  {
   "cell_type": "code",
   "execution_count": null,
   "metadata": {},
   "outputs": [],
   "source": []
  },
  {
   "cell_type": "markdown",
   "metadata": {},
   "source": [
    "- 랜덤 텐서 생성"
   ]
  },
  {
   "cell_type": "code",
   "execution_count": 17,
   "metadata": {},
   "outputs": [
    {
     "data": {
      "text/plain": [
       "tensor([[0.8001, 0.9320, 0.9456],\n",
       "        [0.0104, 0.0650, 0.9573]])"
      ]
     },
     "execution_count": 17,
     "metadata": {},
     "output_type": "execute_result"
    }
   ],
   "source": [
    "# 2x3 행렬(매트릭스)을 생성하게 된다, 난수값 0~1사이\n",
    "torch.rand(2, 3)\n"
   ]
  },
  {
   "cell_type": "code",
   "execution_count": 18,
   "metadata": {},
   "outputs": [
    {
     "data": {
      "text/plain": [
       "tensor([[3, 4, 2],\n",
       "        [0, 3, 4]])"
      ]
     },
     "execution_count": 18,
     "metadata": {},
     "output_type": "execute_result"
    }
   ],
   "source": [
    "# 0~5( 0 <= x < 5 ) 사이 랜덤값 2x3 행렬 생성\n",
    "torch.randint( low=0, high=5, size=(2,3) ) # 0과 5사이 , 확률적으로 5는 안나온다"
   ]
  },
  {
   "cell_type": "code",
   "execution_count": 19,
   "metadata": {},
   "outputs": [
    {
     "data": {
      "text/plain": [
       "tensor([[0., 0.],\n",
       "        [0., 0.]])"
      ]
     },
     "execution_count": 19,
     "metadata": {},
     "output_type": "execute_result"
    }
   ],
   "source": [
    "# 영행렬\n",
    "torch.zeros( 2, 2 )"
   ]
  },
  {
   "cell_type": "code",
   "execution_count": 20,
   "metadata": {},
   "outputs": [
    {
     "data": {
      "text/plain": [
       "tensor([[1., 1.],\n",
       "        [1., 1.]])"
      ]
     },
     "execution_count": 20,
     "metadata": {},
     "output_type": "execute_result"
    }
   ],
   "source": [
    "# 구성원이 1인 행렬\n",
    "torch.ones( 2, 2 )"
   ]
  },
  {
   "cell_type": "code",
   "execution_count": 21,
   "metadata": {},
   "outputs": [
    {
     "data": {
      "text/plain": [
       "tensor([[0., 0., 0.],\n",
       "        [0., 0., 0.]])"
      ]
     },
     "execution_count": 21,
     "metadata": {},
     "output_type": "execute_result"
    }
   ],
   "source": [
    "# 특정 텐서의 크기와 동일한 영행렬을 만들어라\n",
    "torch.zeros_like( x )"
   ]
  },
  {
   "cell_type": "code",
   "execution_count": 22,
   "metadata": {},
   "outputs": [
    {
     "data": {
      "text/plain": [
       "tensor([[1., 1., 1.],\n",
       "        [1., 1., 1.]])"
      ]
     },
     "execution_count": 22,
     "metadata": {},
     "output_type": "execute_result"
    }
   ],
   "source": [
    "# 특정 텐서의 크기와 동일한 영행렬을 만들어라\n",
    "torch.ones_like( x )"
   ]
  },
  {
   "cell_type": "code",
   "execution_count": 23,
   "metadata": {},
   "outputs": [],
   "source": [
    "# GPU 기반으로 만들고 싶을 때 쓰는 알고리즘\n",
    "# GPU를 이용하여 동일 크기의 영행렬 생성\n",
    "try :\n",
    "    torch.zeros_like( x.cuda() )\n",
    "except Exception as e : pass"
   ]
  },
  {
   "cell_type": "code",
   "execution_count": null,
   "metadata": {},
   "outputs": [],
   "source": []
  },
  {
   "cell_type": "markdown",
   "metadata": {},
   "source": [
    "- 텐서의 타입\n",
    "    - dtype : numpy 기준으로 쓰는 표현\n",
    "    - 결국에는 다 동일한 것을 뜻한다(형식은 같은데 표현은 다른것이다)\n",
    "    <img src='./8.torch_type.png'>"
   ]
  },
  {
   "cell_type": "code",
   "execution_count": 24,
   "metadata": {},
   "outputs": [],
   "source": [
    "# 실수형 텐서\n",
    "a = torch.FloatTensor( x_numpy_array )"
   ]
  },
  {
   "cell_type": "code",
   "execution_count": 25,
   "metadata": {},
   "outputs": [
    {
     "data": {
      "text/plain": [
       "('torch.FloatTensor', torch.Tensor, tensor([[1., 2., 3.],\n",
       "         [4., 5., 6.]]))"
      ]
     },
     "execution_count": 25,
     "metadata": {},
     "output_type": "execute_result"
    }
   ],
   "source": [
    "# 타입 확인은 tensor.type() 을 쓰도록 한다\n",
    "a.type(), type(a), a\n"
   ]
  },
  {
   "cell_type": "code",
   "execution_count": 26,
   "metadata": {},
   "outputs": [
    {
     "data": {
      "text/plain": [
       "('torch.IntTensor', tensor([[1, 2, 3],\n",
       "         [4, 5, 6]], dtype=torch.int32))"
      ]
     },
     "execution_count": 26,
     "metadata": {},
     "output_type": "execute_result"
    }
   ],
   "source": [
    "# 정수형 텐서\n",
    "b = torch.IntTensor( x_numpy_array )\n",
    "b.type(), b # 별도 지정안하면 float로 갈 것이고, 지정을 하면int로 되든 다른것이 될 것이다(명확하게 타입을 정의할 필요가 있다)"
   ]
  },
  {
   "cell_type": "code",
   "execution_count": 27,
   "metadata": {},
   "outputs": [],
   "source": [
    "# numpy ndarray => 행렬의 구성의 모든 타입은 동일하다"
   ]
  },
  {
   "cell_type": "code",
   "execution_count": 28,
   "metadata": {},
   "outputs": [
    {
     "data": {
      "text/plain": [
       "('torch.ByteTensor', tensor([1, 0, 1, 0], dtype=torch.uint8))"
      ]
     },
     "execution_count": 28,
     "metadata": {},
     "output_type": "execute_result"
    }
   ],
   "source": [
    "# 8-bit unsigned ByteTensor, 2진 데이터\n",
    "c = torch.ByteTensor( [True, False, True, False] )\n",
    "c.type(), c # 불리언"
   ]
  },
  {
   "cell_type": "code",
   "execution_count": null,
   "metadata": {},
   "outputs": [],
   "source": []
  },
  {
   "cell_type": "markdown",
   "metadata": {},
   "source": [
    "- 텐서 오퍼레이션\n",
    "    - 슬라이싱\n",
    "    - 뷰\n",
    "    - 트렌스포즈 \n",
    "    - 스퀴즈, 언스퀴즈\n",
    "    - 캣(cat), 스택(stack)\n",
    "    - 기본연산 (더하기, 빼기, 곱하기, 나누기)\n",
    "    - 최대, 최소\n",
    "    - 논리연산"
   ]
  },
  {
   "cell_type": "markdown",
   "metadata": {},
   "source": [
    "- Slicing"
   ]
  },
  {
   "cell_type": "code",
   "execution_count": 29,
   "metadata": {},
   "outputs": [
    {
     "data": {
      "text/plain": [
       "<torch._C.Generator at 0x1c429b6ca90>"
      ]
     },
     "execution_count": 29,
     "metadata": {},
     "output_type": "execute_result"
    }
   ],
   "source": [
    "# 작업의 일관성을 주기 위해 -> 씨드를 준다 \n",
    "torch.manual_seed( 555 )"
   ]
  },
  {
   "cell_type": "code",
   "execution_count": 30,
   "metadata": {},
   "outputs": [],
   "source": [
    "# 크기가 2,3,4 인 3차원 텐서(큐브)를 생성하시오, 값은 0 <= n < 9, 변수는 x, 정수, 랜덤\n",
    "x = torch.randint( 0, 10, size=(2,3,4) ) #low=0, high=10, size=(2,3,4) )"
   ]
  },
  {
   "cell_type": "code",
   "execution_count": null,
   "metadata": {},
   "outputs": [],
   "source": []
  },
  {
   "cell_type": "code",
   "execution_count": 31,
   "metadata": {},
   "outputs": [],
   "source": [
    "# 차원축소를 3차 -> 2차 -> 1차 로 빼서 큐브의 9를 뺀다\n",
    "# pandas에서는 , , , 로 차원을 표현해서 뺐었다 "
   ]
  },
  {
   "cell_type": "code",
   "execution_count": 32,
   "metadata": {},
   "outputs": [
    {
     "data": {
      "text/plain": [
       "tensor([[6, 0, 3, 5],\n",
       "        [8, 3, 4, 0],\n",
       "        [3, 1, 4, 9]])"
      ]
     },
     "execution_count": 32,
     "metadata": {},
     "output_type": "execute_result"
    }
   ],
   "source": [
    "x[0] # matrix가 됨"
   ]
  },
  {
   "cell_type": "code",
   "execution_count": 33,
   "metadata": {},
   "outputs": [
    {
     "data": {
      "text/plain": [
       "tensor([3, 1, 4, 9])"
      ]
     },
     "execution_count": 33,
     "metadata": {},
     "output_type": "execute_result"
    }
   ],
   "source": [
    "x[0][2]"
   ]
  },
  {
   "cell_type": "code",
   "execution_count": 34,
   "metadata": {},
   "outputs": [
    {
     "data": {
      "text/plain": [
       "tensor(9)"
      ]
     },
     "execution_count": 34,
     "metadata": {},
     "output_type": "execute_result"
    }
   ],
   "source": [
    "# 차원 축소하는 방식은 차원별로 []를 사용하는 방법도 가능\n",
    "x[0][2][3]"
   ]
  },
  {
   "cell_type": "code",
   "execution_count": 35,
   "metadata": {},
   "outputs": [
    {
     "data": {
      "text/plain": [
       "tensor(9)"
      ]
     },
     "execution_count": 35,
     "metadata": {},
     "output_type": "execute_result"
    }
   ],
   "source": [
    "# 차원별로 인덱스를 나열하는 것도 가능\n",
    "x[0, 2, 3]"
   ]
  },
  {
   "cell_type": "code",
   "execution_count": null,
   "metadata": {},
   "outputs": [],
   "source": []
  },
  {
   "cell_type": "code",
   "execution_count": 36,
   "metadata": {},
   "outputs": [],
   "source": [
    "# 텐서 시각화\n",
    "import matplotlib.pyplot as plt"
   ]
  },
  {
   "cell_type": "code",
   "execution_count": 37,
   "metadata": {},
   "outputs": [
    {
     "data": {
      "text/plain": [
       "(2, 3)"
      ]
     },
     "execution_count": 37,
     "metadata": {},
     "output_type": "execute_result"
    }
   ],
   "source": [
    "# 크기가 2,3,4 인 3차원\n",
    "len(x), len(x[0])"
   ]
  },
  {
   "cell_type": "code",
   "execution_count": 38,
   "metadata": {},
   "outputs": [],
   "source": [
    "def tensor_draw( tmp ):\n",
    "    fig, axes = plt.subplots( len(tmp), 1 ) # 하나 이상 plot는 s를 붙여서 plots로 표현, len(tmp) : 2개의 2차원을 표현하겠다는 뜻이다\n",
    "    for i in range( len(tmp) ) : # 2차원 이기 때문에 2바퀴를 돌 것이다\n",
    "        # 차트의 최대값1, 최소값0, 배열의 1차원의 첫번째 두번째 등 ..각각 그린다\n",
    "        # 값이 0 혹은 1 이므로 연산의 결과를 필터를 통과시켜 영향을 받는 부분을\n",
    "        # 0으로 표시하여, 시각화 시 검은색으로 표현된 부분이 연산의 영향받은 부분으로 판정\n",
    "        \n",
    "        axes[i].matshow( tmp.numpy()[i], vmin=0, vmax=1, cmap='gray' ) # axes[i] : 차트가 돤다 -> tmp(텐서)에서 numpy를 뽑는다\n",
    "    plt.show()\n",
    "    \n",
    "    "
   ]
  },
  {
   "cell_type": "code",
   "execution_count": 41,
   "metadata": {},
   "outputs": [
    {
     "data": {
      "text/plain": [
       "tensor([[[1, 1, 1, 1],\n",
       "         [1, 1, 1, 1],\n",
       "         [1, 1, 1, 1]],\n",
       "\n",
       "        [[1, 1, 1, 1],\n",
       "         [1, 1, 1, 1],\n",
       "         [1, 1, 1, 1]]])"
      ]
     },
     "execution_count": 41,
     "metadata": {},
     "output_type": "execute_result"
    }
   ],
   "source": [
    "# x와 동일한 크기의 텐서인 1로 채워진 큐브(행렬)를 구성하시오\n",
    "tmp = torch.ones_like(x) # 1로 채워진 : ones\n",
    "tmp"
   ]
  },
  {
   "cell_type": "code",
   "execution_count": 42,
   "metadata": {},
   "outputs": [],
   "source": [
    "# x[ 0, 1, 2, 3 ] 값을 찾아라\n",
    "# 시각적으로 위치가 어디인가\n",
    "tmp[0,2,3] = 0 # 원본에다가 값을 바꿔준다"
   ]
  },
  {
   "cell_type": "code",
   "execution_count": 43,
   "metadata": {},
   "outputs": [
    {
     "data": {
      "image/png": "[encoded data removed]",
      "text/plain": [
       "<Figure size 432x288 with 2 Axes>"
      ]
     },
     "metadata": {},
     "output_type": "display_data"
    }
   ],
   "source": [
    "tensor_draw( tmp )"
   ]
  },
  {
   "cell_type": "code",
   "execution_count": null,
   "metadata": {},
   "outputs": [],
   "source": []
  },
  {
   "cell_type": "code",
   "execution_count": 44,
   "metadata": {},
   "outputs": [
    {
     "data": {
      "text/plain": [
       "tensor([[[0, 0, 0, 0],\n",
       "         [0, 0, 0, 0],\n",
       "         [0, 0, 0, 0]],\n",
       "\n",
       "        [[0, 0, 0, 0],\n",
       "         [0, 0, 0, 0],\n",
       "         [0, 0, 0, 0]]])"
      ]
     },
     "execution_count": 44,
     "metadata": {},
     "output_type": "execute_result"
    }
   ],
   "source": [
    "tmp1 = torch.zeros_like(x)\n",
    "tmp1"
   ]
  },
  {
   "cell_type": "code",
   "execution_count": 45,
   "metadata": {},
   "outputs": [],
   "source": [
    "tmp1[ 0, 2, 3 ] = 1"
   ]
  },
  {
   "cell_type": "code",
   "execution_count": 46,
   "metadata": {},
   "outputs": [
    {
     "data": {
      "text/plain": [
       "tensor([[[0, 0, 0, 0],\n",
       "         [0, 0, 0, 0],\n",
       "         [0, 0, 0, 9]],\n",
       "\n",
       "        [[0, 0, 0, 0],\n",
       "         [0, 0, 0, 0],\n",
       "         [0, 0, 0, 0]]])"
      ]
     },
     "execution_count": 46,
     "metadata": {},
     "output_type": "execute_result"
    }
   ],
   "source": [
    "x * tmp1"
   ]
  },
  {
   "cell_type": "code",
   "execution_count": 47,
   "metadata": {},
   "outputs": [
    {
     "data": {
      "image/png": "[encoded data removed]",
      "text/plain": [
       "<Figure size 432x288 with 2 Axes>"
      ]
     },
     "metadata": {},
     "output_type": "display_data"
    }
   ],
   "source": [
    "# 인덱싱을 하는 것과 비슷하다\n",
    "tensor_draw( x * tmp1 ) # 필요없는것은 제외하고 필요한것만 표시"
   ]
  },
  {
   "cell_type": "code",
   "execution_count": null,
   "metadata": {},
   "outputs": [],
   "source": []
  },
  {
   "cell_type": "code",
   "execution_count": 48,
   "metadata": {},
   "outputs": [
    {
     "data": {
      "text/plain": [
       "tensor([5, 0])"
      ]
     },
     "execution_count": 48,
     "metadata": {},
     "output_type": "execute_result"
    }
   ],
   "source": [
    "x[0, :2, 3] # 결론적으로 2개가 나온다, 2x1 (벡터로 출력)"
   ]
  },
  {
   "cell_type": "code",
   "execution_count": 49,
   "metadata": {},
   "outputs": [],
   "source": [
    "tmp1 = torch.zeros_like(x)"
   ]
  },
  {
   "cell_type": "code",
   "execution_count": 50,
   "metadata": {},
   "outputs": [
    {
     "data": {
      "text/plain": [
       "tensor([[[0, 0, 0, 1],\n",
       "         [0, 0, 0, 1],\n",
       "         [0, 0, 0, 0]],\n",
       "\n",
       "        [[0, 0, 0, 0],\n",
       "         [0, 0, 0, 0],\n",
       "         [0, 0, 0, 0]]])"
      ]
     },
     "execution_count": 50,
     "metadata": {},
     "output_type": "execute_result"
    }
   ],
   "source": [
    "tmp1[0, :2, 3] = 1\n",
    "tmp1"
   ]
  },
  {
   "cell_type": "code",
   "execution_count": 51,
   "metadata": {},
   "outputs": [
    {
     "data": {
      "image/png": "[encoded data removed]",
      "text/plain": [
       "<Figure size 432x288 with 2 Axes>"
      ]
     },
     "metadata": {},
     "output_type": "display_data"
    }
   ],
   "source": [
    "tensor_draw( x * tmp1 )"
   ]
  },
  {
   "cell_type": "code",
   "execution_count": null,
   "metadata": {},
   "outputs": [],
   "source": []
  },
  {
   "cell_type": "markdown",
   "metadata": {},
   "source": [
    "- view\n",
    "    - 쉐이프(shape)의 변경\n",
    "    - numpy reshape()과 동일, 실제도 그 함수 존재"
   ]
  },
  {
   "cell_type": "code",
   "execution_count": 52,
   "metadata": {},
   "outputs": [
    {
     "data": {
      "text/plain": [
       "torch.Size([2, 3, 4])"
      ]
     },
     "execution_count": 52,
     "metadata": {},
     "output_type": "execute_result"
    }
   ],
   "source": [
    "x.shape"
   ]
  },
  {
   "cell_type": "code",
   "execution_count": 53,
   "metadata": {},
   "outputs": [],
   "source": [
    "# x = 2*3*4 => 24"
   ]
  },
  {
   "cell_type": "code",
   "execution_count": 54,
   "metadata": {},
   "outputs": [
    {
     "data": {
      "text/plain": [
       "tensor([[[6, 0, 3, 5, 8, 3],\n",
       "         [4, 0, 3, 1, 4, 9]],\n",
       "\n",
       "        [[6, 4, 0, 8, 5, 4],\n",
       "         [9, 3, 4, 0, 0, 8]]])"
      ]
     },
     "execution_count": 54,
     "metadata": {},
     "output_type": "execute_result"
    }
   ],
   "source": [
    "# 2 * 2 * 6 = 24 , 스칼라는 맞춰야 한다\n",
    "# 순차적으로 6개를 맞추고, 부족하면 다음 차원에서 당기고\n",
    "# 다음번은 사용한 다음부터 차례대로 개수를 맞춰서 차원을 구성\n",
    "x.view( 2, 2, 6 ) # 위의 x.shape과 비교해 볼 것"
   ]
  },
  {
   "cell_type": "code",
   "execution_count": 55,
   "metadata": {},
   "outputs": [
    {
     "data": {
      "text/plain": [
       "tensor([[[6, 0, 3, 5, 8, 3],\n",
       "         [4, 0, 3, 1, 4, 9]],\n",
       "\n",
       "        [[6, 4, 0, 8, 5, 4],\n",
       "         [9, 3, 4, 0, 0, 8]]])"
      ]
     },
     "execution_count": 55,
     "metadata": {},
     "output_type": "execute_result"
    }
   ],
   "source": [
    "x.reshape( 2, 2, 6 ) # reshape(tensor에서 쓸 경우 호환 좋다)을 써도 되고, view를 써도 상관없다"
   ]
  },
  {
   "cell_type": "code",
   "execution_count": 56,
   "metadata": {},
   "outputs": [
    {
     "data": {
      "text/plain": [
       "tensor([[[6, 0, 3, 5, 8, 3, 4, 0, 3, 1, 4, 9]],\n",
       "\n",
       "        [[6, 4, 0, 8, 5, 4, 9, 3, 4, 0, 0, 8]]])"
      ]
     },
     "execution_count": 56,
     "metadata": {},
     "output_type": "execute_result"
    }
   ],
   "source": [
    "# -1 : 몇개가 될지 모르겠다. 뒤를 맞추고 나오는대로 앞에를 세팅\n",
    "x.view( -1, 1, 12 )"
   ]
  },
  {
   "cell_type": "code",
   "execution_count": null,
   "metadata": {},
   "outputs": [],
   "source": []
  },
  {
   "cell_type": "markdown",
   "metadata": {},
   "source": [
    "- transpose : 차원 맞교환"
   ]
  },
  {
   "cell_type": "code",
   "execution_count": 57,
   "metadata": {},
   "outputs": [
    {
     "data": {
      "text/plain": [
       "(tensor([[[6, 0, 3, 5],\n",
       "          [8, 3, 4, 0],\n",
       "          [3, 1, 4, 9]],\n",
       " \n",
       "         [[6, 4, 0, 8],\n",
       "          [5, 4, 9, 3],\n",
       "          [4, 0, 0, 8]]]), torch.Size([2, 3, 4]))"
      ]
     },
     "execution_count": 57,
     "metadata": {},
     "output_type": "execute_result"
    }
   ],
   "source": [
    "x, x.shape"
   ]
  },
  {
   "cell_type": "code",
   "execution_count": 58,
   "metadata": {},
   "outputs": [
    {
     "data": {
      "text/plain": [
       "torch.Size([3, 2, 4])"
      ]
     },
     "execution_count": 58,
     "metadata": {},
     "output_type": "execute_result"
    }
   ],
   "source": [
    "# 0차원과 1차원을 맞교환 한다\n",
    "# 2x3x4 => 3x2x4\n",
    "x_trans = x.transpose( 0, 1 ) \n",
    "x_trans.size()"
   ]
  },
  {
   "cell_type": "code",
   "execution_count": 59,
   "metadata": {},
   "outputs": [
    {
     "data": {
      "text/plain": [
       "tensor([[[6, 0, 3, 5],\n",
       "         [6, 4, 0, 8]],\n",
       "\n",
       "        [[8, 3, 4, 0],\n",
       "         [5, 4, 9, 3]],\n",
       "\n",
       "        [[3, 1, 4, 9],\n",
       "         [4, 0, 0, 8]]])"
      ]
     },
     "execution_count": 59,
     "metadata": {},
     "output_type": "execute_result"
    }
   ],
   "source": [
    "x_trans # 첫번째와 첫번째를 묶어서 첫번째를 만들고, 두번째와 두번째를 합쳐서 두번째를 만들고, 세번째와 세번째를 합쳐서 세번째를 만들었다."
   ]
  },
  {
   "cell_type": "code",
   "execution_count": null,
   "metadata": {},
   "outputs": [],
   "source": []
  },
  {
   "cell_type": "markdown",
   "metadata": {},
   "source": [
    "- squeeze, unsqueeze"
   ]
  },
  {
   "cell_type": "code",
   "execution_count": 60,
   "metadata": {},
   "outputs": [
    {
     "data": {
      "text/plain": [
       "tensor([[[[[0.0398],\n",
       "           [0.8046],\n",
       "           [0.5817],\n",
       "           [0.6492],\n",
       "           [0.1950]],\n",
       "\n",
       "          [[0.8084],\n",
       "           [0.3840],\n",
       "           [0.5138],\n",
       "           [0.5459],\n",
       "           [0.1367]],\n",
       "\n",
       "          [[0.8506],\n",
       "           [0.1196],\n",
       "           [0.5192],\n",
       "           [0.8217],\n",
       "           [0.9222]]]],\n",
       "\n",
       "\n",
       "\n",
       "        [[[[0.8682],\n",
       "           [0.5972],\n",
       "           [0.5665],\n",
       "           [0.7233],\n",
       "           [0.4122]],\n",
       "\n",
       "          [[0.2826],\n",
       "           [0.4488],\n",
       "           [0.7025],\n",
       "           [0.1841],\n",
       "           [0.5332]],\n",
       "\n",
       "          [[0.8836],\n",
       "           [0.1434],\n",
       "           [0.7834],\n",
       "           [0.4374],\n",
       "           [0.0954]]]]])"
      ]
     },
     "execution_count": 60,
     "metadata": {},
     "output_type": "execute_result"
    }
   ],
   "source": [
    "x = torch.rand( (2, 1, 3, 5, 1) ) # 튜플을 넣어준다면, 랜덤에 크기만 지정해준다, 5차원 만들어짐, 마지막 차원인1이 1이라서 한개씩 들어간다(결국 마지막 차원만 주의깊게 보면 된다)\n",
    "x"
   ]
  },
  {
   "cell_type": "code",
   "execution_count": 61,
   "metadata": {},
   "outputs": [
    {
     "data": {
      "text/plain": [
       "torch.Size([2, 3, 5])"
      ]
     },
     "execution_count": 61,
     "metadata": {},
     "output_type": "execute_result"
    }
   ],
   "source": [
    "# 모든 차원에서 1차값을 가진 차원을 제거 => 2, 3, 5 ( 차원 하나는 의미가 없기 때문에 걷어낸다 ) -> 그럼 5개씩(마지막 차원이 5이기 때문이다) 묶여서 하나에 들어간다\n",
    "x.squeeze().size()"
   ]
  },
  {
   "cell_type": "code",
   "execution_count": 62,
   "metadata": {},
   "outputs": [
    {
     "data": {
      "text/plain": [
       "tensor([[[0.0398, 0.8046, 0.5817, 0.6492, 0.1950],\n",
       "         [0.8084, 0.3840, 0.5138, 0.5459, 0.1367],\n",
       "         [0.8506, 0.1196, 0.5192, 0.8217, 0.9222]],\n",
       "\n",
       "        [[0.8682, 0.5972, 0.5665, 0.7233, 0.4122],\n",
       "         [0.2826, 0.4488, 0.7025, 0.1841, 0.5332],\n",
       "         [0.8836, 0.1434, 0.7834, 0.4374, 0.0954]]])"
      ]
     },
     "execution_count": 62,
     "metadata": {},
     "output_type": "execute_result"
    }
   ],
   "source": [
    "x.squeeze() # 결국에는 연산량이 줄어든다"
   ]
  },
  {
   "cell_type": "code",
   "execution_count": 63,
   "metadata": {},
   "outputs": [
    {
     "data": {
      "text/plain": [
       "tensor([[[[[0.0398],\n",
       "           [0.8046],\n",
       "           [0.5817],\n",
       "           [0.6492],\n",
       "           [0.1950]],\n",
       "\n",
       "          [[0.8084],\n",
       "           [0.3840],\n",
       "           [0.5138],\n",
       "           [0.5459],\n",
       "           [0.1367]],\n",
       "\n",
       "          [[0.8506],\n",
       "           [0.1196],\n",
       "           [0.5192],\n",
       "           [0.8217],\n",
       "           [0.9222]]]],\n",
       "\n",
       "\n",
       "\n",
       "        [[[[0.8682],\n",
       "           [0.5972],\n",
       "           [0.5665],\n",
       "           [0.7233],\n",
       "           [0.4122]],\n",
       "\n",
       "          [[0.2826],\n",
       "           [0.4488],\n",
       "           [0.7025],\n",
       "           [0.1841],\n",
       "           [0.5332]],\n",
       "\n",
       "          [[0.8836],\n",
       "           [0.1434],\n",
       "           [0.7834],\n",
       "           [0.4374],\n",
       "           [0.0954]]]]])"
      ]
     },
     "execution_count": 63,
     "metadata": {},
     "output_type": "execute_result"
    }
   ],
   "source": [
    "# 위에랑 똑같은데 인자 1을 집어넣어주면 앞쪽에서 처음 존재하는 1을 제거한다\n",
    "# 행렬의 두번째 차원 (인덱스로는 1 )를 스퀴즈 한다.\n",
    "# 스퀴즈는 차원이 1일 경우에만 사용 가능하다\n",
    "x.squeeze(1).size()\n",
    "x "
   ]
  },
  {
   "cell_type": "code",
   "execution_count": 64,
   "metadata": {},
   "outputs": [
    {
     "data": {
      "text/plain": [
       "torch.Size([2, 1, 3, 1, 5, 1])"
      ]
     },
     "execution_count": 64,
     "metadata": {},
     "output_type": "execute_result"
    }
   ],
   "source": [
    "# 인덱스 3번인 4차원 자리에 차원의 크기 1인 행렬을 삽입 ( 3과 5 사이에 1이 하나 들어간다 )\n",
    "x.unsqueeze(3).size() "
   ]
  },
  {
   "cell_type": "code",
   "execution_count": null,
   "metadata": {},
   "outputs": [],
   "source": []
  },
  {
   "cell_type": "markdown",
   "metadata": {},
   "source": [
    "- cat, stack ( 데이터프레임에서 경합(merge, concat과 비슷한 맥락이라고 생각하면 된다)"
   ]
  },
  {
   "cell_type": "code",
   "execution_count": 65,
   "metadata": {},
   "outputs": [
    {
     "data": {
      "text/plain": [
       "(tensor([[0.2786, 0.1950, 0.0398],\n",
       "         [0.6467, 0.6456, 0.3175]]), tensor([[0.5047, 0.3846, 0.7256],\n",
       "         [0.3551, 0.6297, 0.1817]]))"
      ]
     },
     "execution_count": 65,
     "metadata": {},
     "output_type": "execute_result"
    }
   ],
   "source": [
    "A = torch.rand( ( 2, 3 ) )\n",
    "B = torch.rand( ( 2, 3 ) )\n",
    "A, B"
   ]
  },
  {
   "cell_type": "code",
   "execution_count": null,
   "metadata": {},
   "outputs": [],
   "source": []
  },
  {
   "cell_type": "code",
   "execution_count": 66,
   "metadata": {},
   "outputs": [
    {
     "data": {
      "text/plain": [
       "tensor([[0.2786, 0.1950, 0.0398],\n",
       "        [0.6467, 0.6456, 0.3175],\n",
       "        [0.5047, 0.3846, 0.7256],\n",
       "        [0.3551, 0.6297, 0.1817]])"
      ]
     },
     "execution_count": 66,
     "metadata": {},
     "output_type": "execute_result"
    }
   ],
   "source": [
    "# 병합이 된다\n",
    "AB_cat = torch.cat( [ A, B ], dim=0 ) # 1차원으로 붙인다\n",
    "AB_cat "
   ]
  },
  {
   "cell_type": "code",
   "execution_count": 67,
   "metadata": {},
   "outputs": [
    {
     "data": {
      "text/plain": [
       "torch.Size([4, 3])"
      ]
     },
     "execution_count": 67,
     "metadata": {},
     "output_type": "execute_result"
    }
   ],
   "source": [
    "AB_cat.size()"
   ]
  },
  {
   "cell_type": "code",
   "execution_count": 68,
   "metadata": {},
   "outputs": [
    {
     "data": {
      "text/plain": [
       "tensor([[0.2786, 0.1950, 0.0398, 0.5047, 0.3846, 0.7256],\n",
       "        [0.6467, 0.6456, 0.3175, 0.3551, 0.6297, 0.1817]])"
      ]
     },
     "execution_count": 68,
     "metadata": {},
     "output_type": "execute_result"
    }
   ],
   "source": [
    "AB_cat = torch.cat( [ A, B ], dim=1 ) # 2차원으로 붙인다\n",
    "AB_cat"
   ]
  },
  {
   "cell_type": "code",
   "execution_count": 69,
   "metadata": {},
   "outputs": [
    {
     "data": {
      "text/plain": [
       "torch.Size([2, 6])"
      ]
     },
     "execution_count": 69,
     "metadata": {},
     "output_type": "execute_result"
    }
   ],
   "source": [
    "AB_cat.size()"
   ]
  },
  {
   "cell_type": "code",
   "execution_count": null,
   "metadata": {},
   "outputs": [],
   "source": []
  },
  {
   "cell_type": "code",
   "execution_count": 70,
   "metadata": {},
   "outputs": [
    {
     "data": {
      "text/plain": [
       "torch.Size([2, 2, 3])"
      ]
     },
     "execution_count": 70,
     "metadata": {},
     "output_type": "execute_result"
    }
   ],
   "source": [
    "# 0차에 A와 B를 차례대로 쌓는다 => 차원이 하나더 생긴다\n",
    "AB_stack = torch.stack( [ A, B ], dim=0 )\n",
    "AB_stack.size()"
   ]
  },
  {
   "cell_type": "code",
   "execution_count": 71,
   "metadata": {},
   "outputs": [
    {
     "data": {
      "text/plain": [
       "tensor([[[0.2786, 0.1950, 0.0398],\n",
       "         [0.6467, 0.6456, 0.3175]],\n",
       "\n",
       "        [[0.5047, 0.3846, 0.7256],\n",
       "         [0.3551, 0.6297, 0.1817]]])"
      ]
     },
     "execution_count": 71,
     "metadata": {},
     "output_type": "execute_result"
    }
   ],
   "source": [
    "AB_stack # 배열안에 배열안에 값이 들어간다"
   ]
  },
  {
   "cell_type": "code",
   "execution_count": null,
   "metadata": {},
   "outputs": [],
   "source": []
  },
  {
   "cell_type": "markdown",
   "metadata": {},
   "source": [
    "- 사칙연산 ( 행렬연산에 대한 것 )"
   ]
  },
  {
   "cell_type": "code",
   "execution_count": 72,
   "metadata": {},
   "outputs": [],
   "source": [
    "# x = torch.Tensor( [ 1, 2, 3 ] )\n",
    "# y = torch.Tensor( [ 4, 3, 2 ] )"
   ]
  },
  {
   "cell_type": "code",
   "execution_count": 73,
   "metadata": {},
   "outputs": [],
   "source": [
    "x = torch.Tensor( [ 1, 2, -3 ] )\n",
    "y = torch.Tensor( [ 4, -3, 2 ] )"
   ]
  },
  {
   "cell_type": "code",
   "execution_count": 74,
   "metadata": {},
   "outputs": [
    {
     "data": {
      "text/plain": [
       "(torch.Size([3]), torch.Size([3]), torch.Size([3]), torch.Size([3]))"
      ]
     },
     "execution_count": 74,
     "metadata": {},
     "output_type": "execute_result"
    }
   ],
   "source": [
    "x.shape, y.shape, x.size(), y.size() # 1차원"
   ]
  },
  {
   "cell_type": "code",
   "execution_count": null,
   "metadata": {},
   "outputs": [],
   "source": []
  },
  {
   "cell_type": "code",
   "execution_count": 75,
   "metadata": {},
   "outputs": [
    {
     "data": {
      "text/plain": [
       "tensor([ 5., -1., -1.])"
      ]
     },
     "execution_count": 75,
     "metadata": {},
     "output_type": "execute_result"
    }
   ],
   "source": [
    "# 더하기  # 정수라고 설정을 하지 않으면 float(실수)로 기본으로 나온다\n",
    "x + y"
   ]
  },
  {
   "cell_type": "code",
   "execution_count": 76,
   "metadata": {},
   "outputs": [
    {
     "data": {
      "text/plain": [
       "tensor([ 5., -1., -1.])"
      ]
     },
     "execution_count": 76,
     "metadata": {},
     "output_type": "execute_result"
    }
   ],
   "source": [
    "# 교환법칙 성립\n",
    "# 정수라고 설정을 하지 않으면 float(실수)로 기본으로 나온다\n",
    "y + x"
   ]
  },
  {
   "cell_type": "code",
   "execution_count": null,
   "metadata": {},
   "outputs": [],
   "source": []
  },
  {
   "cell_type": "code",
   "execution_count": 77,
   "metadata": {},
   "outputs": [
    {
     "data": {
      "text/plain": [
       "tensor([-3.,  5., -5.])"
      ]
     },
     "execution_count": 77,
     "metadata": {},
     "output_type": "execute_result"
    }
   ],
   "source": [
    "# 빼기, 교환법칙 성립안함\n",
    "x - y"
   ]
  },
  {
   "cell_type": "code",
   "execution_count": 78,
   "metadata": {},
   "outputs": [
    {
     "data": {
      "text/plain": [
       "tensor([ 3., -5.,  5.])"
      ]
     },
     "execution_count": 78,
     "metadata": {},
     "output_type": "execute_result"
    }
   ],
   "source": [
    "y - x"
   ]
  },
  {
   "cell_type": "code",
   "execution_count": null,
   "metadata": {},
   "outputs": [],
   "source": []
  },
  {
   "cell_type": "code",
   "execution_count": 79,
   "metadata": {},
   "outputs": [
    {
     "data": {
      "text/plain": [
       "tensor([ 4., -6., -6.])"
      ]
     },
     "execution_count": 79,
     "metadata": {},
     "output_type": "execute_result"
    }
   ],
   "source": [
    "# 곱하기, 교환법칙 성립(전제는 x와 y의 shape은 똑같다 -> 같은 사이즈에서 연산했을 경우 성립한다)\n",
    "x * y"
   ]
  },
  {
   "cell_type": "code",
   "execution_count": 80,
   "metadata": {},
   "outputs": [
    {
     "data": {
      "text/plain": [
       "tensor([ 4., -6., -6.])"
      ]
     },
     "execution_count": 80,
     "metadata": {},
     "output_type": "execute_result"
    }
   ],
   "source": [
    "y * x"
   ]
  },
  {
   "cell_type": "code",
   "execution_count": 81,
   "metadata": {},
   "outputs": [
    {
     "data": {
      "text/plain": [
       "tensor([ 4., -6., -6.])"
      ]
     },
     "execution_count": 81,
     "metadata": {},
     "output_type": "execute_result"
    }
   ],
   "source": [
    "torch.mul( x, y ) # * 써도 되고, 함수써도 된다"
   ]
  },
  {
   "cell_type": "code",
   "execution_count": null,
   "metadata": {},
   "outputs": [],
   "source": []
  },
  {
   "cell_type": "code",
   "execution_count": 82,
   "metadata": {},
   "outputs": [
    {
     "data": {
      "text/plain": [
       "tensor([ 0.2500, -0.6667, -1.5000])"
      ]
     },
     "execution_count": 82,
     "metadata": {},
     "output_type": "execute_result"
    }
   ],
   "source": [
    "# 나누기, 교환법칙 성립안한다\n",
    "x / y"
   ]
  },
  {
   "cell_type": "code",
   "execution_count": 83,
   "metadata": {},
   "outputs": [
    {
     "data": {
      "text/plain": [
       "tensor([ 4.0000, -1.5000, -0.6667])"
      ]
     },
     "execution_count": 83,
     "metadata": {},
     "output_type": "execute_result"
    }
   ],
   "source": [
    "y / x"
   ]
  },
  {
   "cell_type": "code",
   "execution_count": null,
   "metadata": {},
   "outputs": [],
   "source": []
  },
  {
   "cell_type": "code",
   "execution_count": 84,
   "metadata": {},
   "outputs": [
    {
     "data": {
      "text/plain": [
       "tensor(-8.)"
      ]
     },
     "execution_count": 84,
     "metadata": {},
     "output_type": "execute_result"
    }
   ],
   "source": [
    "# dot\n",
    "# x1*y1 + x2*y2 + ... -> 자리끼리 곱해서 총합을 쓴것이다.\n",
    "# dot연산은 한 점으로 수렴한다 ( 맨 위에서 본 이미지 확인할 것 )\n",
    "torch.dot( x, y )"
   ]
  },
  {
   "cell_type": "code",
   "execution_count": null,
   "metadata": {},
   "outputs": [],
   "source": []
  },
  {
   "cell_type": "markdown",
   "metadata": {},
   "source": [
    "- sum, mean"
   ]
  },
  {
   "cell_type": "code",
   "execution_count": 92,
   "metadata": {},
   "outputs": [
    {
     "data": {
      "text/plain": [
       "tensor([[[1., 2.],\n",
       "         [3., 4.]],\n",
       "\n",
       "        [[5., 6.],\n",
       "         [7., 8.]]])"
      ]
     },
     "execution_count": 92,
     "metadata": {},
     "output_type": "execute_result"
    }
   ],
   "source": [
    "# 2x2x2\n",
    "z = torch.Tensor( [ [ [1,2],[3,4] ],[ [5,6],[7,8]] ] )\n",
    "z"
   ]
  },
  {
   "cell_type": "code",
   "execution_count": 93,
   "metadata": {},
   "outputs": [
    {
     "data": {
      "text/plain": [
       "tensor(36.)"
      ]
     },
     "execution_count": 93,
     "metadata": {},
     "output_type": "execute_result"
    }
   ],
   "source": [
    "torch.sum( z )"
   ]
  },
  {
   "cell_type": "code",
   "execution_count": 94,
   "metadata": {},
   "outputs": [
    {
     "data": {
      "text/plain": [
       "tensor([[ 6.,  8.],\n",
       "        [10., 12.]])"
      ]
     },
     "execution_count": 94,
     "metadata": {},
     "output_type": "execute_result"
    }
   ],
   "source": [
    "torch.sum( z, dim=0  )"
   ]
  },
  {
   "cell_type": "code",
   "execution_count": null,
   "metadata": {},
   "outputs": [],
   "source": []
  },
  {
   "cell_type": "code",
   "execution_count": 95,
   "metadata": {},
   "outputs": [
    {
     "data": {
      "text/plain": [
       "tensor(4.5000)"
      ]
     },
     "execution_count": 95,
     "metadata": {},
     "output_type": "execute_result"
    }
   ],
   "source": [
    "torch.mean( z )"
   ]
  },
  {
   "cell_type": "code",
   "execution_count": 96,
   "metadata": {},
   "outputs": [
    {
     "data": {
      "text/plain": [
       "tensor([[3., 4.],\n",
       "        [5., 6.]])"
      ]
     },
     "execution_count": 96,
     "metadata": {},
     "output_type": "execute_result"
    }
   ],
   "source": [
    "torch.mean( z, dim=0 ) # -> 차원이 하나 줄었다, # dim= : 차원"
   ]
  },
  {
   "cell_type": "code",
   "execution_count": null,
   "metadata": {},
   "outputs": [],
   "source": []
  },
  {
   "cell_type": "markdown",
   "metadata": {},
   "source": [
    "- max, argmax, min, argmin"
   ]
  },
  {
   "cell_type": "code",
   "execution_count": 97,
   "metadata": {},
   "outputs": [
    {
     "data": {
      "text/plain": [
       "(tensor(8.), tensor(7))"
      ]
     },
     "execution_count": 97,
     "metadata": {},
     "output_type": "execute_result"
    }
   ],
   "source": [
    "# 텐서의 요소들 중 최대값과 그 최대값의 위치\n",
    "torch.max( z ), torch.argmax( z )"
   ]
  },
  {
   "cell_type": "code",
   "execution_count": 98,
   "metadata": {},
   "outputs": [
    {
     "data": {
      "text/plain": [
       "(tensor(1.), tensor(0))"
      ]
     },
     "execution_count": 98,
     "metadata": {},
     "output_type": "execute_result"
    }
   ],
   "source": [
    "# 텐서의 요소들 중 최소값과 그 최소값의 위치\n",
    "torch.min( z ), torch.argmin( z )"
   ]
  },
  {
   "cell_type": "code",
   "execution_count": null,
   "metadata": {},
   "outputs": [],
   "source": []
  },
  {
   "cell_type": "code",
   "execution_count": 99,
   "metadata": {},
   "outputs": [
    {
     "data": {
      "text/plain": [
       "tensor([[[1., 2.],\n",
       "         [3., 4.]],\n",
       "\n",
       "        [[5., 6.],\n",
       "         [7., 8.]]])"
      ]
     },
     "execution_count": 99,
     "metadata": {},
     "output_type": "execute_result"
    }
   ],
   "source": [
    "z"
   ]
  },
  {
   "cell_type": "code",
   "execution_count": 100,
   "metadata": {},
   "outputs": [
    {
     "data": {
      "text/plain": [
       "(tensor([[5., 6.],\n",
       "         [7., 8.]]), tensor([[1, 1],\n",
       "         [1, 1]]))"
      ]
     },
     "execution_count": 100,
     "metadata": {},
     "output_type": "execute_result"
    }
   ],
   "source": [
    "torch.max( z, dim=0 )"
   ]
  },
  {
   "cell_type": "code",
   "execution_count": 101,
   "metadata": {},
   "outputs": [
    {
     "data": {
      "text/plain": [
       "(tensor([[1., 2.],\n",
       "         [3., 4.]]), tensor([[0, 0],\n",
       "         [0, 0]]))"
      ]
     },
     "execution_count": 101,
     "metadata": {},
     "output_type": "execute_result"
    }
   ],
   "source": [
    "torch.min( z, dim=0 )"
   ]
  },
  {
   "cell_type": "code",
   "execution_count": null,
   "metadata": {},
   "outputs": [],
   "source": []
  },
  {
   "cell_type": "markdown",
   "metadata": {},
   "source": [
    "- 논리연산 => True/False => 이진데이터의 텐서"
   ]
  },
  {
   "cell_type": "code",
   "execution_count": 102,
   "metadata": {},
   "outputs": [],
   "source": [
    "z = torch.Tensor( [ -3, 2, 1, 0 ] )"
   ]
  },
  {
   "cell_type": "code",
   "execution_count": 103,
   "metadata": {},
   "outputs": [
    {
     "name": "stdout",
     "output_type": "stream",
     "text": [
      "tensor([0, 0, 0, 1], dtype=torch.uint8)\n"
     ]
    }
   ],
   "source": [
    "print(z == 0)"
   ]
  },
  {
   "cell_type": "code",
   "execution_count": 104,
   "metadata": {},
   "outputs": [
    {
     "data": {
      "text/plain": [
       "tensor([0, 0, 0, 1], dtype=torch.uint8)"
      ]
     },
     "execution_count": 104,
     "metadata": {},
     "output_type": "execute_result"
    }
   ],
   "source": [
    "z.eq(0)"
   ]
  },
  {
   "cell_type": "code",
   "execution_count": 105,
   "metadata": {},
   "outputs": [
    {
     "data": {
      "text/plain": [
       "(tensor([0, 1, 1, 1], dtype=torch.uint8),\n",
       " tensor([0, 1, 1, 1], dtype=torch.uint8))"
      ]
     },
     "execution_count": 105,
     "metadata": {},
     "output_type": "execute_result"
    }
   ],
   "source": [
    "z.ge(0), z >= 0"
   ]
  },
  {
   "cell_type": "code",
   "execution_count": 106,
   "metadata": {},
   "outputs": [
    {
     "data": {
      "text/plain": [
       "(tensor([0, 1, 1, 0], dtype=torch.uint8),\n",
       " tensor([0, 1, 1, 0], dtype=torch.uint8))"
      ]
     },
     "execution_count": 106,
     "metadata": {},
     "output_type": "execute_result"
    }
   ],
   "source": [
    "z.gt(0), z > 0"
   ]
  },
  {
   "cell_type": "code",
   "execution_count": 107,
   "metadata": {},
   "outputs": [
    {
     "data": {
      "text/plain": [
       "(tensor([1, 0, 0, 0], dtype=torch.uint8),\n",
       " tensor([1, 0, 0, 0], dtype=torch.uint8),\n",
       " tensor([1, 0, 0, 1], dtype=torch.uint8),\n",
       " tensor([1, 0, 0, 1], dtype=torch.uint8))"
      ]
     },
     "execution_count": 107,
     "metadata": {},
     "output_type": "execute_result"
    }
   ],
   "source": [
    "z.lt(0), z < 0, z.le(0), z <= 0"
   ]
  },
  {
   "cell_type": "code",
   "execution_count": null,
   "metadata": {},
   "outputs": [],
   "source": []
  },
  {
   "cell_type": "code",
   "execution_count": null,
   "metadata": {},
   "outputs": [],
   "source": []
  },
  {
   "cell_type": "code",
   "execution_count": null,
   "metadata": {},
   "outputs": [],
   "source": []
  },
  {
   "cell_type": "code",
   "execution_count": null,
   "metadata": {},
   "outputs": [],
   "source": []
  },
  {
   "cell_type": "code",
   "execution_count": null,
   "metadata": {},
   "outputs": [],
   "source": []
  }
 ],
 "metadata": {
  "kernelspec": {
   "display_name": "Python 3",
   "language": "python",
   "name": "python3"
  },
  "language_info": {
   "codemirror_mode": {
    "name": "ipython",
    "version": 3
   },
   "file_extension": ".py",
   "mimetype": "text/x-python",
   "name": "python",
   "nbconvert_exporter": "python",
   "pygments_lexer": "ipython3",
   "version": "3.6.5"
  }
 },
 "nbformat": 4,
 "nbformat_minor": 2
}
